{
 "cells": [
  {
   "cell_type": "code",
   "execution_count": null,
   "metadata": {
    "collapsed": true
   },
   "outputs": [],
   "source": [
    "# 猜数，机器猜\n",
    "\n",
    "min = 0\n",
    "max = 100\n",
    "\n",
    "guess_ok_mark = False\n",
    "\n",
    "while not guess_ok_mark:\n",
    "\n",
    "    cur_guess = int((min+max)/2)\n",
    "    print('I guess:', cur_guess)\n",
    "    human_answer = input('Please tell me big or small:')\n",
    "    if human_answer == 'big':\n",
    "        max = cur_guess\n",
    "    if human_answer == 'small':\n",
    "        min = cur_guess\n",
    "    if human_answer == 'ok':\n",
    "        print('HAHAHA')\n",
    "        guess_ok_mark = True"
   ]
  },
  {
   "cell_type": "markdown",
   "metadata": {},
   "source": [
    "* 日期库 datetime 用法介绍，datetime、time 等库的介绍，获得日期，字符串和日期转换，日期格式介绍，日期加减计算"
   ]
  },
  {
   "cell_type": "markdown",
   "metadata": {},
   "source": [
    "### 日期\n",
    "\n",
    "datetime 是Python处理日期和时间的标准库，用于获取日期和进行日期计算等。\n",
    "\n",
    "理解 timestamp，UTC标准时区，时差\n",
    "\n",
    "Python 的日期相关的库有 datetime, time, calendar\n",
    "\n",
    "Datetime 包括 date 日期，time 时间， datetime 日期和时间，tzinfo 时区，timedelta 时间跨度计算 等主要对象\n",
    "\n",
    "获取当前日期和时间：now = datetime.now()\n",
    "\n",
    "\n",
    "日期戳和日期的区别，日期戳更加精确，日期只是年月日\n",
    "根据需要使用，大多数情况下只需要日期即可\n",
    "\n",
    "Time 对于时间的处理更加精确，用时间戳的表达方式\n",
    "\n",
    "时间戳定义为格林威治时间1970年01月01日00时00分00秒起至现在的总秒数，时间戳是惟一的\n",
    "显示今天日期\n",
    "\n",
    "显示今天 datetime 和 time\n",
    "\n",
    "连续运行显示时间戳，看看时间戳差了多少毫秒\n",
    "\t\n",
    "看看日期、时间的数据结构\n",
    "\t\n",
    "用循环显示 10 次时间戳\n",
    "\n",
    "用 time() 来计时，算10万次平方，看看哪台电脑速度快\n",
    "\n",
    "日期库-字符串和日期的转换\n",
    "\n",
    "字符串转化为日期：datetime.strptime()\n",
    "\n",
    "日期转换为字符串：datetime.strftime()\n",
    "\n",
    "日期库 – 各类格式\n",
    "\n",
    "日期字符串格式，举例\n",
    "Date format string, example: \n",
    "cday1 = datetime.now().strftime('%a, %b %d %H:%M')\n",
    "cday2 = datetime.now().strftime('%A, %b %d %H:%M, %j')\n",
    "cday3 = datetime.now().strftime('%Y-%m-%d %H:%M:%S')\n",
    "\n",
    "日期库 – 日期格式说明\n",
    "\n",
    "%a 英文星期的简写 (shorthand of week in English)\n",
    "%A 英文星期的完整拼写 (longhand of week in English)\n",
    "%b 英文月份的简写 (shorthand of month in English)\n",
    "%B 英文月份的完整拼写 (longhand of month in English)\n",
    "%c 本地当前的日期与时间 (current local date and time)\n",
    "%d 日期数, 1-31之间 (date, between 1-31))\n",
    "%H 小时数, 00-23之间 (hour, between 00-23))\n",
    "%I 小时数, 01-12之间 (hour, between 01-12)\n",
    "%m 月份, 01-12之间 (month, between 01-12)\n",
    "%M 分钟数, 01-59之间 (minute, 01-59)\n",
    "%j 本年从第1天开始计数到当天的天数 (total days from 1st day of this year till now)\n",
    "%w 星期数, 0-6之间(0是周日)  (day of the week, between 0-6, 0=Sunday)\n",
    "%W 当天属于本年的第几周,周一作为一周的第一天进行计算 (week of the year, starting with Monday )\n",
    "%x 本地的当天日期 (local date)\n",
    "%X 本地的当前时间 (local time)\n",
    "%y 年份,0-99之间 (year, between 0-99)\n",
    "%Y 年份的完整拼写 (longhand of year)\n",
    "\n",
    "日期计算\n",
    "\n",
    "对日期和时间进行加减实际上就是把 datetime 往后或往前计算，得到新的 datetime\n",
    "需要导入 datetime 的 timedelta 类\n",
    "\n",
    "练习和讨论\n",
    "\n",
    "输入刚才时间格式转换的例子\n",
    "\t\n",
    "尝试改变时间格式的各类参数，看看输出的样式有什么不同\n",
    "\t\n",
    "输入刚才时间加减的例子\n",
    "\t\n",
    "尝试改变时间加减的各类参数，看看年月日时分秒都可以怎么加减\n",
    "\n",
    "\n",
    "输入一个年份，比如 20030801 这样的字符串，转换为标准日期格式并显示\n",
    "\t\n",
    "继续上面，输入后，显示这个日期之前一年和之后一年分别是星期几？"
   ]
  },
  {
   "cell_type": "code",
   "execution_count": 1,
   "metadata": {
    "collapsed": false
   },
   "outputs": [
    {
     "name": "stdout",
     "output_type": "stream",
     "text": [
      "2016-12-10 08:59:11.176761\n",
      "2016-12-10\n"
     ]
    }
   ],
   "source": [
    "from datetime import datetime, date\n",
    "\n",
    "print(datetime.now())\n",
    "print(date.today())"
   ]
  },
  {
   "cell_type": "code",
   "execution_count": 2,
   "metadata": {
    "collapsed": false
   },
   "outputs": [
    {
     "name": "stdout",
     "output_type": "stream",
     "text": [
      "1481331557.520238\n",
      "2016-12-10 08:59:17.520305\n"
     ]
    }
   ],
   "source": [
    "from datetime import datetime, date\n",
    "import time\n",
    "\n",
    "print(time.time())\n",
    "print(datetime.now())"
   ]
  },
  {
   "cell_type": "code",
   "execution_count": 3,
   "metadata": {
    "collapsed": false
   },
   "outputs": [
    {
     "name": "stdout",
     "output_type": "stream",
     "text": [
      "<class 'float'>\n",
      "<class 'datetime.datetime'>\n"
     ]
    }
   ],
   "source": [
    "print(type(time.time()))\n",
    "print(type(datetime.now()))"
   ]
  },
  {
   "cell_type": "code",
   "execution_count": 4,
   "metadata": {
    "collapsed": false
   },
   "outputs": [
    {
     "name": "stdout",
     "output_type": "stream",
     "text": [
      "1481331570.766874\n",
      "1481331570.7669\n",
      "1481331570.766905\n",
      "1481331570.766909\n",
      "1481331570.766913\n",
      "1481331570.766918\n",
      "1481331570.766922\n",
      "1481331570.766926\n",
      "1481331570.76693\n",
      "1481331570.766934\n"
     ]
    }
   ],
   "source": [
    "for i in range(10):\n",
    "    print(time.time())"
   ]
  },
  {
   "cell_type": "code",
   "execution_count": 5,
   "metadata": {
    "collapsed": false
   },
   "outputs": [
    {
     "name": "stdout",
     "output_type": "stream",
     "text": [
      "time: 0.01288294792175293\n"
     ]
    }
   ],
   "source": [
    "a = time.time()\n",
    "for i in range(100000):\n",
    "    j = i * i \n",
    "\n",
    "b = time.time()\n",
    "    \n",
    "print('time:', b-a)"
   ]
  },
  {
   "cell_type": "code",
   "execution_count": 6,
   "metadata": {
    "collapsed": false
   },
   "outputs": [
    {
     "name": "stdout",
     "output_type": "stream",
     "text": [
      "2016-05-02 18:19:59\n",
      "<class 'datetime.datetime'>\n",
      "2016, 12 10 08:59\n",
      "<class 'str'>\n"
     ]
    }
   ],
   "source": [
    "dday = datetime.strptime('2016-5-2 18:19:59', '%Y-%m-%d %H:%M:%S')\n",
    "print(dday)\n",
    "print(type(dday))\n",
    "\n",
    "sday = datetime.now().strftime('%Y, %m %d %H:%M')\n",
    "print(sday)\n",
    "print(type(sday))"
   ]
  },
  {
   "cell_type": "code",
   "execution_count": 7,
   "metadata": {
    "collapsed": false
   },
   "outputs": [
    {
     "name": "stdout",
     "output_type": "stream",
     "text": [
      "Sat, Dec 10 09:00\n"
     ]
    }
   ],
   "source": [
    "now = datetime.now().strftime('%a, %b %d %H:%M')\n",
    "print(now)"
   ]
  },
  {
   "cell_type": "code",
   "execution_count": 8,
   "metadata": {
    "collapsed": false
   },
   "outputs": [
    {
     "name": "stdout",
     "output_type": "stream",
     "text": [
      "Sat, Dec 10 09:00\n",
      "Saturday, Dec 10 09:00, 345\n",
      "2016-12-10 09:00:13\n"
     ]
    }
   ],
   "source": [
    "cday1 = datetime.now().strftime('%a, %b %d %H:%M')\n",
    "cday2 = datetime.now().strftime('%A, %b %d %H:%M, %j')\n",
    "cday3 = datetime.now().strftime('%Y-%m-%d %H:%M:%S')\n",
    "print(cday1)\n",
    "print(cday2)\n",
    "print(cday3)"
   ]
  },
  {
   "cell_type": "code",
   "execution_count": 9,
   "metadata": {
    "collapsed": false
   },
   "outputs": [
    {
     "name": "stdout",
     "output_type": "stream",
     "text": [
      "time.struct_time(tm_year=2016, tm_mon=12, tm_mday=10, tm_hour=9, tm_min=0, tm_sec=21, tm_wday=5, tm_yday=345, tm_isdst=0)\n",
      "<class 'time.struct_time'>\n"
     ]
    }
   ],
   "source": [
    "print(time.localtime(time.time()))\n",
    "print(type(time.localtime(time.time())))"
   ]
  },
  {
   "cell_type": "code",
   "execution_count": 10,
   "metadata": {
    "collapsed": false
   },
   "outputs": [
    {
     "name": "stdout",
     "output_type": "stream",
     "text": [
      "2016-12-10 09:00:30\n",
      "<class 'str'>\n"
     ]
    }
   ],
   "source": [
    "t = time.strftime('%Y-%m-%d %H:%M:%S',time.localtime(time.time()))\n",
    "print(t)\n",
    "print(type(t))"
   ]
  },
  {
   "cell_type": "code",
   "execution_count": 11,
   "metadata": {
    "collapsed": false
   },
   "outputs": [
    {
     "name": "stdout",
     "output_type": "stream",
     "text": [
      "2016-12-10 09:02:14.519363\n",
      "2016-12-10 19:02:14.519363\n"
     ]
    }
   ],
   "source": [
    "from datetime import timedelta\n",
    "\n",
    "now = datetime.now()\n",
    "now1 = now + timedelta(hours=10)\n",
    "print(now)\n",
    "print(now1)"
   ]
  },
  {
   "cell_type": "code",
   "execution_count": 12,
   "metadata": {
    "collapsed": false
   },
   "outputs": [
    {
     "name": "stdout",
     "output_type": "stream",
     "text": [
      "2016-12-10 09:02:20.223590\n",
      "2016-12-10 19:22:10.223590\n"
     ]
    }
   ],
   "source": [
    "now = datetime.now()\n",
    "now1 = now + timedelta(hours=10, minutes=20, seconds=-10)\n",
    "print(now)\n",
    "print(now1)"
   ]
  },
  {
   "cell_type": "code",
   "execution_count": null,
   "metadata": {
    "collapsed": true
   },
   "outputs": [],
   "source": []
  }
 ],
 "metadata": {
  "kernelspec": {
   "display_name": "Python 3",
   "language": "python",
   "name": "python3"
  },
  "language_info": {
   "codemirror_mode": {
    "name": "ipython",
    "version": 3
   },
   "file_extension": ".py",
   "mimetype": "text/x-python",
   "name": "python",
   "nbconvert_exporter": "python",
   "pygments_lexer": "ipython3",
   "version": "3.5.2"
  }
 },
 "nbformat": 4,
 "nbformat_minor": 0
}
