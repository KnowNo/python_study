{
 "cells": [
  {
   "cell_type": "markdown",
   "metadata": {},
   "source": [
    "# Lesson 4\n",
    "\n",
    "Python Basic, Lesson 4, v1.0.0, 2016.12 by David.Yi\n",
    "\n",
    "\n",
    "### 上次内容要点\n",
    "\n",
    "* 列表的切片用法\n",
    "* 函数用法\n",
    "    \n",
    "### 本次内容要点\n",
    "\n",
    "* 日期库 datetime 用法介绍，datetime、time 等库的介绍，获得日期，字符串和日期转换，日期格式介绍，日期加减计算\n",
    "* 函数不同参数形式介绍和举例 \n",
    "* 匿名函数 lambda\n",
    "\n"
   ]
  },
  {
   "cell_type": "code",
   "execution_count": null,
   "metadata": {
    "collapsed": true
   },
   "outputs": [],
   "source": [
    "# 举例\n",
    "# 猜数，机器猜\n",
    "\n",
    "min = 0\n",
    "max = 100\n",
    "\n",
    "guess_ok_mark = False\n",
    "\n",
    "while not guess_ok_mark:\n",
    "\n",
    "    cur_guess = int((min+max)/2)\n",
    "    print('I guess:', cur_guess)\n",
    "    human_answer = input('Please tell me big or small:')\n",
    "    if human_answer == 'big':\n",
    "        max = cur_guess\n",
    "    if human_answer == 'small':\n",
    "        min = cur_guess\n",
    "    if human_answer == 'ok':\n",
    "        print('HAHAHA')\n",
    "        guess_ok_mark = True"
   ]
  },
  {
   "cell_type": "markdown",
   "metadata": {},
   "source": [
    "### 日期处理\n",
    "\n",
    "datetime 是Python处理日期和时间的标准库，用于获取日期和进行日期计算等。\n",
    "\n",
    "理解 timestamp，UTC标准时区，时差这些概念。\n",
    "\n",
    "Python 的日期相关的标准库比较多，有 datetime, time, calendar。\n",
    "\n",
    "datetime 库包括 date 日期，time 时间， datetime 日期和时间，tzinfo 时区，timedelta 时间跨度计算 等主要对象。\n",
    "\n",
    "获取当前日期和时间：`now = datetime.now()`\n",
    "\n",
    "日期戳和日期的区别，日期戳更加精确，日期只是年月日\n",
    "根据需要使用，大多数情况下只需要日期即可\n",
    "\n",
    "Time 对于时间的处理更加精确，用时间戳的表达方式\n",
    "\n",
    "时间戳定义为格林威治时间1970年01月01日00时00分00秒起至现在的总秒数，时间戳是惟一的\n"
   ]
  },
  {
   "cell_type": "code",
   "execution_count": 2,
   "metadata": {
    "collapsed": false
   },
   "outputs": [
    {
     "name": "stdout",
     "output_type": "stream",
     "text": [
      "2016-12-21 15:16:25.879226\n",
      "2016-12-21\n",
      "1482304585.879344\n"
     ]
    }
   ],
   "source": [
    "# 显示今天日期\n",
    "# 显示今天 datetime 和 time\n",
    "\n",
    "from datetime import datetime, date\n",
    "\n",
    "print(datetime.now())\n",
    "print(date.today())\n",
    "\n",
    "import time\n",
    "\n",
    "print(time.time())"
   ]
  },
  {
   "cell_type": "code",
   "execution_count": 3,
   "metadata": {
    "collapsed": false
   },
   "outputs": [
    {
     "name": "stdout",
     "output_type": "stream",
     "text": [
      "<class 'float'>\n",
      "<class 'datetime.datetime'>\n"
     ]
    }
   ],
   "source": [
    "# 时间和日期戳的数据类型\n",
    "\n",
    "print(type(time.time()))\n",
    "print(type(datetime.now()))"
   ]
  },
  {
   "cell_type": "code",
   "execution_count": 1,
   "metadata": {
    "collapsed": false
   },
   "outputs": [
    {
     "name": "stdout",
     "output_type": "stream",
     "text": [
      "2016-12-10 08:59:11.176761\n",
      "2016-12-10\n"
     ]
    }
   ],
   "source": []
  },
  {
   "cell_type": "code",
   "execution_count": 4,
   "metadata": {
    "collapsed": false
   },
   "outputs": [
    {
     "name": "stdout",
     "output_type": "stream",
     "text": [
      "1481331570.766874\n",
      "1481331570.7669\n",
      "1481331570.766905\n",
      "1481331570.766909\n",
      "1481331570.766913\n",
      "1481331570.766918\n",
      "1481331570.766922\n",
      "1481331570.766926\n",
      "1481331570.76693\n",
      "1481331570.766934\n"
     ]
    }
   ],
   "source": [
    "# 连续运行显示时间戳，看看时间戳差了多少毫秒\n",
    "for i in range(10):\n",
    "    print(time.time())"
   ]
  },
  {
   "cell_type": "code",
   "execution_count": 7,
   "metadata": {
    "collapsed": false
   },
   "outputs": [
    {
     "name": "stdout",
     "output_type": "stream",
     "text": [
      "time: 0.011564016342163086\n"
     ]
    }
   ],
   "source": [
    "# 用 time() 来计时，算10万次平方，看看哪台电脑速度快\n",
    "\n",
    "a = time.time()\n",
    "for i in range(100000):\n",
    "    j = i * i \n",
    "\n",
    "b = time.time()\n",
    "    \n",
    "print('time:', b-a)"
   ]
  },
  {
   "cell_type": "markdown",
   "metadata": {},
   "source": [
    "日期库-字符串和日期的转换\n",
    "\n",
    "字符串转化为日期：datetime.strptime()\n",
    "\n",
    "日期转换为字符串：datetime.strftime()\n",
    "\n",
    "日期库 – 各类格式\n",
    "\n",
    "日期字符串格式，举例\n",
    "Date format string, example: \n",
    "cday1 = datetime.now().strftime('%a, %b %d %H:%M')\n",
    "cday2 = datetime.now().strftime('%A, %b %d %H:%M, %j')\n",
    "cday3 = datetime.now().strftime('%Y-%m-%d %H:%M:%S')\n",
    "\n",
    "日期库 – 日期格式说明\n",
    "\n",
    "%a 英文星期的简写 (shorthand of week in English)\n",
    "%A 英文星期的完整拼写 (longhand of week in English)\n",
    "%b 英文月份的简写 (shorthand of month in English)\n",
    "%B 英文月份的完整拼写 (longhand of month in English)\n",
    "%c 本地当前的日期与时间 (current local date and time)\n",
    "%d 日期数, 1-31之间 (date, between 1-31))\n",
    "%H 小时数, 00-23之间 (hour, between 00-23))\n",
    "%I 小时数, 01-12之间 (hour, between 01-12)\n",
    "%m 月份, 01-12之间 (month, between 01-12)\n",
    "%M 分钟数, 01-59之间 (minute, 01-59)\n",
    "%j 本年从第1天开始计数到当天的天数 (total days from 1st day of this year till now)\n",
    "%w 星期数, 0-6之间(0是周日)  (day of the week, between 0-6, 0=Sunday)\n",
    "%W 当天属于本年的第几周,周一作为一周的第一天进行计算 (week of the year, starting with Monday )\n",
    "%x 本地的当天日期 (local date)\n",
    "%X 本地的当前时间 (local time)\n",
    "%y 年份,0-99之间 (year, between 0-99)\n",
    "%Y 年份的完整拼写 (longhand of year)\n",
    "\n"
   ]
  },
  {
   "cell_type": "code",
   "execution_count": 5,
   "metadata": {
    "collapsed": false
   },
   "outputs": [
    {
     "name": "stdout",
     "output_type": "stream",
     "text": [
      "2016-05-02 18:19:59\n",
      "<class 'datetime.datetime'>\n",
      "2016, 12 21 18:22\n",
      "<class 'str'>\n"
     ]
    }
   ],
   "source": [
    "dday = datetime.strptime('2016-5-2 18:19:59', '%Y-%m-%d %H:%M:%S')\n",
    "print(dday)\n",
    "print(type(dday))\n",
    "\n",
    "sday = datetime.now().strftime('%Y, %m %d %H:%M')\n",
    "print(sday)\n",
    "print(type(sday))"
   ]
  },
  {
   "cell_type": "code",
   "execution_count": 6,
   "metadata": {
    "collapsed": false
   },
   "outputs": [
    {
     "name": "stdout",
     "output_type": "stream",
     "text": [
      "Wed, Dec 21 18:22\n"
     ]
    }
   ],
   "source": [
    "now = datetime.now().strftime('%a, %b %d %H:%M')\n",
    "print(now)"
   ]
  },
  {
   "cell_type": "code",
   "execution_count": 8,
   "metadata": {
    "collapsed": false
   },
   "outputs": [
    {
     "name": "stdout",
     "output_type": "stream",
     "text": [
      "Sat, Dec 10 09:00\n",
      "Saturday, Dec 10 09:00, 345\n",
      "2016-12-10 09:00:13\n"
     ]
    }
   ],
   "source": [
    "cday1 = datetime.now().strftime('%a, %b %d %H:%M')\n",
    "cday2 = datetime.now().strftime('%A, %b %d %H:%M, %j')\n",
    "cday3 = datetime.now().strftime('%Y-%m-%d %H:%M:%S')\n",
    "print(cday1)\n",
    "print(cday2)\n",
    "print(cday3)"
   ]
  },
  {
   "cell_type": "code",
   "execution_count": 9,
   "metadata": {
    "collapsed": false
   },
   "outputs": [
    {
     "name": "stdout",
     "output_type": "stream",
     "text": [
      "time.struct_time(tm_year=2016, tm_mon=12, tm_mday=10, tm_hour=9, tm_min=0, tm_sec=21, tm_wday=5, tm_yday=345, tm_isdst=0)\n",
      "<class 'time.struct_time'>\n"
     ]
    }
   ],
   "source": [
    "print(time.localtime(time.time()))\n",
    "print(type(time.localtime(time.time())))"
   ]
  },
  {
   "cell_type": "code",
   "execution_count": 10,
   "metadata": {
    "collapsed": false
   },
   "outputs": [
    {
     "name": "stdout",
     "output_type": "stream",
     "text": [
      "2016-12-10 09:00:30\n",
      "<class 'str'>\n"
     ]
    }
   ],
   "source": [
    "t = time.strftime('%Y-%m-%d %H:%M:%S',time.localtime(time.time()))\n",
    "print(t)\n",
    "print(type(t))"
   ]
  },
  {
   "cell_type": "markdown",
   "metadata": {},
   "source": [
    "日期计算\n",
    "\n",
    "对日期和时间进行加减实际上就是把 datetime 往后或往前计算，得到新的 datetime\n",
    "需要导入 datetime 的 timedelta 类\n",
    "\n",
    "练习和讨论\n",
    "\n",
    "输入刚才时间格式转换的例子\n",
    "\t\n",
    "尝试改变时间格式的各类参数，看看输出的样式有什么不同\n",
    "\t\n",
    "输入刚才时间加减的例子\n",
    "\t\n",
    "尝试改变时间加减的各类参数，看看年月日时分秒都可以怎么加减\n",
    "\n"
   ]
  },
  {
   "cell_type": "code",
   "execution_count": 11,
   "metadata": {
    "collapsed": false
   },
   "outputs": [
    {
     "name": "stdout",
     "output_type": "stream",
     "text": [
      "2016-12-10 09:02:14.519363\n",
      "2016-12-10 19:02:14.519363\n"
     ]
    }
   ],
   "source": [
    "from datetime import timedelta\n",
    "\n",
    "now = datetime.now()\n",
    "now1 = now + timedelta(hours=10)\n",
    "print(now)\n",
    "print(now1)"
   ]
  },
  {
   "cell_type": "code",
   "execution_count": 12,
   "metadata": {
    "collapsed": false
   },
   "outputs": [
    {
     "name": "stdout",
     "output_type": "stream",
     "text": [
      "2016-12-10 09:02:20.223590\n",
      "2016-12-10 19:22:10.223590\n"
     ]
    }
   ],
   "source": [
    "now = datetime.now()\n",
    "now1 = now + timedelta(hours=10, minutes=20, seconds=-10)\n",
    "print(now)\n",
    "print(now1)"
   ]
  },
  {
   "cell_type": "markdown",
   "metadata": {},
   "source": [
    "\n",
    "输入一个年份，比如 20030801 这样的字符串，转换为标准日期格式并显示\n",
    "继续上面，输入后，显示这个日期之前一年和之后一年分别是星期几？"
   ]
  },
  {
   "cell_type": "markdown",
   "metadata": {
    "collapsed": true
   },
   "source": [
    "函数不同参数形式介绍和举例\n",
    "\n",
    "函数使用进阶-默认参数\n",
    "\n",
    "位置参数和默认参数的区别\n",
    "位置参数：必须按照顺序准确传递，如果数量和顺序不对，就会可能造成程序错误；调用函数时候，如果写了参数名称，那么位置就不重要了\n",
    "默认参数：在参数申明的时候跟一个用于默认值的赋值语句，如果调用函数的时候没有给出值，那么这个赋值语句就执行\n",
    "注意：所有必须的参数要在默认参数之前\n",
    "默认参数的好处\n",
    "减少程序复杂度\n",
    "降低程序错误可能性\n",
    "更好的兼容性\n",
    "\n",
    "函数使用进阶-可变长度的参数-元组\n",
    "\n",
    "可变长度的参数，分为不提供关键字和提供关键字两种模式，分别为元组 tuple 和字典 dict\n",
    "下面是一个计算平均值的函数，因为我们不知道用户会输入多少个数字，所以最好的办法就是用可变长度的参数，同时也没有必要为每个数字起名字，所以用不提供关键字方式比较好\n",
    "\n",
    "\n",
    "可变长度的参数，如果是提供关键字，就是字典 dict，需要提供 key – value\n",
    "将字典作为参数传递的时候，可以直接传一个字典变量，也可以在参数列表中写明 key 和 value\n",
    "\n",
    "\n",
    "函数参数小结\n",
    "\n",
    "位置参数\n",
    "默认参数\n",
    "元组参数，一个星号\n",
    "字典参数，两个星号，需要传递 key 和 value\n",
    "\n",
    "计算一个正整数的因数\n",
    "写一个寻找列表中最大数的函数（不用列表排序方法）\n"
   ]
  },
  {
   "cell_type": "code",
   "execution_count": null,
   "metadata": {
    "collapsed": true
   },
   "outputs": [],
   "source": [
    "# 默认参数\n",
    "def cal_0(money, rate=0.1):\n",
    "    return money + money * rate\n",
    "\n",
    "print(cal_0(100))\n",
    "print(cal_0(100,0.2))"
   ]
  },
  {
   "cell_type": "code",
   "execution_count": null,
   "metadata": {
    "collapsed": true
   },
   "outputs": [],
   "source": [
    "def cal_1(money, bonus=1000, month=12):\n",
    "    i = money * month + bonus\n",
    "    return i\n",
    "\n",
    "print(cal_1(5000))\n",
    "print(cal_1(5000, 2000))\n",
    "print(cal_1(5000, 2000, 10))"
   ]
  },
  {
   "cell_type": "code",
   "execution_count": null,
   "metadata": {
    "collapsed": true
   },
   "outputs": [],
   "source": [
    "def draw_triangle(n=5):\n",
    "\n",
    "    for i in range(n+1):\n",
    "        print(' '*(n-i),'*'*(2*i-1))\n",
    "        \n",
    "draw_triangle(7)\n",
    "draw_triangle()"
   ]
  },
  {
   "cell_type": "code",
   "execution_count": null,
   "metadata": {
    "collapsed": true
   },
   "outputs": [],
   "source": [
    "# 可变长度的参数 元组\n",
    "def cal_2(kind, *numbers):\n",
    "    if kind == 'avg':\n",
    "        n = 0\n",
    "        for i in numbers:\n",
    "            n = n + i\n",
    "        return n / len(numbers)\n",
    "\n",
    "print(cal_2('avg', 1,2,3,4))"
   ]
  },
  {
   "cell_type": "code",
   "execution_count": null,
   "metadata": {
    "collapsed": true
   },
   "outputs": [],
   "source": [
    "# 可变长度的参数 元组\n",
    "def cal_2(kind, *numbers):\n",
    "    if kind == 'avg':\n",
    "        n = 0\n",
    "        for i in numbers:\n",
    "            n = n + i\n",
    "        return n / len(numbers)\n",
    "    if kind == 'sum':\n",
    "        n = 0\n",
    "        for i in numbers:\n",
    "            n = n + i\n",
    "        return n\n",
    "    \n",
    "print(cal_2('avg', 1,2,3,4))\n",
    "print(cal_2('sum', 1,2,3,4))"
   ]
  },
  {
   "cell_type": "code",
   "execution_count": null,
   "metadata": {
    "collapsed": true
   },
   "outputs": [],
   "source": [
    "# 可变长度的参数 元组\n",
    "def cal_2(kind, *numbers):\n",
    "    \n",
    "    n = 0\n",
    "    for i in numbers:\n",
    "        n = n + i\n",
    "    \n",
    "    if kind == 'avg':\n",
    "        return n / len(numbers)\n",
    "    if kind == 'sum':\n",
    "        return n\n",
    "    \n",
    "print(cal_2('avg', 1,2,3,4))\n",
    "print(cal_2('sum', 1,2,3,4))"
   ]
  },
  {
   "cell_type": "code",
   "execution_count": null,
   "metadata": {
    "collapsed": true
   },
   "outputs": [],
   "source": [
    "# 可变长度参数 元组 字典\n",
    "def cal_3(*numbers, **students):\n",
    "\n",
    "    for i in numbers:\n",
    "        print(i)\n",
    "    for k,v in students.items():\n",
    "        print(k,v)\n",
    "        \n",
    "numbers = [1,2,3,4,5]\n",
    "students = {'tom':90, 'jerry':95, 'mary':100}\n",
    "cal_3(*numbers, **students)"
   ]
  },
  {
   "cell_type": "code",
   "execution_count": null,
   "metadata": {
    "collapsed": true
   },
   "outputs": [],
   "source": [
    "# base on cal_2\n",
    "def cal_4(*numbers, kind):\n",
    "    \n",
    "    n = 0\n",
    "    for i in numbers:\n",
    "        n = n + i\n",
    "        \n",
    "    if kind == 'avg':\n",
    "        return n / len(numbers)\n",
    "    if kind == 'sum':\n",
    "        return n\n",
    "    \n",
    "print(cal_4(1,2,3,4, kind='avg'))\n",
    "print(cal_4(1,2,3,4, kind='sum'))"
   ]
  },
  {
   "cell_type": "code",
   "execution_count": null,
   "metadata": {
    "collapsed": true
   },
   "outputs": [],
   "source": [
    "# base on cal_2, \n",
    "# 传递元组和字典参数的最合适写法\n",
    "def cal_5(*numbers, **kind):\n",
    "    \n",
    "    # 判断是否有 kind 这个 key\n",
    "    if 'kind' in kind:\n",
    "        kind_value = kind.get('kind')\n",
    "    \n",
    "    n = 0\n",
    "    for i in numbers:\n",
    "        n = n + i\n",
    "        \n",
    "    if kind_value == 'avg':\n",
    "        return n / len(numbers)\n",
    "    if kind_value == 'sum':\n",
    "        return n\n",
    "    \n",
    "print(cal_5(1,2,3,4, kind='avg'))\n",
    "print(cal_5(1,2,3,4, kind='sum'))"
   ]
  },
  {
   "cell_type": "code",
   "execution_count": null,
   "metadata": {
    "collapsed": true
   },
   "outputs": [],
   "source": [
    "# kind 中 增加 max key， \n",
    "# max = ingnore， 则忽略最大值\n",
    "def cal_6(*numbers, **kind):\n",
    "    \n",
    "    if 'kind' in kind:\n",
    "        kind_value = kind.get('kind')\n",
    "        \n",
    "    if 'max' in kind:\n",
    "        if kind.get('max') == 'ignore':\n",
    "            numbers = list(numbers)\n",
    "            numbers.remove(max(numbers))\n",
    "    \n",
    "    n = 0\n",
    "    for i in numbers:\n",
    "        n = n + i\n",
    "        \n",
    "    if kind_value == 'avg':\n",
    "        return n / len(numbers)\n",
    "    if kind_value == 'sum':\n",
    "        return n\n",
    "    \n",
    "print(cal_6(1,2,3,4, kind='avg', max='ignore'))\n",
    "print(cal_6(1,2,3,4, kind='avg'))\n",
    "print(cal_6(1,2,3,4, kind='sum'))"
   ]
  },
  {
   "cell_type": "code",
   "execution_count": null,
   "metadata": {
    "collapsed": true
   },
   "outputs": [],
   "source": [
    "# kind 中 增加 min key，\n",
    "# min key = double, 则最小值计算两次\n",
    "def cal_7(*numbers, **kind):\n",
    "    \n",
    "    numbers = list(numbers)\n",
    "    \n",
    "    if 'kind' in kind:\n",
    "        kind_value = kind.get('kind')\n",
    "        \n",
    "    if 'max' in kind:\n",
    "        if kind.get('max') == 'ignore':\n",
    "            numbers.remove(max(numbers))\n",
    "\n",
    "    if 'min' in kind:\n",
    "        if kind.get('min') == 'double':\n",
    "            numbers.append(min(numbers))\n",
    "            \n",
    "    n = 0\n",
    "    for i in numbers:\n",
    "        n = n + i\n",
    "        \n",
    "    if kind_value == 'avg':\n",
    "        return n / len(numbers)\n",
    "    if kind_value == 'sum':\n",
    "        return n\n",
    "    \n",
    "print(cal_7(1,2,3,4, kind='avg', max='ignore', min='double'))\n",
    "print(cal_7(1,2,3,4, kind='avg'))\n",
    "print(cal_7(1,2,3,4, kind='sum'))"
   ]
  },
  {
   "cell_type": "code",
   "execution_count": null,
   "metadata": {
    "collapsed": true
   },
   "outputs": [],
   "source": [
    "def add(x, y):\n",
    "    return x + y\n",
    "\n",
    "lambda x, y: x + y"
   ]
  },
  {
   "cell_type": "code",
   "execution_count": null,
   "metadata": {
    "collapsed": true
   },
   "outputs": [],
   "source": [
    "a =  lambda x, y=2 : x + y \n",
    "a(3)"
   ]
  },
  {
   "cell_type": "code",
   "execution_count": null,
   "metadata": {
    "collapsed": true
   },
   "outputs": [],
   "source": [
    "a(3, 5)"
   ]
  },
  {
   "cell_type": "code",
   "execution_count": null,
   "metadata": {
    "collapsed": true
   },
   "outputs": [],
   "source": [
    "a = lambda x : x * x +40\n",
    "\n",
    "print(a(2))"
   ]
  },
  {
   "cell_type": "markdown",
   "metadata": {},
   "source": [
    "匿名函数\n",
    "\n",
    "Python 允许用 lambda 关键字创造匿名函数\n",
    "lambda 匿名函数不需要常规函数的 def 和 return 关键字\n",
    "因为匿名函数代码较短，因此适用于一些简单处理运算的场景\n",
    "下面这样的写法是等价的\n",
    "\n",
    "计算一个正整数的因数\n",
    "写一个寻找列表中最大数的函数（不用列表排序方法）\n"
   ]
  },
  {
   "cell_type": "code",
   "execution_count": null,
   "metadata": {
    "collapsed": true
   },
   "outputs": [],
   "source": [
    "# Find the factors of a number\n",
    "\n",
    "import time\n",
    "\n",
    "def print_factors(x):\n",
    "   print(\"The factors of\",x,\"are:\")\n",
    "   for i in range(1, x + 1):\n",
    "       if x % i == 0:\n",
    "           print(i)\n",
    "\n",
    "# take input from the user\n",
    "num = int(input(\"Enter a number: \"))\n",
    "\n",
    "t1 = time.time()\n",
    "print_factors(num)\n",
    "t2 = time.time()\n",
    "print(t2-t1)"
   ]
  },
  {
   "cell_type": "code",
   "execution_count": null,
   "metadata": {
    "collapsed": true
   },
   "outputs": [],
   "source": [
    "# Find max number #1\n",
    "\n",
    "def find_max (l):\n",
    "    max = 0\n",
    "    for x in l:\n",
    "        if x > max:\n",
    "            max = x\n",
    "    return max\n",
    "\n",
    "print(find_max([-20,1,6,7,20,5]))"
   ]
  },
  {
   "cell_type": "code",
   "execution_count": null,
   "metadata": {
    "collapsed": true
   },
   "outputs": [],
   "source": [
    "# Find max number #2\n",
    "# 使用递归\n",
    "\n",
    "def find_max (l):\n",
    "    if len(l) == 1:\n",
    "        return l[0]\n",
    "    v1 = l[0]\n",
    "    v2 = find_max(l[1:])\n",
    "    if v1 > v2:\n",
    "        return v1\n",
    "    else:\n",
    "        return v2\n",
    "\n",
    "print(find_max([1,6,7,20,5]))"
   ]
  }
 ],
 "metadata": {
  "kernelspec": {
   "display_name": "Python 3",
   "language": "python",
   "name": "python3"
  },
  "language_info": {
   "codemirror_mode": {
    "name": "ipython",
    "version": 3
   },
   "file_extension": ".py",
   "mimetype": "text/x-python",
   "name": "python",
   "nbconvert_exporter": "python",
   "pygments_lexer": "ipython3",
   "version": "3.5.2"
  }
 },
 "nbformat": 4,
 "nbformat_minor": 0
}
