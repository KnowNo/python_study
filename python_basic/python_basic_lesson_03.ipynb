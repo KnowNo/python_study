{
 "cells": [
  {
   "cell_type": "code",
   "execution_count": 1,
   "metadata": {
    "collapsed": false
   },
   "outputs": [
    {
     "name": "stdout",
     "output_type": "stream",
     "text": [
      "0:scissors 1:stone 2:cloth\n",
      "please input:1\n",
      "2 cloth\n",
      "computer win\n"
     ]
    }
   ],
   "source": [
    "# 优化的剪刀石头布程序\n",
    "\n",
    "import random\n",
    "\n",
    "FIRST = 0\n",
    "SECOND = 1 \n",
    "BOTH = 2 \n",
    "\n",
    "t1 = ('scissors', 'stone', 'cloth')\n",
    "t2 = ('human win', 'computer win', 'draw')\n",
    "\n",
    "table = {'01':1, '02':2, '10':0, '12':1, '20':1, '21':0, '00':2, '11':2, '22':2}\n",
    "\n",
    "def which_win(i1, i2):\n",
    "    s = i1 + i2\n",
    "    return table.get(s)\n",
    "\n",
    "print('0:scissors 1:stone 2:cloth')\n",
    "human = input('please input:')\n",
    "\n",
    "c_index = random.randint(0,2)\n",
    "computer = t1[c_index]\n",
    "\n",
    "print(c_index, computer)\n",
    "\n",
    "print(t2[which_win(human, str(c_index))])"
   ]
  },
  {
   "cell_type": "code",
   "execution_count": null,
   "metadata": {
    "collapsed": true
   },
   "outputs": [],
   "source": [
    "# 五局三胜的剪刀石头布程序\n",
    "\n",
    "import random\n",
    "\n",
    "FIRST = 0\n",
    "SECOND = 1 \n",
    "BOTH = 2 \n",
    "\n",
    "t1 = ('scissors', 'stone', 'cloth')\n",
    "t2 = ('human win', 'computer win', 'draw')\n",
    "\n",
    "table = {'01':1, '02':2, '10':0, '12':1, '20':1, '21':0, '00':2, '11':2, '22':2}\n",
    "\n",
    "def which_win(i1, i2):\n",
    "    s = i1 + i2\n",
    "    return table.get(s)\n",
    "\n",
    "mark = True\n",
    "computer_win = 0\n",
    "human_win = 0\n",
    "\n",
    "while mark:\n",
    "\n",
    "    print('0:scissors 1:stone 2:cloth')\n",
    "    human = input('please input:')\n",
    "\n",
    "    c_index = random.randint(0,2)\n",
    "    computer = t1[c_index]\n",
    "\n",
    "    print(c_index, computer)\n",
    "\n",
    "    who_win = which_win(human, str(c_index))\n",
    "    \n",
    "    if who_win == 0:\n",
    "        human_win += 1\n",
    "    if who_win == 1:\n",
    "        computer_win += 1\n",
    "    \n",
    "    print(t2[which_win(human, str(c_index))])\n",
    "    print('human:computer ', human_win, ':', computer_win)\n",
    "    print()\n",
    "    \n",
    "    if (human_win == 3) or (computer_win == 3):\n",
    "        mark = False\n",
    "\n",
    "if human_win == 3:\n",
    "    print('final human win')\n",
    "else:\n",
    "    print('final computer win')\n",
    "    "
   ]
  },
  {
   "cell_type": "code",
   "execution_count": null,
   "metadata": {
    "collapsed": true
   },
   "outputs": [],
   "source": [
    "# 猜数，人猜\n",
    "\n",
    "import random\n",
    "\n",
    "a = random.randint(1,100)\n",
    "\n",
    "print('Now you can guess...')\n",
    "\n",
    "guess_mark = True\n",
    "\n",
    "while guess_mark:\n",
    "    user_number =int(input('please input number:'))\n",
    "    if user_number > a:\n",
    "        print('too big')\n",
    "    if user_number < a:\n",
    "        print('too small')\n",
    "    if user_number == a:\n",
    "        print('bingo!')\n",
    "        guess_mark = False"
   ]
  },
  {
   "cell_type": "code",
   "execution_count": null,
   "metadata": {
    "collapsed": true
   },
   "outputs": [],
   "source": [
    "# 猜数，人猜\n",
    "# 记录猜数的过程\n",
    "\n",
    "import random\n",
    "\n",
    "user_number_list = []\n",
    "\n",
    "user_guess_count = 0\n",
    "\n",
    "a = random.randint(1,100)\n",
    "\n",
    "print('Now you can guess...')\n",
    "\n",
    "guess_mark = True\n",
    "\n",
    "while guess_mark:\n",
    "    user_number =int(input('please input number:'))\n",
    "    \n",
    "    user_number_list.append(user_number)\n",
    "    user_guess_count += 1\n",
    "    \n",
    "    if user_number > a:\n",
    "        print('too big')\n",
    "    if user_number < a:\n",
    "        print('too small')\n",
    "    if user_number == a:\n",
    "        print('bingo!')\n",
    "        print('your guess number list:', user_number_list)\n",
    "        print('you try times:', user_guess_count)\n",
    "        guess_mark = False"
   ]
  },
  {
   "cell_type": "code",
   "execution_count": null,
   "metadata": {
    "collapsed": true
   },
   "outputs": [],
   "source": [
    "# 猜数，人猜\n",
    "# 增加判断次数，如果1-4次，以及以上显示不同提示语\n",
    "\n",
    "import random\n",
    "\n",
    "user_number_list = []\n",
    "\n",
    "user_guess_count = 0\n",
    "\n",
    "a = random.randint(1,100)\n",
    "\n",
    "print('Now you can guess...')\n",
    "\n",
    "guess_mark = True\n",
    "\n",
    "while guess_mark:\n",
    "    \n",
    "    if 0 <= user_guess_count <= 4:\n",
    "        user_number =int(input('please input number:'))\n",
    "    if 4 < user_guess_count <= 100:\n",
    "        user_number =int(input('try harder, please input number:'))\n",
    "    \n",
    "    user_number_list.append(user_number)\n",
    "    user_guess_count += 1\n",
    "    \n",
    "    if user_number > a:\n",
    "        print('too big')\n",
    "    if user_number < a:\n",
    "        print('too small')\n",
    "    if user_number == a:\n",
    "        print('bingo!')\n",
    "        print('your guess number list:', user_number_list)\n",
    "        print('you try times:', user_guess_count)\n",
    "        guess_mark = False"
   ]
  },
  {
   "cell_type": "code",
   "execution_count": null,
   "metadata": {
    "collapsed": true
   },
   "outputs": [],
   "source": [
    "# 猜数，机器猜\n",
    "\n",
    "min = 0\n",
    "max = 100\n",
    "\n",
    "guess_ok_mark = False\n",
    "\n",
    "while not guess_ok_mark:\n",
    "\n",
    "    cur_guess = int((min+max)/2)\n",
    "    print('I guess:', cur_guess)\n",
    "    human_answer = input('Please tell me big or small:')\n",
    "    if human_answer == 'big':\n",
    "        max = cur_guess\n",
    "    if human_answer == 'small':\n",
    "        min = cur_guess\n",
    "    if human_answer == 'ok':\n",
    "        print('HAHAHA')\n",
    "        guess_ok_mark = True"
   ]
  }
 ],
 "metadata": {
  "kernelspec": {
   "display_name": "Python 3",
   "language": "python",
   "name": "python3"
  },
  "language_info": {
   "codemirror_mode": {
    "name": "ipython",
    "version": 3
   },
   "file_extension": ".py",
   "mimetype": "text/x-python",
   "name": "python",
   "nbconvert_exporter": "python",
   "pygments_lexer": "ipython3",
   "version": "3.4.4"
  }
 },
 "nbformat": 4,
 "nbformat_minor": 0
}
