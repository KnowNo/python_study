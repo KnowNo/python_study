{
 "cells": [
  {
   "cell_type": "markdown",
   "metadata": {},
   "source": [
    "## python 初级学习大纲\n",
    "\n",
    "最后更新日期：2016.11.27\n",
    "\n",
    "#### Lesson 1\n",
    "1.\tpython 简介\n",
    "2.\t基本变量概念\n",
    "3.\tprint() 和 input() 用法\n",
    "4.\tpython idle 用法\n",
    "5.\tjupyter 和 notebook介绍\n",
    "6.  pycharm 用法介绍\n",
    "\n",
    "#### Lesson 2 \n",
    "1.\t循环语句 for 用法\n",
    "2.\trange() 用法\n",
    "3.\t数据类型 list 用法\n",
    "\n",
    "#### Lesson 3\n",
    "1.\t数据类型 dict 用法\n",
    "2.\ttuple 用法，相对 list 比较\n",
    "3.  循环语句 while 用法\n",
    "4.\t随机数介绍\n",
    "5.\t函数用法之一\n",
    "\n",
    "#### Lesson 4\n",
    "1.\tlist 的切片用法\n",
    "2.\t函数用法之二\n",
    "3.\t日期库 datetime 用法介绍，datetime、time 等库的介绍，获得日期，字符串和日期转换，日期格式介绍，日期加减计算\n",
    "\n",
    "#### Lesson 5\n",
    "1.\t集合库 collections 简介\n",
    "2.\tOrderedDict 有序字典介绍\n",
    "3.\tCounter 计数器介绍\n",
    "4.\t函数不同参数形式介绍和举例 \n",
    "\n",
    "#### Lesson 6\n",
    "1.\t错误处理介绍\n",
    "2.\t程序思路训练\n",
    "\n"
   ]
  },
  {
   "cell_type": "code",
   "execution_count": null,
   "metadata": {
    "collapsed": true
   },
   "outputs": [],
   "source": []
  }
 ],
 "metadata": {
  "kernelspec": {
   "display_name": "Python 3",
   "language": "python",
   "name": "python3"
  },
  "language_info": {
   "codemirror_mode": {
    "name": "ipython",
    "version": 3
   },
   "file_extension": ".py",
   "mimetype": "text/x-python",
   "name": "python",
   "nbconvert_exporter": "python",
   "pygments_lexer": "ipython3",
   "version": "3.5.1"
  }
 },
 "nbformat": 4,
 "nbformat_minor": 0
}
