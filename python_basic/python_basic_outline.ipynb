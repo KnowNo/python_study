{
 "cells": [
  {
   "cell_type": "markdown",
   "metadata": {},
   "source": [
    "## python 初级学习大纲\n",
    "\n",
    "最后更新日期：2016.11.27\n",
    "\n",
    "#### Lesson 1\n",
    "1.\tpython 简介\n",
    "2.\t基本变量概念\n",
    "3.\tprint() 和 input() 用法\n",
    "4.\tpython 开发环境介绍\n",
    "    * python idle 用法\n",
    "    * anaconda 介绍\n",
    "    * jupyter 和 notebook介绍\n",
    "    * pycharm 用法介绍\n",
    "\n",
    "#### Lesson 2 \n",
    "1.\t循环语句 for 和 range() 用法\n",
    "2.\t常用数据类型 \n",
    "    * list 用法\n",
    "    * dict 用法\n",
    "    * tuple 用法\n",
    "3.  随机数介绍\n",
    "\n",
    "#### Lesson 3\n",
    "1.\tlist 的切片用法\n",
    "2.\t函数用法\n",
    "3.\t日期库 datetime 用法介绍，datetime、time 等库的介绍，获得日期，字符串和日期转换，日期格式介绍，日期加减计算\n",
    "4.  程序思路训练\n",
    "\n",
    "#### Lesson 4\n",
    "1.\t集合库 collections 简介\n",
    "    * namedtuple: 生成可以使用名字来访问元素内容的tuple子类\n",
    "    * deque: 双端队列，可以快速的从另外一侧追加和推出对象\n",
    "    * defaultdict: 带有默认值的字典\n",
    "    * OrderedDict: 有序字典\n",
    "    * Counter: 计数器\n",
    "2.\t函数不同参数形式介绍和举例 \n",
    "\n",
    "#### Lesson 5\n",
    "1. 文件和目录操作之一：文件和目录操作\n",
    "2. 文件和目录操作之二：读写文本文件\n",
    "3. 搜索硬盘上指定路径指定类型的文件\n",
    "\n",
    "#### Lesson 6\n",
    "1.\t错误处理介绍\n",
    "2.  pep8 规定以及 python 编程基本规范\n",
    "3.\t程序思路训练\n",
    "\n"
   ]
  },
  {
   "cell_type": "code",
   "execution_count": null,
   "metadata": {
    "collapsed": true
   },
   "outputs": [],
   "source": []
  }
 ],
 "metadata": {
  "kernelspec": {
   "display_name": "Python 3",
   "language": "python",
   "name": "python3"
  },
  "language_info": {
   "codemirror_mode": {
    "name": "ipython",
    "version": 3
   },
   "file_extension": ".py",
   "mimetype": "text/x-python",
   "name": "python",
   "nbconvert_exporter": "python",
   "pygments_lexer": "ipython3",
   "version": "3.5.1"
  }
 },
 "nbformat": 4,
 "nbformat_minor": 0
}
