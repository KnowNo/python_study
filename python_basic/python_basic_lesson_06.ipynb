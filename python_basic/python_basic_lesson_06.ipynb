{
 "cells": [
  {
   "cell_type": "markdown",
   "metadata": {},
   "source": [
    "# Lesson 6\n",
    "\n",
    "Python Basic, Lesson 6, v1.0.1, 2017.1 by David.Yi   \n",
    "Python Basic, Lesson 6, v1.0.2, 2017.4 modified by Yimeng.Zhang  \n",
    "\n",
    "\n",
    "### 上次内容要点\n",
    "\n",
    "* 文件和目录操作之一：文件和目录操作\n",
    "* 文件和目录操作之二：读写文本文件\n",
    "* 搜索硬盘上指定路径指定类型的文件\n",
    "    \n",
    "### 本次内容要点\n",
    "\n",
    "* 集合库 collections 简介\n",
    "    * namedtuple: 生成可以使用名字来访问元素内容的tuple子类\n",
    "    * deque: 双端队列，可以快速的从另外一侧追加和推出对象\n",
    "    * defaultdict: 带有默认值的字典\n",
    "    * OrderedDict: 有序字典\n",
    "    * Counter: 计数器\n",
    "* 错误处理介绍\n",
    "* pep8 规定以及 python 编程基本规范\n",
    "\n"
   ]
  },
  {
   "cell_type": "markdown",
   "metadata": {},
   "source": [
    "### collections\n",
    "\n",
    "collections 是 Python 内建的一个集合模块，提供了许多有用的集合类。我们来完整的看看 collections 提供了哪些扩展功能。\n",
    "\n",
    "python 内置了大量的功能函数，但是再多的函数和模块也不可能覆盖实际应用需要的所有功能，怎么扩展程序功能，怎么划分功能模块，python 自己所带的这些模块是最好的参考书！\n",
    "\n",
    "* namedtuple: 生成可以使用名字来访问元素内容的tuple子类\n",
    "* deque: 双端队列，可以快速的从另外一侧追加和推出对象\n",
    "* defaultdict: 带有默认值的字典\n",
    "* OrderedDict: 有序字典\n",
    "* Counter: 计数器"
   ]
  },
  {
   "cell_type": "markdown",
   "metadata": {},
   "source": [
    "---\n",
    "\n",
    "#### namedtuple 有名字的元组\n",
    "\n",
    "namedtuple 主要用来产生可以使用名称来访问元素的数据对象，通常用来增强代码的可读性，在访问一些 tuple 类型的数据时尤其好用。\n",
    "\n",
    "namedtuple 是一个函数，它用来创建一个自定义的 tuple 对象，并且规定了 tuple 元素的个数，可以用属性而不是索引来写入或者访问 tuple 的某个元素。\n",
    "\n",
    "这样一来，我们用 namedtuple 可以很方便地定义一种数据类型，比如 XY 坐标，它具备 tuple 的内容不变性，又可以根据属性来引用，使用十分方便。"
   ]
  },
  {
   "cell_type": "code",
   "execution_count": 1,
   "metadata": {
    "collapsed": false
   },
   "outputs": [
    {
     "name": "stdout",
     "output_type": "stream",
     "text": [
      "1 2\n"
     ]
    }
   ],
   "source": [
    "# nametuple 举例\n",
    "\n",
    "from collections import namedtuple\n",
    "\n",
    "Point = namedtuple('Point', ['x', 'y'])\n",
    "p = Point(1, 2)\n",
    "print(p.x, p.y)"
   ]
  },
  {
   "cell_type": "code",
   "execution_count": 2,
   "metadata": {
    "collapsed": false
   },
   "outputs": [
    {
     "name": "stdout",
     "output_type": "stream",
     "text": [
      "3\n"
     ]
    }
   ],
   "source": [
    "i = p.x + p.y\n",
    "print(i)"
   ]
  },
  {
   "cell_type": "code",
   "execution_count": 3,
   "metadata": {
    "collapsed": false
   },
   "outputs": [
    {
     "name": "stdout",
     "output_type": "stream",
     "text": [
      "web(name='google', type='search', url='www.google.com')\n"
     ]
    }
   ],
   "source": [
    "# nametuple 举例\n",
    "\n",
    "from collections import namedtuple\n",
    "\n",
    "Web = namedtuple('web', ['name', 'type', 'url'])\n",
    "p1 = Web('google', 'search', 'www.google.com')\n",
    "p2 = Web('sina', 'portal', 'www.sina.com.cn')\n",
    "\n",
    "print(p1)"
   ]
  },
  {
   "cell_type": "code",
   "execution_count": 4,
   "metadata": {
    "collapsed": false
   },
   "outputs": [
    {
     "name": "stdout",
     "output_type": "stream",
     "text": [
      "google www.google.com\n"
     ]
    }
   ],
   "source": [
    "print(p1.name, p1.url)"
   ]
  },
  {
   "cell_type": "code",
   "execution_count": 5,
   "metadata": {
    "collapsed": false
   },
   "outputs": [
    {
     "name": "stdout",
     "output_type": "stream",
     "text": [
      "www.google.com www.sina.com.cn\n"
     ]
    }
   ],
   "source": [
    "print(p1.url, p2.url)"
   ]
  },
  {
   "cell_type": "code",
   "execution_count": 6,
   "metadata": {
    "collapsed": false
   },
   "outputs": [
    {
     "name": "stdout",
     "output_type": "stream",
     "text": [
      "sina\n",
      "portal\n",
      "www.sina.com.cn\n"
     ]
    }
   ],
   "source": [
    "# 遍历 nametuple\n",
    "\n",
    "for i in p2:\n",
    "    print(i)"
   ]
  },
  {
   "cell_type": "code",
   "execution_count": 7,
   "metadata": {
    "collapsed": false
   },
   "outputs": [
    {
     "name": "stdout",
     "output_type": "stream",
     "text": [
      "[web(name='google', type='search', url='www.google.com'), web(name='sina', type='portal', url='www.sina.com.cn')]\n",
      "google\n",
      "sina\n"
     ]
    }
   ],
   "source": [
    "# 复杂的基于 namedtuple list demo\n",
    "from collections import namedtuple\n",
    "\n",
    "Web = namedtuple('web', ['name', 'type', 'url'])\n",
    "\n",
    "p = []\n",
    "p.append(Web('google', 'search', 'www.google.com'))\n",
    "p.append(Web('sina', 'portal', 'www.sina.com.cn'))\n",
    "print(p)\n",
    "\n",
    "for i in p:\n",
    "    print(i.name)"
   ]
  },
  {
   "cell_type": "code",
   "execution_count": 8,
   "metadata": {
    "collapsed": false
   },
   "outputs": [
    {
     "name": "stdout",
     "output_type": "stream",
     "text": [
      "('name', 'type', 'url')\n"
     ]
    }
   ],
   "source": [
    "# 显示 namedtuple 的字段名称\n",
    "\n",
    "print(Web._fields)"
   ]
  },
  {
   "cell_type": "markdown",
   "metadata": {},
   "source": [
    "---\n",
    "\n",
    "#### deque\n",
    "\n",
    "使用 list 存储数据时，按索引访问元素很快，但是插入和删除元素就很慢了，因为 list 是线性存储，数据量大的时候，插入和删除效率很低。\n",
    "\n",
    "deque 是为了高效实现插入和删除操作的双向列表，适合用于队列和栈。\n",
    "\n",
    "deque 在插入数据时候速度比 list 快很多，当然这个是相对存在大量数据的 list 而言的。如果你的程序中需要对有百万级别的 list 频繁的在各个位置插入删除数据，那么用 deque 是值得的。"
   ]
  },
  {
   "cell_type": "code",
   "execution_count": 21,
   "metadata": {
    "collapsed": false
   },
   "outputs": [
    {
     "name": "stdout",
     "output_type": "stream",
     "text": [
      "deque(['y', 'a', 'b', 'c', 'x'])\n"
     ]
    }
   ],
   "source": [
    "# deque 举例\n",
    "\n",
    "from collections import deque\n",
    "\n",
    "q = deque(['a', 'b', 'c'])\n",
    "q.append('x')\n",
    "q.appendleft('y')\n",
    "\n",
    "print(q)"
   ]
  },
  {
   "cell_type": "code",
   "execution_count": 5,
   "metadata": {
    "collapsed": false,
    "scrolled": true
   },
   "outputs": [
    {
     "name": "stdout",
     "output_type": "stream",
     "text": [
      "0.002365589141845703\n",
      "0.0\n"
     ]
    }
   ],
   "source": [
    "# 对比 list 和 deque 的速度\n",
    "\n",
    "from collections import deque\n",
    "import time\n",
    "\n",
    "# list\n",
    "q0 = [x*x for x in range(10000000)]\n",
    "\n",
    "# list\n",
    "a = time.time()\n",
    "q0.insert(0,888)\n",
    "# q0.append(999)\n",
    "b = time.time()\n",
    "print(b-a)\n",
    "\n",
    "# 生成 deque\n",
    "q1= deque(q0)\n",
    "\n",
    "# deque\n",
    "a = time.time()\n",
    "q1.appendleft(888)\n",
    "# q1.append(999)\n",
    "b = time.time()\n",
    "print(b-a)"
   ]
  },
  {
   "cell_type": "code",
   "execution_count": 16,
   "metadata": {
    "collapsed": false
   },
   "outputs": [
    {
     "name": "stdout",
     "output_type": "stream",
     "text": [
      "deque(['a', 'b', 'c', 'd'])\n"
     ]
    }
   ],
   "source": [
    "from collections import deque\n",
    "\n",
    "l = ['a','b','c','d']\n",
    "l = deque(l)\n",
    "print(l)"
   ]
  },
  {
   "cell_type": "code",
   "execution_count": 9,
   "metadata": {
    "collapsed": false
   },
   "outputs": [
    {
     "name": "stdout",
     "output_type": "stream",
     "text": [
      "deque(['d', 'e', 'a', 'b', 'c'])\n",
      "deque(['a', 'b', 'c', 'd', 'e'])\n"
     ]
    }
   ],
   "source": [
    "# deque rotation\n",
    "\n",
    "l = ['a','b','c','d','e']\n",
    "l = deque(l)\n",
    "l.rotate(2)\n",
    "print(l)\n",
    "l.rotate(-2)\n",
    "print(l)"
   ]
  },
  {
   "cell_type": "code",
   "execution_count": 13,
   "metadata": {
    "collapsed": false
   },
   "outputs": [
    {
     "name": "stdout",
     "output_type": "stream",
     "text": [
      "deque(['a', 'b'])\n"
     ]
    }
   ],
   "source": [
    "# deque pop() 同样可以区分头尾\n",
    "\n",
    "l = deque(['a','b','c'])\n",
    "l.pop()\n",
    "print(l)"
   ]
  },
  {
   "cell_type": "code",
   "execution_count": 14,
   "metadata": {
    "collapsed": false
   },
   "outputs": [
    {
     "name": "stdout",
     "output_type": "stream",
     "text": [
      "deque(['b', 'c'])\n"
     ]
    }
   ],
   "source": [
    "l = deque(['a','b','c'])\n",
    "l.popleft()\n",
    "print(l)"
   ]
  },
  {
   "cell_type": "markdown",
   "metadata": {},
   "source": [
    "---\n",
    "\n",
    "#### defaultdict\n",
    "\n",
    "我们都知道，在使用Python原生的数据结构dict的时候，如果用 d[key] 这样的方式访问， 当指定的key不存在时，是会抛出KeyError异常的，也就是发生错误。（当然可以用 get 方法来避免这样的错误）\n",
    "\n",
    "如果使用defaultdict，只要你传入一个默认的方法，那么请求一个不存在的key时， 便会调用这个方法，使用其结果来作为这个key的默认值。"
   ]
  },
  {
   "cell_type": "code",
   "execution_count": 22,
   "metadata": {
    "collapsed": false
   },
   "outputs": [
    {
     "name": "stdout",
     "output_type": "stream",
     "text": [
      "David\n"
     ]
    }
   ],
   "source": [
    "# 标准的字典用法\n",
    "\n",
    "i = {'name':'David'}\n",
    "print(i['name'])"
   ]
  },
  {
   "cell_type": "code",
   "execution_count": 23,
   "metadata": {
    "collapsed": false
   },
   "outputs": [
    {
     "ename": "KeyError",
     "evalue": "'score'",
     "output_type": "error",
     "traceback": [
      "\u001b[1;31m---------------------------------------------------------------------------\u001b[0m",
      "\u001b[1;31mKeyError\u001b[0m                                  Traceback (most recent call last)",
      "\u001b[1;32m<ipython-input-23-f3bc1b97dc22>\u001b[0m in \u001b[0;36m<module>\u001b[1;34m()\u001b[0m\n\u001b[0;32m      2\u001b[0m \u001b[1;33m\u001b[0m\u001b[0m\n\u001b[0;32m      3\u001b[0m \u001b[0mi\u001b[0m \u001b[1;33m=\u001b[0m \u001b[1;33m{\u001b[0m\u001b[1;34m'name'\u001b[0m\u001b[1;33m:\u001b[0m\u001b[1;34m'David'\u001b[0m\u001b[1;33m}\u001b[0m\u001b[1;33m\u001b[0m\u001b[0m\n\u001b[1;32m----> 4\u001b[1;33m \u001b[0mprint\u001b[0m\u001b[1;33m(\u001b[0m\u001b[0mi\u001b[0m\u001b[1;33m[\u001b[0m\u001b[1;34m'score'\u001b[0m\u001b[1;33m]\u001b[0m\u001b[1;33m)\u001b[0m\u001b[1;33m\u001b[0m\u001b[0m\n\u001b[0m",
      "\u001b[1;31mKeyError\u001b[0m: 'score'"
     ]
    }
   ],
   "source": [
    "# 不存在 key，则会报错\n",
    "\n",
    "i = {'name':'David'}\n",
    "print(i['score'])"
   ]
  },
  {
   "cell_type": "code",
   "execution_count": 25,
   "metadata": {
    "collapsed": false
   },
   "outputs": [
    {
     "name": "stdout",
     "output_type": "stream",
     "text": [
      "David\n"
     ]
    }
   ],
   "source": [
    "# defaultdict 举例\n",
    "\n",
    "from collections import defaultdict\n",
    "\n",
    "i = defaultdict(lambda: 100)\n",
    "i['name']='David'\n",
    "print(i['name'])"
   ]
  },
  {
   "cell_type": "code",
   "execution_count": 26,
   "metadata": {
    "collapsed": false
   },
   "outputs": [
    {
     "name": "stdout",
     "output_type": "stream",
     "text": [
      "100\n",
      "100\n"
     ]
    }
   ],
   "source": [
    "# default 返回默认值，不会报错\n",
    "\n",
    "print(i['score'])\n",
    "print(i['best_score'])"
   ]
  },
  {
   "cell_type": "code",
   "execution_count": 30,
   "metadata": {
    "collapsed": false
   },
   "outputs": [
    {
     "name": "stdout",
     "output_type": "stream",
     "text": [
      "David\n",
      "100\n"
     ]
    }
   ],
   "source": [
    "from collections import defaultdict\n",
    "\n",
    "i = defaultdict(lambda: '100')\n",
    "i['name']='David'\n",
    "print(i['name'])\n",
    "print(i['score'])"
   ]
  },
  {
   "cell_type": "markdown",
   "metadata": {},
   "source": [
    "---\n",
    "##### OrderedDict\n",
    "\n",
    "使用 dict 字典时，Key 是无序的。在对 dict 做迭代访问时，我们无法确定 Key 的顺序。\n",
    "\n",
    "如果要保持 Key 的顺序，可以用 OrderedDict，这是一个 Key 值有序的字典数据类型。"
   ]
  },
  {
   "cell_type": "code",
   "execution_count": 43,
   "metadata": {
    "collapsed": false
   },
   "outputs": [
    {
     "name": "stdout",
     "output_type": "stream",
     "text": [
      "{'a': 1, 'c': 3, 'b': 2}\n"
     ]
    }
   ],
   "source": [
    "# dict 是无序的\n",
    "\n",
    "d = dict([('a', 1), ('b', 2), ('c', 3)])\n",
    "\n",
    "print(d)"
   ]
  },
  {
   "cell_type": "code",
   "execution_count": 22,
   "metadata": {
    "collapsed": false
   },
   "outputs": [
    {
     "name": "stdout",
     "output_type": "stream",
     "text": [
      "{'c': 3, 'a': 1, 'b': 2}\n",
      "{'c': 3, 'd': 4, 'a': 1, 'b': 2}\n"
     ]
    }
   ],
   "source": [
    "# 传统dict 追加一对 key value\n",
    "\n",
    "d = dict([('a', 1), ('b', 2), ('c', 3)])\n",
    "\n",
    "print(d)\n",
    "\n",
    "d['d'] = 4\n",
    "print(d)"
   ]
  },
  {
   "cell_type": "code",
   "execution_count": 44,
   "metadata": {
    "collapsed": false
   },
   "outputs": [
    {
     "name": "stdout",
     "output_type": "stream",
     "text": [
      "OrderedDict([('a', 1), ('b', 2), ('c', 3)])\n"
     ]
    }
   ],
   "source": [
    "# 使用 OrderedDict\n",
    "\n",
    "from collections import OrderedDict\n",
    "\n",
    "d = OrderedDict()\n",
    "d['a'] = 1\n",
    "d['b'] = 2\n",
    "d['c'] = 3\n",
    "\n",
    "print(d)"
   ]
  },
  {
   "cell_type": "code",
   "execution_count": 45,
   "metadata": {
    "collapsed": false
   },
   "outputs": [
    {
     "name": "stdout",
     "output_type": "stream",
     "text": [
      "OrderedDict([('a', 1), ('b', 2), ('c', 3)])\n",
      "OrderedDict([('a', 1), ('b', 2), ('c', 3), ('d', 4)])\n"
     ]
    }
   ],
   "source": [
    "# 使用 OrderedDict, 追加一对 key value\n",
    "# OrderedDict的Key会按照插入的顺序排列，不是Key本身排序\n",
    "\n",
    "from collections import OrderedDict\n",
    "\n",
    "d = OrderedDict()\n",
    "d['a'] = 1\n",
    "d['b'] = 2\n",
    "d['c'] = 3\n",
    "\n",
    "print(d)\n",
    "\n",
    "d['d'] = 4\n",
    "print(d)"
   ]
  },
  {
   "cell_type": "code",
   "execution_count": 46,
   "metadata": {
    "collapsed": false
   },
   "outputs": [
    {
     "name": "stdout",
     "output_type": "stream",
     "text": [
      "add: ('a', 1)\n",
      "add: ('b', 2)\n",
      "add: ('c', 3)\n",
      "LastUpdatedOrderedDict([('a', 1), ('b', 2), ('c', 3)])\n"
     ]
    }
   ],
   "source": [
    "# OrderedDict可以实现一个FIFO（先进先出）的dict，当容量超出限制时，先删除最早添加的Key：\n",
    "\n",
    "from collections import OrderedDict\n",
    "\n",
    "class LastUpdatedOrderedDict(OrderedDict):\n",
    "\n",
    "    def __init__(self, capacity):\n",
    "        super(LastUpdatedOrderedDict, self).__init__()\n",
    "        self._capacity = capacity\n",
    "\n",
    "    def __setitem__(self, key, value):\n",
    "        containsKey = 1 if key in self else 0\n",
    "        if len(self) - containsKey >= self._capacity:\n",
    "            last = self.popitem(last=False)\n",
    "            print('remove:', last)\n",
    "        if containsKey:\n",
    "            del self[key]\n",
    "            print('set:', (key, value))\n",
    "        else:\n",
    "            print('add:', (key, value))\n",
    "        OrderedDict.__setitem__(self, key, value)\n",
    "        \n",
    "d = LastUpdatedOrderedDict(4)\n",
    "d['a'] = 1\n",
    "d['b'] = 2\n",
    "d['c'] = 3\n",
    "print(d)"
   ]
  },
  {
   "cell_type": "code",
   "execution_count": 47,
   "metadata": {
    "collapsed": false
   },
   "outputs": [
    {
     "name": "stdout",
     "output_type": "stream",
     "text": [
      "add: ('d', 4)\n",
      "remove: ('a', 1)\n",
      "add: ('e', 5)\n",
      "remove: ('b', 2)\n",
      "add: ('f', 6)\n",
      "LastUpdatedOrderedDict([('c', 3), ('d', 4), ('e', 5), ('f', 6)])\n"
     ]
    }
   ],
   "source": [
    "d['d'] = 4\n",
    "d['e'] = 5\n",
    "d['f'] = 6\n",
    "print(d)"
   ]
  },
  {
   "cell_type": "markdown",
   "metadata": {},
   "source": [
    "---\n",
    "\n",
    "##### Counter\n",
    "\n",
    "Counter是一个简单的计数器，例如，统计字符出现的个数："
   ]
  },
  {
   "cell_type": "code",
   "execution_count": 28,
   "metadata": {
    "collapsed": false
   },
   "outputs": [
    {
     "name": "stdout",
     "output_type": "stream",
     "text": [
      "[(' ', 6), ('s', 4), ('a', 3), ('c', 3), ('t', 2)]\n"
     ]
    }
   ],
   "source": [
    "# Counter类的目的是用来跟踪值出现的次数,以字典的键值对形式存储，其中元素作为key，其计数作为value\n",
    "# 下面这个例子就是使用 Counter 模块统计一段句子里面所有字符出现次数\n",
    "\n",
    "from collections import Counter\n",
    "\n",
    "s = 'A Counter is a dict subclass. '.lower()\n",
    "\n",
    "c = Counter(s)\n",
    "# 获取出现频率最高的5个字符\n",
    "print(c.most_common(5))"
   ]
  },
  {
   "cell_type": "code",
   "execution_count": 2,
   "metadata": {
    "collapsed": false
   },
   "outputs": [
    {
     "name": "stdout",
     "output_type": "stream",
     "text": [
      "Please input:aaabbbbbcc\n",
      "[('b', 5), ('a', 3), ('c', 2)]\n"
     ]
    }
   ],
   "source": [
    "# Counter 举例\n",
    "\n",
    "from collections import Counter\n",
    "\n",
    "s = input('Please input:')\n",
    "\n",
    "s = s.lower()\n",
    "\n",
    "c = Counter(s)\n",
    "# 获取出现频率最高的5个字符\n",
    "print(c.most_common(5))"
   ]
  },
  {
   "cell_type": "code",
   "execution_count": 7,
   "metadata": {
    "collapsed": false
   },
   "outputs": [
    {
     "name": "stdout",
     "output_type": "stream",
     "text": [
      "3\n",
      "5\n",
      "0\n"
     ]
    }
   ],
   "source": [
    "# 计数值的访问与缺失的键\n",
    "\n",
    "print(c['a'])\n",
    "print(c['b'])\n",
    "print(c['z'])"
   ]
  },
  {
   "cell_type": "markdown",
   "metadata": {
    "collapsed": true
   },
   "source": [
    "---\n",
    "\n",
    "### 错误处理\n",
    "\n",
    "异常即是一个事件，该事件会在程序执行过程中发生，影响了程序的正常执行。一般情况下，在Python无法正常处理程序时就会发生一个异常。异常是Python对象，表示一个错误。当Python脚本发生异常时我们需要捕获处理它，否则程序会终止执行。\n",
    "\n"
   ]
  },
  {
   "cell_type": "code",
   "execution_count": 63,
   "metadata": {
    "collapsed": false
   },
   "outputs": [
    {
     "name": "stdout",
     "output_type": "stream",
     "text": [
      "a:a\n"
     ]
    },
    {
     "ename": "ValueError",
     "evalue": "invalid literal for int() with base 10: 'a'",
     "output_type": "error",
     "traceback": [
      "\u001b[1;31m---------------------------------------------------------------------------\u001b[0m",
      "\u001b[1;31mValueError\u001b[0m                                Traceback (most recent call last)",
      "\u001b[1;32m<ipython-input-63-2e5fa3a10b86>\u001b[0m in \u001b[0;36m<module>\u001b[1;34m()\u001b[0m\n\u001b[0;32m      1\u001b[0m \u001b[1;31m# 看似健壮的程序，输入字母会报错\u001b[0m\u001b[1;33m\u001b[0m\u001b[1;33m\u001b[0m\u001b[0m\n\u001b[0;32m      2\u001b[0m \u001b[1;33m\u001b[0m\u001b[0m\n\u001b[1;32m----> 3\u001b[1;33m \u001b[0ma\u001b[0m \u001b[1;33m=\u001b[0m \u001b[0mint\u001b[0m\u001b[1;33m(\u001b[0m\u001b[0minput\u001b[0m\u001b[1;33m(\u001b[0m\u001b[1;34m'a:'\u001b[0m\u001b[1;33m)\u001b[0m\u001b[1;33m)\u001b[0m\u001b[1;33m\u001b[0m\u001b[0m\n\u001b[0m\u001b[0;32m      4\u001b[0m \u001b[1;32mif\u001b[0m \u001b[0ma\u001b[0m \u001b[1;33m==\u001b[0m\u001b[1;36m0\u001b[0m\u001b[1;33m:\u001b[0m\u001b[1;33m\u001b[0m\u001b[0m\n\u001b[0;32m      5\u001b[0m     \u001b[0mprint\u001b[0m\u001b[1;33m(\u001b[0m\u001b[1;34m\"you cannot input  0\"\u001b[0m\u001b[1;33m)\u001b[0m\u001b[1;33m\u001b[0m\u001b[0m\n",
      "\u001b[1;31mValueError\u001b[0m: invalid literal for int() with base 10: 'a'"
     ]
    }
   ],
   "source": [
    "# 看似健壮的程序，输入字母会报错\n",
    "\n",
    "a = int(input('a:'))\n",
    "if a ==0:\n",
    "    print(\"you cannot input  0\")\n",
    "else: \n",
    "    r = 10 / a\n",
    "    print('result:', r)"
   ]
  },
  {
   "cell_type": "code",
   "execution_count": 36,
   "metadata": {
    "collapsed": false
   },
   "outputs": [
    {
     "name": "stdout",
     "output_type": "stream",
     "text": [
      "a:0\n",
      "except: division by zero\n"
     ]
    }
   ],
   "source": [
    "# 防止输入0作为除数\n",
    "\n",
    "try:\n",
    "    a = int(input('a:'))\n",
    "    r = 10 / a\n",
    "    print('result:', r)\n",
    "except ZeroDivisionError as e:\n",
    "    print('except:',e)"
   ]
  },
  {
   "cell_type": "code",
   "execution_count": 67,
   "metadata": {
    "collapsed": false
   },
   "outputs": [
    {
     "name": "stdout",
     "output_type": "stream",
     "text": [
      "a:0\n"
     ]
    },
    {
     "ename": "ZeroDivisionError",
     "evalue": "division by zero",
     "output_type": "error",
     "traceback": [
      "\u001b[1;31m---------------------------------------------------------------------------\u001b[0m",
      "\u001b[1;31mZeroDivisionError\u001b[0m                         Traceback (most recent call last)",
      "\u001b[1;32m<ipython-input-67-7c4d145c6be1>\u001b[0m in \u001b[0;36m<module>\u001b[1;34m()\u001b[0m\n\u001b[0;32m      1\u001b[0m \u001b[0ma\u001b[0m \u001b[1;33m=\u001b[0m \u001b[0mint\u001b[0m\u001b[1;33m(\u001b[0m\u001b[0minput\u001b[0m\u001b[1;33m(\u001b[0m\u001b[1;34m'a:'\u001b[0m\u001b[1;33m)\u001b[0m\u001b[1;33m)\u001b[0m\u001b[1;33m\u001b[0m\u001b[0m\n\u001b[1;32m----> 2\u001b[1;33m \u001b[0mr\u001b[0m \u001b[1;33m=\u001b[0m \u001b[1;36m10\u001b[0m \u001b[1;33m/\u001b[0m \u001b[0ma\u001b[0m\u001b[1;33m\u001b[0m\u001b[0m\n\u001b[0m",
      "\u001b[1;31mZeroDivisionError\u001b[0m: division by zero"
     ]
    }
   ],
   "source": [
    "a = int(input('a:'))\n",
    "r = 10 / a"
   ]
  },
  {
   "cell_type": "code",
   "execution_count": 38,
   "metadata": {
    "collapsed": false
   },
   "outputs": [
    {
     "name": "stdout",
     "output_type": "stream",
     "text": [
      "a:a\n",
      "except: invalid literal for int() with base 10: 'a'\n"
     ]
    }
   ],
   "source": [
    "# 如何捕捉多个类型的错误？\n",
    "\n",
    "\n",
    "try:\n",
    "    a = int(input('a:'))\n",
    "    r = 10 / a\n",
    "    print('result:', r)\n",
    "except ZeroDivisionError as e:\n",
    "    print('except:',e)\n",
    "except ValueError as e:\n",
    "    print('except:',e)"
   ]
  },
  {
   "cell_type": "code",
   "execution_count": 7,
   "metadata": {
    "collapsed": false
   },
   "outputs": [
    {
     "name": "stdout",
     "output_type": "stream",
     "text": [
      "a:1\n",
      "result: 10.0\n",
      "finish...\n"
     ]
    }
   ],
   "source": [
    "# try...except...finally\n",
    "\n",
    "a = int(input('a:'))\n",
    "\n",
    "try:\n",
    "    r = 10 / a\n",
    "    print('result:', r)\n",
    "except ZeroDivisionError as e:\n",
    "    print('except:', e)\n",
    "finally:\n",
    "    print('finish...')"
   ]
  },
  {
   "cell_type": "code",
   "execution_count": 69,
   "metadata": {
    "collapsed": false
   },
   "outputs": [
    {
     "name": "stdout",
     "output_type": "stream",
     "text": [
      "except: name 'c' is not defined\n"
     ]
    }
   ],
   "source": [
    "# 防止错误举例\n",
    "\n",
    "a = 100\n",
    "try:\n",
    "    b = a + c \n",
    "    print(b)\n",
    "except NameError as e:\n",
    "    print('except:',e)"
   ]
  },
  {
   "cell_type": "code",
   "execution_count": 9,
   "metadata": {
    "collapsed": false
   },
   "outputs": [
    {
     "name": "stdout",
     "output_type": "stream",
     "text": [
      "except: name 'c' is not defined\n",
      "100\n"
     ]
    }
   ],
   "source": [
    "# 防止错误举例，略完善的做法\n",
    "\n",
    "a = 100\n",
    "\n",
    "try:\n",
    "    b = a + c \n",
    "except NameError as e:\n",
    "    print('except:', e)\n",
    "    b = a + 0\n",
    "print(b)"
   ]
  },
  {
   "cell_type": "code",
   "execution_count": 82,
   "metadata": {
    "collapsed": false
   },
   "outputs": [
    {
     "name": "stdout",
     "output_type": "stream",
     "text": [
      "a:a\n",
      "except: invalid literal for int() with base 10: 'a'\n",
      "covert ok\n",
      "result: 10.0\n",
      "finish...\n"
     ]
    }
   ],
   "source": [
    "# 对 int 进行判断\n",
    "\n",
    "a = input('a:')\n",
    "\n",
    "# 对输入值转换还有更完善的方法\n",
    "try:\n",
    "    a = int(a)\n",
    "except ValueError as e:\n",
    "    print('except:', e)   \n",
    "    a = 1\n",
    "finally:\n",
    "    print('covert ok')\n",
    "\n",
    "try:\n",
    "    r = 10 / a\n",
    "    print('result:', r)\n",
    "except ZeroDivisionError as e:\n",
    "    print('except:', e)\n",
    "finally:\n",
    "    print('finish...')"
   ]
  }
 ],
 "metadata": {
  "kernelspec": {
   "display_name": "Python 3",
   "language": "python",
   "name": "python3"
  },
  "language_info": {
   "codemirror_mode": {
    "name": "ipython",
    "version": 3
   },
   "file_extension": ".py",
   "mimetype": "text/x-python",
   "name": "python",
   "nbconvert_exporter": "python",
   "pygments_lexer": "ipython3",
   "version": "3.5.1"
  }
 },
 "nbformat": 4,
 "nbformat_minor": 0
}
