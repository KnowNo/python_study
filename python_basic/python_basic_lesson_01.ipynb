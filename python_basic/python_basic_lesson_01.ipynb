{
 "cells": [
  {
   "cell_type": "markdown",
   "metadata": {},
   "source": [
    "# Lesson 1\n",
    "\n",
    "Python Basic, Lesson 11, v1.0.0, 2016.11 by David.Yi\n",
    "\n",
    "\n",
    "### 本次内容要点\n",
    "\n",
    "1.\tpython 简介\n",
    "2.  准备工作\n",
    "2.\t基本变量概念\n",
    "3.\tprint() 和 input() 用法\n",
    "4.\tpython 开发环境介绍\n",
    "    * python idle 用法\n",
    "    * anaconda 介绍\n",
    "    * jupyter 和 notebook介绍\n",
    "    * pycharm 用法介绍"
   ]
  },
  {
   "cell_type": "markdown",
   "metadata": {},
   "source": [
    "\n",
    "\n",
    "\n",
    "\n",
    "### 基本变量概念\n",
    "\n",
    "### print() 和 input() 用法\n",
    "\n",
    "### python 开发环境介绍\n",
    "\n",
    "#### python idle 用法\n",
    "#### anaconda 介绍\n",
    "#### jupyter 和 notebook介绍\n",
    "#### pycharm 用法介绍"
   ]
  },
  {
   "cell_type": "markdown",
   "metadata": {},
   "source": [
    "### python 简介\n",
    "\n",
    "Why we study Python\n",
    "\n",
    "Top-ranked CS departments at MIT and UC Berkeley recently switched their introductory courses to Python. \n",
    "The largest three MOOC providers (edX, Coursera, and Udacity) all offer introductory programming courses in Python. \n",
    "And professors in diverse subfields (e.g., Lorena Barba) are now advocating for teaching Python to novices.\n",
    "\n",
    "Shortcut of programming\n",
    "\n",
    "世界观和人生观\n",
    "天赋\n",
    "勤奋\n",
    "阅读\n",
    "实践，实践，再实践\n",
    "搜索技巧"
   ]
  },
  {
   "cell_type": "markdown",
   "metadata": {},
   "source": [
    "### 准备工作\n",
    "\n",
    "请访问: https://www.python.org/downloads/ 下载最新的 python 解释器和相关工具\n",
    "目前 python 最新版本是 3.5.2 和 2.7.12，python 2.7系列将在未来不被支持，从发展来说，我们选用 python 3.x 版本。\n"
   ]
  },
  {
   "cell_type": "code",
   "execution_count": 1,
   "metadata": {
    "collapsed": false
   },
   "outputs": [
    {
     "name": "stdout",
     "output_type": "stream",
     "text": [
      "100\n",
      "100\n"
     ]
    }
   ],
   "source": [
    "print(100)\n",
    "\n",
    "a = 100\n",
    "print(a)"
   ]
  },
  {
   "cell_type": "code",
   "execution_count": null,
   "metadata": {
    "collapsed": true
   },
   "outputs": [],
   "source": [
    "print(100, 200, 300)"
   ]
  },
  {
   "cell_type": "code",
   "execution_count": null,
   "metadata": {
    "collapsed": true
   },
   "outputs": [],
   "source": [
    "name = input('name:')\n",
    "print( 'hello', name)"
   ]
  },
  {
   "cell_type": "code",
   "execution_count": null,
   "metadata": {
    "collapsed": true
   },
   "outputs": [],
   "source": [
    "a = 10\n",
    "if a > 10:\n",
    "    print('big')\n",
    "else:\n",
    "    print('small')"
   ]
  },
  {
   "cell_type": "code",
   "execution_count": null,
   "metadata": {
    "collapsed": true
   },
   "outputs": [],
   "source": [
    "for i in range(10):\n",
    "    print(i)"
   ]
  },
  {
   "cell_type": "code",
   "execution_count": null,
   "metadata": {
    "collapsed": true
   },
   "outputs": [],
   "source": [
    "a = ['pig', 'cat', 'dog']\n",
    "print(a)\n",
    "print(a[0])\n",
    "print(a[-1])"
   ]
  },
  {
   "cell_type": "code",
   "execution_count": null,
   "metadata": {
    "collapsed": true
   },
   "outputs": [],
   "source": [
    "a.append('snake')\n",
    "print(a)\n",
    "\n",
    "a.pop(1)\n",
    "print(a)\n",
    "\n",
    "a.remove('dog')\n",
    "print(a)\n",
    "\n",
    "a = ['pig', 'cat', 'dog', 'snake', 'snake']\n",
    "a.sort()\n",
    "print(a)\n",
    "\n",
    "b = ['cat1', 'cat2', 'cat3']\n",
    "a.append(b)\n",
    "print(a)\n",
    "\n",
    "import pickle\n",
    "f = open('list_dump.txt', 'wb')\n",
    "a = ['pig', 'cat', 'dog', 'snake', 'snake']\n",
    "pickle.dump(a, f)\n",
    "f.close()\n",
    "\n",
    "f = open('list_dump.txt', 'rb')\n",
    "a1 = pickle.load(f)\n",
    "f.close()\n",
    "print(a1)\n",
    "\n",
    "a = ['pig', 'cat', 'dog', 'dog']\n",
    "a1 = [x for x in a if a.count(x) <= 1]\n",
    "print(a1)"
   ]
  }
 ],
 "metadata": {
  "kernelspec": {
   "display_name": "Python 3",
   "language": "python",
   "name": "python3"
  },
  "language_info": {
   "codemirror_mode": {
    "name": "ipython",
    "version": 3
   },
   "file_extension": ".py",
   "mimetype": "text/x-python",
   "name": "python",
   "nbconvert_exporter": "python",
   "pygments_lexer": "ipython3",
   "version": "3.5.1"
  }
 },
 "nbformat": 4,
 "nbformat_minor": 0
}
