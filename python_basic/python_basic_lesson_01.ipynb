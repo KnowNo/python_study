{
 "cells": [
  {
   "cell_type": "markdown",
   "metadata": {},
   "source": [
    "Preparation Work\n",
    "\n",
    "Please visit: https://www.python.org/downloads/ download the latest Python and tools\n",
    "Python version： 3.5.2 and 2.7.12\n",
    "\n",
    "Why we study Python\n",
    "\n",
    "Top-ranked CS departments at MIT and UC Berkeley recently switched their introductory courses to Python. \n",
    "The largest three MOOC providers (edX, Coursera, and Udacity) all offer introductory programming courses in Python. \n",
    "And professors in diverse subfields (e.g., Lorena Barba) are now advocating for teaching Python to novices.\n",
    "\n",
    "Shortcut of programming\n",
    "\n",
    "世界观和人生观\n",
    "天赋\n",
    "勤奋\n",
    "阅读\n",
    "实践，实践，再实践\n",
    "搜索技巧\n",
    "\n",
    "\n",
    "Python 简介\n",
    "基本变量概念\n",
    "Print() 和 Input() 用法\n",
    "Python IDLE 用法\n",
    "交互式 python 环境 Juypter 介绍\n",
    "\n",
    "about LISTS\n",
    "\n",
    "“Lists are mutable sequences, typically used to store collections of homogeneous items (where the precise degree of similarity will vary by application).” \n",
    "Very powerful, can store many kinds of real world data \n",
    "Create list\n",
    "Add an item\n",
    "Delete an item\n",
    "Sort\n",
    "Multidimensional\n",
    "Save and load\n",
    "\n",
    "Homework\n",
    "What can PRINT() statement do? please name an example of a relatively complicated coding\n",
    "If you were asked to develop an XPRINT statement in order to extend current one, which functions do you think need to be improved or added?\n",
    "Group assignment\n",
    "\n",
    "\n"
   ]
  },
  {
   "cell_type": "code",
   "execution_count": 1,
   "metadata": {
    "collapsed": false
   },
   "outputs": [
    {
     "name": "stdout",
     "output_type": "stream",
     "text": [
      "100\n",
      "100\n"
     ]
    }
   ],
   "source": [
    "print(100)\n",
    "\n",
    "a = 100\n",
    "print(a)"
   ]
  },
  {
   "cell_type": "code",
   "execution_count": null,
   "metadata": {
    "collapsed": true
   },
   "outputs": [],
   "source": [
    "print(100, 200, 300)"
   ]
  },
  {
   "cell_type": "code",
   "execution_count": null,
   "metadata": {
    "collapsed": true
   },
   "outputs": [],
   "source": [
    "name = input('name:')\n",
    "print( 'hello', name)"
   ]
  },
  {
   "cell_type": "code",
   "execution_count": null,
   "metadata": {
    "collapsed": true
   },
   "outputs": [],
   "source": [
    "a = 10\n",
    "if a > 10:\n",
    "    print('big')\n",
    "else:\n",
    "    print('small')"
   ]
  },
  {
   "cell_type": "code",
   "execution_count": null,
   "metadata": {
    "collapsed": true
   },
   "outputs": [],
   "source": [
    "for i in range(10):\n",
    "    print(i)"
   ]
  },
  {
   "cell_type": "code",
   "execution_count": null,
   "metadata": {
    "collapsed": true
   },
   "outputs": [],
   "source": [
    "a = ['pig', 'cat', 'dog']\n",
    "print(a)\n",
    "print(a[0])\n",
    "print(a[-1])"
   ]
  },
  {
   "cell_type": "code",
   "execution_count": null,
   "metadata": {
    "collapsed": true
   },
   "outputs": [],
   "source": [
    "a.append('snake')\n",
    "print(a)\n",
    "\n",
    "a.pop(1)\n",
    "print(a)\n",
    "\n",
    "a.remove('dog')\n",
    "print(a)\n",
    "\n",
    "a = ['pig', 'cat', 'dog', 'snake', 'snake']\n",
    "a.sort()\n",
    "print(a)\n",
    "\n",
    "b = ['cat1', 'cat2', 'cat3']\n",
    "a.append(b)\n",
    "print(a)\n",
    "\n",
    "import pickle\n",
    "f = open('list_dump.txt', 'wb')\n",
    "a = ['pig', 'cat', 'dog', 'snake', 'snake']\n",
    "pickle.dump(a, f)\n",
    "f.close()\n",
    "\n",
    "f = open('list_dump.txt', 'rb')\n",
    "a1 = pickle.load(f)\n",
    "f.close()\n",
    "print(a1)\n",
    "\n",
    "a = ['pig', 'cat', 'dog', 'dog']\n",
    "a1 = [x for x in a if a.count(x) <= 1]\n",
    "print(a1)"
   ]
  }
 ],
 "metadata": {
  "kernelspec": {
   "display_name": "Python 3",
   "language": "python",
   "name": "python3"
  },
  "language_info": {
   "codemirror_mode": {
    "name": "ipython",
    "version": 3
   },
   "file_extension": ".py",
   "mimetype": "text/x-python",
   "name": "python",
   "nbconvert_exporter": "python",
   "pygments_lexer": "ipython3",
   "version": "3.5.1"
  }
 },
 "nbformat": 4,
 "nbformat_minor": 0
}
