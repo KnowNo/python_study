{
 "cells": [
  {
   "cell_type": "markdown",
   "metadata": {},
   "source": [
    "# Lesson 5\n",
    "\n",
    "Python Basic, Lesson 5, v1.0.0, 2016.12 by David.Yi\n",
    "\n",
    "\n",
    "### 上次内容要点\n",
    "\n",
    "* 日期库 datetime 用法介绍，datetime、time 等库的介绍，获得日期，字符串和日期转换，日期格式介绍，日期加减计算\n",
    "* 函数不同参数形式介绍和举例 \n",
    "* 匿名函数 lambda\n",
    "    \n",
    "### 本次内容要点\n",
    "\n",
    "* 文件和目录操作之一：文件和目录操作\n",
    "* 文件和目录操作之二：读写文本文件\n",
    "* 搜索硬盘上指定路径指定类型的文件"
   ]
  },
  {
   "cell_type": "code",
   "execution_count": null,
   "metadata": {
    "collapsed": true
   },
   "outputs": [],
   "source": [
    "# 寻找数字的正因数\n",
    "\n",
    "import time\n",
    "\n",
    "def print_factors(x):\n",
    "   print(\"The factors of\",x,\"are:\")\n",
    "   for i in range(1, x + 1):\n",
    "       if x % i == 0:\n",
    "           print(i)\n",
    "\n",
    "# take input from the user\n",
    "num = int(input(\"Enter a number: \"))\n",
    "\n",
    "t1 = time.time()\n",
    "print_factors(num)\n",
    "t2 = time.time()\n",
    "print(t2-t1)"
   ]
  },
  {
   "cell_type": "code",
   "execution_count": null,
   "metadata": {
    "collapsed": true
   },
   "outputs": [],
   "source": [
    "# 找到最大数 #1\n",
    "\n",
    "def find_max (l):\n",
    "    max = 0\n",
    "    for x in l:\n",
    "        if x > max:\n",
    "            max = x\n",
    "    return max\n",
    "\n",
    "print(find_max([-20,1,6,7,20,5]))"
   ]
  },
  {
   "cell_type": "code",
   "execution_count": null,
   "metadata": {
    "collapsed": true
   },
   "outputs": [],
   "source": [
    "# 找到最大数 #2\n",
    "# 使用递归\n",
    "\n",
    "def find_max (l):\n",
    "    if len(l) == 1:\n",
    "        return l[0]\n",
    "    v1 = l[0]\n",
    "    v2 = find_max(l[1:])\n",
    "    if v1 > v2:\n",
    "        return v1\n",
    "    else:\n",
    "        return v2\n",
    "\n",
    "print(find_max([1,6,7,20,5]))"
   ]
  },
  {
   "cell_type": "markdown",
   "metadata": {},
   "source": [
    "---\n",
    "\n",
    "## 文件和目录操作之一\n",
    "\n",
    "Python 的 os 库：有很多和操作系统相关的功能，还有很多和文件、路径和执行系统命令相关的函数。\n",
    "\n",
    "##### os 库常用函数\n",
    "\n",
    "* os.sep 可以取代操作系统特定的路径分割符\n",
    "* os.name 字符串指示你正在使用的平台。比如对于Windows，它是'nt'，而对于Linux/Unix用户，它是'posix' \n",
    "* os.getcwd() 函数得到当前工作目录，即当前Python脚本工作的目录路径\n",
    "* os.chdir(dirname)  改变工作目录到dirname\n",
    "* os.getenv() 用来读取环境变量\n",
    "* os.putenv() 用来设置环境变量 \n",
    "* os.listdir() 返回指定目录下的所有文件和目录名 \n",
    "* os.remove() 删除一个文件\n",
    "* os.system() 运行shell命令\n",
    "* os.linesep 字符串给出当前平台使用的行终止符。例如，Windows使用'/r/n'，Mac使用'\\n'。\n",
    "* os.mkdir() 建立路径\n",
    "* os.rmdir() 删除路径\n",
    "\n",
    ">注意：我们在 /Users/用户名 路径下建立一个用来测试的文件 test.txt\n",
    "\n",
    ">不同操作系统在路径和文件处理上有一定差异，这里的举例是基于 macOS，在 windows 下面会有较大差异，但是用法是一致的\n",
    "\n",
    "##### 关于文件系统的延展阅读\n",
    "* 文件系统介绍 https://zh.wikipedia.org/wiki/%E6%96%87%E4%BB%B6%E7%B3%BB%E7%BB%9F\n",
    "* windows 文件系统 FAT、FAT32、NTFS 介绍 https://support.microsoft.com/zh-cn/kb/100108\n",
    "* linux 文件系统介绍 http://cn.linux.vbird.org/linux_basic/0230filesystem.php"
   ]
  },
  {
   "cell_type": "code",
   "execution_count": null,
   "metadata": {
    "collapsed": true
   },
   "outputs": [],
   "source": [
    "import os\n",
    "\n",
    "# 操作系统路径分隔符\n",
    "print(os.sep)\n",
    "\n",
    "# 操作系统平台名称\n",
    "print(os.name)"
   ]
  },
  {
   "cell_type": "code",
   "execution_count": null,
   "metadata": {
    "collapsed": true
   },
   "outputs": [],
   "source": [
    "# 获取当前路径\n",
    "os.getcwd()"
   ]
  },
  {
   "cell_type": "code",
   "execution_count": null,
   "metadata": {
    "collapsed": true
   },
   "outputs": [],
   "source": [
    "# 切换路径\n",
    "os.chdir('/Users/yijun')\n",
    "os.getcwd()"
   ]
  },
  {
   "cell_type": "code",
   "execution_count": null,
   "metadata": {
    "collapsed": true
   },
   "outputs": [],
   "source": [
    "# 列出当前目录下所有文件\n",
    "os.listdir()"
   ]
  },
  {
   "cell_type": "code",
   "execution_count": null,
   "metadata": {
    "collapsed": true
   },
   "outputs": [],
   "source": [
    "# 注意返回的数据类型\n",
    "print(type(os.listdir()))"
   ]
  },
  {
   "cell_type": "code",
   "execution_count": null,
   "metadata": {
    "collapsed": true
   },
   "outputs": [],
   "source": [
    "# 计算目录下有多少文件\n",
    "a = os.listdir()\n",
    "print(len(a))"
   ]
  },
  {
   "cell_type": "code",
   "execution_count": null,
   "metadata": {
    "collapsed": true
   },
   "outputs": [],
   "source": [
    "# 可以指定路径参数，来列出该目录下所有文件\n",
    "l = os.listdir('/Users/yijun')\n",
    "\n",
    "# 可以判断各类情况，比如第一个是大写的 P 字母\n",
    "for i in l:\n",
    "    if i[0:1] == 'P':\n",
    "        print(i)"
   ]
  },
  {
   "cell_type": "code",
   "execution_count": null,
   "metadata": {
    "collapsed": true
   },
   "outputs": [],
   "source": [
    "# 操作系统换行符\n",
    "# 在一些文本文件处理中有用\n",
    "\n",
    "os.linesep"
   ]
  },
  {
   "cell_type": "code",
   "execution_count": null,
   "metadata": {
    "collapsed": true
   },
   "outputs": [],
   "source": [
    "# 建立路径\n",
    "\n",
    "os.chdir('/Users/yijun')\n",
    "os.mkdir('test')"
   ]
  },
  {
   "cell_type": "markdown",
   "metadata": {},
   "source": [
    "---\n",
    "\n",
    "##### os.path 常用函数之一\n",
    "\n",
    "* os.path.isdir() 检查给出的路径是否是一个目录\n",
    "* os.path.isfile() 检查给出的路径是否一个文件\n",
    "* os.path.exists() 检查给出的路径或者文件是否存在\n",
    "* os.path.getsize() 获得路径或者文件的大小\n",
    "* os.path.getatime() 返回所指向的文件或者目录的最后存取时间\n",
    "* os.path.getmtime() 返回所指向的文件或者目录的最后修改时间 "
   ]
  },
  {
   "cell_type": "code",
   "execution_count": null,
   "metadata": {
    "collapsed": true
   },
   "outputs": [],
   "source": [
    "# 检查给出的路径是否是一个目录，存在\n",
    "os.path.isdir('/Users/yijun')"
   ]
  },
  {
   "cell_type": "code",
   "execution_count": null,
   "metadata": {
    "collapsed": true
   },
   "outputs": [],
   "source": [
    "# 检查给出的路径是否是一个目录，不存在\n",
    "os.path.isdir('/Users/yijunn')"
   ]
  },
  {
   "cell_type": "code",
   "execution_count": null,
   "metadata": {
    "collapsed": true
   },
   "outputs": [],
   "source": [
    "# 文件不是路径，所以返回 False\n",
    "os.path.isdir('/Users/yijun/test.txt')"
   ]
  },
  {
   "cell_type": "code",
   "execution_count": null,
   "metadata": {
    "collapsed": true
   },
   "outputs": [],
   "source": [
    "# 检查给出的路径是否一个文件，存在\n",
    "os.path.isfile('/Users/yijun/test1.txt')"
   ]
  },
  {
   "cell_type": "code",
   "execution_count": null,
   "metadata": {
    "collapsed": true
   },
   "outputs": [],
   "source": [
    "# 检查给出的路径是否一个文件，不存在\n",
    "os.path.isfile('/Users/yijun/test.txt')"
   ]
  },
  {
   "cell_type": "code",
   "execution_count": null,
   "metadata": {
    "collapsed": true
   },
   "outputs": [],
   "source": [
    "# 路径不是文件，所以返回 False\n",
    "os.path.isfile('/Users/yijun')"
   ]
  },
  {
   "cell_type": "code",
   "execution_count": null,
   "metadata": {
    "collapsed": true
   },
   "outputs": [],
   "source": [
    "# 对路径和文件都通用的检查方式\n",
    "print(os.path.exists('/Users/yijun'))\n",
    "print(os.path.exists('/Users/yijun/test.txt'))"
   ]
  },
  {
   "cell_type": "code",
   "execution_count": null,
   "metadata": {
    "collapsed": true
   },
   "outputs": [],
   "source": [
    "# 获得路径或者文件的大小\n",
    "\n",
    "os.path.getsize('/Users/yijun/test.txt')"
   ]
  },
  {
   "cell_type": "code",
   "execution_count": null,
   "metadata": {
    "collapsed": true
   },
   "outputs": [],
   "source": [
    "# 获得路径或者文件的大小\n",
    "\n",
    "os.path.getsize('/Users/yijun')"
   ]
  },
  {
   "cell_type": "code",
   "execution_count": null,
   "metadata": {
    "collapsed": true
   },
   "outputs": [],
   "source": [
    "# 返回所指向的文件或者目录的最后存取时间\n",
    "\n",
    "os.path.getatime('/Users/yijun/test.txt')"
   ]
  },
  {
   "cell_type": "code",
   "execution_count": null,
   "metadata": {
    "collapsed": true
   },
   "outputs": [],
   "source": [
    "# 返回所指向的文件或者目录的最后存取时间\n",
    "import os\n",
    "import time\n",
    "\n",
    "# 将日期格式化\n",
    "dt = time.localtime(os.path.getatime('/Users/yijun'))\n",
    "# print(dt)\n",
    "print(time.strftime('%Y-%m-%d %H:%M:%S', dt))"
   ]
  },
  {
   "cell_type": "code",
   "execution_count": null,
   "metadata": {
    "collapsed": true
   },
   "outputs": [],
   "source": [
    "# 返回所指向的文件或者目录的最后修改时间\n",
    "\n",
    "os.path.getmtime('/Users/yijun/test.txt') "
   ]
  },
  {
   "cell_type": "code",
   "execution_count": null,
   "metadata": {
    "collapsed": true
   },
   "outputs": [],
   "source": [
    "# 返回所指向的文件或者目录的最后修改时间\n",
    "# 使用 time.ctime() 方法来格式化日期\n",
    "\n",
    "import time, os\n",
    "\n",
    "time.ctime(os.path.getmtime('/Users/yijun/test.txt') )"
   ]
  },
  {
   "cell_type": "markdown",
   "metadata": {},
   "source": [
    "---\n",
    "\n",
    "##### os.path 常用函数之二\n",
    "\n",
    "* os.path.split() 返回一个路径的目录名和文件名\n",
    "* os.path.abspath() 返回规范化的绝对路径\n",
    "* os.path.isabs() 如果输入是绝对路径，返回True\n",
    "* os.path.split() 将路径分割成目录和文件名的二元素元组\n",
    "* os.path.splitdrive() 返回（drivername，fpath）元组 \n",
    "* os.path.dirname() 返回路径的目录，其实就是 os.path.split(path)的第一个元素\n",
    "* os.path.basename() 返回路径最后的文件名，其实就是 os.path.split(path)的第二个元素\n",
    "* os.path.splitext() 分离文件名与扩展名，返回(fname,fextension)元组 \n",
    "* os.path.join() 将多个路径组合后返回，第一个绝对路径之前的参数将被忽略\n",
    "* os.path.commonprefix(list) 返回list中，所有路径共有的最长的路径"
   ]
  },
  {
   "cell_type": "code",
   "execution_count": null,
   "metadata": {
    "collapsed": true
   },
   "outputs": [],
   "source": [
    "# 返回一个路径的目录名和文件名\n",
    "\n",
    "os.path.split('/Users/yijun/test.txt')"
   ]
  },
  {
   "cell_type": "code",
   "execution_count": null,
   "metadata": {
    "collapsed": true
   },
   "outputs": [],
   "source": [
    "# 返回规范化的绝对路径\n",
    "# 会自动补齐完整路径\n",
    "\n",
    "os.path.abspath('tt12.txt') "
   ]
  },
  {
   "cell_type": "code",
   "execution_count": null,
   "metadata": {
    "collapsed": true
   },
   "outputs": [],
   "source": [
    "# 如果输入是绝对路径，返回True\n",
    "\n",
    "print(os.path.isabs('test.txt'))\n",
    "print(os.path.isabs('/Users/yijun/test.txt'))"
   ]
  },
  {
   "cell_type": "code",
   "execution_count": null,
   "metadata": {
    "collapsed": true
   },
   "outputs": [],
   "source": [
    "# 将路径分割成目录和文件名的二元素元组\n",
    "\n",
    "s = os.path.split('/Users/yijun/test.txt')\n",
    "print(s)\n",
    "print(type(s))"
   ]
  },
  {
   "cell_type": "code",
   "execution_count": null,
   "metadata": {
    "collapsed": true
   },
   "outputs": [],
   "source": [
    "# 返回（drivername，fpath）元组 \n",
    "\n",
    "# mac 下 drivername 返回为空\n",
    "os.path.splitdrive('/Users/yijun/test.txt') "
   ]
  },
  {
   "cell_type": "code",
   "execution_count": null,
   "metadata": {
    "collapsed": true
   },
   "outputs": [],
   "source": [
    "# 返回路径的目录，其实就是 os.path.split(path)的第一个元素\n",
    "\n",
    "os.path.dirname('/Users/yijun/test.txt')"
   ]
  },
  {
   "cell_type": "code",
   "execution_count": null,
   "metadata": {
    "collapsed": true
   },
   "outputs": [],
   "source": [
    "# 返回路径最后的文件名，其实就是 os.path.split(path)的第二个元素\n",
    "\n",
    "os.path.basename('/Users/yijun/test.txt')"
   ]
  },
  {
   "cell_type": "code",
   "execution_count": null,
   "metadata": {
    "collapsed": true
   },
   "outputs": [],
   "source": [
    "# 分离文件名与扩展名，返回(fname,fextension)元组 \n",
    "\n",
    "os.path.splitext('/Users/yijun/test.txt')"
   ]
  },
  {
   "cell_type": "code",
   "execution_count": null,
   "metadata": {
    "collapsed": true
   },
   "outputs": [],
   "source": [
    "# 将多个路径组合后返回，第一个绝对路径之前的参数将被忽略\n",
    "\n",
    "os.path.join('/Users/yijun', 'test.txt')"
   ]
  },
  {
   "cell_type": "code",
   "execution_count": null,
   "metadata": {
    "collapsed": true
   },
   "outputs": [],
   "source": [
    "# 返回list中，所有路径共有的最长的路径\n",
    "\n",
    "l = ['/Users/yijun/test.txt', '/Users/yijun/test/aaa.txt', '/Users/yijun/bbb.txt']\n",
    "os.path.commonprefix(l)"
   ]
  },
  {
   "cell_type": "code",
   "execution_count": null,
   "metadata": {
    "collapsed": true
   },
   "outputs": [],
   "source": [
    "# 遍历一个目录下的所有文件\n",
    "\n",
    "import os \n",
    "\n",
    "def list_dir(root_dir): \n",
    "    for lists in os.listdir(root_dir): \n",
    "        path = os.path.join(root_dir, lists) \n",
    "        print(path)\n",
    "        if os.path.isdir(path): \n",
    "            list_dir(path) \n",
    "\n",
    "# 注意不要挑选目录下过多文件的，否则会耗费电脑资源\n",
    "list_dir('/Users/yijun/Documents/dev_python/dig/doc')"
   ]
  },
  {
   "cell_type": "code",
   "execution_count": null,
   "metadata": {
    "collapsed": true
   },
   "outputs": [],
   "source": [
    "# 遍历一个目录下的所有文件\n",
    "# 显示文件的字节数，用 getsize() \n",
    "\n",
    "import os \n",
    "\n",
    "def list_dir(root_dir): \n",
    "    for lists in os.listdir(root_dir): \n",
    "        path = os.path.join(root_dir, lists) \n",
    "        if lists[0:1] != '.':\n",
    "            filesize = os.path.getsize(path)\n",
    "            print(path, ' ', filesize)\n",
    "            if os.path.isdir(path): \n",
    "                list_dir(path) \n",
    "\n",
    "# 注意不要挑选目录下过多文件的，否则会耗费电脑资源\n",
    "list_dir('/Users/yijun/Documents/dev_python/dig/doc')"
   ]
  },
  {
   "cell_type": "code",
   "execution_count": null,
   "metadata": {
    "collapsed": true
   },
   "outputs": [],
   "source": [
    "# 遍历一个目录下的所有文件\n",
    "# 过滤 . 开头的文件，一般是系统文件\n",
    "# 显示文件的字节数\n",
    "# 显示 .py 后缀的文件，引入 endswith 用法\n",
    "\n",
    "import os \n",
    "\n",
    "def list_dir(root_dir): \n",
    "    for lists in os.listdir(root_dir): \n",
    "        path = os.path.join(root_dir, lists) \n",
    "        if lists[0:1] != '.' and lists.endswith('.py'):\n",
    "            filesize = os.path.getsize(path)\n",
    "            print(path, ' ', filesize)\n",
    "            if os.path.isdir(path): \n",
    "                list_dir(path) \n",
    "\n",
    "# 注意不要挑选目录下过多文件的，否则会耗费电脑资源\n",
    "\n",
    "list_dir('/Users/yijun/Documents/dev_python/dig')"
   ]
  },
  {
   "cell_type": "code",
   "execution_count": null,
   "metadata": {
    "collapsed": true
   },
   "outputs": [],
   "source": [
    "# 写一个可以搜索硬盘上指定路径指定类型的文件\n",
    "\n",
    "import fnmatch\n",
    "import os\n",
    "\n",
    "images = ['*.jpg', '*.jpeg', '*.png', '*.tif', '*.tiff']\n",
    "matches = []\n",
    "\n",
    "for root, dirnames, filenames in os.walk('/Users/yijun/Documents/dev_python/machinelearninginaction/'):\n",
    "    for extensions in images:\n",
    "        for filename in fnmatch.filter(filenames, extensions):\n",
    "            matches.append(os.path.join(root, filename))\n",
    "\n",
    "print(matches)"
   ]
  }
 ],
 "metadata": {
  "kernelspec": {
   "display_name": "Python 3",
   "language": "python",
   "name": "python3"
  },
  "language_info": {
   "codemirror_mode": {
    "name": "ipython",
    "version": 3
   },
   "file_extension": ".py",
   "mimetype": "text/x-python",
   "name": "python",
   "nbconvert_exporter": "python",
   "pygments_lexer": "ipython3",
   "version": "3.4.5"
  }
 },
 "nbformat": 4,
 "nbformat_minor": 0
}
