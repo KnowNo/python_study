{
 "cells": [
  {
   "cell_type": "markdown",
   "metadata": {},
   "source": [
    "# Lesson 2\n",
    "\n",
    "Python Basic, Lesson 2, v1.0.0, 2016.12 by David.Yi\n",
    "\n",
    "\n",
    "### 上次内容要点\n",
    "\n",
    "1.\tpython 简介\n",
    "2.  准备工作\n",
    "    * 使用标准的 python 和 IDLE\n",
    "    * anaconda 介绍\n",
    "    * jupyter 和 notebook介绍\n",
    "2.\t基本变量概念\n",
    "3.\tprint() 和 input() 用法\n",
    "4.\tpython 开发环境介绍\n",
    "    * pycharm 用法介绍\n",
    "    \n",
    "### 本次内容要点\n",
    "\n",
    "* 循环语句 for 和 range() 用法\n",
    "* 常用数据类型 \n",
    "    * list 用法\n",
    "    * dict 用法\n",
    "    * tuple 用法\n",
    "* 随机数介绍"
   ]
  },
  {
   "cell_type": "markdown",
   "metadata": {},
   "source": [
    "#### 循环语句 for...in\n",
    "\n",
    "Python的循环主要是for...in循环，依次把list或tuple等中的每个元素迭代出来；python 也有 while 循环，一般不常用。\n",
    "\n",
    "可以理解为，`for x in ...` 循环就是把每个元素代入变量x，然后执行缩进块的语句。\n",
    "\n",
    "如果是简单的按照次数的循环，一般用 range() 函数来产生一个可以生成迭代数字的序列"
   ]
  },
  {
   "cell_type": "code",
   "execution_count": 1,
   "metadata": {
    "collapsed": false
   },
   "outputs": [
    {
     "name": "stdout",
     "output_type": "stream",
     "text": [
      "a\n",
      "b\n",
      "c\n",
      "d\n",
      "e\n",
      "f\n"
     ]
    }
   ],
   "source": [
    "# 按照字符串进行迭代循环\n",
    "s = 'abcdef'\n",
    "for i in s:\n",
    "    print(i)"
   ]
  },
  {
   "cell_type": "code",
   "execution_count": 2,
   "metadata": {
    "collapsed": false
   },
   "outputs": [
    {
     "name": "stdout",
     "output_type": "stream",
     "text": [
      "a\n",
      "b\n",
      "c\n"
     ]
    }
   ],
   "source": [
    "s = ['a', 'b', 'c']\n",
    "for i in s:\n",
    "    print(i)"
   ]
  },
  {
   "cell_type": "code",
   "execution_count": 3,
   "metadata": {
    "collapsed": false
   },
   "outputs": [
    {
     "name": "stdout",
     "output_type": "stream",
     "text": [
      "0\n",
      "1\n",
      "2\n"
     ]
    }
   ],
   "source": [
    "for i in range(3):\n",
    "    print(i)"
   ]
  },
  {
   "cell_type": "markdown",
   "metadata": {},
   "source": [
    "---\n",
    "##### range() 函数\n",
    "\n",
    "range() 函数产生一个等差序列，range(x,y,z)，表示从 x 到 y（不含 y），z 为步长，可以为负。\n",
    "\n",
    "修改下面例子中的 range() 中的起始、结束和步长，来看看各种效果。"
   ]
  },
  {
   "cell_type": "code",
   "execution_count": 7,
   "metadata": {
    "collapsed": false
   },
   "outputs": [
    {
     "name": "stdout",
     "output_type": "stream",
     "text": [
      "1\n",
      "3\n"
     ]
    }
   ],
   "source": [
    "for i in range(1,5,2):\n",
    "    print(i)"
   ]
  },
  {
   "cell_type": "code",
   "execution_count": 8,
   "metadata": {
    "collapsed": false,
    "scrolled": true
   },
   "outputs": [
    {
     "name": "stdout",
     "output_type": "stream",
     "text": [
      "10\n",
      "7\n",
      "4\n"
     ]
    }
   ],
   "source": [
    "for i in range(10,2,-3):\n",
    "    print(i)"
   ]
  },
  {
   "cell_type": "code",
   "execution_count": 11,
   "metadata": {
    "collapsed": false,
    "scrolled": true
   },
   "outputs": [
    {
     "name": "stdout",
     "output_type": "stream",
     "text": [
      "0 Mary \n",
      "1 had\n",
      "2 a\n",
      "3 little \n",
      "4 lamb\n"
     ]
    }
   ],
   "source": [
    "# 同时获得列表中的序号和内容，可以这样写\n",
    "# len() 是获得列表的长度，可以理解元素个数\n",
    "\n",
    "s = ['Mary ', 'had', 'a', 'little ', 'lamb']\n",
    "for i in range(len(s)):\n",
    "    print(i, s[i])"
   ]
  },
  {
   "cell_type": "code",
   "execution_count": 15,
   "metadata": {
    "collapsed": false
   },
   "outputs": [
    {
     "name": "stdout",
     "output_type": "stream",
     "text": [
      "0 Mary \n",
      "1 had\n",
      "2 a\n",
      "3 little \n",
      "4 lamb\n"
     ]
    }
   ],
   "source": [
    "# 更加好的写法, 使用 enumerate\n",
    "\n",
    "s = ['Mary ', 'had', 'a', 'little ', 'lamb']\n",
    "for i, item in enumerate(s):\n",
    "    print(i, item)"
   ]
  },
  {
   "cell_type": "markdown",
   "metadata": {
    "collapsed": true
   },
   "source": [
    "---\n",
    "\n",
    "####  列表\n",
    "\n",
    "列表 list 是 python 内置的一种数据类型。list是一种有序的集合，可以随时添加和删除其中的元素。\n",
    "列表在一般的 python 程序中是最常用的数据类型。\n",
    "\n",
    "列表的基本概念：\n",
    "* 创建列表\n",
    "* 访问列表中的元素\n",
    "* 增加元素\n",
    "* 删除元素\n",
    "* 排序\n",
    "* 多维\n",
    "* 保存和载入\n",
    "\n",
    "list 中除了保存一般的数字、字符以外，可以存储 python 中各种复杂的数据类型，包括 list 本身、对象等。"
   ]
  },
  {
   "cell_type": "code",
   "execution_count": 16,
   "metadata": {
    "collapsed": false
   },
   "outputs": [
    {
     "name": "stdout",
     "output_type": "stream",
     "text": [
      "['pig', 'cat', 'dog']\n",
      "pig\n",
      "dog\n"
     ]
    }
   ],
   "source": [
    "# 直接创建列表\n",
    "\n",
    "a = ['pig', 'cat', 'dog']\n",
    "\n",
    "print(a)\n",
    "\n",
    "# 用序号访问列表中的元素，支持双向\n",
    "print(a[0])\n",
    "print(a[-1])"
   ]
  },
  {
   "cell_type": "code",
   "execution_count": 17,
   "metadata": {
    "collapsed": false
   },
   "outputs": [
    {
     "name": "stdout",
     "output_type": "stream",
     "text": [
      "['bird']\n"
     ]
    }
   ],
   "source": [
    "# 列表初始化\n",
    "a = []\n",
    "\n",
    "# 列表追加元素\n",
    "a.append('bird')\n",
    "a.append('snake')\n",
    "print(a)"
   ]
  },
  {
   "cell_type": "code",
   "execution_count": 19,
   "metadata": {
    "collapsed": false
   },
   "outputs": [
    {
     "name": "stdout",
     "output_type": "stream",
     "text": [
      "['bird']\n"
     ]
    }
   ],
   "source": [
    "# 列表删除指定序号的元素\n",
    "\n",
    "a.pop(1)\n",
    "print(a)"
   ]
  },
  {
   "cell_type": "code",
   "execution_count": 20,
   "metadata": {
    "collapsed": false
   },
   "outputs": [
    {
     "name": "stdout",
     "output_type": "stream",
     "text": [
      "['pig', 'cat']\n"
     ]
    }
   ],
   "source": [
    "# 列表删除指定内容的元素\n",
    "\n",
    "a = ['pig', 'cat', 'dog']\n",
    "a.remove('dog')\n",
    "print(a)"
   ]
  },
  {
   "cell_type": "code",
   "execution_count": 21,
   "metadata": {
    "collapsed": false
   },
   "outputs": [
    {
     "name": "stdout",
     "output_type": "stream",
     "text": [
      "['cat', 'dog', 'pig', 'snake']\n"
     ]
    }
   ],
   "source": [
    "# 列表排序\n",
    "\n",
    "a = ['pig', 'cat', 'dog', 'snake']\n",
    "a.sort()\n",
    "print(a)"
   ]
  },
  {
   "cell_type": "code",
   "execution_count": 22,
   "metadata": {
    "collapsed": false
   },
   "outputs": [
    {
     "name": "stdout",
     "output_type": "stream",
     "text": [
      "['cat', 'dog', 'pig', 'snake', ['cat1', 'cat2', 'cat3']]\n"
     ]
    }
   ],
   "source": [
    "# 列表追加另一个列表\n",
    "# 使用 append 一个列表的话，这个列表会以一个元素的方式追加到原来列表\n",
    "\n",
    "b = ['cat1', 'cat2', 'cat3']\n",
    "a.append(b)\n",
    "print(a)"
   ]
  },
  {
   "cell_type": "code",
   "execution_count": 23,
   "metadata": {
    "collapsed": false
   },
   "outputs": [
    {
     "name": "stdout",
     "output_type": "stream",
     "text": [
      "['pig', 'cat', 'dog', 'snake', 'cat1', 'cat2', 'cat3']\n"
     ]
    }
   ],
   "source": [
    "# 列表追加另一个列表的元素\n",
    "\n",
    "a = ['pig', 'cat', 'dog', 'snake']\n",
    "b = ['cat1', 'cat2', 'cat3']\n",
    "a.extend(b)\n",
    "print(a)"
   ]
  },
  {
   "cell_type": "code",
   "execution_count": 24,
   "metadata": {
    "collapsed": true
   },
   "outputs": [],
   "source": [
    "# 列表内容保存\n",
    "\n",
    "# 使用 pickle 模块\n",
    "import pickle\n",
    "\n",
    "f = open('list_dump.txt', 'wb')\n",
    "a = ['pig', 'cat', 'dog', 'snake', 'snake']\n",
    "pickle.dump(a, f)\n",
    "f.close()"
   ]
  },
  {
   "cell_type": "code",
   "execution_count": 25,
   "metadata": {
    "collapsed": false
   },
   "outputs": [
    {
     "name": "stdout",
     "output_type": "stream",
     "text": [
      "['pig', 'cat', 'dog', 'snake', 'snake']\n"
     ]
    }
   ],
   "source": [
    "# 列表内容读出\n",
    "\n",
    "f = open('list_dump.txt', 'rb')\n",
    "a1 = pickle.load(f)\n",
    "f.close()\n",
    "print(a1)"
   ]
  },
  {
   "cell_type": "markdown",
   "metadata": {},
   "source": [
    "---\n",
    "\n",
    "#### pickle 序列化\n",
    "\n",
    "Python中可以使用 pickle 模块将对象转化为文件保存在磁盘上，在需要的时候再读取并还原。具体用法如下：\n",
    "\n",
    "```pickle.dump(obj, file[, protocol])```\n",
    "\n",
    "pickle 的格式和 python 版本等有关，不同版本之间不兼容。比较好的序列化方式是用 json 格式。\n"
   ]
  },
  {
   "cell_type": "code",
   "execution_count": 3,
   "metadata": {
    "collapsed": false
   },
   "outputs": [
    {
     "name": "stdout",
     "output_type": "stream",
     "text": [
      "[['pig', 'cat', 'dog'], [1, 2, 3]]\n",
      "cat\n",
      "3\n"
     ]
    }
   ],
   "source": [
    "# 两维列表\n",
    "\n",
    "a = ['pig', 'cat', 'dog']\n",
    "b = [1,2,3]\n",
    "c = []\n",
    "\n",
    "c.append(a)\n",
    "c.append(b)\n",
    "\n",
    "print(c)\n",
    "# 第0个元素的第1个元素\n",
    "print(c[0][1])\n",
    "\n",
    "# 第1个元素的第2个元素\n",
    "print(c[1][2])"
   ]
  },
  {
   "cell_type": "code",
   "execution_count": 26,
   "metadata": {
    "collapsed": false
   },
   "outputs": [
    {
     "name": "stdout",
     "output_type": "stream",
     "text": [
      "['pig', 'cat']\n"
     ]
    }
   ],
   "source": [
    "# 列表生成式 初步\n",
    "# 过滤列表中的重复元素\n",
    "\n",
    "a = ['pig', 'cat', 'dog', 'dog']\n",
    "a1 = [x for x in a if a.count(x) <= 1]\n",
    "print(a1)"
   ]
  },
  {
   "cell_type": "markdown",
   "metadata": {
    "collapsed": true
   },
   "source": [
    "---\n",
    "\n",
    "####  字典\n",
    "\n",
    "字典是另一种可变容器模型，可存储任意类型对象。\n",
    "\n",
    "字典的每个键值(key=>value)对用冒号(:)分割，每个对之间用逗号(,)分割，整个字典包括在花括号({})中，格式如 `d = {key1 : value1, key2 : value2 }`\n",
    "\n",
    "字典中的 key 值不可以重复（定义后也没有办法重复）\n",
    "\n",
    "* 创建字典\n",
    "* 访问字典中的 key-value\n",
    "* 修改字典中的 key-value\n",
    "* 获得字典中指定 key 的 value\n",
    "* 删除字典中的 key"
   ]
  },
  {
   "cell_type": "code",
   "execution_count": 29,
   "metadata": {
    "collapsed": false
   },
   "outputs": [
    {
     "name": "stdout",
     "output_type": "stream",
     "text": [
      "{'Tracy': 92, 'Jerry': 90, 'Tom': 95}\n",
      "95\n"
     ]
    }
   ],
   "source": [
    "# 定义字典\n",
    "# 访问字典中的 key-value\n",
    "\n",
    "d = {'Tom': 95, 'Jerry': 90, 'Tracy': 92}\n",
    "print(d)\n",
    "print(d['Tom'])"
   ]
  },
  {
   "cell_type": "code",
   "execution_count": 30,
   "metadata": {
    "collapsed": false
   },
   "outputs": [
    {
     "name": "stdout",
     "output_type": "stream",
     "text": [
      "{'Tracy': 92, 'Hugo': 85, 'Jerry': 90, 'Tom': 95}\n"
     ]
    }
   ],
   "source": [
    "# 字典增加元素\n",
    "\n",
    "d['Hugo'] = 85\n",
    "print(d)"
   ]
  },
  {
   "cell_type": "code",
   "execution_count": 35,
   "metadata": {
    "collapsed": false
   },
   "outputs": [
    {
     "name": "stdout",
     "output_type": "stream",
     "text": [
      "{'Tracy': 92, 'Jerry': 90, 'Tom': 97}\n",
      "True\n",
      "97\n",
      "80\n"
     ]
    }
   ],
   "source": [
    "# 修改元素的值\n",
    "d['Tom'] = 97\n",
    "print(d)\n",
    "\n",
    "# 是否存在某个 key\n",
    "print('Tom' in d)\n",
    "\n",
    "# 获得字典 key 的 value\n",
    "print(d.get('Tom'))\n",
    "\n",
    "# 获得不存在的 key 的 value，默认值\n",
    "print(d.get('Tommy',80))"
   ]
  },
  {
   "cell_type": "code",
   "execution_count": 32,
   "metadata": {
    "collapsed": false
   },
   "outputs": [
    {
     "name": "stdout",
     "output_type": "stream",
     "text": [
      "{'Tracy': 92, 'Jerry': 90, 'Tom': 95}\n",
      "{'Tracy': 92, 'Jerry': 90}\n"
     ]
    }
   ],
   "source": [
    "# 字典删除 key\n",
    "\n",
    "d = {'Tom': 95, 'Jerry': 90, 'Tracy': 92}\n",
    "print(d)\n",
    "d.pop('Tom')\n",
    "print(d)"
   ]
  },
  {
   "cell_type": "code",
   "execution_count": 34,
   "metadata": {
    "collapsed": false
   },
   "outputs": [
    {
     "name": "stdout",
     "output_type": "stream",
     "text": [
      "{'id_17': 51, 'id_14': 42, 'id_6': 18, 'id_4': 12, 'id_15': 45, 'id_11': 33, 'id_13': 39, 'id_26': 78, 'id_10': 30, 'id_12': 36, 'id_8': 24, 'id_19': 57, 'id_18': 54, 'id_7': 21, 'id_1': 3, 'id_5': 15, 'id_20': 60, 'id_28': 84, 'id_0': 0, 'id_27': 81, 'id_3': 9, 'id_9': 27, 'id_16': 48, 'id_22': 66, 'id_23': 69, 'id_29': 87, 'id_25': 75, 'id_24': 72, 'id_2': 6, 'id_21': 63}\n",
      "30\n"
     ]
    }
   ],
   "source": [
    "# 获得字典长度\n",
    "\n",
    "d1 = {}\n",
    "for i in range(30):\n",
    "    d1['id_'+str(i)] = i*3\n",
    "print(d1)\n",
    "\n",
    "print(len(d1))"
   ]
  },
  {
   "cell_type": "markdown",
   "metadata": {
    "collapsed": true
   },
   "source": [
    "---\n",
    "\n",
    "#### Tuple 元组\n",
    "\n",
    "Tuple 也是一种有序列表，在存储数据方面和 List 很相似\n",
    "Tuple 一旦内容存储后，就不能修改；这样的好处是数据很安全\n",
    "\n",
    "应用范围：在我们需要使用 list 功能的时候，但是又不需要改变这个 list 的内容，用 Tuple 元组功能会很安全，不用担心程序中不小心修改了其内容。函数传递多个参数时候，就是采用 tuple，保证参数在被调用的过程中的安全。\n",
    "\n"
   ]
  },
  {
   "cell_type": "code",
   "execution_count": 5,
   "metadata": {
    "collapsed": false
   },
   "outputs": [
    {
     "name": "stdout",
     "output_type": "stream",
     "text": [
      "('Tom', 'Jerry', 'Mary')\n"
     ]
    }
   ],
   "source": [
    "# 创建元组\n",
    "\n",
    "t = ('Tom', 'Jerry', 'Mary')\n",
    "print(t)"
   ]
  },
  {
   "cell_type": "code",
   "execution_count": 11,
   "metadata": {
    "collapsed": false
   },
   "outputs": [
    {
     "name": "stdout",
     "output_type": "stream",
     "text": [
      "Jerry\n"
     ]
    }
   ],
   "source": [
    "# 访问元组的元素\n",
    "\n",
    "print(t[1])"
   ]
  },
  {
   "cell_type": "code",
   "execution_count": 7,
   "metadata": {
    "collapsed": false
   },
   "outputs": [
    {
     "ename": "AttributeError",
     "evalue": "'tuple' object has no attribute 'append'",
     "output_type": "error",
     "traceback": [
      "\u001b[0;31m---------------------------------------------------------------------------\u001b[0m",
      "\u001b[0;31mAttributeError\u001b[0m                            Traceback (most recent call last)",
      "\u001b[0;32m<ipython-input-7-98c1182e5bbc>\u001b[0m in \u001b[0;36m<module>\u001b[0;34m()\u001b[0m\n\u001b[1;32m      1\u001b[0m \u001b[0;34m\u001b[0m\u001b[0m\n\u001b[0;32m----> 2\u001b[0;31m \u001b[0mt\u001b[0m\u001b[0;34m.\u001b[0m\u001b[0mappend\u001b[0m\u001b[0;34m(\u001b[0m\u001b[0;34m'Someone'\u001b[0m\u001b[0;34m)\u001b[0m\u001b[0;34m\u001b[0m\u001b[0m\n\u001b[0m",
      "\u001b[0;31mAttributeError\u001b[0m: 'tuple' object has no attribute 'append'"
     ]
    }
   ],
   "source": [
    "# 元组创建后是不能修改的\n",
    "\n",
    "t.append('Someone')"
   ]
  },
  {
   "cell_type": "code",
   "execution_count": 8,
   "metadata": {
    "collapsed": false
   },
   "outputs": [
    {
     "name": "stdout",
     "output_type": "stream",
     "text": [
      "(['A', 'B', 'C'], 100, 200)\n"
     ]
    }
   ],
   "source": [
    "# 创建复杂一点的元组\n",
    "\n",
    "l  = ['A', 'B', 'C']\n",
    "t =(l, 100, 200)\n",
    "print(t)"
   ]
  },
  {
   "cell_type": "code",
   "execution_count": 9,
   "metadata": {
    "collapsed": false
   },
   "outputs": [
    {
     "name": "stdout",
     "output_type": "stream",
     "text": [
      "['A', 'B', 'C', 'D']\n",
      "(['A', 'B', 'C', 'D'], 100, 200)\n"
     ]
    }
   ],
   "source": [
    "# 变通的实现可变元组内容\n",
    "\n",
    "l.append('D')\n",
    "print(l)\n",
    "print(t)"
   ]
  },
  {
   "cell_type": "code",
   "execution_count": 10,
   "metadata": {
    "collapsed": false
   },
   "outputs": [
    {
     "name": "stdout",
     "output_type": "stream",
     "text": [
      "Jerry\n"
     ]
    }
   ],
   "source": []
  },
  {
   "cell_type": "markdown",
   "metadata": {},
   "source": [
    "随机数\n",
    "\n",
    "随机数这一概念在不同领域有着不同的含义，在密码学、通信领域有着非常重要的用途。\n",
    "\n",
    "Python 的随机数模块是 random\n",
    "\n",
    "* 随机挑选 random.choice()，random.sample() \n",
    "* 随机生成 random.random()， random.uniform()， random.randint()\n",
    "* 随机排列 random.shuffle()\n"
   ]
  },
  {
   "cell_type": "code",
   "execution_count": 13,
   "metadata": {
    "collapsed": false
   },
   "outputs": [
    {
     "name": "stdout",
     "output_type": "stream",
     "text": [
      "42\n"
     ]
    }
   ],
   "source": [
    "import random\n",
    "\n",
    "# random.choice从序列中获取一个随机元素。\n",
    "# 其函数原型为：random.choice(sequence)。参数sequence表示一个有序类型。\n",
    "\n",
    "print(random.choice(range(1,100)))"
   ]
  },
  {
   "cell_type": "code",
   "execution_count": 16,
   "metadata": {
    "collapsed": false
   },
   "outputs": [
    {
     "name": "stdout",
     "output_type": "stream",
     "text": [
      "b\n"
     ]
    }
   ],
   "source": [
    "# 从一个列表中产生随机元素\n",
    "\n",
    "a = ['a', 'b', 'c']\n",
    "print(random.choice(a))"
   ]
  },
  {
   "cell_type": "code",
   "execution_count": 2,
   "metadata": {
    "collapsed": false
   },
   "outputs": [
    {
     "name": "stdout",
     "output_type": "stream",
     "text": [
      "[35, 98, 29, 20, 31, 73, 22, 50, 91, 77]\n"
     ]
    }
   ],
   "source": [
    "# 创建指定范围内指定个数的整数随机数\n",
    "print(random.sample(range(1,100), 10))"
   ]
  },
  {
   "cell_type": "code",
   "execution_count": 3,
   "metadata": {
    "collapsed": false
   },
   "outputs": [
    {
     "name": "stdout",
     "output_type": "stream",
     "text": [
      "16\n"
     ]
    }
   ],
   "source": [
    "# random.randint(a, b)，用于生成一个指定范围内的整数。\n",
    "# 其中参数a是下限，参数b是上限，生成的随机数n: a <= n <= b\n",
    "\n",
    "print(random.randint(1,100))"
   ]
  },
  {
   "cell_type": "code",
   "execution_count": 14,
   "metadata": {
    "collapsed": false
   },
   "outputs": [
    {
     "name": "stdout",
     "output_type": "stream",
     "text": [
      "3\n"
     ]
    }
   ],
   "source": [
    "# random.randrange的函数原型为：random.randrange([start], stop[, step])，\n",
    "# 从指定范围内，按指定基数递增的集合中 获取一个随机数。\n",
    "\n",
    "print(random.randrange(1,10))"
   ]
  },
  {
   "cell_type": "code",
   "execution_count": 4,
   "metadata": {
    "collapsed": false
   },
   "outputs": [
    {
     "name": "stdout",
     "output_type": "stream",
     "text": [
      "0.5265744262403391\n"
     ]
    }
   ],
   "source": [
    "# random.random()用于生成一个0到1的随机符点数: 0 <= n < 1.0\n",
    "\n",
    "print(random.random())"
   ]
  },
  {
   "cell_type": "code",
   "execution_count": 15,
   "metadata": {
    "collapsed": false
   },
   "outputs": [
    {
     "name": "stdout",
     "output_type": "stream",
     "text": [
      "38.8422507789255\n",
      "35.132838608034035\n"
     ]
    }
   ],
   "source": [
    "# random.uniform的函数原型为：random.uniform(a, b)，\n",
    "# 用于生成一个指定范围内的随机符点数，两个参数其中一个是上限，一个是下限。\n",
    "# 如果a > b，则生成的随机数n: a <= n <= b。如果 a <b， 则 b <= n <= a。\n",
    "\n",
    "print(random.uniform(1,100))\n",
    "print(random.uniform(50,10))"
   ]
  },
  {
   "cell_type": "code",
   "execution_count": 18,
   "metadata": {
    "collapsed": false
   },
   "outputs": [
    {
     "name": "stdout",
     "output_type": "stream",
     "text": [
      "[87, 1, 23, 5, 12]\n"
     ]
    }
   ],
   "source": [
    "# random.shuffle的函数原型为：random.shuffle(x[, random])，\n",
    "# 用于将一个列表中的元素打乱\n",
    "\n",
    "a = [12, 23, 1, 5, 87]\n",
    "random.shuffle(a)\n",
    "print(a)"
   ]
  },
  {
   "cell_type": "code",
   "execution_count": 21,
   "metadata": {
    "collapsed": false
   },
   "outputs": [
    {
     "name": "stdout",
     "output_type": "stream",
     "text": [
      "[0, 3, 5, 4, 1]\n",
      "[9, 5, 7, 2, 3, 0, 6]\n"
     ]
    }
   ],
   "source": [
    "# random.sample的函数原型为：random.sample(sequence, k)，\n",
    "# 从指定序列中随机获取指定长度的片断。sample函数不会修改原有序列。\n",
    "\n",
    "print(random.sample(range(10),5))\n",
    "print(random.sample(range(10),7))"
   ]
  },
  {
   "cell_type": "code",
   "execution_count": 22,
   "metadata": {
    "collapsed": false
   },
   "outputs": [
    {
     "name": "stderr",
     "output_type": "stream",
     "text": [
      "Building prefix dict from the default dictionary ...\n",
      "Dumping model to file cache /var/folders/j8/7nj196c56plf7tg3rtjxjwhr0000gn/T/jieba.cache\n",
      "Loading model cost 2.197 seconds.\n",
      "Prefix dict has been built succesfully.\n"
     ]
    },
    {
     "name": "stdout",
     "output_type": "stream",
     "text": [
      "Full Mode: 今天/ 上海/ 的/ 天气/ 怎么样\n",
      "Default Mode: 明天/ 纽约/ 下雨/ 么\n",
      "现在, 天气, 怎么样\n",
      "2016, 年, 第一季度, 支付, 事业部, 交易量, 报表\n",
      "小明, 硕士, 毕业, 于, 中国, 科学, 学院, 科学院, 中国科学院, 计算, 计算所, ，, 后, 在, 日本, 京都, 大学, 日本京都大学, 深造\n"
     ]
    }
   ],
   "source": [
    "import jieba\n",
    "\n",
    "seg_list = jieba.cut(\"今天上海的天气怎么样\", cut_all=False)\n",
    "print(\"Full Mode: \" + \"/ \".join(seg_list))  # 全模式\n",
    "\n",
    "seg_list = jieba.cut(\"明天纽约下雨么\", cut_all=False)\n",
    "print(\"Default Mode: \" + \"/ \".join(seg_list))  # 精确模式\n",
    "\n",
    "seg_list = jieba.cut(\"现在天气怎么样\")  # 默认是精确模式\n",
    "print(\", \".join(seg_list))\n",
    "\n",
    "seg_list = jieba.cut(\"2016年第一季度支付事业部交易量报表\")  # 默认是精确模式\n",
    "print(\", \".join(seg_list))\n",
    "\n",
    "seg_list = jieba.cut_for_search(\"小明硕士毕业于中国科学院计算所，后在日本京都大学深造\")  # 搜索引擎模式\n",
    "print(\", \".join(seg_list))"
   ]
  },
  {
   "cell_type": "code",
   "execution_count": 27,
   "metadata": {
    "collapsed": false
   },
   "outputs": [
    {
     "name": "stdout",
     "output_type": "stream",
     "text": [
      "2016,年,第一季度,支付,事业部,交易量,报表\n"
     ]
    }
   ],
   "source": [
    "seg_list = jieba.cut(\"2016年第一季度支付事业部交易量报表\")  # 默认是精确模式\n",
    "print(','.join(seg_list))"
   ]
  },
  {
   "cell_type": "code",
   "execution_count": 31,
   "metadata": {
    "collapsed": false
   },
   "outputs": [
    {
     "name": "stdout",
     "output_type": "stream",
     "text": [
      "2016\n",
      "年\n",
      "第一季度\n",
      "支付\n",
      "事业部\n",
      "交易量\n",
      "报表\n"
     ]
    }
   ],
   "source": [
    "seg_list = jieba.cut(\"2016年第一季度支付事业部交易量报表\")  # 默认是精确模式\n",
    "for i in seg_list:\n",
    "    print(i)"
   ]
  },
  {
   "cell_type": "code",
   "execution_count": 32,
   "metadata": {
    "collapsed": false
   },
   "outputs": [
    {
     "name": "stdout",
     "output_type": "stream",
     "text": [
      "我 r\n",
      "爱 v\n",
      "北京 ns\n",
      "天安门 ns\n"
     ]
    }
   ],
   "source": [
    "import jieba.posseg as pseg\n",
    "words = pseg.cut(\"我爱北京天安门\")\n",
    "\n",
    "for word, flag in words:\n",
    "    print('%s %s' % (word, flag))"
   ]
  },
  {
   "cell_type": "code",
   "execution_count": null,
   "metadata": {
    "collapsed": true
   },
   "outputs": [],
   "source": [
    "# 简单的剪刀石头布\n",
    "\n",
    "import random\n",
    "\n",
    "FIRST = 0\n",
    "SECOND = 1 \n",
    "BOTH = 2 \n",
    "\n",
    "t1 = ('scissors', 'stone', 'cloth')\n",
    "t2 = ('human win', 'computer win', 'draw')\n",
    "\n",
    "def which_win(i1, i2):\n",
    "    if i1 == 0 and i2 == 1:\n",
    "        return SECOND\n",
    "    if i1 == 0 and i2 == 2:\n",
    "        return FIRST\n",
    "    if i1 == 1 and i2 == 0:\n",
    "        return FIRST\n",
    "    if i1 == 1 and i2 == 2:\n",
    "        return SECOND\n",
    "    if i1 == 2 and i2 == 0:\n",
    "        return SECOND\n",
    "    if i1 == 2 and i2 == 1:\n",
    "        return FIRST\n",
    "    if i1 == i2:\n",
    "        return BOTH\n",
    "\n",
    "print('0:scissors 1:stone 2:cloth')\n",
    "human = int(input('please input:'))\n",
    "\n",
    "c_index = random.randint(0,2)\n",
    "computer = t1[c_index]\n",
    "\n",
    "print(c_index, computer)\n",
    "\n",
    "print(t2[which_win(human, c_index)])\n",
    "\n",
    "# 如何优化改进？"
   ]
  }
 ],
 "metadata": {
  "kernelspec": {
   "display_name": "Python 3",
   "language": "python",
   "name": "python3"
  },
  "language_info": {
   "codemirror_mode": {
    "name": "ipython",
    "version": 3
   },
   "file_extension": ".py",
   "mimetype": "text/x-python",
   "name": "python",
   "nbconvert_exporter": "python",
   "pygments_lexer": "ipython3",
   "version": "3.4.4"
  }
 },
 "nbformat": 4,
 "nbformat_minor": 0
}
