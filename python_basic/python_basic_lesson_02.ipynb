{
 "cells": [
  {
   "cell_type": "code",
   "execution_count": null,
   "metadata": {
    "collapsed": true
   },
   "outputs": [],
   "source": [
    "about LISTS\n",
    "\n",
    "“Lists are mutable sequences, typically used to store collections of homogeneous items (where the precise degree of similarity will vary by application).” \n",
    "Very powerful, can store many kinds of real world data \n",
    "Create list\n",
    "Add an item\n",
    "Delete an item\n",
    "Sort\n",
    "Multidimensional\n",
    "Save and load"
   ]
  }
 ],
 "metadata": {
  "kernelspec": {
   "display_name": "Python 3",
   "language": "python",
   "name": "python3"
  },
  "language_info": {
   "codemirror_mode": {
    "name": "ipython",
    "version": 3
   },
   "file_extension": ".py",
   "mimetype": "text/x-python",
   "name": "python",
   "nbconvert_exporter": "python",
   "pygments_lexer": "ipython3",
   "version": "3.5.1"
  }
 },
 "nbformat": 4,
 "nbformat_minor": 0
}
