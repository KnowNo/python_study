{
 "cells": [
  {
   "cell_type": "markdown",
   "metadata": {},
   "source": [
    "# Lesson 2\n",
    "\n",
    "Python Basic, Lesson 2, v1.0.0, 2016.12 by David.Yi\n",
    "\n",
    "\n",
    "### 上次内容要点\n",
    "\n",
    "1.\tpython 简介\n",
    "2.  准备工作\n",
    "    * 使用标准的 python 和 IDLE\n",
    "    * anaconda 介绍\n",
    "    * jupyter 和 notebook介绍\n",
    "2.\t基本变量概念\n",
    "3.\tprint() 和 input() 用法\n",
    "4.\tpython 开发环境介绍\n",
    "    * pycharm 用法介绍\n",
    "    \n",
    "### 本次内容要点\n",
    "\n",
    "* 循环语句 for 和 range() 用法\n",
    "* 常用数据类型 \n",
    "    * list 用法\n",
    "    * dict 用法\n",
    "    * tuple 用法\n",
    "* 随机数介绍"
   ]
  },
  {
   "cell_type": "markdown",
   "metadata": {},
   "source": [
    "#### 循环语句 for...in\n",
    "\n",
    "Python的循环主要是for...in循环，依次把list或tuple等中的每个元素迭代出来；python 也有 while 循环，一般不常用。\n",
    "\n",
    "可以理解为，`for x in ...` 循环就是把每个元素代入变量x，然后执行缩进块的语句。\n",
    "\n",
    "如果是简单的按照次数的循环，一般用 range() 函数来产生一个可以生成迭代数字的序列"
   ]
  },
  {
   "cell_type": "code",
   "execution_count": 1,
   "metadata": {
    "collapsed": false
   },
   "outputs": [
    {
     "name": "stdout",
     "output_type": "stream",
     "text": [
      "a\n",
      "b\n",
      "c\n",
      "d\n",
      "e\n",
      "f\n"
     ]
    }
   ],
   "source": [
    "# 按照字符串进行迭代循环\n",
    "s = 'abcdef'\n",
    "for i in s:\n",
    "    print(i)"
   ]
  },
  {
   "cell_type": "code",
   "execution_count": 2,
   "metadata": {
    "collapsed": false
   },
   "outputs": [
    {
     "name": "stdout",
     "output_type": "stream",
     "text": [
      "a\n",
      "b\n",
      "c\n"
     ]
    }
   ],
   "source": [
    "s = ['a', 'b', 'c']\n",
    "for i in s:\n",
    "    print(i)"
   ]
  },
  {
   "cell_type": "code",
   "execution_count": 3,
   "metadata": {
    "collapsed": false
   },
   "outputs": [
    {
     "name": "stdout",
     "output_type": "stream",
     "text": [
      "0\n",
      "1\n",
      "2\n"
     ]
    }
   ],
   "source": [
    "for i in range(3):\n",
    "    print(i)"
   ]
  },
  {
   "cell_type": "markdown",
   "metadata": {},
   "source": [
    "---\n",
    "##### range() hanshu\n",
    "\n",
    "range() 函数产生一个等差序列，可以让 range() 的起始值定为某一个数，也可以指定一个不同的增量（甚至可以为负）。\n",
    "\n",
    "修改下面例子中的 range() 中的起始、结束和步长。"
   ]
  },
  {
   "cell_type": "code",
   "execution_count": 7,
   "metadata": {
    "collapsed": false
   },
   "outputs": [
    {
     "name": "stdout",
     "output_type": "stream",
     "text": [
      "1\n",
      "3\n"
     ]
    }
   ],
   "source": [
    "for i in range(1,5,2):\n",
    "    print(i)"
   ]
  },
  {
   "cell_type": "code",
   "execution_count": 8,
   "metadata": {
    "collapsed": false,
    "scrolled": true
   },
   "outputs": [
    {
     "name": "stdout",
     "output_type": "stream",
     "text": [
      "10\n",
      "7\n",
      "4\n"
     ]
    }
   ],
   "source": [
    "for i in range(10,2,-3):\n",
    "    print(i)"
   ]
  },
  {
   "cell_type": "code",
   "execution_count": 11,
   "metadata": {
    "collapsed": false,
    "scrolled": true
   },
   "outputs": [
    {
     "name": "stdout",
     "output_type": "stream",
     "text": [
      "0 Mary \n",
      "1 had\n",
      "2 a\n",
      "3 little \n",
      "4 lamb\n"
     ]
    }
   ],
   "source": [
    "# 同时获得列表中的序号和内容，可以这样写\n",
    "# len() 是获得列表的长度，可以理解元素个数\n",
    "\n",
    "s = ['Mary ', 'had', 'a', 'little ', 'lamb']\n",
    "for i in range(len(s)):\n",
    "    print(i, s[i])"
   ]
  },
  {
   "cell_type": "code",
   "execution_count": 15,
   "metadata": {
    "collapsed": false
   },
   "outputs": [
    {
     "name": "stdout",
     "output_type": "stream",
     "text": [
      "0 Mary \n",
      "1 had\n",
      "2 a\n",
      "3 little \n",
      "4 lamb\n"
     ]
    }
   ],
   "source": [
    "# 更加好的写法, 使用 enumerate\n",
    "\n",
    "s = ['Mary ', 'had', 'a', 'little ', 'lamb']\n",
    "for i, item in enumerate(s):\n",
    "    print(i, item)"
   ]
  },
  {
   "cell_type": "markdown",
   "metadata": {
    "collapsed": true
   },
   "source": [
    "---\n",
    "\n",
    "####  列表\n",
    "\n",
    "列表 list 是 python 内置的一种数据类型。list是一种有序的集合，可以随时添加和删除其中的元素。\n",
    "列表在一般的 python 程序中是最常用的数据类型。\n",
    "\n",
    "列表的基本概念：\n",
    "* 创建列表\n",
    "* 访问列表中的元素\n",
    "* 增加元素\n",
    "* 删除元素\n",
    "* 排序\n",
    "* 多维\n",
    "* 保存和载入"
   ]
  },
  {
   "cell_type": "code",
   "execution_count": 16,
   "metadata": {
    "collapsed": false
   },
   "outputs": [
    {
     "name": "stdout",
     "output_type": "stream",
     "text": [
      "['pig', 'cat', 'dog']\n",
      "pig\n",
      "dog\n"
     ]
    }
   ],
   "source": [
    "# 直接创建列表\n",
    "\n",
    "a = ['pig', 'cat', 'dog']\n",
    "\n",
    "print(a)\n",
    "\n",
    "# 用序号访问列表中的元素，支持双向\n",
    "print(a[0])\n",
    "print(a[-1])"
   ]
  },
  {
   "cell_type": "code",
   "execution_count": 17,
   "metadata": {
    "collapsed": false
   },
   "outputs": [
    {
     "name": "stdout",
     "output_type": "stream",
     "text": [
      "['bird']\n"
     ]
    }
   ],
   "source": [
    "# 列表初始化\n",
    "a = []\n",
    "\n",
    "# 列表追加元素\n",
    "a.append('bird')\n",
    "print(a)"
   ]
  },
  {
   "cell_type": "code",
   "execution_count": 18,
   "metadata": {
    "collapsed": false
   },
   "outputs": [
    {
     "name": "stdout",
     "output_type": "stream",
     "text": [
      "['bird', 'snake']\n"
     ]
    }
   ],
   "source": [
    "a.append('snake')\n",
    "print(a)"
   ]
  },
  {
   "cell_type": "code",
   "execution_count": 19,
   "metadata": {
    "collapsed": false
   },
   "outputs": [
    {
     "name": "stdout",
     "output_type": "stream",
     "text": [
      "['bird']\n"
     ]
    }
   ],
   "source": [
    "# 列表删除指定序号的元素\n",
    "\n",
    "a.pop(1)\n",
    "print(a)"
   ]
  },
  {
   "cell_type": "code",
   "execution_count": 20,
   "metadata": {
    "collapsed": false
   },
   "outputs": [
    {
     "name": "stdout",
     "output_type": "stream",
     "text": [
      "['pig', 'cat']\n"
     ]
    }
   ],
   "source": [
    "# 列表删除指定内容的元素\n",
    "\n",
    "a = ['pig', 'cat', 'dog']\n",
    "a.remove('dog')\n",
    "print(a)"
   ]
  },
  {
   "cell_type": "code",
   "execution_count": 21,
   "metadata": {
    "collapsed": false
   },
   "outputs": [
    {
     "name": "stdout",
     "output_type": "stream",
     "text": [
      "['cat', 'dog', 'pig', 'snake']\n"
     ]
    }
   ],
   "source": [
    "# 列表排序\n",
    "\n",
    "a = ['pig', 'cat', 'dog', 'snake']\n",
    "a.sort()\n",
    "print(a)"
   ]
  },
  {
   "cell_type": "code",
   "execution_count": 22,
   "metadata": {
    "collapsed": false
   },
   "outputs": [
    {
     "name": "stdout",
     "output_type": "stream",
     "text": [
      "['cat', 'dog', 'pig', 'snake', ['cat1', 'cat2', 'cat3']]\n"
     ]
    }
   ],
   "source": [
    "# 列表追加另一个列表\n",
    "\n",
    "b = ['cat1', 'cat2', 'cat3']\n",
    "a.append(b)\n",
    "print(a)"
   ]
  },
  {
   "cell_type": "code",
   "execution_count": 23,
   "metadata": {
    "collapsed": false
   },
   "outputs": [
    {
     "name": "stdout",
     "output_type": "stream",
     "text": [
      "['pig', 'cat', 'dog', 'snake', 'cat1', 'cat2', 'cat3']\n"
     ]
    }
   ],
   "source": [
    "# 列表追加另一个列表的元素\n",
    "\n",
    "a = ['pig', 'cat', 'dog', 'snake']\n",
    "b = ['cat1', 'cat2', 'cat3']\n",
    "a.extend(b)\n",
    "print(a)"
   ]
  },
  {
   "cell_type": "code",
   "execution_count": 24,
   "metadata": {
    "collapsed": true
   },
   "outputs": [],
   "source": [
    "# 列表内容保存和读出\n",
    "\n",
    "import pickle\n",
    "f = open('list_dump.txt', 'wb')\n",
    "a = ['pig', 'cat', 'dog', 'snake', 'snake']\n",
    "pickle.dump(a, f)\n",
    "f.close()"
   ]
  },
  {
   "cell_type": "code",
   "execution_count": 25,
   "metadata": {
    "collapsed": false
   },
   "outputs": [
    {
     "name": "stdout",
     "output_type": "stream",
     "text": [
      "['pig', 'cat', 'dog', 'snake', 'snake']\n"
     ]
    }
   ],
   "source": [
    "f = open('list_dump.txt', 'rb')\n",
    "a1 = pickle.load(f)\n",
    "f.close()\n",
    "print(a1)"
   ]
  },
  {
   "cell_type": "code",
   "execution_count": 26,
   "metadata": {
    "collapsed": false
   },
   "outputs": [
    {
     "name": "stdout",
     "output_type": "stream",
     "text": [
      "['pig', 'cat']\n"
     ]
    }
   ],
   "source": [
    "# 列表生成式 初步\n",
    "# 过滤列表中的重复元素\n",
    "\n",
    "a = ['pig', 'cat', 'dog', 'dog']\n",
    "a1 = [x for x in a if a.count(x) <= 1]\n",
    "print(a1)"
   ]
  },
  {
   "cell_type": "markdown",
   "metadata": {},
   "source": [
    "“A mapping object maps hashable values to arbitrary objects. Mappings are mutable objects.” \n",
    "Understand Key-Value, like {'one': 1, 'two': 2, 'three': 3}\n",
    "Create DICT: d = {'Tom': 95, 'Jerry': 90, 'Tracy': 92}\n",
    "Add Key-Value: d['Hugo'] = 85\n",
    "Visit Key-Value: d.get('Tom')\n",
    "Delete Key-Value: d.pop('Tom')\n",
    "Length of DICT: len(d)\n"
   ]
  },
  {
   "cell_type": "code",
   "execution_count": null,
   "metadata": {
    "collapsed": true
   },
   "outputs": [],
   "source": []
  },
  {
   "cell_type": "code",
   "execution_count": null,
   "metadata": {
    "collapsed": true
   },
   "outputs": [],
   "source": [
    "d = {'Tom': 95, 'Jerry': 90, 'Tracy': 92}\n",
    "print(d)\n",
    "print(d['Tom'])\n",
    "\n",
    "d['Hugo'] = 85\n",
    "print(d)\n",
    "\n",
    "d['Tom'] = 97\n",
    "print(d)\n",
    "\n",
    "'Tom' in d\n",
    "\n",
    "d.get('Tom')\n",
    "\n",
    "d.get('Tommy',80)\n",
    "\n",
    "d = {'Tom': 95, 'Jerry': 90, 'Tracy': 92}\n",
    "print(d)\n",
    "d.pop('Tom')\n",
    "print(d)\n",
    "\n",
    "d1 = {}\n",
    "for i in range(100):\n",
    "    d1['id_'+str(i)] = i*3\n",
    "print(d1)\n",
    "\n",
    "print(len(d1))"
   ]
  },
  {
   "cell_type": "code",
   "execution_count": null,
   "metadata": {
    "collapsed": true
   },
   "outputs": [],
   "source": [
    "数据类型：Tuple 元组\n",
    "\n",
    "Tuple 也是一种有序列表，在存储数据方面和 List 很相似\n",
    "Tuple 一旦内容存储后，就不能修改；这样的好处是数据很安全\n",
    "初始化 Tuple : t = ('Tom', 'Jerry', 'Mary')\n",
    "应用范围：在我们需要使用 list 功能的时候，但是又不需要改变这个 list 的内容，用 Tuple 元组功能会很安全，不用担心程序中不小心修改了其内容\n",
    "\n"
   ]
  },
  {
   "cell_type": "code",
   "execution_count": null,
   "metadata": {
    "collapsed": true
   },
   "outputs": [],
   "source": [
    "t = ('Tom', 'Jerry', 'Mary')\n",
    "print(t)\n",
    "\n",
    "t.append('Someone')\n",
    "\n",
    "t = ()\n",
    "print(t)\n",
    "\n",
    "l  = ['A', 'B', 'C']\n",
    "t =(l, 100, 200)\n",
    "print(t)\n",
    "\n",
    "l.append('D')\n",
    "print(l)\n",
    "print(t)\n",
    "\n",
    "t = ('Tom', 'Jerry', 'Marry')\n",
    "print(t[1])"
   ]
  },
  {
   "cell_type": "markdown",
   "metadata": {},
   "source": [
    "随机数\n",
    "\n",
    "随机数这一概念在不同领域有着不同的含义，在密码学、通信领域有着非常重要的用途\n",
    "Python 的随机数模块是 random\n",
    "随机挑选 random.choice()，random.sample()\n",
    "随机生成 random.random()， random.uniform()， random.randint()\n",
    "随机排列 random.shuffle()\n"
   ]
  },
  {
   "cell_type": "code",
   "execution_count": null,
   "metadata": {
    "collapsed": true
   },
   "outputs": [],
   "source": [
    "import random\n",
    "\n",
    "print(random.choice(range(1,100)))\n",
    "\n",
    "print(random.sample(range(1,100), 10))\n",
    "\n",
    "print(random.randint(1,100))\n",
    "\n",
    "print(random.random())\n",
    "\n",
    "print(random.uniform(1,100))\n",
    "\n",
    "l1 = [12, 23, 1, 5, 87]\n",
    "random.shuffle(l1)\n",
    "print(l1)"
   ]
  }
 ],
 "metadata": {
  "kernelspec": {
   "display_name": "Python 3",
   "language": "python",
   "name": "python3"
  },
  "language_info": {
   "codemirror_mode": {
    "name": "ipython",
    "version": 3
   },
   "file_extension": ".py",
   "mimetype": "text/x-python",
   "name": "python",
   "nbconvert_exporter": "python",
   "pygments_lexer": "ipython3",
   "version": "3.5.1"
  }
 },
 "nbformat": 4,
 "nbformat_minor": 0
}
