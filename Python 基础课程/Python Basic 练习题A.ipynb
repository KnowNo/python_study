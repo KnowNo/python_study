{
 "cells": [
  {
   "cell_type": "markdown",
   "metadata": {},
   "source": [
    "# Python Basic 练习题 A\n",
    "* v1.1, 2020.4, 2020.5，2020.6, edit by David Yi"
   ]
  },
  {
   "cell_type": "markdown",
   "metadata": {},
   "source": [
    "## 题目1：两个正整数a和b， 输出它们的最大公约数。\n",
    "\n",
    "例如：a = 24, b = 16\n",
    "\n",
    "则输出：8"
   ]
  },
  {
   "cell_type": "code",
   "execution_count": 2,
   "metadata": {},
   "outputs": [
    {
     "name": "stdout",
     "output_type": "stream",
     "text": [
      "8\n"
     ]
    }
   ],
   "source": [
    "a = 24\n",
    "b = 16\n",
    "for i in range(min(a,b), 0, -1): \n",
    "    if a % i == 0 and b % i ==0: \n",
    "        print(i) \n",
    "        break"
   ]
  },
  {
   "cell_type": "code",
   "execution_count": 3,
   "metadata": {},
   "outputs": [
    {
     "name": "stdout",
     "output_type": "stream",
     "text": [
      "8\n"
     ]
    }
   ],
   "source": [
    "while b:\n",
    "    a,b=b,a%b\n",
    "print(a)"
   ]
  },
  {
   "cell_type": "code",
   "execution_count": 4,
   "metadata": {},
   "outputs": [
    {
     "name": "stdout",
     "output_type": "stream",
     "text": [
      "8\n"
     ]
    }
   ],
   "source": [
    "print(max([x for x in range(1,a+1) if a%x==0 and b%x==0]))"
   ]
  },
  {
   "cell_type": "markdown",
   "metadata": {},
   "source": [
    "##  题目2：输出 9*9 乘法口诀表\n",
    "\n",
    "\n",
    "\n",
    "程序分析：分行与列考虑，共9行9列，i控制行，j控制列。"
   ]
  },
  {
   "cell_type": "code",
   "execution_count": 11,
   "metadata": {},
   "outputs": [
    {
     "name": "stdout",
     "output_type": "stream",
     "text": [
      "1 x 1 = 1 \t\n",
      "2 x 1 = 2 \t2 x 2 = 4 \t\n",
      "3 x 1 = 3 \t3 x 2 = 6 \t3 x 3 = 9 \t\n",
      "4 x 1 = 4 \t4 x 2 = 8 \t4 x 3 = 12 \t4 x 4 = 16 \t\n",
      "5 x 1 = 5 \t5 x 2 = 10 \t5 x 3 = 15 \t5 x 4 = 20 \t5 x 5 = 25 \t\n",
      "6 x 1 = 6 \t6 x 2 = 12 \t6 x 3 = 18 \t6 x 4 = 24 \t6 x 5 = 30 \t6 x 6 = 36 \t\n",
      "7 x 1 = 7 \t7 x 2 = 14 \t7 x 3 = 21 \t7 x 4 = 28 \t7 x 5 = 35 \t7 x 6 = 42 \t7 x 7 = 49 \t\n",
      "8 x 1 = 8 \t8 x 2 = 16 \t8 x 3 = 24 \t8 x 4 = 32 \t8 x 5 = 40 \t8 x 6 = 48 \t8 x 7 = 56 \t8 x 8 = 64 \t\n",
      "9 x 1 = 9 \t9 x 2 = 18 \t9 x 3 = 27 \t9 x 4 = 36 \t9 x 5 = 45 \t9 x 6 = 54 \t9 x 7 = 63 \t9 x 8 = 72 \t9 x 9 = 81 \t\n"
     ]
    }
   ],
   "source": [
    "for i in range(1, 10):\n",
    "    for j in range(1, i+1):\n",
    "        print (\"%d x %d = %d\" % (i, j, i*j),\"\\t\",end=\"\")\n",
    "        if i==j:\n",
    "            print(\"\")"
   ]
  },
  {
   "cell_type": "code",
   "execution_count": 6,
   "metadata": {},
   "outputs": [
    {
     "name": "stdout",
     "output_type": "stream",
     "text": [
      "1 x 1 = 1 \t\n",
      "1 x 2 = 2 \t2 x 2 = 4 \t\n",
      "1 x 3 = 3 \t2 x 3 = 6 \t3 x 3 = 9 \t\n",
      "1 x 4 = 4 \t2 x 4 = 8 \t3 x 4 = 12 \t4 x 4 = 16 \t\n",
      "1 x 5 = 5 \t2 x 5 = 10 \t3 x 5 = 15 \t4 x 5 = 20 \t5 x 5 = 25 \t\n",
      "1 x 6 = 6 \t2 x 6 = 12 \t3 x 6 = 18 \t4 x 6 = 24 \t5 x 6 = 30 \t6 x 6 = 36 \t\n",
      "1 x 7 = 7 \t2 x 7 = 14 \t3 x 7 = 21 \t4 x 7 = 28 \t5 x 7 = 35 \t6 x 7 = 42 \t7 x 7 = 49 \t\n",
      "1 x 8 = 8 \t2 x 8 = 16 \t3 x 8 = 24 \t4 x 8 = 32 \t5 x 8 = 40 \t6 x 8 = 48 \t7 x 8 = 56 \t8 x 8 = 64 \t\n",
      "1 x 9 = 9 \t2 x 9 = 18 \t3 x 9 = 27 \t4 x 9 = 36 \t5 x 9 = 45 \t6 x 9 = 54 \t7 x 9 = 63 \t8 x 9 = 72 \t9 x 9 = 81 \t\n"
     ]
    }
   ],
   "source": [
    "i=0\n",
    "j=0\n",
    "while i<9:\n",
    "    i+=1\n",
    "    while j<9:\n",
    "        j+=1\n",
    "        print(j,\"x\",i,\"=\",i*j,\"\\t\",end=\"\")\n",
    "        if i==j:\n",
    "            j=0\n",
    "            print(\"\")\n",
    "            break"
   ]
  },
  {
   "cell_type": "code",
   "execution_count": 12,
   "metadata": {},
   "outputs": [
    {
     "name": "stdout",
     "output_type": "stream",
     "text": [
      " 1 x 1 =  1\n",
      " 1 x 2 =  2\t 2 x 2 =  4\n",
      " 1 x 3 =  3\t 2 x 3 =  6\t 3 x 3 =  9\n",
      " 1 x 4 =  4\t 2 x 4 =  8\t 3 x 4 = 12\t 4 x 4 = 16\n",
      " 1 x 5 =  5\t 2 x 5 = 10\t 3 x 5 = 15\t 4 x 5 = 20\t 5 x 5 = 25\n",
      " 1 x 6 =  6\t 2 x 6 = 12\t 3 x 6 = 18\t 4 x 6 = 24\t 5 x 6 = 30\t 6 x 6 = 36\n",
      " 1 x 7 =  7\t 2 x 7 = 14\t 3 x 7 = 21\t 4 x 7 = 28\t 5 x 7 = 35\t 6 x 7 = 42\t 7 x 7 = 49\n",
      " 1 x 8 =  8\t 2 x 8 = 16\t 3 x 8 = 24\t 4 x 8 = 32\t 5 x 8 = 40\t 6 x 8 = 48\t 7 x 8 = 56\t 8 x 8 = 64\n",
      " 1 x 9 =  9\t 2 x 9 = 18\t 3 x 9 = 27\t 4 x 9 = 36\t 5 x 9 = 45\t 6 x 9 = 54\t 7 x 9 = 63\t 8 x 9 = 72\t 9 x 9 = 81\n"
     ]
    }
   ],
   "source": [
    "print('\\n'.join(['\\t'.join([\"%2s x%2s = %2s\"%(j,i,i*j) for j in range(1,i+1)]) for i in range(1,10)]))"
   ]
  },
  {
   "cell_type": "markdown",
   "metadata": {},
   "source": [
    "## 题目3：编写一个函数，给你三个整数a,b,c, 判断能否以它们为三个边长构成三角形。若能，输出YES，否则输出NO"
   ]
  },
  {
   "cell_type": "code",
   "execution_count": 5,
   "metadata": {},
   "outputs": [
    {
     "name": "stdout",
     "output_type": "stream",
     "text": [
      "no\n"
     ]
    }
   ],
   "source": [
    "def func1(a,b,c):\n",
    "    if (a+b)>c and (b+c)>a and (a+c)>b:\n",
    "        return 'yes'\n",
    "    else:\n",
    "        return 'no'\n",
    "\n",
    "\n",
    "print(func1(1,2,3))"
   ]
  },
  {
   "cell_type": "code",
   "execution_count": 4,
   "metadata": {
    "scrolled": false
   },
   "outputs": [
    {
     "name": "stdout",
     "output_type": "stream",
     "text": [
      "yes\n"
     ]
    }
   ],
   "source": [
    "\n",
    "def func2(a,b,c):\n",
    "    if max(a,b,c)<(a+b+c)/2.0:\n",
    "        return 'yes'\n",
    "    else:\n",
    "        return 'no'\n",
    "\n",
    "print(func2(3,4,5))"
   ]
  },
  {
   "cell_type": "code",
   "execution_count": 10,
   "metadata": {},
   "outputs": [
    {
     "name": "stdout",
     "output_type": "stream",
     "text": [
      "5\n"
     ]
    }
   ],
   "source": [
    "# if else 的用法\n",
    "\n",
    "x, y = 4, 5\n",
    "\n",
    "smaller = x if x > y else y\n",
    "\n",
    "print(smaller)"
   ]
  },
  {
   "cell_type": "code",
   "execution_count": 26,
   "metadata": {},
   "outputs": [
    {
     "name": "stdout",
     "output_type": "stream",
     "text": [
      "27\n"
     ]
    }
   ],
   "source": [
    "# 匿名函数 lambda 用法\n",
    "\n",
    "a =  lambda x, y=2 : x + y*3 \n",
    "print(a(3) + a(3, 5))"
   ]
  },
  {
   "cell_type": "code",
   "execution_count": 29,
   "metadata": {},
   "outputs": [
    {
     "name": "stdout",
     "output_type": "stream",
     "text": [
      "3\n"
     ]
    }
   ],
   "source": [
    "# list 的 count方法\n",
    "\n",
    "l = ['tom', 'steven', 'jerry', 'steven']\n",
    "print(l.count('tom') + l.count('steven'))"
   ]
  },
  {
   "cell_type": "code",
   "execution_count": 30,
   "metadata": {},
   "outputs": [
    {
     "name": "stdout",
     "output_type": "stream",
     "text": [
      "3\n"
     ]
    }
   ],
   "source": [
    "# os 用法\n",
    "# 计算目录下有多少文件\n",
    "\n",
    "import os\n",
    "\n",
    "a = os.listdir()\n",
    "print(len(a))"
   ]
  },
  {
   "cell_type": "code",
   "execution_count": 10,
   "metadata": {},
   "outputs": [
    {
     "data": {
      "text/plain": [
       "204"
      ]
     },
     "execution_count": 10,
     "metadata": {},
     "output_type": "execute_result"
    }
   ],
   "source": [
    "# 获得路径或者文件的大小\n",
    "import os\n",
    "\n",
    "os.path.getsize('/Users')"
   ]
  },
  {
   "cell_type": "code",
   "execution_count": 9,
   "metadata": {},
   "outputs": [
    {
     "name": "stdout",
     "output_type": "stream",
     "text": [
      "164\n"
     ]
    }
   ],
   "source": [
    "# 列表生成式用法\n",
    "# 在列表生成式后面加上判断，过滤出结果为偶数的结果\n",
    "\n",
    "n = 0\n",
    "for i in [x * x for x in range(8, 11) if x % 2 == 0]:\n",
    "    n = n + i\n",
    "print(n)"
   ]
  },
  {
   "cell_type": "code",
   "execution_count": 14,
   "metadata": {},
   "outputs": [
    {
     "name": "stdout",
     "output_type": "stream",
     "text": [
      "hello\n",
      "byebye\n"
     ]
    }
   ],
   "source": [
    "# 简化调用方式\n",
    "# 省却了 try...finally，会有 with 来自动控制\n",
    "\n",
    "filename = 'test.txt'\n",
    "\n",
    "with open(filename, 'r') as f:\n",
    "    print(f.read())"
   ]
  },
  {
   "cell_type": "code",
   "execution_count": 38,
   "metadata": {},
   "outputs": [
    {
     "name": "stdout",
     "output_type": "stream",
     "text": [
      "8\n"
     ]
    }
   ],
   "source": [
    "# python 有趣灵活的变量定义\n",
    "\n",
    "first, second, *rest = (1,2,3,4,5,6,7,8)\n",
    "print(first + second + rest[2])"
   ]
  },
  {
   "cell_type": "code",
   "execution_count": 42,
   "metadata": {},
   "outputs": [
    {
     "name": "stdout",
     "output_type": "stream",
     "text": [
      "letter: t\n"
     ]
    }
   ],
   "source": [
    "# for continue 举例\n",
    "# 以及 等于 不等于 或者 的逻辑判断\n",
    "\n",
    "for l in 'computer':\n",
    "    if l != 't' or l == 'u':\n",
    "        continue\n",
    "    print('letter:', l)"
   ]
  },
  {
   "cell_type": "code",
   "execution_count": 12,
   "metadata": {},
   "outputs": [
    {
     "name": "stdout",
     "output_type": "stream",
     "text": [
      "3 4 5\n",
      "count: 1\n"
     ]
    }
   ],
   "source": [
    "# 找到符合 x*x + y*y == z*z + 3 的 x y z\n",
    "# 多种循环\n",
    "\n",
    "n = 0\n",
    "\n",
    "for x in range(1,10):\n",
    "    for y in range(x,10):\n",
    "        for z in range(y,10):\n",
    "            if x*x + y*y == z*z:\n",
    "                print(x,y,z)\n",
    "                n= n + 1\n",
    "print('count:',n)"
   ]
  },
  {
   "cell_type": "code",
   "execution_count": 7,
   "metadata": {},
   "outputs": [
    {
     "name": "stdout",
     "output_type": "stream",
     "text": [
      "(2, 4, 1)\n"
     ]
    }
   ],
   "source": [
    "# python 内置函数 \n",
    "\n",
    "print(max((1,2),(2,3),(2,4),(2,4,1)))"
   ]
  },
  {
   "cell_type": "code",
   "execution_count": 8,
   "metadata": {},
   "outputs": [
    {
     "name": "stdout",
     "output_type": "stream",
     "text": [
      "0 amy\n",
      "1 tom\n",
      "2 jerry \n"
     ]
    }
   ],
   "source": [
    "l = ['amy', 'tom', 'jerry ']\n",
    "for i, item in enumerate(l):\n",
    "    print(i, item)"
   ]
  },
  {
   "cell_type": "code",
   "execution_count": 2,
   "metadata": {},
   "outputs": [
    {
     "name": "stdout",
     "output_type": "stream",
     "text": [
      "[5, 7, 9, 11, 13, 15, 17, 19, 21, 23]\n",
      "18\n"
     ]
    }
   ],
   "source": [
    "# question 1\n",
    "l = [ x * 2 + 3  for x in range(1, 11)]  \n",
    "print(l)\n",
    "print(l[1]+l[3])"
   ]
  },
  {
   "cell_type": "code",
   "execution_count": 3,
   "metadata": {},
   "outputs": [
    {
     "data": {
      "text/plain": [
       "'/Users/yijun/dev_python/python_beginner/python_basic_L2'"
      ]
     },
     "execution_count": 3,
     "metadata": {},
     "output_type": "execute_result"
    }
   ],
   "source": [
    "# question 2\n",
    "\n",
    "import os\n",
    "\n",
    "os.getcwd()"
   ]
  },
  {
   "cell_type": "code",
   "execution_count": 1,
   "metadata": {},
   "outputs": [
    {
     "name": "stdout",
     "output_type": "stream",
     "text": [
      "3 4 5\n"
     ]
    }
   ],
   "source": [
    "# question 3\n",
    "\n",
    "first, second, *rest = (1,2,3,4,5)\n",
    "print(*rest)"
   ]
  },
  {
   "cell_type": "code",
   "execution_count": 8,
   "metadata": {},
   "outputs": [
    {
     "ename": "TypeError",
     "evalue": "appendleft() takes exactly one argument (2 given)",
     "output_type": "error",
     "traceback": [
      "\u001b[0;31m---------------------------------------------------------------------------\u001b[0m",
      "\u001b[0;31mTypeError\u001b[0m                                 Traceback (most recent call last)",
      "\u001b[0;32m<ipython-input-8-d004daf2731b>\u001b[0m in \u001b[0;36m<module>\u001b[0;34m()\u001b[0m\n\u001b[1;32m      4\u001b[0m \u001b[0;34m\u001b[0m\u001b[0m\n\u001b[1;32m      5\u001b[0m \u001b[0mq\u001b[0m \u001b[0;34m=\u001b[0m \u001b[0mdeque\u001b[0m\u001b[0;34m(\u001b[0m\u001b[0;34m[\u001b[0m\u001b[0;34m'a'\u001b[0m\u001b[0;34m,\u001b[0m \u001b[0;34m'b'\u001b[0m\u001b[0;34m]\u001b[0m\u001b[0;34m)\u001b[0m\u001b[0;34m\u001b[0m\u001b[0m\n\u001b[0;32m----> 6\u001b[0;31m \u001b[0mq\u001b[0m\u001b[0;34m.\u001b[0m\u001b[0mappendleft\u001b[0m\u001b[0;34m(\u001b[0m\u001b[0;34m'b'\u001b[0m\u001b[0;34m,\u001b[0m\u001b[0;34m'a'\u001b[0m\u001b[0;34m)\u001b[0m\u001b[0;34m\u001b[0m\u001b[0m\n\u001b[0m\u001b[1;32m      7\u001b[0m \u001b[0;34m\u001b[0m\u001b[0m\n\u001b[1;32m      8\u001b[0m \u001b[0mprint\u001b[0m\u001b[0;34m(\u001b[0m\u001b[0mq\u001b[0m\u001b[0;34m.\u001b[0m\u001b[0mcount\u001b[0m\u001b[0;34m(\u001b[0m\u001b[0;34m'b'\u001b[0m\u001b[0;34m)\u001b[0m\u001b[0;34m)\u001b[0m\u001b[0;34m\u001b[0m\u001b[0m\n",
      "\u001b[0;31mTypeError\u001b[0m: appendleft() takes exactly one argument (2 given)"
     ]
    }
   ],
   "source": [
    "# question 4\n",
    "\n",
    "from collections import deque\n",
    "\n",
    "q = deque(['a', 'b'])\n",
    "q.appendleft('b','a')\n",
    "\n",
    "print(q.count('b'))"
   ]
  },
  {
   "cell_type": "code",
   "execution_count": 12,
   "metadata": {},
   "outputs": [
    {
     "name": "stdout",
     "output_type": "stream",
     "text": [
      "yes\n"
     ]
    }
   ],
   "source": [
    "# question 5\n",
    "\n",
    "x, y = 3, 6\n",
    "\n",
    "if 1 < x < 4 < y:\n",
    "    print('yes')\n",
    "else:\n",
    "    print('no')"
   ]
  },
  {
   "cell_type": "code",
   "execution_count": 14,
   "metadata": {},
   "outputs": [
    {
     "name": "stdout",
     "output_type": "stream",
     "text": [
      "1\n"
     ]
    }
   ],
   "source": [
    "# question 6\n",
    "\n",
    "d = dict([('a', 1), ('b', 2)])\n",
    "print(d.get('a',2))"
   ]
  },
  {
   "cell_type": "code",
   "execution_count": 3,
   "metadata": {},
   "outputs": [
    {
     "name": "stdout",
     "output_type": "stream",
     "text": [
      "9\n"
     ]
    }
   ],
   "source": [
    "# question 7\n",
    "\n",
    "a = [0, 1, 2, 3, 4, 5]\n",
    "n = 0\n",
    "for i in a[::-2]:\n",
    "    n=n+i\n",
    "print(n)"
   ]
  },
  {
   "cell_type": "code",
   "execution_count": 4,
   "metadata": {},
   "outputs": [
    {
     "name": "stdout",
     "output_type": "stream",
     "text": [
      "a---a\n"
     ]
    }
   ],
   "source": [
    "# question 8\n",
    "\n",
    "a = ['a', '-', 'a']\n",
    "print('-'.join(a))"
   ]
  },
  {
   "cell_type": "code",
   "execution_count": 8,
   "metadata": {},
   "outputs": [
    {
     "name": "stdout",
     "output_type": "stream",
     "text": [
      "12\n"
     ]
    }
   ],
   "source": [
    "# quesion 9\n",
    "\n",
    "from functools import reduce\n",
    "\n",
    "def f(x,y=2):\n",
    "    return x + y\n",
    "\n",
    "r = map(f, [1, 2, 3])\n",
    "\n",
    "s = reduce(f,r)\n",
    "\n",
    "print(s)"
   ]
  },
  {
   "cell_type": "code",
   "execution_count": 1,
   "metadata": {},
   "outputs": [
    {
     "name": "stdout",
     "output_type": "stream",
     "text": [
      "small\n"
     ]
    }
   ],
   "source": [
    "# question 10\n",
    "\n",
    "if 2 in [1,2,3]:\n",
    "    print('small')\n",
    "else:\n",
    "    print('big')"
   ]
  },
  {
   "cell_type": "code",
   "execution_count": 6,
   "metadata": {},
   "outputs": [
    {
     "name": "stdout",
     "output_type": "stream",
     "text": [
      "True\n",
      "False\n",
      "False\n",
      "False\n"
     ]
    }
   ],
   "source": [
    "# quesion 11\n",
    "\n",
    "s1 = 'abcde'\n",
    "s2 = '12'\n",
    "s3 = '12s'\n",
    "s4 = '#s'\n",
    "print(s1.isalpha())\n",
    "print(s2.isalpha())\n",
    "print(s3.isalpha())\n",
    "print(s4.isalpha())"
   ]
  },
  {
   "cell_type": "code",
   "execution_count": null,
   "metadata": {
    "collapsed": true
   },
   "outputs": [],
   "source": []
  },
  {
   "cell_type": "code",
   "execution_count": null,
   "metadata": {},
   "outputs": [],
   "source": []
  }
 ],
 "metadata": {
  "kernelspec": {
   "display_name": "Python 3",
   "language": "python",
   "name": "python3"
  },
  "language_info": {
   "codemirror_mode": {
    "name": "ipython",
    "version": 3
   },
   "file_extension": ".py",
   "mimetype": "text/x-python",
   "name": "python",
   "nbconvert_exporter": "python",
   "pygments_lexer": "ipython3",
   "version": "3.7.6"
  }
 },
 "nbformat": 4,
 "nbformat_minor": 1
}
