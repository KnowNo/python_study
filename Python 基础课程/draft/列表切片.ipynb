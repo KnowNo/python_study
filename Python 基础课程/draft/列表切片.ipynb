{
 "cells": [
  {
   "cell_type": "markdown",
   "metadata": {},
   "source": [
    "### 列表切片\n",
    "\n",
    "列表切片的语法\n",
    "\n",
    "a[start:end] 从start开始到end-1结束；\n",
    "\n",
    "a[start:] 从start开始直到末尾；\n",
    "\n",
    "a[:end] 从头部开始直到end结束；\n",
    "\n",
    "a[:] 复制整个列表；\n",
    "\n",
    "从左到右时候的位置关系：\n",
    "\n",
    " +---+---+---+---+---+---+<br>\n",
    " | P | y | t | h | o | n |<br>\n",
    " +---+---+---+---+---+---+<br>\n",
    " 0   1   2   3   4   5   6<br>\n",
    "-6  -5  -4  -3  -2  -1\n",
    "\n",
    "a[start:end:step] step 表示步长，正负号表示方向，\n",
    "step 默认为 +1 ，所以默认 start 和 end 是从头到尾，如果 step 为负数，则 start 表示尾，end 表示头。\n",
    "start 和 end 是根据 step 来确认的。"
   ]
  },
  {
   "cell_type": "code",
   "execution_count": 2,
   "metadata": {},
   "outputs": [
    {
     "name": "stdout",
     "output_type": "stream",
     "text": [
      "['Shanghai', 'Beijing', 'Hangzhou', 'Tokyo', 'Osaka']\n"
     ]
    }
   ],
   "source": [
    "a = ['Shanghai', 'Beijing', 'Hangzhou', 'Tokyo', 'Osaka']\n",
    "print(a)"
   ]
  },
  {
   "cell_type": "code",
   "execution_count": 3,
   "metadata": {},
   "outputs": [
    {
     "name": "stdout",
     "output_type": "stream",
     "text": [
      "['Shanghai', 'Beijing', 'Hangzhou']\n",
      "['Shanghai', 'Beijing', 'Hangzhou']\n"
     ]
    }
   ],
   "source": [
    "b = a[0:3]\n",
    "\n",
    "# 省略start，表示从头开始\n",
    "c = a[:3]\n",
    "print(b)\n",
    "print(c)"
   ]
  },
  {
   "cell_type": "code",
   "execution_count": 4,
   "metadata": {},
   "outputs": [
    {
     "name": "stdout",
     "output_type": "stream",
     "text": [
      "['Osaka']\n",
      "['Hangzhou', 'Tokyo', 'Osaka']\n"
     ]
    }
   ],
   "source": [
    "# 省略 end，从-1 到 end\n",
    "b = a[-1:]\n",
    "print(b)\n",
    "\n",
    "b = a[-3:]\n",
    "print(b)\n",
    "\n"
   ]
  },
  {
   "cell_type": "code",
   "execution_count": null,
   "metadata": {},
   "outputs": [],
   "source": [
    "a = list(range(100))\n",
    "print(a)\n",
    "\n",
    "b = a[0:10]\n",
    "print(b)\n",
    "\n"
   ]
  },
  {
   "cell_type": "code",
   "execution_count": null,
   "metadata": {},
   "outputs": [],
   "source": [
    "b = a[-10:]\n",
    "print(b)\n",
    "\n"
   ]
  },
  {
   "cell_type": "code",
   "execution_count": null,
   "metadata": {},
   "outputs": [],
   "source": [
    "b = a[0:10:2]\n",
    "print(b)\n",
    "\n"
   ]
  },
  {
   "cell_type": "code",
   "execution_count": null,
   "metadata": {},
   "outputs": [],
   "source": [
    "# step 错误，不输出结果\n",
    "b = a[0:10:-2]\n",
    "print(b)\n",
    "\n"
   ]
  },
  {
   "cell_type": "code",
   "execution_count": null,
   "metadata": {},
   "outputs": [],
   "source": [
    "b = a[10:0:-1]\n",
    "print(b)\n",
    "\n"
   ]
  },
  {
   "cell_type": "code",
   "execution_count": null,
   "metadata": {},
   "outputs": [],
   "source": [
    "b = a[-1:0:-5]\n",
    "print(b)\n",
    "\n",
    "b = a[-1:-6:-1]\n",
    "print(b)\n",
    "\n"
   ]
  },
  {
   "cell_type": "code",
   "execution_count": null,
   "metadata": {},
   "outputs": [],
   "source": [
    "# 列表反转\n",
    "\n",
    "a = ['Shanghai', 'Beijing', 'Hangzhou', 'Tokyo', 'Osaka']\n",
    "a.reverse()\n",
    "print(a)\n",
    "\n"
   ]
  },
  {
   "cell_type": "code",
   "execution_count": null,
   "metadata": {},
   "outputs": [],
   "source": [
    "# 使用切片来完成反转\n",
    "\n",
    "a = ['Shanghai', 'Beijing', 'Hangzhou', 'Tokyo', 'Osaka']\n",
    "b = a[::-1]\n",
    "print(b)\n",
    "\n"
   ]
  },
  {
   "cell_type": "code",
   "execution_count": null,
   "metadata": {},
   "outputs": [],
   "source": [
    "# 字符串切片操作类似列表\n",
    "a = 'abcdefghi'\n",
    "print(a[1:2])\n",
    "print(a[3:5])\n",
    "print(a[:-5:-1])"
   ]
  }
 ],
 "metadata": {
  "kernelspec": {
   "display_name": "Python 3",
   "language": "python",
   "name": "python3"
  },
  "language_info": {
   "codemirror_mode": {
    "name": "ipython",
    "version": 3
   },
   "file_extension": ".py",
   "mimetype": "text/x-python",
   "name": "python",
   "nbconvert_exporter": "python",
   "pygments_lexer": "ipython3",
   "version": "3.7.6"
  }
 },
 "nbformat": 4,
 "nbformat_minor": 4
}
