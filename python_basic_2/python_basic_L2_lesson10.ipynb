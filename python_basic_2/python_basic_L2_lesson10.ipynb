{
 "cells": [
  {
   "cell_type": "markdown",
   "metadata": {},
   "source": [
    "# Lesson 10\n",
    "\n",
    "Python Senior, Lesson 10, v1.0.0, 2016.11 by David.Yi\n",
    "\n",
    "## 复习\n",
    "\n",
    "* 图片处模块 PIL \n",
    "* python 中的函数式编程之一\n",
    "    * 将函数作为值返回\n",
    "    * 偏函数\n",
    "\n",
    "\n",
    "## 本次内容要点\n",
    "\n",
    "* python 中的函数式编程之二\n",
    "    * 高阶函数 map/reduce filter sorted\n",
    "    * 匿名函数\n",
    "* 面向对象的编程之一\n",
    "    * 类与实例\n",
    "    * 类的属性\n",
    "    * 类的方法\n",
    "\n",
    "* 思考一下"
   ]
  },
  {
   "cell_type": "markdown",
   "metadata": {},
   "source": [
    "#####  map() 函数\n",
    "\n",
    "Python内建了 map() 和 reduce() 这两个功能强大的函数。\n",
    "\n",
    "我们先看 map。map() 函数接收两个参数，一个是函数，一个是可迭代的序列，比如 list，map 将传入的函数依次作用到序列的每个元素，并把结果作为新的 Iterator 可迭代值返回。\n",
    "\n",
    "举例说明，比如我们有一个函数 f(x) = x2，要把这个函数作用在一个list [1, 2, 3, 4, 5, 6, 7, 8, 9]上，就可以用map()实现如下：\n",
    "\n",
    "![](map.png)\n",
    "\n",
    "> 如果你读过Google的那篇大名鼎鼎的论文“MapReduce: Simplified Data Processing on Large Clusters”，你就能大概明白map/reduce的概念。在 hadoop 时代，map/reduce 的理念是高效并行运算的核心。"
   ]
  },
  {
   "cell_type": "code",
   "execution_count": 3,
   "metadata": {
    "collapsed": false
   },
   "outputs": [
    {
     "name": "stdout",
     "output_type": "stream",
     "text": [
      "1\n",
      "4\n",
      "9\n",
      "16\n",
      "25\n",
      "36\n",
      "49\n",
      "64\n",
      "81\n"
     ]
    }
   ],
   "source": [
    "# map 函数举例\n",
    "\n",
    "def f(x):\n",
    "    return x * x\n",
    "\n",
    "r = map(f, [1, 2, 3, 4, 5, 6, 7, 8, 9])\n",
    "\n",
    "for i in r:\n",
    "    print(i)"
   ]
  },
  {
   "cell_type": "code",
   "execution_count": 2,
   "metadata": {
    "collapsed": false
   },
   "outputs": [
    {
     "name": "stdout",
     "output_type": "stream",
     "text": [
      "4\n",
      "7\n",
      "12\n",
      "19\n",
      "28\n",
      "39\n",
      "52\n",
      "67\n",
      "84\n"
     ]
    }
   ],
   "source": [
    "# 这个 f(x) 函数可以更加复杂\n",
    "\n",
    "def f(x):\n",
    "    y = x * x + 3\n",
    "    return y\n",
    "\n",
    "r = map(f, [1, 2, 3, 4, 5, 6, 7, 8, 9])\n",
    "\n",
    "for i in r:\n",
    "    print(i)"
   ]
  },
  {
   "cell_type": "code",
   "execution_count": 6,
   "metadata": {
    "collapsed": false
   },
   "outputs": [
    {
     "name": "stdout",
     "output_type": "stream",
     "text": [
      "[8, 22, 36, 50, 64, 78, 92]\n",
      "67\n",
      "487\n",
      "1299\n",
      "2503\n",
      "4099\n",
      "6087\n",
      "8467\n"
     ]
    }
   ],
   "source": [
    "# 进行 map 处理的数据也可以很复杂\n",
    "\n",
    "def f(x):\n",
    "    y = x * x + 3\n",
    "    return y\n",
    "\n",
    "l = [x for x in range(1,100,7) if x % 2 ==0]\n",
    "\n",
    "print(l)\n",
    "\n",
    "# 主要的程序还是很简洁\n",
    "r = map(f, l)\n",
    "\n",
    "for i in r:\n",
    "    print(i)"
   ]
  },
  {
   "cell_type": "markdown",
   "metadata": {},
   "source": [
    "---\n",
    "\n",
    "##### reduce() 函数\n",
    "\n",
    "再看 reduce 的用法。reduce 把一个函数作用在一个序列[x1, x2, x3, ...]上，这个函数必须接收两个参数，reduce 把结果继续和序列的下一个元素做累积计算，其效果就是：\n",
    "\n",
    "reduce(f, [x1, x2, x3, x4]) = f(f(f(x1, x2), x3), x4)\n"
   ]
  },
  {
   "cell_type": "code",
   "execution_count": 8,
   "metadata": {
    "collapsed": false
   },
   "outputs": [
    {
     "name": "stdout",
     "output_type": "stream",
     "text": [
      "25\n"
     ]
    }
   ],
   "source": [
    "# reduce 举例，一个加法函数\n",
    "from functools import reduce\n",
    "\n",
    "def add(x, y):\n",
    "    return x + y\n",
    "\n",
    "print(reduce(add, [1, 3, 5, 7, 9]))"
   ]
  },
  {
   "cell_type": "code",
   "execution_count": 22,
   "metadata": {
    "collapsed": false
   },
   "outputs": [
    {
     "name": "stdout",
     "output_type": "stream",
     "text": [
      "13579\n"
     ]
    }
   ],
   "source": [
    "# reduce，模拟一个字符串转换为整数的函数\n",
    "\n",
    "from functools import reduce\n",
    "\n",
    "def f(x, y):\n",
    "    return x * 10 + y\n",
    "\n",
    "# 将字符转换为数字\n",
    "def char2int(s):\n",
    "    return {'0': 0, '1': 1, '2': 2, '3': 3, '4': 4, '5': 5, '6': 6, '7': 7, '8': 8, '9': 9}[s]\n",
    "\n",
    "print(reduce(f, map(char2int, '13579')))"
   ]
  },
  {
   "cell_type": "code",
   "execution_count": 18,
   "metadata": {
    "collapsed": false
   },
   "outputs": [
    {
     "name": "stdout",
     "output_type": "stream",
     "text": [
      "1 <class 'int'>\n",
      "3 <class 'int'>\n",
      "5 <class 'int'>\n",
      "7 <class 'int'>\n",
      "9 <class 'int'>\n"
     ]
    }
   ],
   "source": [
    "# 先 map\n",
    "\n",
    "l = map(char2num, '13579')\n",
    "for i in l:\n",
    "    print(i,type(i))"
   ]
  },
  {
   "cell_type": "code",
   "execution_count": 20,
   "metadata": {
    "collapsed": false
   },
   "outputs": [
    {
     "data": {
      "text/plain": [
       "13579"
      ]
     },
     "execution_count": 20,
     "metadata": {},
     "output_type": "execute_result"
    }
   ],
   "source": [
    "# 再 reduce\n",
    "\n",
    "l = map(char2num, '13579')\n",
    "print(reduce(fn,l))"
   ]
  },
  {
   "cell_type": "code",
   "execution_count": 1,
   "metadata": {
    "collapsed": false
   },
   "outputs": [
    {
     "name": "stdout",
     "output_type": "stream",
     "text": [
      "12345\n"
     ]
    }
   ],
   "source": [
    "# 将字符串转换成整数的函数再包装一下\n",
    "\n",
    "from functools import reduce\n",
    "\n",
    "def f(x, y):\n",
    "    return x * 10 + y\n",
    "\n",
    "def char2int(s):\n",
    "    return {'0': 0, '1': 1, '2': 2, '3': 3, '4': 4, '5': 5, \n",
    "            '6': 6, '7': 7, '8': 8, '9': 9}[s]\n",
    "\n",
    "def str2int(s):\n",
    "    return reduce(f, map(char2int, s))\n",
    "\n",
    "print(str2int('12345'))"
   ]
  },
  {
   "cell_type": "markdown",
   "metadata": {
    "collapsed": true
   },
   "source": [
    "---\n",
    "\n",
    "##### filter() 函数\n",
    "\n",
    "Python内建的filter()函数用于过滤序列。\n",
    "\n",
    "和map()类似，filter()也接收一个函数和一个序列。和map()不同的是，filter()把传入的函数依次作用于每个元素，然后根据返回值是True还是False决定保留还是丢弃该元素。\n",
    "\n"
   ]
  },
  {
   "cell_type": "code",
   "execution_count": 6,
   "metadata": {
    "collapsed": false
   },
   "outputs": [
    {
     "name": "stdout",
     "output_type": "stream",
     "text": [
      "[1, 5]\n"
     ]
    }
   ],
   "source": [
    "# filter 举例，在一个list中，删掉偶数，只保留奇数\n",
    "\n",
    "# 判断是否是奇数\n",
    "def is_odd(n):\n",
    "    return n % 2 == 1\n",
    "\n",
    "print(list(filter(is_odd, [1, 2, 4, 5, 6])))"
   ]
  },
  {
   "cell_type": "code",
   "execution_count": 19,
   "metadata": {
    "collapsed": false
   },
   "outputs": [
    {
     "name": "stdout",
     "output_type": "stream",
     "text": [
      "['A', 'B', 'C']\n"
     ]
    }
   ],
   "source": [
    "# 筛选一个 list 中为空的元素\n",
    "\n",
    "def not_empty(s):\n",
    "    # strip() 用于移除字符串头尾指定的字符（默认为空格）\n",
    "    if len(s.strip()) ==0:\n",
    "        return False\n",
    "    else:\n",
    "        return True\n",
    "\n",
    "print(list(filter(is_empty, ['A', '', 'B','C', '  '])))"
   ]
  },
  {
   "cell_type": "code",
   "execution_count": 21,
   "metadata": {
    "collapsed": false
   },
   "outputs": [
    {
     "name": "stdout",
     "output_type": "stream",
     "text": [
      "[5, 7, 11, 13, 17, 19, 23, 25, 29]\n"
     ]
    }
   ],
   "source": [
    "# 返回一定范围内既不能被2整除也不能被3整数的数字\n",
    "\n",
    "def f(x): \n",
    "    return x % 2 != 0 and x % 3 != 0\n",
    "\n",
    "print(list(filter(f, range(2, 30))))"
   ]
  },
  {
   "cell_type": "markdown",
   "metadata": {
    "collapsed": false
   },
   "source": [
    "---\n",
    "##### 高阶函数小结\n",
    "\n",
    "使用高阶函数可以让代码简洁优雅，好的函数，可以使程序修改和调试都变得容易。\n",
    "\n",
    "函数式编程，相对传统方式比较难理解，但是这样的确比较 pythonic，符合 python 的发展。\n",
    "\n",
    "对于一些独立的功能、常用的功能，并且有很明显的输入和输出，放到独立函数中，是比较好的做法。\n",
    "\n",
    "一般来说，一个函数的代码不要超过20行。\n",
    "\n",
    "复杂的项目，一般要采用面向对象的开发方式，才能有利于维护和更新。\n",
    "\n",
    "---\n",
    "\n",
    "python 函数式编程的基本功能点：\n",
    "\n",
    "函数作为返回值\n",
    "偏函数\n",
    "高阶函数 map/reduce, filter, sorted\n",
    "匿名函数 lambda"
   ]
  },
  {
   "cell_type": "markdown",
   "metadata": {
    "collapsed": true
   },
   "source": [
    "### 面向对象编程\n",
    "\n",
    "#### 类与实例\n",
    "\n",
    "类，是一个定义；实例是真正的对象的实现，创建一个实例的过程称作实例化。\n",
    "\n",
    "所有的类都继承自一个叫做 object 的类。继承的定义之后再说。\n",
    "\n",
    "类的一些操作方式和函数很像，在没有面向对象编程方式的时候，就是面向过程（函数）的开发方式。\n",
    "\n",
    "类可以很复杂，也可以很简单，取决于应用的需要。面向对象的编程方式，是现代流行的开发方式，博大精深，需要慢慢理解体会。一开始有些不太清楚，也没有关系。\n",
    "\n",
    "#### 类的属性\n",
    "\n",
    "类可以理解为一种称之为命名空间（ namespace），在这个类之下，数据都是属于这个类的实例的，我们称为属性，用实例名字+点+属性名字。这样的类比较简单，在 c 语言中称为结构体，在 pascal 中为记录类型，python 的数据结构比较简单。"
   ]
  },
  {
   "cell_type": "code",
   "execution_count": 3,
   "metadata": {
    "collapsed": false
   },
   "outputs": [
    {
     "name": "stdout",
     "output_type": "stream",
     "text": [
      "4\n",
      "5\n"
     ]
    }
   ],
   "source": [
    "# 申明一个 class MyData\n",
    "class MyData(object):\n",
    "    pass\n",
    "\n",
    "# 实例化  MyData, 实例的名字叫做 obj_math\n",
    "obj_math = MyData()\n",
    "obj_math.x = 4\n",
    "print(obj_math.x)"
   ]
  },
  {
   "cell_type": "markdown",
   "metadata": {},
   "source": [
    "---\n",
    "\n",
    "#### 类的方法\n",
    "\n",
    "光是把类作为命名空间太简单了，可以给类添加功能，称为方法。\n",
    "\n",
    "方法定义在类中，使用在实例中。可以理解为实例是真正做事情的代码，所以在实例中调用方法完成某个功能是合理的。\n",
    "\n"
   ]
  },
  {
   "cell_type": "code",
   "execution_count": 6,
   "metadata": {
    "collapsed": false
   },
   "outputs": [
    {
     "name": "stdout",
     "output_type": "stream",
     "text": [
      "Hello!\n"
     ]
    }
   ],
   "source": [
    "class MyData(object):\n",
    "    \n",
    "    # 定义一个 SayHello 的方法，self 可以理解为必须传递的参数\n",
    "    def SayHello(self):\n",
    "        print('Hello!')\n",
    "        \n",
    "# 实例化\n",
    "obj_math = MyData()\n",
    "\n",
    "# 调用方法\n",
    "obj_math.SayHello()"
   ]
  },
  {
   "cell_type": "code",
   "execution_count": 9,
   "metadata": {
    "collapsed": false
   },
   "outputs": [
    {
     "ename": "NameError",
     "evalue": "name 'self' is not defined",
     "output_type": "error",
     "traceback": [
      "\u001b[0;31m---------------------------------------------------------------------------\u001b[0m",
      "\u001b[0;31mNameError\u001b[0m                                 Traceback (most recent call last)",
      "\u001b[0;32m<ipython-input-9-c6a1e4d0136a>\u001b[0m in \u001b[0;36m<module>\u001b[0;34m()\u001b[0m\n\u001b[0;32m----> 1\u001b[0;31m \u001b[0mMyData\u001b[0m\u001b[0;34m.\u001b[0m\u001b[0mSayHello\u001b[0m\u001b[0;34m(\u001b[0m\u001b[0mself\u001b[0m\u001b[0;34m)\u001b[0m\u001b[0;34m\u001b[0m\u001b[0m\n\u001b[0m",
      "\u001b[0;31mNameError\u001b[0m: name 'self' is not defined"
     ]
    }
   ],
   "source": [
    "# 类直接调用没有意义，报错\n",
    "MyData.SayHello()"
   ]
  },
  {
   "cell_type": "code",
   "execution_count": 5,
   "metadata": {
    "collapsed": false
   },
   "outputs": [
    {
     "name": "stdout",
     "output_type": "stream",
     "text": [
      "Hello!\n",
      "9\n",
      "4\n"
     ]
    }
   ],
   "source": [
    "# 在上面基础上，复杂一点的例子\n",
    "\n",
    "class MyData(object):\n",
    "    \n",
    "    # 初始化方法，双下划线前后\n",
    "    # 实例化的时候，需要传递 self 之后的参数\n",
    "    def __init__(self, x, y):\n",
    "        self.x = x\n",
    "        self.y = y\n",
    "    \n",
    "    # 定义一个 SayHello 的方法，self 可以理解为必须传递的参数\n",
    "    def SayHello(self):\n",
    "        print('Hello!')\n",
    "        \n",
    "    def Add(self):\n",
    "        print(self.x + self.y)\n",
    "        \n",
    "# 实例化\n",
    "obj_math = MyData(3,4)\n",
    "\n",
    "# 调用方法\n",
    "obj_math.SayHello()\n",
    "\n",
    "obj_math.x = 5\n",
    "\n",
    "obj_math.Add()\n",
    "\n",
    "o1 = MyData(1,3)\n",
    "o1.Add()"
   ]
  },
  {
   "cell_type": "code",
   "execution_count": 15,
   "metadata": {
    "collapsed": false
   },
   "outputs": [
    {
     "name": "stdout",
     "output_type": "stream",
     "text": [
      "Hello!\n",
      "7\n",
      "11\n"
     ]
    }
   ],
   "source": [
    "# 再复杂一点，创建多个实例\n",
    "\n",
    "class MyData(object):\n",
    "    \n",
    "    # 初始化方法，双下划线前后\n",
    "    # 实例化的时候，需要传递 self 之后的参数\n",
    "    def __init__(self, x, y):\n",
    "        self.x = x\n",
    "        self.y = y\n",
    "    \n",
    "    # 定义一个 SayHello 的方法，self 可以理解为必须传递的参数\n",
    "    def SayHello(self):\n",
    "        print('Hello!')\n",
    "        \n",
    "    def Add(self):\n",
    "        print(self.x + self.y)\n",
    "        \n",
    "# 实例化\n",
    "obj_math = MyData(3,4)\n",
    "\n",
    "# 调用方法\n",
    "obj_math.SayHello()\n",
    "obj_math.Add()\n",
    "\n",
    "# 再创建一个实例\n",
    "obj_math2 = MyData(5,6)\n",
    "obj_math2.Add()"
   ]
  },
  {
   "cell_type": "markdown",
   "metadata": {},
   "source": [
    "---\n",
    "\n",
    "思考一下\n",
    "\n",
    "启动一个最简单的服务器 `python3 -m http.server`\n",
    "\n",
    "然后在浏览器中 127.0.0.1:8000 来进行访问这个服务器了"
   ]
  },
  {
   "cell_type": "code",
   "execution_count": 17,
   "metadata": {
    "collapsed": false
   },
   "outputs": [
    {
     "name": "stdout",
     "output_type": "stream",
     "text": [
      "Please input:3\n",
      "small\n"
     ]
    }
   ],
   "source": [
    "# 输入 n， 如果 n 等于 1 或者 等于 2 或者 等于 3， 显示 small，其他显示 big\n",
    "\n",
    "n = int(input('Please input:'))\n",
    "\n",
    "if n in [1,2,3]:\n",
    "    print('small')\n",
    "else:\n",
    "    print('big')"
   ]
  },
  {
   "cell_type": "code",
   "execution_count": 18,
   "metadata": {
    "collapsed": false
   },
   "outputs": [
    {
     "name": "stdout",
     "output_type": "stream",
     "text": [
      "[0, 0]\n",
      "[1, 2]\n",
      "[4, 4]\n",
      "[9, 6]\n",
      "[16, 8]\n"
     ]
    }
   ],
   "source": [
    "def multiply(x):\n",
    "    return (x*x)\n",
    "\n",
    "def add(x):\n",
    "    return (x+x)\n",
    "\n",
    "funcs = [multiply, add]\n",
    "\n",
    "for i in range(5):\n",
    "    value = list(map(lambda x: x(i), funcs))\n",
    "    print(value)"
   ]
  },
  {
   "cell_type": "code",
   "execution_count": null,
   "metadata": {
    "collapsed": true
   },
   "outputs": [],
   "source": []
  }
 ],
 "metadata": {
  "kernelspec": {
   "display_name": "Python 3",
   "language": "python",
   "name": "python3"
  },
  "language_info": {
   "codemirror_mode": {
    "name": "ipython",
    "version": 3
   },
   "file_extension": ".py",
   "mimetype": "text/x-python",
   "name": "python",
   "nbconvert_exporter": "python",
   "pygments_lexer": "ipython3",
   "version": "3.5.2"
  }
 },
 "nbformat": 4,
 "nbformat_minor": 0
}
