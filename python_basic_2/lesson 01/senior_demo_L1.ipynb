{
 "cells": [
  {
   "cell_type": "code",
   "execution_count": 12,
   "metadata": {
    "collapsed": false
   },
   "outputs": [
    {
     "name": "stdout",
     "output_type": "stream",
     "text": [
      "['Beijing', 'Shanghai', 'Taipei', 'Tokyo']\n"
     ]
    }
   ],
   "source": [
    "# 列表按照元素长度排序\n",
    "\n",
    "l = ['Shanghai', 'Beijing', 'Tokyo', 'Taipei']\n",
    "l.sort()\n",
    "print(l)"
   ]
  },
  {
   "cell_type": "code",
   "execution_count": 6,
   "metadata": {
    "collapsed": false
   },
   "outputs": [
    {
     "name": "stdout",
     "output_type": "stream",
     "text": [
      "['Shanghai', 'Beijing', 'Taipei', 'Tokyo']\n"
     ]
    }
   ],
   "source": [
    "# 列表按照元素长度排序\n",
    "# solution #1\n",
    "\n",
    "l = ['Shanghai', 'Beijing', 'Tokyo', 'Taipei']\n",
    "\n",
    "def str_len(s1):\n",
    "    return len(s1)\n",
    "\n",
    "l.sort(key = str_len)\n",
    "\n",
    "print(l[::-1])"
   ]
  },
  {
   "cell_type": "code",
   "execution_count": 9,
   "metadata": {
    "collapsed": false
   },
   "outputs": [
    {
     "name": "stdout",
     "output_type": "stream",
     "text": [
      "['Tokyo', 'Taipei', 'Beijing', 'Shanghai']\n"
     ]
    }
   ],
   "source": [
    "# 列表按照元素长度排序\n",
    "# solution #2\n",
    "\n",
    "l = ['Shanghai', 'Beijing', 'Tokyo', 'Taipei']\n",
    "l.sort(key = lambda s: len(s))\n",
    "print(l)"
   ]
  },
  {
   "cell_type": "code",
   "execution_count": 10,
   "metadata": {
    "collapsed": false
   },
   "outputs": [
    {
     "name": "stdout",
     "output_type": "stream",
     "text": [
      "3 4 5\n",
      "5 12 13\n",
      "6 8 10\n",
      "8 15 17\n",
      "9 12 15\n",
      "12 16 20\n"
     ]
    }
   ],
   "source": [
    "# 找到符合 x*x + y*y == z*z 的 x y z\n",
    "# solution #1\n",
    "\n",
    "n = 25\n",
    "\n",
    "for x in range(1,n):\n",
    "    for y in range(x,n):\n",
    "        for z in range(y,n):\n",
    "            if x*x + y*y == z*z:\n",
    "                print(x,y,z)\n"
   ]
  },
  {
   "cell_type": "code",
   "execution_count": 2,
   "metadata": {
    "collapsed": false
   },
   "outputs": [
    {
     "name": "stdout",
     "output_type": "stream",
     "text": [
      "[(3, 4, 5), (5, 12, 13), (6, 8, 10), (8, 15, 17), (9, 12, 15), (12, 16, 20)]\n"
     ]
    }
   ],
   "source": [
    "# solution #2\n",
    "\n",
    "n = 25 \n",
    "print([(x, y, z) for x in range(1, n) for y in range(x, n) for z in range(y, n) if x*x + y*y == z*z])"
   ]
  },
  {
   "cell_type": "code",
   "execution_count": null,
   "metadata": {
    "collapsed": true
   },
   "outputs": [],
   "source": []
  }
 ],
 "metadata": {
  "kernelspec": {
   "display_name": "Python 3",
   "language": "python",
   "name": "python3"
  },
  "language_info": {
   "codemirror_mode": {
    "name": "ipython",
    "version": 3
   },
   "file_extension": ".py",
   "mimetype": "text/x-python",
   "name": "python",
   "nbconvert_exporter": "python",
   "pygments_lexer": "ipython3",
   "version": "3.5.1"
  }
 },
 "nbformat": 4,
 "nbformat_minor": 0
}
