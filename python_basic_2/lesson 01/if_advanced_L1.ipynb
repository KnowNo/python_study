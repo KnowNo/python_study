{
 "cells": [
  {
   "cell_type": "code",
   "execution_count": 4,
   "metadata": {
    "collapsed": false
   },
   "outputs": [
    {
     "name": "stdout",
     "output_type": "stream",
     "text": [
      "Please input an integer:300\n",
      "More\n"
     ]
    }
   ],
   "source": [
    "n = int(input('Please input an integer:'))\n",
    "\n",
    "if n < 0 :\n",
    "    print('Negative')\n",
    "elif n >= 0 and n < 100:\n",
    "    print('Between 0..100')\n",
    "elif n >= 100 and n < 200:\n",
    "    print('Between 100..200')\n",
    "else :\n",
    "    print('More')\n",
    "\n",
    "    "
   ]
  },
  {
   "cell_type": "code",
   "execution_count": 8,
   "metadata": {
    "collapsed": false
   },
   "outputs": [
    {
     "name": "stdout",
     "output_type": "stream",
     "text": [
      "Please input an integer:400\n",
      "More\n"
     ]
    }
   ],
   "source": [
    "n = int(input('Please input an integer:'))\n",
    "\n",
    "if n < 0 :\n",
    "    print('Negative')\n",
    "else:\n",
    "    if n >= 0 and n < 100:\n",
    "        print('Between 0..100')\n",
    "    else:\n",
    "        if n >= 100 and n < 200:\n",
    "            print('Between 100..200')\n",
    "        else :\n",
    "            print('More')"
   ]
  },
  {
   "cell_type": "code",
   "execution_count": 1,
   "metadata": {
    "collapsed": false
   },
   "outputs": [
    {
     "name": "stdout",
     "output_type": "stream",
     "text": [
      "3\n"
     ]
    }
   ],
   "source": [
    "# 找到两个数字中的小的一个\n",
    "x, y = 4, 3\n",
    "if x < y:\n",
    "    smaller = x\n",
    "else:\n",
    "    smaller = y\n",
    "\n",
    "print(smaller)"
   ]
  },
  {
   "cell_type": "code",
   "execution_count": 2,
   "metadata": {
    "collapsed": false
   },
   "outputs": [
    {
     "name": "stdout",
     "output_type": "stream",
     "text": [
      "3\n"
     ]
    }
   ],
   "source": [
    "x, y = 4, 3\n",
    "\n",
    "smaller = x if x<y else y\n",
    "\n",
    "print(smaller)"
   ]
  },
  {
   "cell_type": "code",
   "execution_count": null,
   "metadata": {
    "collapsed": true
   },
   "outputs": [],
   "source": []
  }
 ],
 "metadata": {
  "kernelspec": {
   "display_name": "Python 3",
   "language": "python",
   "name": "python3"
  },
  "language_info": {
   "codemirror_mode": {
    "name": "ipython",
    "version": 3
   },
   "file_extension": ".py",
   "mimetype": "text/x-python",
   "name": "python",
   "nbconvert_exporter": "python",
   "pygments_lexer": "ipython3",
   "version": "3.5.2"
  }
 },
 "nbformat": 4,
 "nbformat_minor": 0
}
