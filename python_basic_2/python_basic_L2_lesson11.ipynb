{
 "cells": [
  {
   "cell_type": "markdown",
   "metadata": {},
   "source": [
    "# Lesson 11\n",
    "\n",
    "Python Begginer, Level 2, Lesson 10, v1.0.0, 2016.11 by David.Yi\n",
    "\n",
    "## 复习\n",
    "\n",
    "* python 中的函数式编程之二\n",
    "    * 高阶函数 map/reduce filter sorted\n",
    "    * 匿名函数\n",
    "* 面向对象的编程之一\n",
    "    * 类与实例\n",
    "    * 类的属性\n",
    "    * 类的方法\n",
    "\n",
    "\n",
    "## 本次内容要点\n",
    "\n",
    "* 面向对象的编程之二\n",
    "    * 创建和使用子类\n",
    "    * 构造器方法和解构器方法\n",
    "    * 调用父类的 super() 方法"
   ]
  },
  {
   "cell_type": "code",
   "execution_count": 6,
   "metadata": {
    "collapsed": false
   },
   "outputs": [
    {
     "name": "stdout",
     "output_type": "stream",
     "text": [
      "name: AA1\n",
      "weapon: gun\n",
      "blood: 1000\n",
      "Fight Common\n"
     ]
    }
   ],
   "source": [
    "# 我们建立一个有趣的简单的模仿游戏的类来说明面向对象编程的概念\n",
    "# v1.0.0\n",
    "\n",
    "# NPC 类\n",
    "class NPC(object):\n",
    "    \n",
    "    # 初始化 NPC 的属性\n",
    "    def __init__(self, name):\n",
    "        self.name = name\n",
    "        self.weapon = 'gun'\n",
    "        self.blood = 1000\n",
    "        \n",
    "    # 定义方法 - 显示 NPC 属性\n",
    "    def show_properties(self):\n",
    "        print('name:', self.name)\n",
    "        print('weapon:', self.weapon)\n",
    "        print('blood:', self.blood)\n",
    "    \n",
    "    # 定义方法 - 通用攻击\n",
    "    def fight_common(self):\n",
    "        print('Fight Common')\n",
    "    \n",
    "n1 = NPC('AA1')\n",
    "n1.show_properties()\n",
    "n1.fight_common()"
   ]
  },
  {
   "cell_type": "markdown",
   "metadata": {
    "collapsed": true
   },
   "source": [
    "---\n",
    "\n",
    "这个 NPC 的类，在初始化这里定义了 NPC 拥有的三个属性，name、weapon、blood，其中 name 需要创建实例的时候设置。\n",
    "\n",
    "NPC 类有两个方法，一个是 show_properties()，显示 NPC 的属性；另外一个是 fight_common()，我们称之为普通攻击。\n",
    "\n",
    "#### 创建和使用子类\n",
    "\n",
    "通过 `class B(A)`，即表示从 A 开始创建一个子类，我们称之为继承。\n",
    "\n",
    "面向对象的编程方式的有点已经可以体现，我们可以通过继承来构造一个对象体系，比如这里现在 NPC 这个类中，定义了游戏中人物的最基本的一些属性和方法，可以理解不光 NPC 是战士，还是巫师，对会有这些属性和方法；然后我们把各自独特的属性和方法定义在从 NPC 中继承的各个子类中。我们先来定义一个战士 Soldier 类。"
   ]
  },
  {
   "cell_type": "code",
   "execution_count": 20,
   "metadata": {
    "collapsed": false
   },
   "outputs": [
    {
     "name": "stdout",
     "output_type": "stream",
     "text": [
      "name: AA2\n",
      "weapon: gun\n",
      "blood: 1000\n",
      "Fight Common\n"
     ]
    }
   ],
   "source": [
    "# 战士 Soldier 类，继承自 NPC class\n",
    "class Soldier(NPC):\n",
    "    # 暂时什么也不干\n",
    "    pass\n",
    "        \n",
    "# 创建一个 Soldier 类， 作为 NPC 的子类\n",
    "n1 = Soldier('AA2')\n",
    "\n",
    "# 调用方法，因为 Soldier 中此刻并没有任何实际的方法等，所以实际上自动调用了父类的方法\n",
    "n1.show_properties()\n",
    "n1.fight_common()"
   ]
  },
  {
   "cell_type": "markdown",
   "metadata": {},
   "source": [
    "---\n",
    "\n",
    "在子类中，可以覆盖父类的方法。\n",
    "\n",
    "比如 `__init__()` ，我们需要在 Soldier 类的初始化中加入一个只有 soldier 才有的级别 level 属性。\n",
    "所以，我们先调用父类的`__init__()` 方法，再写 Soldier 类需要的代码。\n",
    "\n",
    "而 `show_properties()`方法，我们先用简单的办法，完全覆盖，也就是使用这个新的`show_properties()`方法，来显示 NPC 标准的三个属性以及 Soldier 的一个独立属性。"
   ]
  },
  {
   "cell_type": "code",
   "execution_count": 7,
   "metadata": {
    "collapsed": false
   },
   "outputs": [
    {
     "name": "stdout",
     "output_type": "stream",
     "text": [
      "name: AA2\n",
      "weapon: gun\n",
      "blood: 1000\n",
      "soldier_level: 1\n",
      "Fight Common\n"
     ]
    }
   ],
   "source": [
    "# 战士 Soldier 类\n",
    "class Soldier(NPC):\n",
    "    \n",
    "    # 建立 soldier 的初始化\n",
    "    def __init__(self, name):\n",
    "        # 调用 父类 NPC 的初始化方法\n",
    "        NPC.__init__(self, name)\n",
    "        \n",
    "        # soldier 自己的初始化\n",
    "        self.soldier_level = 1\n",
    "        \n",
    "    # 定义方法 - 显示 NPC 属性\n",
    "    def show_properties(self):\n",
    "        print('name:', self.name)\n",
    "        print('weapon:', self.weapon)\n",
    "        print('blood:', self.blood)\n",
    "        print('soldier_level:', self.soldier_level)\n",
    "\n",
    "# 创建一个 Soldier 类， 作为 NPC 的子类\n",
    "n1 = Soldier('AA2')\n",
    "n1.show_properties()\n",
    "n1.fight_common()       "
   ]
  },
  {
   "cell_type": "markdown",
   "metadata": {},
   "source": [
    "---\n",
    "\n",
    "再来看看 `show_properties()` 这个方法，总感觉这样有点笨重，因为不管是否是面向对象的编程方式，都不应该有太多重复的代码，现在 NPC 类中也有 `show_properties()` 方法，用来显示标准的三个属性，而 Soldier 类中同样名字的方法显示四个属性，如果 NPC 类中增加了属性，那么两边类中的这个方法都要修改。\n",
    "\n",
    "我们来看看有没有更好的办法，可以用 super(需要知道父类的类，self) 的方法来访问父类的方法，这样代码就简洁优雅了。"
   ]
  },
  {
   "cell_type": "code",
   "execution_count": 28,
   "metadata": {
    "collapsed": false
   },
   "outputs": [
    {
     "name": "stdout",
     "output_type": "stream",
     "text": [
      "name: AA2\n",
      "weapon: gun\n",
      "blood: 1000\n",
      "soldier_level 1\n",
      "Fight Common\n"
     ]
    }
   ],
   "source": [
    "# 战士 Soldier 类\n",
    "class Soldier(NPC):\n",
    "    \n",
    "    # 建立 soldier 的初始化\n",
    "    def __init__(self, name):\n",
    "        # 调用 父类 NPC 的初始化方法\n",
    "        NPC.__init__(self, name)\n",
    "        \n",
    "        # soldier 自己的初始化\n",
    "        self.soldier_level = 1\n",
    "        \n",
    "    # 定义方法 - 显示 NPC 属性\n",
    "    def show_properties(self):\n",
    "        # 通过 super 来调用父类方法\n",
    "        super(Soldier, self).show_properties()\n",
    "        print('soldier_level', self.soldier_level)\n",
    "\n",
    "# 创建一个 Soldier 类， 作为 NPC 的子类\n",
    "n1 = Soldier('AA2')\n",
    "n1.show_properties()\n",
    "n1.fight_common()   "
   ]
  },
  {
   "cell_type": "markdown",
   "metadata": {},
   "source": [
    "---\n",
    "\n",
    "#### __init__() 构造器方法和 __del__() 解构器方法\n",
    "\n",
    "可以理解构造就是创建，解构就是销毁。每一个对象的实例都是有声明周期的，从构造到解构。\n",
    "\n",
    "类别调用的时候，对象被创建的时候，python 先检查是否实现了 __init__() 方法，如果没有，则什么也不干。如果有 __init__()方法，则执行。\n",
    "\n",
    "python 作为高级语言，具有垃圾对象回收机制，当 python 发现对于该实例对象的引用都被清除掉后，会执行 __del__() 方法。通常不需要自己去实现这个 __del__() 方法，python 会做好这一切。"
   ]
  },
  {
   "cell_type": "code",
   "execution_count": 1,
   "metadata": {
    "collapsed": false
   },
   "outputs": [],
   "source": [
    "# 先整理一下上面的代码\n",
    "# v1.0.1\n",
    "\n",
    "# NPC 类\n",
    "class NPC(object):\n",
    "    \n",
    "    # 初始化 NPC 的属性\n",
    "    def __init__(self, name):\n",
    "        self.name = name\n",
    "        self.weapon = 'gun'\n",
    "        self.blood = 1000\n",
    "        \n",
    "    # 定义方法 - 显示 NPC 属性\n",
    "    def show_properties(self):\n",
    "        print('name:', self.name)\n",
    "        print('weapon:', self.weapon)\n",
    "        print('blood:', self.blood)\n",
    "    \n",
    "    # 定义方法 - 通用攻击\n",
    "    def fight_common(self):\n",
    "        print('Fight Common')\n",
    "        \n",
    "# 战士 Soldier 类\n",
    "class Soldier(NPC):\n",
    "    \n",
    "    # 建立 soldier 的初始化\n",
    "    def __init__(self, name):\n",
    "        # 调用 父类 NPC 的初始化方法\n",
    "        NPC.__init__(self, name)\n",
    "        \n",
    "        # soldier 自己的初始化\n",
    "        self.soldier_level = 1\n",
    "        \n",
    "    # 定义方法 - 显示 NPC 属性\n",
    "    def show_properties(self):\n",
    "        # 通过 super 来调用父类方法\n",
    "        super(Soldier, self).show_properties()\n",
    "        print('soldier_level', self.soldier_level)"
   ]
  },
  {
   "cell_type": "code",
   "execution_count": 6,
   "metadata": {
    "collapsed": false
   },
   "outputs": [
    {
     "name": "stdout",
     "output_type": "stream",
     "text": [
      "name: AA1\n",
      "weapon: gun\n",
      "blood: 1000\n",
      "soldier_level 1\n",
      "Fight Common\n",
      "\n",
      "name: AA2\n",
      "weapon: gun\n",
      "blood: 1000\n",
      "soldier_level 1\n",
      "Fight Common\n"
     ]
    }
   ],
   "source": [
    "# 创建两个 soldier\n",
    "\n",
    "n1 = Soldier('AA1')\n",
    "n1.show_properties()\n",
    "n1.fight_common()  \n",
    "\n",
    "print()\n",
    "\n",
    "n2 = Soldier('AA2')\n",
    "n2.show_properties()\n",
    "n2.fight_common()   "
   ]
  },
  {
   "cell_type": "code",
   "execution_count": 9,
   "metadata": {
    "collapsed": false
   },
   "outputs": [
    {
     "name": "stdout",
     "output_type": "stream",
     "text": [
      "name: AA0\n",
      "weapon: gun\n",
      "blood: 1000\n",
      "soldier_level: 1\n",
      "Fight Common\n",
      "name: AA1\n",
      "weapon: gun\n",
      "blood: 1000\n",
      "soldier_level: 1\n",
      "Fight Common\n",
      "name: AA2\n",
      "weapon: gun\n",
      "blood: 1000\n",
      "soldier_level: 1\n",
      "Fight Common\n"
     ]
    }
   ],
   "source": [
    "# 连续创建多个 soldier 的实例\n",
    "# 并存储在 list 中\n",
    "\n",
    "s = []\n",
    "\n",
    "for i in range(3):\n",
    "    n = Soldier('AA' + str(i))\n",
    "    n.show_properties()\n",
    "    n.fight_common() \n",
    "    s.append(n)"
   ]
  },
  {
   "cell_type": "code",
   "execution_count": 12,
   "metadata": {
    "collapsed": false
   },
   "outputs": [
    {
     "name": "stdout",
     "output_type": "stream",
     "text": [
      "[<__main__.Soldier object at 0x1063f2a58>, <__main__.Soldier object at 0x1063d7e48>, <__main__.Soldier object at 0x1063d7240>]\n"
     ]
    }
   ],
   "source": [
    "# 看一下存储了对象的列表\n",
    "\n",
    "print(s)"
   ]
  },
  {
   "cell_type": "code",
   "execution_count": 7,
   "metadata": {
    "collapsed": false
   },
   "outputs": [
    {
     "name": "stdout",
     "output_type": "stream",
     "text": [
      "AA0\n",
      "AA1\n",
      "AA2\n",
      "3\n"
     ]
    }
   ],
   "source": [
    "# 可以和一般访问列表一样访问列表中的对象\n",
    "\n",
    "for i in s:\n",
    "    print(i.name)\n",
    "    \n",
    "print(len(s))"
   ]
  },
  {
   "cell_type": "code",
   "execution_count": 8,
   "metadata": {
    "collapsed": false
   },
   "outputs": [
    {
     "name": "stdout",
     "output_type": "stream",
     "text": [
      "AA0\n",
      "AA2\n",
      "2\n"
     ]
    }
   ],
   "source": [
    "# 可以删除一个实例\n",
    "s.pop(1)\n",
    "\n",
    "# 显示列表中的实例\n",
    "for i in s:\n",
    "    print(i.name)\n",
    "    \n",
    "print(len(s))"
   ]
  },
  {
   "cell_type": "code",
   "execution_count": 10,
   "metadata": {
    "collapsed": false
   },
   "outputs": [
    {
     "name": "stdout",
     "output_type": "stream",
     "text": [
      "name: CC1\n",
      "weapon: gun\n",
      "blood: 1000\n",
      "wizard_level 1\n",
      "Fight Common\n",
      "Wizard Magic!\n"
     ]
    }
   ],
   "source": [
    "# 再增加一个巫师 Wizard 的类\n",
    "\n",
    "# 巫师 Wizard 类\n",
    "class Wizard(NPC):\n",
    "    \n",
    "    # 建立 Wizard 的初始化\n",
    "    def __init__(self, name):\n",
    "        # 调用 父类 NPC 的初始化方法\n",
    "        NPC.__init__(self, name)\n",
    "        \n",
    "        # soldier 自己的初始化\n",
    "        self.wizard_level = 1\n",
    "        \n",
    "    # 定义方法 - 显示 NPC 属性\n",
    "    def show_properties(self):\n",
    "        # 通过 super 来调用父类方法\n",
    "        super(Wizard, self).show_properties()\n",
    "        print('wizard_level', self.wizard_level)\n",
    "    \n",
    "    # 定义一个巫师专用的战斗方法\n",
    "    def wizard_fight_magic(self):\n",
    "        print('Wizard Magic!')\n",
    "        \n",
    "# 创建一个 wizard\n",
    "\n",
    "c1 = Wizard('CC1')\n",
    "c1.show_properties()\n",
    "c1.fight_common()  \n",
    "c1.wizard_fight_magic()"
   ]
  },
  {
   "cell_type": "code",
   "execution_count": 14,
   "metadata": {
    "collapsed": false
   },
   "outputs": [
    {
     "name": "stdout",
     "output_type": "stream",
     "text": [
      "name: AA0\n",
      "weapon: gun\n",
      "blood: 1000\n",
      "soldier_level 1\n",
      "name: AA1\n",
      "weapon: gun\n",
      "blood: 1000\n",
      "soldier_level 1\n",
      "name: AA2\n",
      "weapon: gun\n",
      "blood: 1000\n",
      "soldier_level 1\n",
      "name: CC0\n",
      "weapon: gun\n",
      "blood: 1000\n",
      "wizard_level 1\n",
      "name: CC1\n",
      "weapon: gun\n",
      "blood: 1000\n",
      "wizard_level 1\n",
      "name: CC2\n",
      "weapon: gun\n",
      "blood: 1000\n",
      "wizard_level 1\n",
      "AA0\n",
      "--\n",
      "AA1\n",
      "--\n",
      "AA2\n",
      "--\n",
      "CC0\n",
      "--\n",
      "CC1\n",
      "--\n",
      "CC2\n",
      "--\n"
     ]
    }
   ],
   "source": [
    "# 创建复杂的 NPC，3个 wizards，3个 soldiers\n",
    "\n",
    "# 创建多个 soldier 的实例\n",
    "s = []\n",
    "\n",
    "for i in range(3):\n",
    "    n = Soldier('AA' + str(i))\n",
    "    n.show_properties()\n",
    "    s.append(n)\n",
    "    \n",
    "for i in range(3):\n",
    "    n = Wizard('CC' + str(i))\n",
    "    n.show_properties()\n",
    "    s.append(n)\n",
    "\n",
    "for i in s:\n",
    "    print(i.name)\n",
    "    print('--')"
   ]
  },
  {
   "cell_type": "code",
   "execution_count": 12,
   "metadata": {
    "collapsed": false
   },
   "outputs": [
    {
     "name": "stdout",
     "output_type": "stream",
     "text": [
      "['__class__', '__delattr__', '__dict__', '__dir__', '__doc__', '__eq__', '__format__', '__ge__', '__getattribute__', '__gt__', '__hash__', '__init__', '__le__', '__lt__', '__module__', '__ne__', '__new__', '__reduce__', '__reduce_ex__', '__repr__', '__setattr__', '__sizeof__', '__str__', '__subclasshook__', '__weakref__', 'fight_common', 'show_properties']\n"
     ]
    }
   ],
   "source": [
    "# 显示类的方法\n",
    "\n",
    "print(dir(Soldier))"
   ]
  },
  {
   "cell_type": "code",
   "execution_count": 13,
   "metadata": {
    "collapsed": false
   },
   "outputs": [
    {
     "name": "stdout",
     "output_type": "stream",
     "text": [
      "['__class__', '__delattr__', '__dict__', '__dir__', '__doc__', '__eq__', '__format__', '__ge__', '__getattribute__', '__gt__', '__hash__', '__init__', '__le__', '__lt__', '__module__', '__ne__', '__new__', '__reduce__', '__reduce_ex__', '__repr__', '__setattr__', '__sizeof__', '__str__', '__subclasshook__', '__weakref__', 'fight_common', 'show_properties', 'wizard_fight_magic']\n"
     ]
    }
   ],
   "source": [
    "# 显示类的方法\n",
    "\n",
    "print(dir(Wizard))"
   ]
  },
  {
   "cell_type": "code",
   "execution_count": 10,
   "metadata": {
    "collapsed": true
   },
   "outputs": [],
   "source": [
    "# 当前版本的代码\n",
    "# v1.0.2\n",
    "\n",
    "# NPC 类\n",
    "class NPC(object):\n",
    "    \n",
    "    # 初始化 NPC 的属性\n",
    "    def __init__(self, name):\n",
    "        self.name = name\n",
    "        self.weapon = 'gun'\n",
    "        self.blood = 1000\n",
    "        \n",
    "    # 定义方法 - 显示 NPC 属性\n",
    "    def show_properties(self):\n",
    "        print('name:', self.name)\n",
    "        print('weapon:', self.weapon)\n",
    "        print('blood:', self.blood)\n",
    "    \n",
    "    # 定义方法 - 通用攻击\n",
    "    def fight_common(self):\n",
    "        print('Fight Common')\n",
    "        \n",
    "# 战士 Soldier 类\n",
    "class Soldier(NPC):\n",
    "    \n",
    "    # 建立 soldier 的初始化\n",
    "    def __init__(self, name):\n",
    "        # 调用 父类 NPC 的初始化方法\n",
    "        NPC.__init__(self, name)\n",
    "        \n",
    "        # soldier 自己的初始化\n",
    "        self.soldier_level = 1\n",
    "        \n",
    "    # 定义方法 - 显示 NPC 属性\n",
    "    def show_properties(self):\n",
    "        # 通过 super 来调用父类方法\n",
    "        super(Soldier, self).show_properties()\n",
    "        print('soldier_level', self.soldier_level)\n",
    "        \n",
    "# 巫师 Wizard 类\n",
    "class Wizard(NPC):\n",
    "    \n",
    "    # 建立 Wizard 的初始化\n",
    "    def __init__(self, name):\n",
    "        # 调用 父类 NPC 的初始化方法\n",
    "        NPC.__init__(self, name)\n",
    "        \n",
    "        # soldier 自己的初始化\n",
    "        self.wizard_level = 1\n",
    "        \n",
    "    # 定义方法 - 显示 NPC 属性\n",
    "    def show_properties(self):\n",
    "        # 通过 super 来调用父类方法\n",
    "        super(Wizard, self).show_properties()\n",
    "        print('wizard_level', self.wizard_level)\n",
    "    \n",
    "    # 定义一个巫师专用的战斗方法\n",
    "    def fight_magic(self):\n",
    "        print('Wizard Magic!')"
   ]
  },
  {
   "cell_type": "code",
   "execution_count": 18,
   "metadata": {
    "collapsed": false
   },
   "outputs": [
    {
     "name": "stdout",
     "output_type": "stream",
     "text": [
      "\n",
      "NPC created!\n",
      "name: AA0\n",
      "weapon: gun\n",
      "blood: 1000\n",
      "soldier_level 1\n",
      "\n",
      "NPC created!\n",
      "name: AA1\n",
      "weapon: gun\n",
      "blood: 1000\n",
      "soldier_level 1\n",
      "\n",
      "NPC created!\n",
      "name: CC0\n",
      "weapon: gun\n",
      "blood: 1000\n",
      "wizard_level 1\n",
      "\n",
      "NPC created!\n",
      "name: CC1\n",
      "weapon: gun\n",
      "blood: 1000\n",
      "wizard_level 1\n"
     ]
    }
   ],
   "source": [
    "# 在 NPC 的 __init__() 加入显示创建的是什么角色\n",
    "# v1.0.3\n",
    "\n",
    "# NPC 类\n",
    "class NPC(object):\n",
    "    \n",
    "    # 初始化 NPC 的属性\n",
    "    def __init__(self, name):\n",
    "        self.name = name\n",
    "        self.weapon = 'gun'\n",
    "        self.blood = 1000\n",
    "        # 先简单的显示\n",
    "        print('')\n",
    "        print('NPC created!')\n",
    "        \n",
    "    # 定义方法 - 显示 NPC 属性\n",
    "    def show_properties(self):\n",
    "        print('name:', self.name)\n",
    "        print('weapon:', self.weapon)\n",
    "        print('blood:', self.blood)\n",
    "    \n",
    "    # 定义方法 - 通用攻击\n",
    "    def fight_common(self):\n",
    "        print('Fight Common')\n",
    "        \n",
    "# 战士 Soldier 类\n",
    "class Soldier(NPC):\n",
    "    \n",
    "    # 建立 soldier 的初始化\n",
    "    def __init__(self, name):\n",
    "        # 调用 父类 NPC 的初始化方法\n",
    "        NPC.__init__(self, name)\n",
    "        \n",
    "        # soldier 自己的初始化\n",
    "        self.soldier_level = 1\n",
    "        \n",
    "    # 定义方法 - 显示 NPC 属性\n",
    "    def show_properties(self):\n",
    "        # 通过 super 来调用父类方法\n",
    "        super(Soldier, self).show_properties()\n",
    "        print('soldier_level', self.soldier_level)\n",
    "        \n",
    "# 巫师 Wizard 类\n",
    "class Wizard(NPC):\n",
    "    \n",
    "    # 建立 Wizard 的初始化\n",
    "    def __init__(self, name):\n",
    "        # 调用 父类 NPC 的初始化方法\n",
    "        NPC.__init__(self, name)\n",
    "        \n",
    "        # soldier 自己的初始化\n",
    "        self.wizard_level = 1\n",
    "        \n",
    "    # 定义方法 - 显示 NPC 属性\n",
    "    def show_properties(self):\n",
    "        # 通过 super 来调用父类方法\n",
    "        super(Wizard, self).show_properties()\n",
    "        print('wizard_level', self.wizard_level)\n",
    "    \n",
    "    # 定义一个巫师专用的战斗方法\n",
    "    def fight_magic(self):\n",
    "        print('Wizard Magic!')\n",
    "\n",
    "s = []\n",
    "\n",
    "for i in range(2):\n",
    "    n = Soldier('AA' + str(i))\n",
    "    n.show_properties()\n",
    "    s.append(n)\n",
    "    \n",
    "for i in range(2):\n",
    "    n = Wizard('CC' + str(i))\n",
    "    n.show_properties()\n",
    "    s.append(n)"
   ]
  },
  {
   "cell_type": "code",
   "execution_count": 27,
   "metadata": {
    "collapsed": false
   },
   "outputs": [
    {
     "name": "stdout",
     "output_type": "stream",
     "text": [
      "\n",
      "Soldier NPC created!\n",
      "name: AA0\n",
      "weapon: gun\n",
      "blood: 1000\n",
      "soldier_level 1\n",
      "\n",
      "Soldier NPC created!\n",
      "name: AA1\n",
      "weapon: gun\n",
      "blood: 1000\n",
      "soldier_level 1\n",
      "\n",
      "Wizard NPC created!\n",
      "name: CC0\n",
      "weapon: gun\n",
      "blood: 1000\n",
      "wizard_level 1\n",
      "\n",
      "Wizard NPC created!\n",
      "name: CC1\n",
      "weapon: gun\n",
      "blood: 1000\n",
      "wizard_level 1\n"
     ]
    }
   ],
   "source": [
    "# 但是在 NPC 这个父类中没有显示出具体的子类名称\n",
    "# 所以我们用下面的方法来显示子类的名称\n",
    "# type(self).__name__ 来访问类的名称\n",
    "# v1.0.4\n",
    "\n",
    "# NPC 类\n",
    "class NPC(object):\n",
    "    \n",
    "    # 初始化 NPC 的属性\n",
    "    def __init__(self, name):\n",
    "        self.name = name\n",
    "        self.weapon = 'gun'\n",
    "        self.blood = 1000\n",
    "        print('')\n",
    "        print(type(self).__name__, 'NPC created!')\n",
    "        \n",
    "    # 定义方法 - 显示 NPC 属性\n",
    "    def show_properties(self):\n",
    "        print('name:', self.name)\n",
    "        print('weapon:', self.weapon)\n",
    "        print('blood:', self.blood)\n",
    "    \n",
    "    # 定义方法 - 通用攻击\n",
    "    def fight_common(self):\n",
    "        print('Fight Common')\n",
    "        \n",
    "# 战士 Soldier 类\n",
    "class Soldier(NPC):\n",
    "    \n",
    "    # 建立 soldier 的初始化\n",
    "    def __init__(self, name):\n",
    "        # 调用 父类 NPC 的初始化方法\n",
    "        NPC.__init__(self, name)\n",
    "        \n",
    "        # soldier 自己的初始化\n",
    "        self.soldier_level = 1\n",
    "        \n",
    "    # 定义方法 - 显示 NPC 属性\n",
    "    def show_properties(self):\n",
    "        # 通过 super 来调用父类方法\n",
    "        super(Soldier, self).show_properties()\n",
    "        print('soldier_level', self.soldier_level)\n",
    "        \n",
    "# 巫师 Wizard 类\n",
    "class Wizard(NPC):\n",
    "    \n",
    "    # 建立 Wizard 的初始化\n",
    "    def __init__(self, name):\n",
    "        # 调用 父类 NPC 的初始化方法\n",
    "        NPC.__init__(self, name)\n",
    "        \n",
    "        # soldier 自己的初始化\n",
    "        self.wizard_level = 1\n",
    "        \n",
    "    # 定义方法 - 显示 NPC 属性\n",
    "    def show_properties(self):\n",
    "        # 通过 super 来调用父类方法\n",
    "        super(Wizard, self).show_properties()\n",
    "        print('wizard_level', self.wizard_level)\n",
    "    \n",
    "    # 定义一个巫师专用的战斗方法\n",
    "    def fight_magic(self):\n",
    "        print('Wizard Magic!')\n",
    "\n",
    "s = []\n",
    "\n",
    "for i in range(2):\n",
    "    n = Soldier('AA' + str(i))\n",
    "    n.show_properties()\n",
    "    s.append(n)\n",
    "    \n",
    "for i in range(2):\n",
    "    n = Wizard('CC' + str(i))\n",
    "    n.show_properties()\n",
    "    s.append(n)"
   ]
  },
  {
   "cell_type": "markdown",
   "metadata": {},
   "source": [
    "面向对象程序设计（英语：Object-oriented programming，缩写：OOP）是种具有对象概念的程序编程范型，同时也是一种程序开发的方法。它可能包含数据、属性、代码与方法。对象则指的是类的实例。它将对象作为程序的基本单元，将程序和数据封装其中，以提高软件的重用性、灵活性和扩展性，对象里的程序可以访问及经常修改对象相关连的数据。在面向对象程序编程里，计算机程序会被设计成彼此相关的对象。\n",
    "\n",
    "面向对象程序设计可以看作一种在程序中包含各种独立而又互相调用的对象的思想，这与传统的思想刚好相反：传统的程序设计主张将程序看作一系列函数的集合，或者直接就是一系列对电脑下达的指令。面向对象程序设计中的每一个对象都应该能够接受数据、处理数据并将数据传达给其它对象，因此它们都可以被看作一个小型的“机器”，即对象。目前已经被证实的是，面向对象程序设计推广了程序的灵活性和可维护性，并且在大型项目设计中广为应用。此外，支持者声称面向对象程序设计要比以往的做法更加便于学习，因为它能够让人们更简单地设计并维护程序，使得程序更加便于分析、设计、理解。反对者在某些领域对此予以否认。"
   ]
  },
  {
   "cell_type": "code",
   "execution_count": 4,
   "metadata": {
    "collapsed": false
   },
   "outputs": [
    {
     "name": "stdout",
     "output_type": "stream",
     "text": [
      "\n",
      "Soldier NPC created!\n",
      "name: AA0\n",
      "weapon: sword\n",
      "blood: 1000\n",
      "soldier_level 1\n",
      "\n",
      "Soldier NPC created!\n",
      "name: AA1\n",
      "weapon: sword\n",
      "blood: 1000\n",
      "soldier_level 1\n",
      "\n",
      "Wizard NPC created!\n",
      "name: CC0\n",
      "weapon: staff\n",
      "blood: 2000\n",
      "wizard_level 1\n",
      "\n",
      "Wizard NPC created!\n",
      "name: CC1\n",
      "weapon: staff\n",
      "blood: 2000\n",
      "wizard_level 1\n"
     ]
    }
   ],
   "source": [
    "# 继续优化，根据 NPC 类型来设定 blood 和 weapon\n",
    "# 将代码尽量集中，是有好处的\n",
    "# v1.0.5\n",
    "\n",
    "# NPC 类\n",
    "class NPC(object):\n",
    "    \n",
    "    # 初始化 NPC 的属性\n",
    "    def __init__(self, name):\n",
    "        self.name = name\n",
    "        \n",
    "        self.npc_type = type(self).__name__\n",
    "        \n",
    "        print('')\n",
    "        print(self.npc_type, 'NPC created!')\n",
    "        \n",
    "        if self.npc_type == 'Soldier':\n",
    "            self.weapon = 'sword'\n",
    "            self.blood = 1000\n",
    "            \n",
    "        if self.npc_type == 'Wizard':\n",
    "            self.weapon = 'staff'\n",
    "            self.blood = 2000\n",
    "        \n",
    "        \n",
    "    # 定义方法 - 显示 NPC 属性\n",
    "    def show_properties(self):\n",
    "        print('name:', self.name)\n",
    "        print('weapon:', self.weapon)\n",
    "        print('blood:', self.blood)\n",
    "    \n",
    "    # 定义方法 - 通用攻击\n",
    "    def fight_common(self):\n",
    "        print('Fight Common')\n",
    "        \n",
    "# 战士 Soldier 类\n",
    "class Soldier(NPC):\n",
    "    \n",
    "    # 建立 soldier 的初始化\n",
    "    def __init__(self, name):\n",
    "        # 调用 父类 NPC 的初始化方法\n",
    "        NPC.__init__(self, name)\n",
    "        \n",
    "        # soldier 自己的初始化\n",
    "        self.soldier_level = 1\n",
    "        \n",
    "    # 定义方法 - 显示 NPC 属性\n",
    "    def show_properties(self):\n",
    "        # 通过 super 来调用父类方法\n",
    "        super(Soldier, self).show_properties()\n",
    "        print('soldier_level', self.soldier_level)\n",
    "        \n",
    "# 巫师 Wizard 类\n",
    "class Wizard(NPC):\n",
    "    \n",
    "    # 建立 Wizard 的初始化\n",
    "    def __init__(self, name):\n",
    "        # 调用 父类 NPC 的初始化方法\n",
    "        NPC.__init__(self, name)\n",
    "        \n",
    "        # soldier 自己的初始化\n",
    "        self.wizard_level = 1\n",
    "        \n",
    "    # 定义方法 - 显示 NPC 属性\n",
    "    def show_properties(self):\n",
    "        # 通过 super 来调用父类方法\n",
    "        super(Wizard, self).show_properties()\n",
    "        print('wizard_level', self.wizard_level)\n",
    "    \n",
    "    # 定义一个巫师专用的战斗方法\n",
    "    def fight_magic(self):\n",
    "        print('Wizard Magic!')\n",
    "\n",
    "s = []\n",
    "\n",
    "for i in range(2):\n",
    "    n = Soldier('AA' + str(i))\n",
    "    n.show_properties()\n",
    "    s.append(n)\n",
    "    \n",
    "for i in range(2):\n",
    "    n = Wizard('CC' + str(i))\n",
    "    n.show_properties()\n",
    "    s.append(n)"
   ]
  }
 ],
 "metadata": {
  "anaconda-cloud": {},
  "kernelspec": {
   "display_name": "Python 3",
   "language": "python",
   "name": "python3"
  },
  "language_info": {
   "codemirror_mode": {
    "name": "ipython",
    "version": 3
   },
   "file_extension": ".py",
   "mimetype": "text/x-python",
   "name": "python",
   "nbconvert_exporter": "python",
   "pygments_lexer": "ipython3",
   "version": "3.5.2"
  }
 },
 "nbformat": 4,
 "nbformat_minor": 0
}
