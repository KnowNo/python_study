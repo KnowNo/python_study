{
 "cells": [
  {
   "cell_type": "markdown",
   "metadata": {},
   "source": [
    "# Lesson 13\n",
    "\n",
    "Python Begginer, Level 2, Lesson 12, v1.0.0, 2016.12 by David.Yi\n",
    "\n",
    "## 复习\n",
    "\n",
    "* 面向对象的编程之三\n",
    "    * 更加优雅的程序设计思路\n",
    "    * 类方法\n",
    "    * 静态方法\n",
    "    * 类属性\n",
    "\n",
    "\n",
    "## 本次内容要点\n",
    "\n",
    "* 面向对象的编程之四\n",
    "    * 类属性\n",
    "    * 类属性安全的访问方法\n",
    "* 字符串应用\n",
    "* 复习"
   ]
  },
  {
   "cell_type": "code",
   "execution_count": 1,
   "metadata": {
    "collapsed": false
   },
   "outputs": [
    {
     "name": "stdout",
     "output_type": "stream",
     "text": [
      "\n",
      "soldier NPC created!\n",
      "name: AA0\n",
      "weapon: sword\n",
      "blood: 1000\n",
      "level: 1\n",
      "\n",
      "soldier NPC created!\n",
      "name: AA1\n",
      "weapon: sword\n",
      "blood: 1000\n",
      "level: 1\n",
      "\n",
      "wizard NPC created!\n",
      "name: CC0\n",
      "weapon: staff\n",
      "blood: 800\n",
      "level: 1\n",
      "\n",
      "wizard NPC created!\n",
      "name: CC1\n",
      "weapon: staff\n",
      "blood: 800\n",
      "level: 1\n",
      "\n",
      "Begin Fighting:\n",
      "('Soldier', 'blood', ('Fight Common', -100))\n",
      "('Soldier', 'blood', ('Sword Fight!', -200))\n",
      "('Wizard', 'blood', ('Fight Common', -100))\n",
      "('Wizard', 'blood', ('Staff Magic!', -300))\n",
      "\n",
      "npc count:  4\n"
     ]
    }
   ],
   "source": [
    "# 进一步优化\n",
    "# 加入类属性，npc_count, 计算创建了多少 npc \n",
    "# v1.0.13\n",
    "\n",
    "# npc 的属性字典\n",
    "npc_dict = {'soldier':{'weapon':'sword', 'blood':1000, 'level':1}, 'wizard':{'weapon':'staff', 'blood':800, 'level':1}}\n",
    "# fight output 字典\n",
    "fight_output_dict = {'fight_common':{'name':'Fight Common','blood':-100}, \n",
    "                    'sword_fight':{'name':'Sword Fight!','blood':-200},\n",
    "                    'staff_magic':{'name':'Staff Magic!','blood':-300}}\n",
    "\n",
    "# NPC 类\n",
    "class NPC(object):\n",
    "    \n",
    "    npc_count = 0\n",
    "        \n",
    "    # 初始化 NPC 的属性\n",
    "    def __init__(self, name):\n",
    "        self.name = name\n",
    "        \n",
    "        # 将类名称转换为全部小写\n",
    "        self.npc_type = (type(self).__name__).lower()\n",
    "        \n",
    "        print('')\n",
    "        print(self.npc_type, 'NPC created!')\n",
    "        \n",
    "        # 初始化值统一放在 NPC 类中\n",
    "        # 从 npc_dict 中读出\n",
    "        # weapon_list 保存武器内容\n",
    "        self.weapon =  npc_dict.get(self.npc_type).get('weapon')\n",
    "        self.blood = npc_dict.get(self.npc_type).get('blood')\n",
    "        self.level = npc_dict.get(self.npc_type).get('level')\n",
    "        \n",
    "        # npc 计数器 +1 \n",
    "        NPC.npc_count += 1 \n",
    "               \n",
    "    # 定义方法 - 显示 NPC 属性\n",
    "    def show_properties(self):\n",
    "        print('name:', self.name)\n",
    "        print('weapon:', self.weapon)\n",
    "        print('blood:', self.blood)\n",
    "        print('level:', self.level)\n",
    "    \n",
    "    # 定义方法 - 通用攻击\n",
    "    # fight 的内容从外部读入\n",
    "    @classmethod\n",
    "    def fight_common(cls):\n",
    "        return (cls.__name__, 'blood' , NPC.fight_output('fight_common'))\n",
    "    \n",
    "    # 静态方法 - 战斗输出\n",
    "    # 从外部数据读入战斗输出的值\n",
    "    @staticmethod\n",
    "    def fight_output(fight_type):\n",
    "        name = fight_output_dict.get(fight_type).get('name')\n",
    "        output = fight_output_dict.get(fight_type).get('blood')\n",
    "        return (name,output)  \n",
    "        \n",
    "# 战士 Soldier 类\n",
    "class Soldier(NPC):\n",
    "            \n",
    "    # soldier 自己的战斗方法\n",
    "    def sword_fight(self):\n",
    "        return ('Soldier', 'blood' , NPC.fight_output('sword_fight'))        \n",
    "        \n",
    "# 巫师 Wizard 类\n",
    "class Wizard(NPC):\n",
    "    \n",
    "    # wizard 自己的战斗方法\n",
    "    def staff_magic(self):\n",
    "        return ('Wizard', 'blood' , NPC.fight_output('staff_magic')) \n",
    "\n",
    "# 执行代码\n",
    "    \n",
    "s = []\n",
    "\n",
    "for i in range(2):\n",
    "    n = Soldier('AA' + str(i))\n",
    "    n.show_properties()\n",
    "    s.append(n)\n",
    "    \n",
    "for i in range(2):\n",
    "    n = Wizard('CC' + str(i))\n",
    "    n.show_properties()\n",
    "    s.append(n)\n",
    "\n",
    "\n",
    "print('\\nBegin Fighting:')\n",
    "print(s[1].fight_common())\n",
    "print(s[1].sword_fight())\n",
    "print(s[2].fight_common())\n",
    "print(s[2].staff_magic())\n",
    "# 查看 npc 数量\n",
    "print('\\nnpc count: ', NPC.npc_count)"
   ]
  },
  {
   "cell_type": "code",
   "execution_count": 2,
   "metadata": {
    "collapsed": false
   },
   "outputs": [
    {
     "name": "stdout",
     "output_type": "stream",
     "text": [
      "AA0\n",
      "npc count: 5\n",
      "4\n"
     ]
    }
   ],
   "source": [
    "# 类变量容易引起问题，每个实例会和类拥有同名的类变量\n",
    "print(s[0].name)\n",
    "s[0].npc_count += 1\n",
    "print('npc count:',s[0].npc_count)\n",
    "print(NPC.npc_count)"
   ]
  },
  {
   "cell_type": "code",
   "execution_count": 3,
   "metadata": {
    "collapsed": false
   },
   "outputs": [
    {
     "name": "stdout",
     "output_type": "stream",
     "text": [
      "\n",
      "soldier NPC created!\n",
      "name: AA0\n",
      "weapon: sword\n",
      "blood: 1000\n",
      "level: 1\n",
      "\n",
      "soldier NPC created!\n",
      "name: AA1\n",
      "weapon: sword\n",
      "blood: 1000\n",
      "level: 1\n",
      "\n",
      "wizard NPC created!\n",
      "name: CC0\n",
      "weapon: staff\n",
      "blood: 800\n",
      "level: 1\n",
      "\n",
      "wizard NPC created!\n",
      "name: CC1\n",
      "weapon: staff\n",
      "blood: 800\n",
      "level: 1\n",
      "\n",
      "Begin Fighting:\n",
      "('Soldier', 'blood', ('Fight Common', -100))\n",
      "('Soldier', 'blood', ('Sword Fight!', -200))\n",
      "('Wizard', 'blood', ('Fight Common', -100))\n",
      "('Wizard', 'blood', ('Staff Magic!', -300))\n",
      "\n",
      "npc count:  4\n"
     ]
    }
   ],
   "source": [
    "# 进一步优化\n",
    "# 将类属性修改为私有，__npc_count, 并通过方法来获得创建了多少 npc \n",
    "# v1.0.14\n",
    "\n",
    "# npc 的属性字典\n",
    "npc_dict = {'soldier':{'weapon':'sword', 'blood':1000, 'level':1}, 'wizard':{'weapon':'staff', 'blood':800, 'level':1}}\n",
    "# fight output 字典\n",
    "fight_output_dict = {'fight_common':{'name':'Fight Common','blood':-100}, \n",
    "                    'sword_fight':{'name':'Sword Fight!','blood':-200},\n",
    "                    'staff_magic':{'name':'Staff Magic!','blood':-300}}\n",
    "\n",
    "# NPC 类\n",
    "class NPC(object):\n",
    "    \n",
    "    __npc_count = 0\n",
    "        \n",
    "    # 初始化 NPC 的属性\n",
    "    def __init__(self, name):\n",
    "        self.name = name\n",
    "        \n",
    "        # 将类名称转换为全部小写\n",
    "        self.npc_type = (type(self).__name__).lower()\n",
    "        \n",
    "        print('')\n",
    "        print(self.npc_type, 'NPC created!')\n",
    "        \n",
    "        # 初始化值统一放在 NPC 类中\n",
    "        # 从 npc_dict 中读出\n",
    "        # weapon_list 保存武器内容\n",
    "        self.weapon =  npc_dict.get(self.npc_type).get('weapon')\n",
    "        self.blood = npc_dict.get(self.npc_type).get('blood')\n",
    "        self.level = npc_dict.get(self.npc_type).get('level')\n",
    "        \n",
    "        # npc 计数器 +1 \n",
    "        NPC.__npc_count += 1 \n",
    "    \n",
    "    # 显示 npc 数量方法\n",
    "    @staticmethod\n",
    "    def get_npc_count():\n",
    "        return NPC.__npc_count\n",
    "               \n",
    "    # 定义方法 - 显示 NPC 属性\n",
    "    def show_properties(self):\n",
    "        print('name:', self.name)\n",
    "        print('weapon:', self.weapon)\n",
    "        print('blood:', self.blood)\n",
    "        print('level:', self.level)\n",
    "    \n",
    "    # 定义方法 - 通用攻击\n",
    "    # fight 的内容从外部读入\n",
    "    @classmethod\n",
    "    def fight_common(cls):\n",
    "        return (cls.__name__, 'blood' , NPC.fight_output('fight_common'))\n",
    "    \n",
    "    # 静态方法 - 战斗输出\n",
    "    # 从外部数据读入战斗输出的值\n",
    "    @staticmethod\n",
    "    def fight_output(fight_type):\n",
    "        name = fight_output_dict.get(fight_type).get('name')\n",
    "        output = fight_output_dict.get(fight_type).get('blood')\n",
    "        return (name,output)  \n",
    "        \n",
    "# 战士 Soldier 类\n",
    "class Soldier(NPC):\n",
    "            \n",
    "    # soldier 自己的战斗方法\n",
    "    def sword_fight(self):\n",
    "        return ('Soldier', 'blood' , NPC.fight_output('sword_fight'))        \n",
    "        \n",
    "# 巫师 Wizard 类\n",
    "class Wizard(NPC):\n",
    "    \n",
    "    # wizard 自己的战斗方法\n",
    "    def staff_magic(self):\n",
    "        return ('Wizard', 'blood' , NPC.fight_output('staff_magic')) \n",
    "\n",
    "# 执行代码\n",
    "    \n",
    "s = []\n",
    "\n",
    "for i in range(2):\n",
    "    n = Soldier('AA' + str(i))\n",
    "    n.show_properties()\n",
    "    s.append(n)\n",
    "    \n",
    "for i in range(2):\n",
    "    n = Wizard('CC' + str(i))\n",
    "    n.show_properties()\n",
    "    s.append(n)\n",
    "\n",
    "\n",
    "print('\\nBegin Fighting:')\n",
    "print(s[1].fight_common())\n",
    "print(s[1].sword_fight())\n",
    "print(s[2].fight_common())\n",
    "print(s[2].staff_magic())\n",
    "# 查看 npc 数量\n",
    "print('\\nnpc count: ', NPC.get_npc_count())"
   ]
  },
  {
   "cell_type": "markdown",
   "metadata": {},
   "source": [
    "---\n",
    "\n",
    "#### 字符串处理\n",
    "\n",
    "字符串是程序中经常碰到的数据类型，字符串的很多处理和 list 有点像，但也有些区别"
   ]
  },
  {
   "cell_type": "code",
   "execution_count": 4,
   "metadata": {
    "collapsed": false
   },
   "outputs": [
    {
     "name": "stdout",
     "output_type": "stream",
     "text": [
      "True\n",
      "False\n",
      "False\n"
     ]
    }
   ],
   "source": [
    "# 判断是否是字母\n",
    "\n",
    "s1 = 'abcde'\n",
    "s2 = '12'\n",
    "s3 = '12s'\n",
    "print(s1.isalpha())\n",
    "print(s2.isalpha())\n",
    "print(s3.isalpha())"
   ]
  },
  {
   "cell_type": "code",
   "execution_count": 5,
   "metadata": {
    "collapsed": false
   },
   "outputs": [
    {
     "name": "stdout",
     "output_type": "stream",
     "text": [
      "True\n",
      "True\n",
      "False\n"
     ]
    }
   ],
   "source": [
    "# 判断是否是字母、是否是数字\n",
    "\n",
    "s1 = 'abcde'\n",
    "s2 = '12'\n",
    "s3 = '12s'\n",
    "print(s1.isalpha())\n",
    "print(s2.isdigit())\n",
    "print(s3.isalpha())"
   ]
  },
  {
   "cell_type": "code",
   "execution_count": 11,
   "metadata": {
    "collapsed": false
   },
   "outputs": [
    {
     "name": "stdout",
     "output_type": "stream",
     "text": [
      "True\n",
      "False\n"
     ]
    }
   ],
   "source": [
    "# 判断是否是小写\n",
    "\n",
    "s1 = 'abc'\n",
    "print(s1.islower())\n",
    "print(''.islower())"
   ]
  },
  {
   "cell_type": "code",
   "execution_count": 7,
   "metadata": {
    "collapsed": false
   },
   "outputs": [
    {
     "name": "stdout",
     "output_type": "stream",
     "text": [
      "True\n"
     ]
    }
   ],
   "source": [
    "# 判断是否是大写 \n",
    "\n",
    "s1 = 'ABC'\n",
    "print(s1.isupper())"
   ]
  },
  {
   "cell_type": "code",
   "execution_count": 8,
   "metadata": {
    "collapsed": false
   },
   "outputs": [
    {
     "name": "stdout",
     "output_type": "stream",
     "text": [
      "True\n"
     ]
    }
   ],
   "source": [
    "# 是否字母数字混合\n",
    "\n",
    "s1 ='123abc'\n",
    "print(s1.isalnum())"
   ]
  },
  {
   "cell_type": "code",
   "execution_count": 5,
   "metadata": {
    "collapsed": false
   },
   "outputs": [
    {
     "name": "stdout",
     "output_type": "stream",
     "text": [
      "find it\n",
      "8\n"
     ]
    }
   ],
   "source": [
    "# 字符串查找\n",
    "\n",
    "s1 = 'What is your name'\n",
    "if s1.find('your') != -1:\n",
    "    print('find it')\n",
    "    print(s1.find('your'))"
   ]
  },
  {
   "cell_type": "code",
   "execution_count": 10,
   "metadata": {
    "collapsed": false
   },
   "outputs": [
    {
     "name": "stdout",
     "output_type": "stream",
     "text": [
      "find it\n"
     ]
    }
   ],
   "source": [
    "# 字符串查找的另外一种方式\n",
    "\n",
    "s1 = 'What is your name'\n",
    "if 'your' in s1 != -1:\n",
    "    print('find it')"
   ]
  },
  {
   "cell_type": "code",
   "execution_count": 11,
   "metadata": {
    "collapsed": false
   },
   "outputs": [
    {
     "name": "stdout",
     "output_type": "stream",
     "text": [
      "What is my name\n"
     ]
    }
   ],
   "source": [
    "# 字符串替换\n",
    "\n",
    "s1 = 'What is your name'\n",
    "s2 = s1.replace('your', 'my')\n",
    "print(s2)"
   ]
  },
  {
   "cell_type": "code",
   "execution_count": 19,
   "metadata": {
    "collapsed": false
   },
   "outputs": [
    {
     "name": "stdout",
     "output_type": "stream",
     "text": [
      "fedcba\n"
     ]
    }
   ],
   "source": [
    "# 字符串切片\n",
    "\n",
    "s1 = 'abcdef'\n",
    "s2 = s1[::-1]\n",
    "print(s2)"
   ]
  },
  {
   "cell_type": "code",
   "execution_count": 13,
   "metadata": {
    "collapsed": false
   },
   "outputs": [
    {
     "name": "stdout",
     "output_type": "stream",
     "text": [
      "['a', 'b', 'c', 'd', 'e', 'f']\n",
      "['', 'a', 'b', 'c', '', 'd', 'e', 'f']\n"
     ]
    }
   ],
   "source": [
    "# 字符串和列表的转换\n",
    "\n",
    "s1 = ' a b c  d e f'\n",
    "s2 = s1.split()\n",
    "s3 = s1.split(' ')\n",
    "print(s2)\n",
    "print(s3)"
   ]
  },
  {
   "cell_type": "code",
   "execution_count": 14,
   "metadata": {
    "collapsed": false
   },
   "outputs": [
    {
     "name": "stdout",
     "output_type": "stream",
     "text": [
      "abcdef\n",
      "ABCDEF\n"
     ]
    }
   ],
   "source": [
    "# 字符串转换为小写、大写\n",
    "\n",
    "s1 = 'aBCdef'\n",
    "print(s1.lower())\n",
    "print(s1.upper())"
   ]
  },
  {
   "cell_type": "code",
   "execution_count": 22,
   "metadata": {
    "collapsed": false
   },
   "outputs": [
    {
     "name": "stdout",
     "output_type": "stream",
     "text": [
      "a b c  d e f 12\n",
      "a b c  d e f   14\n",
      "   a b c  d e f\n"
     ]
    }
   ],
   "source": [
    "# 字符串去除空格\n",
    "\n",
    "s1 = '   a b c  d e f  '\n",
    "print(s1.strip(' '),len(s1.strip(' ')))\n",
    "print(s1.lstrip(' '),len(s1.lstrip(' ')))\n",
    "print(s1.rstrip(' '))"
   ]
  },
  {
   "cell_type": "code",
   "execution_count": 24,
   "metadata": {
    "collapsed": false
   },
   "outputs": [
    {
     "name": "stdout",
     "output_type": "stream",
     "text": [
      "012\n",
      "2302\n",
      "12  \n",
      "2302\n",
      "  12\n",
      "2302\n"
     ]
    }
   ],
   "source": [
    "# 字符串对齐\n",
    "\n",
    "s1 = '12'\n",
    "s2 = '2302'\n",
    "print(s1.zfill(3))\n",
    "print(s2.zfill(3))\n",
    "\n",
    "print(s1.ljust(4))\n",
    "print(s2.ljust(4))\n",
    "\n",
    "print(s1.rjust(4))\n",
    "print(s2.rjust(4))"
   ]
  },
  {
   "cell_type": "code",
   "execution_count": 29,
   "metadata": {
    "collapsed": false
   },
   "outputs": [
    {
     "name": "stdout",
     "output_type": "stream",
     "text": [
      "0976\n"
     ]
    }
   ],
   "source": [
    "a='12345679012456'\n",
    "print(a[8:4:-1])"
   ]
  },
  {
   "cell_type": "code",
   "execution_count": null,
   "metadata": {
    "collapsed": true
   },
   "outputs": [],
   "source": []
  }
 ],
 "metadata": {
  "kernelspec": {
   "display_name": "Python 3",
   "language": "python",
   "name": "python3"
  },
  "language_info": {
   "codemirror_mode": {
    "name": "ipython",
    "version": 3
   },
   "file_extension": ".py",
   "mimetype": "text/x-python",
   "name": "python",
   "nbconvert_exporter": "python",
   "pygments_lexer": "ipython3",
   "version": "3.5.2"
  }
 },
 "nbformat": 4,
 "nbformat_minor": 0
}
