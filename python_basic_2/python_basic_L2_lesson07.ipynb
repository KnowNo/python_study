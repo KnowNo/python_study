{
 "cells": [
  {
   "cell_type": "markdown",
   "metadata": {},
   "source": [
    "# Python for Senior Lesson 7\n",
    "\n",
    "v1.0.0\n",
    "\n",
    "2016.11 by David.Yi\n",
    "\n",
    "\n",
    "## 本次内容要点\n",
    "\n",
    "* 测验\n",
    "* 测验题目讲解"
   ]
  },
  {
   "cell_type": "code",
   "execution_count": 10,
   "metadata": {
    "collapsed": false
   },
   "outputs": [
    {
     "name": "stdout",
     "output_type": "stream",
     "text": [
      "5\n"
     ]
    }
   ],
   "source": [
    "# if else 的用法\n",
    "\n",
    "x, y = 4, 5\n",
    "\n",
    "smaller = x if x > y else y\n",
    "\n",
    "print(smaller)"
   ]
  },
  {
   "cell_type": "code",
   "execution_count": 26,
   "metadata": {
    "collapsed": false
   },
   "outputs": [
    {
     "name": "stdout",
     "output_type": "stream",
     "text": [
      "27\n"
     ]
    }
   ],
   "source": [
    "# 匿名函数 lambda 用法\n",
    "\n",
    "a =  lambda x, y=2 : x + y*3 \n",
    "print(a(3) + a(3, 5))"
   ]
  },
  {
   "cell_type": "code",
   "execution_count": 29,
   "metadata": {
    "collapsed": false
   },
   "outputs": [
    {
     "name": "stdout",
     "output_type": "stream",
     "text": [
      "3\n"
     ]
    }
   ],
   "source": [
    "# list 的 count方法\n",
    "\n",
    "l = ['tom', 'steven', 'jerry', 'steven']\n",
    "print(l.count('tom') + l.count('steven'))"
   ]
  },
  {
   "cell_type": "code",
   "execution_count": 30,
   "metadata": {
    "collapsed": false
   },
   "outputs": [
    {
     "name": "stdout",
     "output_type": "stream",
     "text": [
      "3\n"
     ]
    }
   ],
   "source": [
    "# os 用法\n",
    "# 计算目录下有多少文件\n",
    "\n",
    "import os\n",
    "\n",
    "a = os.listdir()\n",
    "print(len(a))"
   ]
  },
  {
   "cell_type": "code",
   "execution_count": 10,
   "metadata": {
    "collapsed": false
   },
   "outputs": [
    {
     "data": {
      "text/plain": [
       "204"
      ]
     },
     "execution_count": 10,
     "metadata": {},
     "output_type": "execute_result"
    }
   ],
   "source": [
    "# 获得路径或者文件的大小\n",
    "import os\n",
    "\n",
    "os.path.getsize('/Users')"
   ]
  },
  {
   "cell_type": "code",
   "execution_count": 9,
   "metadata": {
    "collapsed": false
   },
   "outputs": [
    {
     "name": "stdout",
     "output_type": "stream",
     "text": [
      "164\n"
     ]
    }
   ],
   "source": [
    "# 列表生成式用法\n",
    "# 在列表生成式后面加上判断，过滤出结果为偶数的结果\n",
    "\n",
    "n = 0\n",
    "for i in [x * x for x in range(8, 11) if x % 2 == 0]:\n",
    "    n = n + i\n",
    "print(n)"
   ]
  },
  {
   "cell_type": "code",
   "execution_count": 14,
   "metadata": {
    "collapsed": false
   },
   "outputs": [
    {
     "name": "stdout",
     "output_type": "stream",
     "text": [
      "hello\n",
      "byebye\n"
     ]
    }
   ],
   "source": [
    "# 简化调用方式\n",
    "# 省却了 try...finally，会有 with 来自动控制\n",
    "\n",
    "filename = 'test.txt'\n",
    "\n",
    "with open(filename, 'r') as f:\n",
    "    print(f.read())"
   ]
  },
  {
   "cell_type": "code",
   "execution_count": 38,
   "metadata": {
    "collapsed": false
   },
   "outputs": [
    {
     "name": "stdout",
     "output_type": "stream",
     "text": [
      "8\n"
     ]
    }
   ],
   "source": [
    "# python 有趣灵活的变量定义\n",
    "\n",
    "first, second, *rest = (1,2,3,4,5,6,7,8)\n",
    "print(first + second + rest[2])"
   ]
  },
  {
   "cell_type": "code",
   "execution_count": 42,
   "metadata": {
    "collapsed": false
   },
   "outputs": [
    {
     "name": "stdout",
     "output_type": "stream",
     "text": [
      "letter: t\n"
     ]
    }
   ],
   "source": [
    "# for continue 举例\n",
    "# 以及 等于 不等于 或者 的逻辑判断\n",
    "\n",
    "for l in 'computer':\n",
    "    if l != 't' or l == 'u':\n",
    "        continue\n",
    "    print('letter:', l)"
   ]
  },
  {
   "cell_type": "code",
   "execution_count": 12,
   "metadata": {
    "collapsed": false
   },
   "outputs": [
    {
     "name": "stdout",
     "output_type": "stream",
     "text": [
      "3 4 5\n",
      "count: 1\n"
     ]
    }
   ],
   "source": [
    "# 找到符合 x*x + y*y == z*z + 3 的 x y z\n",
    "# 多种循环\n",
    "\n",
    "n = 0\n",
    "\n",
    "for x in range(1,10):\n",
    "    for y in range(x,10):\n",
    "        for z in range(y,10):\n",
    "            if x*x + y*y == z*z:\n",
    "                print(x,y,z)\n",
    "                n= n + 1\n",
    "print('count:',n)"
   ]
  },
  {
   "cell_type": "code",
   "execution_count": 7,
   "metadata": {
    "collapsed": false
   },
   "outputs": [
    {
     "name": "stdout",
     "output_type": "stream",
     "text": [
      "(2, 4, 1)\n"
     ]
    }
   ],
   "source": [
    "# python 内置函数 \n",
    "\n",
    "print(max((1,2),(2,3),(2,4),(2,4,1)))"
   ]
  },
  {
   "cell_type": "code",
   "execution_count": 8,
   "metadata": {
    "collapsed": false
   },
   "outputs": [
    {
     "name": "stdout",
     "output_type": "stream",
     "text": [
      "0 amy\n",
      "1 tom\n",
      "2 jerry \n"
     ]
    }
   ],
   "source": [
    "l = ['amy', 'tom', 'jerry ']\n",
    "for i, item in enumerate(l):\n",
    "    print(i, item)"
   ]
  },
  {
   "cell_type": "code",
   "execution_count": null,
   "metadata": {
    "collapsed": true
   },
   "outputs": [],
   "source": []
  }
 ],
 "metadata": {
  "kernelspec": {
   "display_name": "Python 3",
   "language": "python",
   "name": "python3"
  },
  "language_info": {
   "codemirror_mode": {
    "name": "ipython",
    "version": 3
   },
   "file_extension": ".py",
   "mimetype": "text/x-python",
   "name": "python",
   "nbconvert_exporter": "python",
   "pygments_lexer": "ipython3",
   "version": "3.5.2"
  }
 },
 "nbformat": 4,
 "nbformat_minor": 0
}
