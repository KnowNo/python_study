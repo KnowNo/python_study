{
 "cells": [
  {
   "cell_type": "code",
   "execution_count": 18,
   "metadata": {
    "collapsed": false
   },
   "outputs": [
    {
     "name": "stdout",
     "output_type": "stream",
     "text": [
      "\n",
      "1x1=1\t\n",
      "2x1=2\t2x2=4\t\n",
      "3x1=3\t3x2=6\t3x3=9\t\n",
      "4x1=4\t4x2=8\t4x3=12\t4x4=16\t\n",
      "5x1=5\t5x2=10\t5x3=15\t5x4=20\t5x5=25\t\n",
      "6x1=6\t6x2=12\t6x3=18\t6x4=24\t6x5=30\t6x6=36\t\n",
      "7x1=7\t7x2=14\t7x3=21\t7x4=28\t7x5=35\t7x6=42\t7x7=49\t\n",
      "8x1=8\t8x2=16\t8x3=24\t8x4=32\t8x5=40\t8x6=48\t8x7=56\t8x8=64\t\n",
      "9x1=9\t9x2=18\t9x3=27\t9x4=36\t9x5=45\t9x6=54\t9x7=63\t9x8=72\t9x9=81\t\n"
     ]
    }
   ],
   "source": [
    "for x in range(10):                        \n",
    "    for y in range(1,x+1):                   \n",
    "        print('{}x{}={}\\t'.format(x, y, x*y), end='')\n",
    "    print() "
   ]
  },
  {
   "cell_type": "code",
   "execution_count": 19,
   "metadata": {
    "collapsed": false
   },
   "outputs": [
    {
     "name": "stdout",
     "output_type": "stream",
     "text": [
      "1*1=1 \n",
      "1*2=2  2*2=4 \n",
      "1*3=3  2*3=6  3*3=9 \n",
      "1*4=4  2*4=8  3*4=12 4*4=16\n",
      "1*5=5  2*5=10 3*5=15 4*5=20 5*5=25\n",
      "1*6=6  2*6=12 3*6=18 4*6=24 5*6=30 6*6=36\n",
      "1*7=7  2*7=14 3*7=21 4*7=28 5*7=35 6*7=42 7*7=49\n",
      "1*8=8  2*8=16 3*8=24 4*8=32 5*8=40 6*8=48 7*8=56 8*8=64\n",
      "1*9=9  2*9=18 3*9=27 4*9=36 5*9=45 6*9=54 7*9=63 8*9=72 9*9=81\n"
     ]
    }
   ],
   "source": [
    "print('\\n'.join([' '.join(['%s*%s=%-2s' % (y,x,x*y) for y in range(1,x+1)]) for x in range(1,10)]))"
   ]
  },
  {
   "cell_type": "code",
   "execution_count": 5,
   "metadata": {
    "collapsed": false
   },
   "outputs": [
    {
     "name": "stdout",
     "output_type": "stream",
     "text": [
      "                                                            \n",
      "                                                            \n",
      "                                                            \n",
      "                00FKFK!!0           FK!!00FKF               \n",
      "            K!!00FKFK!!00FKFK   0FKFK!!00FKFK!!00           \n",
      "          FK!!00FKFK!!00FKFK!!00FKFK!!00FKFK!!00FKF         \n",
      "         FK!!00FKFK!!00FKFK!!00FKFK!!00FKFK!!00FKFK!        \n",
      "        FK!!00FKFK!!00FKFK!!00FKFK!!00FKFK!!00FKFK!!0       \n",
      "        K!!00FKFK!!00FKFK!!00FKFK!!00FKFK!!00FKFK!!00       \n",
      "        !!00FKFK!!00FKFK!!00FKFK!!00FKFK!!00FKFK!!00F       \n",
      "        !00FKFK!!00FKFK!!00FKFK!!00FKFK!!00FKFK!!00FK       \n",
      "        00FKFK!!00FKFK!!00FKFK!!00FKFK!!00FKFK!!00FKF       \n",
      "        0FKFK!!00FKFK!!00FKFK!!00FKFK!!00FKFK!!00FKFK       \n",
      "         KFK!!00FKFK!!00FKFK!!00FKFK!!00FKFK!!00FKFK        \n",
      "          K!!00FKFK!!00FKFK!!00FKFK!!00FKFK!!00FKFK         \n",
      "          !!00FKFK!!00FKFK!!00FKFK!!00FKFK!!00FKFK!         \n",
      "            0FKFK!!00FKFK!!00FKFK!!00FKFK!!00FKFK           \n",
      "             KFK!!00FKFK!!00FKFK!!00FKFK!!00FKFK            \n",
      "              K!!00FKFK!!00FKFK!!00FKFK!!00FKFK             \n",
      "                00FKFK!!00FKFK!!00FKFK!!00FKF               \n",
      "                  KFK!!00FKFK!!00FKFK!!00FK                 \n",
      "                    !!00FKFK!!00FKFK!!00F                   \n",
      "                       FKFK!!00FKFK!!0                      \n",
      "                          !!00FKFK!                         \n",
      "                             FKF                            \n",
      "                              F                             \n",
      "                                                            \n",
      "                                                            \n",
      "                                                            \n",
      "                                                            \n"
     ]
    }
   ],
   "source": [
    "print('\\n'.join([''.join([('FKFK!!00'[(x-y)%8]if((x*0.05)**2+(y*0.1)**2-1)**3-(x*0.05)**2*(y*0.1)**3<=0 else' ')for x in range(-30,30)])for y in range(15,-15,-1)]))"
   ]
  },
  {
   "cell_type": "code",
   "execution_count": null,
   "metadata": {
    "collapsed": true
   },
   "outputs": [],
   "source": []
  }
 ],
 "metadata": {
  "kernelspec": {
   "display_name": "Python 3",
   "language": "python",
   "name": "python3"
  },
  "language_info": {
   "codemirror_mode": {
    "name": "ipython",
    "version": 3
   },
   "file_extension": ".py",
   "mimetype": "text/x-python",
   "name": "python",
   "nbconvert_exporter": "python",
   "pygments_lexer": "ipython3",
   "version": "3.5.1"
  }
 },
 "nbformat": 4,
 "nbformat_minor": 0
}
