{
 "cells": [
  {
   "cell_type": "markdown",
   "metadata": {},
   "source": [
    "# Lesson 9\n",
    "\n",
    "Python Basic, Lesson 4, v1.0.1, 2016.12 by David.Yi      \n",
    "Python Basic, Lesson 4, v1.0.2, 2017.03 modified by Yimeng.Zhang\n",
    "v1.2,2020.4 edit by David Yi\n",
    "\n",
    "    \n",
    "### 本次内容要点\n",
    "\n",
    "* 日期函数库 datetime 用法介绍，datetime、time 等库的介绍，获得日期，字符串和日期转换，日期格式介绍，日期加减计算\n",
    "* 思考\n",
    "\n"
   ]
  },
  {
   "cell_type": "markdown",
   "metadata": {},
   "source": [
    "### 日期处理\n",
    "\n",
    "datetime 是Python处理日期和时间的标准库，用于获取日期和进行日期计算等。\n",
    "\n",
    "需要理解 timestamp，UTC标准时区，时差这些概念。\n",
    "\n",
    "Python 的日期相关的标准库比较多（略有杂乱），有 datetime, time, calendar。\n",
    "\n",
    "datetime 库包括 date 日期，time 时间， datetime 日期和时间，tzinfo 时区，timedelta 时间跨度计算 等主要对象。\n",
    "\n",
    "获取当前日期和时间：`now = datetime.now()`\n",
    "\n",
    "日期戳和日期的区别，日期戳更加精确，日期只是年月日\n",
    "根据需要使用，大多数情况下只需要日期即可\n",
    "\n",
    "Time 对于时间的处理更加精确，用时间戳的表达方式\n",
    "\n",
    "时间戳定义为格林威治时间1970年01月01日00时00分00秒起至现在的总秒数，时间戳是惟一的\n"
   ]
  },
  {
   "cell_type": "code",
   "execution_count": 2,
   "metadata": {},
   "outputs": [
    {
     "name": "stdout",
     "output_type": "stream",
     "text": [
      "2017-07-07 12:38:54.969064\n",
      "2017-07-07\n",
      "1499402334.9690642\n"
     ]
    }
   ],
   "source": [
    "# 显示今天日期\n",
    "# 显示今天 datetime 和 time\n",
    "\n",
    "from datetime import datetime, date\n",
    "import time\n",
    "\n",
    "print(datetime.now())\n",
    "print(date.today())\n",
    "print(time.time())"
   ]
  },
  {
   "cell_type": "code",
   "execution_count": 3,
   "metadata": {},
   "outputs": [
    {
     "name": "stdout",
     "output_type": "stream",
     "text": [
      "<class 'datetime.datetime'>\n",
      "<class 'datetime.date'>\n",
      "<class 'float'>\n"
     ]
    }
   ],
   "source": [
    "# 各种日期时间类型的数据类型\n",
    "\n",
    "print(type(datetime.now()))\n",
    "print(type(date.today()))\n",
    "print(type(time.time()))"
   ]
  },
  {
   "cell_type": "code",
   "execution_count": 3,
   "metadata": {},
   "outputs": [
    {
     "name": "stdout",
     "output_type": "stream",
     "text": [
      "1499402337.276191\n",
      "1499402337.276191\n",
      "1499402337.276191\n",
      "1499402337.276191\n",
      "1499402337.276191\n",
      "1499402337.276191\n",
      "1499402337.276191\n",
      "1499402337.276191\n",
      "1499402337.276191\n",
      "1499402337.276191\n"
     ]
    }
   ],
   "source": [
    "# 连续运行显示时间戳，看看时间戳差了多少毫秒\n",
    "\n",
    "for i in range(10):\n",
    "    print(time.time())"
   ]
  },
  {
   "cell_type": "code",
   "execution_count": 4,
   "metadata": {},
   "outputs": [
    {
     "name": "stdout",
     "output_type": "stream",
     "text": [
      "time: 0.014995813369750977\n"
     ]
    }
   ],
   "source": [
    "# 用 time() 来计时，算10万次平方，看看哪台电脑速度快\n",
    "import time\n",
    "a = time.time()\n",
    "for i in range(100000):\n",
    "    j = i * i \n",
    "\n",
    "b = time.time()\n",
    "    \n",
    "print('time:', b-a)"
   ]
  },
  {
   "cell_type": "markdown",
   "metadata": {},
   "source": [
    "---\n",
    "\n",
    "#### 日期库-字符串和日期的转换\n",
    "\n",
    "字符串转化为日期：datetime.strptime()\n",
    "\n",
    "日期转换为字符串：datetime.strftime()\n",
    "\n",
    "日期字符串格式，举例\n",
    "\n",
    "```python\n",
    "cday1 = datetime.now().strftime('%a, %b %d %H:%M')\n",
    "cday2 = datetime.now().strftime('%A, %b %d %H:%M, %j')\n",
    "cday3 = datetime.now().strftime('%Y-%m-%d %H:%M:%S')\n",
    "```\n",
    "\n",
    "#### 日期库 – 日期格式说明\n",
    "\n",
    "* %a 英文星期的简写 (shorthand of week in English)\n",
    "* %A 英文星期的完整拼写 (longhand of week in English)\n",
    "* %b 英文月份的简写 (shorthand of month in English)\n",
    "* %B 英文月份的完整拼写 (longhand of month in English)\n",
    "* %c 本地当前的日期与时间 (current local date and time)\n",
    "* %d 日期数, 1-31之间 (date, between 1-31))\n",
    "* %H 小时数, 00-23之间 (hour, between 00-23))\n",
    "* %I 小时数, 01-12之间 (hour, between 01-12)\n",
    "* %m 月份, 01-12之间 (month, between 01-12)\n",
    "* %M 分钟数, 01-59之间 (minute, 01-59)\n",
    "* %j 本年从第1天开始计数到当天的天数 (total days from 1st day of this year till now)\n",
    "* %w 星期数, 0-6之间(0是周日)  (day of the week, between 0-6, 0=Sunday)\n",
    "* %W 当天属于本年的第几周,周一作为一周的第一天进行计算 (week of the year, starting with Monday )\n",
    "* %x 本地的当天日期 (local date)\n",
    "* %X 本地的当前时间 (local time)\n",
    "* %y 年份,0-99之间 (year, between 0-99)\n",
    "* %Y 年份的完整拼写 (longhand of year)\n",
    "\n"
   ]
  },
  {
   "cell_type": "code",
   "execution_count": 13,
   "metadata": {},
   "outputs": [
    {
     "name": "stdout",
     "output_type": "stream",
     "text": [
      "2017-01-02 18:19:59\n",
      "<class 'datetime.datetime'>\n",
      "\n",
      "\n",
      "2017, 19, 05 11 12:46\n",
      "<class 'str'>\n"
     ]
    }
   ],
   "source": [
    "# 字符串转化为日期\n",
    "\n",
    "dday = datetime.strptime('2017-1-2 18:19:59', '%Y-%m-%d %H:%M:%S')\n",
    "print(dday)\n",
    "print(type(dday))\n",
    "print('\\n')\n",
    "\n",
    "# 日期转换为字符串\n",
    "\n",
    "day1 = datetime.now().strftime('%Y, %W, %m %d %H:%M')\n",
    "print(day1)\n",
    "print(type(day1))"
   ]
  },
  {
   "cell_type": "code",
   "execution_count": 37,
   "metadata": {},
   "outputs": [
    {
     "name": "stdout",
     "output_type": "stream",
     "text": [
      "Sun, Mar 19 11:28\n",
      "Sunday, Mar 19 11:28, 078\n",
      "2017-03-19 11:28:19\n"
     ]
    }
   ],
   "source": [
    "# 日期转换为字符串，各种格式\n",
    "\n",
    "cday1 = datetime.now().strftime('%a, %b %d %H:%M')\n",
    "cday2 = datetime.now().strftime('%A, %b %d %H:%M, %j')\n",
    "cday3 = datetime.now().strftime('%Y-%m-%d %H:%M:%S')\n",
    "print(cday1)\n",
    "print(cday2)\n",
    "print(cday3)"
   ]
  },
  {
   "cell_type": "code",
   "execution_count": 14,
   "metadata": {},
   "outputs": [
    {
     "name": "stdout",
     "output_type": "stream",
     "text": [
      "time.struct_time(tm_year=2017, tm_mon=5, tm_mday=11, tm_hour=12, tm_min=47, tm_sec=34, tm_wday=3, tm_yday=131, tm_isdst=0)\n",
      "time.struct_time(tm_year=2017, tm_mon=5, tm_mday=11, tm_hour=12, tm_min=47, tm_sec=34, tm_wday=3, tm_yday=131, tm_isdst=0)\n",
      "<class 'time.struct_time'>\n"
     ]
    }
   ],
   "source": [
    "# 格式化时间戳为本地的时间 converts number of seconds to local time\n",
    "\n",
    "print(time.localtime(time.time()))\n",
    "print(time.localtime())  # If secs is not provided or None, the current time as returned by time() is used\n",
    "\n",
    "print(type(time.localtime(time.time())))"
   ]
  },
  {
   "cell_type": "code",
   "execution_count": 21,
   "metadata": {},
   "outputs": [
    {
     "name": "stdout",
     "output_type": "stream",
     "text": [
      "2017-03-19 11:02:10\n",
      "<class 'str'>\n"
     ]
    }
   ],
   "source": [
    "# 本地时间转换为字符串\n",
    "\n",
    "t = time.strftime('%Y-%m-%d %H:%M:%S',time.localtime())\n",
    "print(t)\n",
    "print(type(t))"
   ]
  },
  {
   "cell_type": "markdown",
   "metadata": {},
   "source": [
    "---\n",
    "\n",
    "#### 日期计算\n",
    "\n",
    "对日期和时间进行加减实际上就是把 datetime 往后或往前计算，得到新的 datetime，需要导入 datetime 的 timedelta 类。\n"
   ]
  },
  {
   "cell_type": "code",
   "execution_count": 15,
   "metadata": {},
   "outputs": [
    {
     "name": "stdout",
     "output_type": "stream",
     "text": [
      "2017-05-11 12:48:38.858528\n",
      "2017-05-11 02:48:38.858528\n"
     ]
    }
   ],
   "source": [
    "# 日期计算\n",
    "# timedelta(days=0, seconds=0, microseconds=0, milliseconds=0, minutes=0, hours=0, weeks=0)\n",
    "\n",
    "from datetime import timedelta\n",
    "\n",
    "now = datetime.now()\n",
    "now1 = now + timedelta(hours=-10)\n",
    "print(now)\n",
    "print(now1)"
   ]
  },
  {
   "cell_type": "code",
   "execution_count": 9,
   "metadata": {},
   "outputs": [
    {
     "name": "stdout",
     "output_type": "stream",
     "text": [
      "2017-03-22 12:47:45.586054\n",
      "2017-03-22 23:07:35.586054\n"
     ]
    }
   ],
   "source": [
    "# 日期的各个变量的计算\n",
    "\n",
    "now = datetime.now()\n",
    "now1 = now + timedelta(hours=10, minutes=20, seconds=-10)\n",
    "print(now)\n",
    "print(now1)"
   ]
  },
  {
   "cell_type": "markdown",
   "metadata": {},
   "source": [
    "## 思考 \n",
    "\n",
    "计算倒计时，现在距离2018元旦距离现在还有多少天"
   ]
  },
  {
   "cell_type": "code",
   "execution_count": null,
   "metadata": {},
   "outputs": [],
   "source": [
    "from datetime import datetime\n",
    "\n",
    "#日期格式转换\n",
    "newyear = datetime.strptime('2018-01-01', '%Y-%m-%d')\n",
    "#获取现在的时间\n",
    "now = datetime.now()\n",
    "#时间差\n",
    "timedelta = newyear-now\n",
    "print(timedelta.days)\n",
    "print(type(newyear))"
   ]
  }
 ],
 "metadata": {
  "kernelspec": {
   "display_name": "Python 3",
   "language": "python",
   "name": "python3"
  },
  "language_info": {
   "codemirror_mode": {
    "name": "ipython",
    "version": 3
   },
   "file_extension": ".py",
   "mimetype": "text/x-python",
   "name": "python",
   "nbconvert_exporter": "python",
   "pygments_lexer": "ipython3",
   "version": "3.7.6"
  }
 },
 "nbformat": 4,
 "nbformat_minor": 1
}
