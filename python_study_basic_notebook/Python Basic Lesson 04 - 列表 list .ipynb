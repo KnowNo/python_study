{
 "cells": [
  {
   "cell_type": "markdown",
   "metadata": {},
   "source": [
    "# Lesson 4\n",
    "\n",
    "v1.0.0, 2016.12 by David Yi   \n",
    "v1.0.1, 2017.02 modified by Yimeng Zhang  \n",
    "v1.1, 2020.4 edit by David Yi\n",
    "\n",
    "    \n",
    "### 本次内容要点\n",
    "\n",
    "* list 列表用法\n",
    "* 思考"
   ]
  },
  {
   "cell_type": "markdown",
   "metadata": {
    "collapsed": true
   },
   "source": [
    "---\n",
    "\n",
    "##  list 列表用法\n",
    "\n",
    "列表 list 是 Python 内置的一种数据类型。list是一种可变、有序的集合，可以随时添加和删除其中的元素。\n",
    "列表是 Python 程序中最常用的数据类型之一，掌握列表的用法会大大提升 Python 的开发能力。\n",
    "\n",
    "列表的基本操作：\n",
    "* 创建列表\n",
    "* 访问列表中的元素\n",
    "* 增加元素\n",
    "* 删除元素\n",
    "* 排序\n",
    "* 多维\n",
    "* 保存和载入\n",
    "\n",
    "list 中除了保存一般的数字、字符以外，可以存储 Python 中各种复杂的数据类型，包括 list 本身、对象等。"
   ]
  },
  {
   "cell_type": "code",
   "execution_count": 1,
   "metadata": {},
   "outputs": [
    {
     "name": "stdout",
     "output_type": "stream",
     "text": [
      "['pig', 'cat', 'dog']\n",
      "cat\n",
      "dog\n"
     ]
    }
   ],
   "source": [
    "# 创建列表\n",
    "\n",
    "a = ['pig', 'cat', 'dog']\n",
    "\n",
    "print(a)\n",
    "\n",
    "# 用序号访问列表中的元素，支持双向\n",
    "print(a[1])\n",
    "print(a[-1])"
   ]
  },
  {
   "cell_type": "code",
   "execution_count": 1,
   "metadata": {},
   "outputs": [
    {
     "name": "stdout",
     "output_type": "stream",
     "text": [
      "['bird']\n",
      "['bird', 'snake']\n"
     ]
    }
   ],
   "source": [
    "# 列表初始化\n",
    "a = []\n",
    "\n",
    "# 列表末尾追加元素\n",
    "a.append('bird')\n",
    "print(a)\n",
    "a.append('snake')\n",
    "print(a)"
   ]
  },
  {
   "cell_type": "code",
   "execution_count": 2,
   "metadata": {},
   "outputs": [
    {
     "name": "stdout",
     "output_type": "stream",
     "text": [
      "['sheep', 'bird', 'snake']\n"
     ]
    }
   ],
   "source": [
    "# 列表指定位置插入元素\n",
    "a.insert(0,'sheep')\n",
    "print(a)"
   ]
  },
  {
   "cell_type": "code",
   "execution_count": 3,
   "metadata": {},
   "outputs": [
    {
     "name": "stdout",
     "output_type": "stream",
     "text": [
      "['sheep', 'snake']\n"
     ]
    }
   ],
   "source": [
    "# 列表删除指定序号的元素\n",
    "\n",
    "a.pop(1)\n",
    "print(a)"
   ]
  },
  {
   "cell_type": "code",
   "execution_count": 4,
   "metadata": {},
   "outputs": [
    {
     "name": "stdout",
     "output_type": "stream",
     "text": [
      "['pig', 'cat']\n"
     ]
    }
   ],
   "source": [
    "# 列表删除指定内容的元素\n",
    "\n",
    "a = ['pig', 'cat', 'dog']\n",
    "a.remove('dog')\n",
    "print(a)"
   ]
  },
  {
   "cell_type": "code",
   "execution_count": 4,
   "metadata": {},
   "outputs": [
    {
     "name": "stdout",
     "output_type": "stream",
     "text": [
      "['cat', 'dog', 'pig', 'snake']\n",
      "['snake', 'pig', 'dog', 'cat']\n"
     ]
    }
   ],
   "source": [
    "# 列表排序\n",
    "\n",
    "a = ['pig', 'cat', 'dog', 'snake']\n",
    "a.sort()\n",
    "print(a)\n",
    "\n",
    "# 倒序\n",
    "a.sort(reverse = True)\n",
    "print(a)"
   ]
  },
  {
   "cell_type": "code",
   "execution_count": 6,
   "metadata": {},
   "outputs": [
    {
     "name": "stdout",
     "output_type": "stream",
     "text": [
      "[4, 3, 2, 1]\n"
     ]
    }
   ],
   "source": [
    "# 列表数字排序\n",
    "\n",
    "a = [1,2,3,4]\n",
    "a.sort(reverse = True)\n",
    "print(a)"
   ]
  },
  {
   "cell_type": "code",
   "execution_count": 7,
   "metadata": {},
   "outputs": [
    {
     "name": "stdout",
     "output_type": "stream",
     "text": [
      "[4, 3, 2, 1, ['cat1', 'cat2', 'cat3']]\n"
     ]
    }
   ],
   "source": [
    "# 列表追加另一个列表\n",
    "# 使用 append 一个列表的话，这个列表会以一个元素的方式追加到原来列表\n",
    "\n",
    "b = ['cat1', 'cat2', 'cat3']\n",
    "a.append(b)\n",
    "print(a)"
   ]
  },
  {
   "cell_type": "code",
   "execution_count": 8,
   "metadata": {},
   "outputs": [
    {
     "name": "stdout",
     "output_type": "stream",
     "text": [
      "['pig', 'cat', 'dog', 'snake', 'cat1', 'cat2', 'cat3']\n"
     ]
    }
   ],
   "source": [
    "# 列表追加另一个列表的元素\n",
    "# 使用 extned 一个列表，会以元素的形式追加到原来的列表\n",
    "\n",
    "a = ['pig', 'cat', 'dog', 'snake']\n",
    "b = ['cat1', 'cat2', 'cat3']\n",
    "a.extend(b)\n",
    "print(a)"
   ]
  },
  {
   "cell_type": "code",
   "execution_count": 9,
   "metadata": {},
   "outputs": [
    {
     "name": "stdout",
     "output_type": "stream",
     "text": [
      "2\n"
     ]
    }
   ],
   "source": [
    "# 统计某个元素在列表中出现次数\n",
    "\n",
    "a = ['a','b','b','c']\n",
    "print(a.count('b'))"
   ]
  },
  {
   "cell_type": "markdown",
   "metadata": {},
   "source": [
    "---\n",
    "\n",
    "### pickle 序列化\n",
    "\n",
    "Python 中可以使用 pickle 模块将对象转化为文件保存在磁盘上，在需要的时候再读取并还原。具体用法如下：\n",
    "\n",
    "```pickle.dump(obj, file[, protocol])```\n",
    "\n",
    "pickle 的格式和 Python 版本等有关，不同版本之间不兼容。比较通用的序列化方式是用 json 格式，可以跨平台、跨语言。\n"
   ]
  },
  {
   "cell_type": "code",
   "execution_count": 2,
   "metadata": {},
   "outputs": [],
   "source": [
    "# 保存列表内容\n",
    "\n",
    "# 使用 pickle 模块，import 可以导入另外一个模块，执行其中的功能\n",
    "import pickle\n",
    "\n",
    "f = open('files/list_dump.txt', 'wb')\n",
    "a = ['pig', 'cat', 'dog', 'snake', 'snake']\n",
    "pickle.dump(a, f)\n",
    "f.close()"
   ]
  },
  {
   "cell_type": "code",
   "execution_count": 3,
   "metadata": {},
   "outputs": [
    {
     "name": "stdout",
     "output_type": "stream",
     "text": [
      "['pig', 'cat', 'dog', 'snake', 'snake']\n"
     ]
    }
   ],
   "source": [
    "# 读出列表内容\n",
    "\n",
    "f = open('files/list_dump.txt', 'rb')\n",
    "a1 = pickle.load(f)\n",
    "f.close()\n",
    "print(a1)"
   ]
  },
  {
   "cell_type": "code",
   "execution_count": 12,
   "metadata": {},
   "outputs": [
    {
     "name": "stdout",
     "output_type": "stream",
     "text": [
      "[['pig', 'cat', 'dog'], [1, 2, 3]]\n",
      "cat\n",
      "3\n"
     ]
    }
   ],
   "source": [
    "# 两维列表，列表中的每个元素都是一个列表\n",
    "\n",
    "a = ['pig', 'cat', 'dog']\n",
    "b = [1,2,3]\n",
    "c = []\n",
    "\n",
    "c.append(a)\n",
    "c.append(b)\n",
    "\n",
    "print(c)\n",
    "\n",
    "# 第0个元素的第1个元素\n",
    "print(c[0][1]) # cat\n",
    "\n",
    "# 第1个元素的第2个元素\n",
    "print(c[1][2]) # 3"
   ]
  },
  {
   "cell_type": "code",
   "execution_count": 13,
   "metadata": {},
   "outputs": [
    {
     "name": "stdout",
     "output_type": "stream",
     "text": [
      "['pig', 'cat', 'dog']\n"
     ]
    }
   ],
   "source": [
    "# 列表生成式 初步\n",
    "# 过滤列表中的重复元素\n",
    "\n",
    "b = [x for x in a if a.count(x) == 1]\n",
    "print(b)"
   ]
  },
  {
   "cell_type": "code",
   "execution_count": 1,
   "metadata": {},
   "outputs": [
    {
     "name": "stdout",
     "output_type": "stream",
     "text": [
      "['__add__', '__class__', '__contains__', '__delattr__', '__delitem__', '__dir__', '__doc__', '__eq__', '__format__', '__ge__', '__getattribute__', '__getitem__', '__gt__', '__hash__', '__iadd__', '__imul__', '__init__', '__init_subclass__', '__iter__', '__le__', '__len__', '__lt__', '__mul__', '__ne__', '__new__', '__reduce__', '__reduce_ex__', '__repr__', '__reversed__', '__rmul__', '__setattr__', '__setitem__', '__sizeof__', '__str__', '__subclasshook__', 'append', 'clear', 'copy', 'count', 'extend', 'index', 'insert', 'pop', 'remove', 'reverse', 'sort']\n"
     ]
    }
   ],
   "source": [
    "# 显示一个对象的方法\n",
    "# python 中一切皆对象\n",
    "# 面向对象的编程是现代编程技术中的基本概念\n",
    "\n",
    "print(dir(list))"
   ]
  },
  {
   "cell_type": "code",
   "execution_count": 4,
   "metadata": {},
   "outputs": [
    {
     "data": {
      "text/plain": [
       "['append',\n",
       " 'clear',\n",
       " 'copy',\n",
       " 'count',\n",
       " 'extend',\n",
       " 'index',\n",
       " 'insert',\n",
       " 'pop',\n",
       " 'remove',\n",
       " 'reverse',\n",
       " 'sort']"
      ]
     },
     "execution_count": 4,
     "metadata": {},
     "output_type": "execute_result"
    }
   ],
   "source": [
    "# 用列表生成式来生成一个对象的方法\n",
    "# 过滤掉继承的方法，也就是带下划线的\n",
    "\n",
    "[x for x in dir(list) if x[0] != '_']"
   ]
  },
  {
   "cell_type": "markdown",
   "metadata": {},
   "source": [
    "## 思考\n",
    "\n",
    "1. 给一个用户名列表（英文），输入开头几个字母，程序会搜索用户名列表中是否存在和开头字母类似的，并提示用户。执行效果如下：\n",
    "\n",
    "```\n",
    "please input name : C\n",
    "Do you want to find ['Candy', 'Chris']?1\n",
    "Chris\n",
    "```"
   ]
  },
  {
   "cell_type": "code",
   "execution_count": null,
   "metadata": {},
   "outputs": [],
   "source": [
    "# 补充用户名字，利用切片的例子\n",
    "name = ['Adam','Alex','Amy','Bob','Boom','Candy','Chris','David','Jason','Jasonstatham','Bill'];\n",
    "i_name = input('please input name : ')\n",
    "\n",
    "wname = [];\n",
    "for n in name:\n",
    "    if n[0:len(i_name)] == i_name:\n",
    "        wname.append(n);\n",
    "\n",
    "if len(wname) != 0:\n",
    "    number = input('Do you want to find %s?'%(wname))\n",
    "    print(wname[int(number)])\n",
    "else:\n",
    "    print('%s not find'%(i_name))"
   ]
  }
 ],
 "metadata": {
  "anaconda-cloud": {},
  "kernelspec": {
   "display_name": "Python 3",
   "language": "python",
   "name": "python3"
  },
  "language_info": {
   "codemirror_mode": {
    "name": "ipython",
    "version": 3
   },
   "file_extension": ".py",
   "mimetype": "text/x-python",
   "name": "python",
   "nbconvert_exporter": "python",
   "pygments_lexer": "ipython3",
   "version": "3.7.6"
  }
 },
 "nbformat": 4,
 "nbformat_minor": 1
}
