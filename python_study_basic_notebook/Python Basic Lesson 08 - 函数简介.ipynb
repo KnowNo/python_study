{
 "cells": [
  {
   "cell_type": "markdown",
   "metadata": {},
   "source": [
    "# Lesson 8\n",
    "\n",
    "  2020.4 edit by David Yi\n",
    "\n",
    "    \n",
    "### 本课内容要点\n",
    "\n",
    "* 函数介绍和用法\n",
    "* 思考：剪刀石头布"
   ]
  },
  {
   "cell_type": "markdown",
   "metadata": {},
   "source": [
    "#### 函数用法\n",
    "\n",
    "函数是组织好的、可重复使用的、用来实现单一或相关联功能的代码段。函数能提高应用的模块性，和代码的重复利用率。\n",
    "\n",
    "python 提供了许多内建函数，比如 print(), max()；\n",
    "\n",
    "python 提供的大量内建函数，可以满足绝大多数基本的功能，有时候我们叫 python 是瑞士军刀，就是这个意思。\n",
    "\n",
    "函数可以大大简化重复代码，降低工作量，减少错误\n",
    "\n",
    "函数的基本语法\n",
    "\n",
    "```\n",
    "def 函数名称( 参数 ): \n",
    "\t函数语句 \n",
    "\treturn [值]\n",
    "```\n",
    "\n",
    "虽然 Python 内置了大量函数，但是大多数提供的是基本功能，有时候还是不能满足真正程序的需要；\n",
    "函数可以做的很复杂，发展为包(Package)。Python 目前有七万多个各类功能的包，几乎都可以可以免费使用在自己的程序中，这是最近几年 Python 飞速发展的原因之一。\n",
    "学会使用函数来简化程序之后，可以为以后学习面向对象的编程方法打好基础，也可以真正的开始使用 Python 来解决各类问题。\n",
    "\n",
    "> 2017年编写这个文档的时候，python 有大约7万多个包，现在，2020年4月，我看了一下 pypi，python 包的大本营，目前有 23万个包了。\n"
   ]
  },
  {
   "cell_type": "code",
   "execution_count": 4,
   "metadata": {},
   "outputs": [
    {
     "name": "stdout",
     "output_type": "stream",
     "text": [
      "50.24\n",
      "113.03999999999999\n",
      "98.82239400000002\n"
     ]
    }
   ],
   "source": [
    "# 计算圆的面积\n",
    "# 不用函数的话，每次需要写一些重复的代码\n",
    "\n",
    "r1 = 4\n",
    "r2 = 6\n",
    "r3 = 5.61\n",
    "s1 = 3.14 * r1 * r1\n",
    "s2 = 3.14 * r2 * r2\n",
    "s3 = 3.14 * r3 * r3\n",
    "\n",
    "print(s1)\n",
    "print(s2)\n",
    "print(s3)"
   ]
  },
  {
   "cell_type": "code",
   "execution_count": 5,
   "metadata": {},
   "outputs": [
    {
     "name": "stdout",
     "output_type": "stream",
     "text": [
      "50.24\n",
      "113.03999999999999\n",
      "98.82239400000002\n"
     ]
    }
   ],
   "source": [
    "# 定义一个函数，用来计算圆面积\n",
    "# 输入 半径，返回 圆面积\n",
    "\n",
    "def func1(r):\n",
    "    s = 3.14 * r * r\n",
    "    return s\n",
    "\n",
    "print(func1(4))\n",
    "print(func1(6))\n",
    "print(func1(5.61))"
   ]
  },
  {
   "cell_type": "code",
   "execution_count": 8,
   "metadata": {},
   "outputs": [
    {
     "name": "stdout",
     "output_type": "stream",
     "text": [
      "5\n",
      "9\n"
     ]
    }
   ],
   "source": [
    "# 先来看看 python 内置的获取最大值的函数\n",
    "\n",
    "print(max(1,5))\n",
    "\n",
    "print(max(1,4,6,3,9))"
   ]
  },
  {
   "cell_type": "code",
   "execution_count": 1,
   "metadata": {},
   "outputs": [
    {
     "name": "stdout",
     "output_type": "stream",
     "text": [
      "6\n"
     ]
    }
   ],
   "source": [
    "# 请注意，函数体内部的语句在执行时，一旦执行到return时，函数就执行完毕，并将结果返回。\n",
    "# 因此，函数内部通过条件判断和循环可以实现非常复杂的逻辑。\n",
    "# 从优雅的写法来说，不是很推荐一个函数内有多个返回点的方式。\n",
    "\n",
    "def my_max(a,b):\n",
    "    if a > b:\n",
    "        return a\n",
    "    else:\n",
    "        return b\n",
    "    \n",
    "print(my_max(3,6))"
   ]
  },
  {
   "cell_type": "code",
   "execution_count": 2,
   "metadata": {},
   "outputs": [
    {
     "name": "stdout",
     "output_type": "stream",
     "text": [
      "(1, 5, 30, 14, 25)\n",
      "100\n"
     ]
    }
   ],
   "source": [
    "# *number理解为可以传入任意数目个参数，包括0个参数\n",
    "# 为了简化，返回的结果现在是假的\n",
    "\n",
    "def my_max(*number):\n",
    "    print(number)\n",
    "    return 100\n",
    "\n",
    "print(my_max(1,5,30,14,25))"
   ]
  },
  {
   "cell_type": "code",
   "execution_count": 3,
   "metadata": {},
   "outputs": [
    {
     "name": "stdout",
     "output_type": "stream",
     "text": [
      "30\n"
     ]
    }
   ],
   "source": [
    "# 用列表来排序，来完成这个取得任意值的最大值的函数\n",
    "\n",
    "def my_max(*number):\n",
    "    a_list = list(number)\n",
    "    a_list.sort()\n",
    "    a = a_list[-1]\n",
    "#    print(a_list)\n",
    "    return a\n",
    "\n",
    "print(my_max(1,5,30,14,25))"
   ]
  },
  {
   "cell_type": "code",
   "execution_count": null,
   "metadata": {},
   "outputs": [],
   "source": [
    "# Python的函数返回多值其实就是返回一个tuple，但语法上可以省略括号，写起来更方便\n",
    "\n",
    "# 同时返回最大值和最小值，返回多个值\n",
    "\n",
    "def my_max_min(*number):\n",
    "    a_list = list(number)\n",
    "    a_list.sort()\n",
    "    my_max = a_list[-1]\n",
    "    my_min = a_list[0]\n",
    "    print(a_list)\n",
    "    return my_max, my_min\n",
    "\n",
    "print(my_max_min(1,5,30,14,25))  "
   ]
  },
  {
   "cell_type": "markdown",
   "metadata": {},
   "source": [
    "---\n",
    "\n",
    "* 写一个函数，输入一个数字，判断其是否是偶数，是偶数的话，返回 True，反之返回 False\n",
    "* 写一个函数，输入一个英文单词，返回其中的元音字母的个数"
   ]
  },
  {
   "cell_type": "code",
   "execution_count": 4,
   "metadata": {},
   "outputs": [
    {
     "name": "stdout",
     "output_type": "stream",
     "text": [
      "Please input a number:4\n",
      "True\n"
     ]
    }
   ],
   "source": [
    "# 判断奇偶数\n",
    "\n",
    "a = int(input('Please input a number:'))\n",
    "\n",
    "def oushu():\n",
    "    if int(a/2) == a/2:\n",
    "        return True\n",
    "        #print('这是个偶数')\n",
    "    else:\n",
    "        return False\n",
    "        #print('这是个奇数')\n",
    "        \n",
    "result = oushu()   \n",
    "print(result)"
   ]
  },
  {
   "cell_type": "code",
   "execution_count": 1,
   "metadata": {},
   "outputs": [
    {
     "name": "stdout",
     "output_type": "stream",
     "text": [
      "plese input a word:test\n",
      "1\n"
     ]
    }
   ],
   "source": [
    "# 判断元音\n",
    "\n",
    "def yuanyin(s):\n",
    "    b = ['a','e','i','o','u']\n",
    "    c = 0\n",
    "    for i in list(a):\n",
    "        if i in b:\n",
    "            # c=c+1 的简约写法\n",
    "            c += 1\n",
    "    return c\n",
    "\n",
    "a = input('plese input a word:')\n",
    "print(yuanyin(a))"
   ]
  },
  {
   "cell_type": "code",
   "execution_count": 5,
   "metadata": {},
   "outputs": [
    {
     "name": "stdout",
     "output_type": "stream",
     "text": [
      "20\n",
      "-3\n"
     ]
    }
   ],
   "source": [
    "# 找到最大数 #1\n",
    "\n",
    "def find_max(list1):\n",
    "    \n",
    "    # max = float('-inf') 表示负无穷大\n",
    "    max = float('-inf')\n",
    "    for x in list1:\n",
    "        if x > max:\n",
    "            max = x\n",
    "    return max\n",
    "\n",
    "print(find_max([-20,1,6,7,20,5]))\n",
    "print(find_max([-20,-3,-6,-7,-5]))"
   ]
  },
  {
   "cell_type": "code",
   "execution_count": 6,
   "metadata": {},
   "outputs": [
    {
     "name": "stdout",
     "output_type": "stream",
     "text": [
      "20\n"
     ]
    }
   ],
   "source": [
    "# 找到最大数 #2\n",
    "# 使用递归，递归是编程中非常有效的一种解决问题的方式，将内在逻辑分解为一个固定的逻辑，而调用参数来自于上一次的执行结果\n",
    "# 使用递归要注意初始化和防止递归陷入死循环\n",
    "# 排序、斐波那契数列这些都是递归的经典实现\n",
    "\n",
    "def find_max(list1):\n",
    "    if len(list1) == 1:\n",
    "        return list1[0]\n",
    "    v1 = list1[0]\n",
    "    v2 = find_max(list1[1:])\n",
    "    if v1 > v2:\n",
    "        return v1\n",
    "    else:\n",
    "        return v2\n",
    "\n",
    "print(find_max([1,6,7,20,5]))"
   ]
  },
  {
   "cell_type": "markdown",
   "metadata": {},
   "source": [
    "## 思考\n",
    "\n",
    "我们来写一个剪刀石头布的程序。"
   ]
  },
  {
   "cell_type": "code",
   "execution_count": null,
   "metadata": {},
   "outputs": [],
   "source": [
    "# 简单的剪刀石头布\n",
    "\n",
    "import random\n",
    "\n",
    "FIRST = 0\n",
    "SECOND = 1 \n",
    "BOTH = 2 \n",
    "\n",
    "t1 = ('剪刀', '石头', '布')\n",
    "t2 = ('human win', 'computer win', 'draw')\n",
    "\n",
    "def which_win(i1, i2):\n",
    "    if i1 == 0 and i2 == 1:\n",
    "        return SECOND\n",
    "    if i1 == 0 and i2 == 2:\n",
    "        return FIRST\n",
    "    if i1 == 1 and i2 == 0:\n",
    "        return FIRST\n",
    "    if i1 == 1 and i2 == 2:\n",
    "        return SECOND\n",
    "    if i1 == 2 and i2 == 0:\n",
    "        return SECOND\n",
    "    if i1 == 2 and i2 == 1:\n",
    "        return FIRST\n",
    "    if i1 == i2:\n",
    "        return BOTH\n",
    "\n",
    "print('0:剪刀 1:石头 2:布')\n",
    "human = int(input('你出了:'))\n",
    "\n",
    "c_index = random.randint(0,2)\n",
    "computer = t1[c_index]\n",
    "\n",
    "print(\"电脑出了\",computer)\n",
    "\n",
    "print(t2[which_win(human, c_index)])\n"
   ]
  },
  {
   "cell_type": "code",
   "execution_count": null,
   "metadata": {},
   "outputs": [],
   "source": [
    "# 优化的剪刀石头布程序\n",
    "\n",
    "import random\n",
    "\n",
    "FIRST = 0\n",
    "SECOND = 1 \n",
    "BOTH = 2 \n",
    "\n",
    "t1 = ('scissors', 'stone', 'cloth')\n",
    "t2 = ('human win', 'computer win', 'draw')\n",
    "\n",
    "table = {'01':1, '02':0, '10':0, '12':1, '20':1, '21':0, '00':2, '11':2, '22':2}\n",
    "\n",
    "def which_win(i1, i2):\n",
    "    s = i1 + i2\n",
    "    return table.get(s)\n",
    "\n",
    "# 显示规则\n",
    "for i, s in enumerate(t1):\n",
    "    print(i, s, ', ', end='')\n",
    "    \n",
    "human = input('please input:')\n",
    "h_index = int(human)\n",
    "human_choice = t1[h_index]\n",
    "\n",
    "c_index = random.randint(0,2)\n",
    "computer_choice = t1[c_index]\n",
    "\n",
    "print('human:',h_index,human_choice)\n",
    "print('computer:',c_index, computer_choice)\n",
    "print(t2[which_win(str(h_index), str(c_index))])\n",
    "\n",
    "\n",
    "    "
   ]
  },
  {
   "cell_type": "code",
   "execution_count": null,
   "metadata": {},
   "outputs": [],
   "source": [
    "# 五局三胜的剪刀石头布程序\n",
    "\n",
    "import random\n",
    "\n",
    "FIRST = 0\n",
    "SECOND = 1 \n",
    "BOTH = 2 \n",
    "\n",
    "t1 = ('scissors', 'stone', 'cloth')\n",
    "t2 = ('human win', 'computer win', 'draw')\n",
    "\n",
    "table = {'01':1, '02':2, '10':0, '12':1, '20':1, '21':0, '00':2, '11':2, '22':2}\n",
    "\n",
    "def which_win(i1, i2):\n",
    "    s = i1 + i2\n",
    "    return table.get(s)\n",
    "\n",
    "mark = True\n",
    "computer_win = 0\n",
    "human_win = 0\n",
    "\n",
    "while mark:\n",
    "\n",
    "    # 显示规则\n",
    "    for i, s in enumerate(t1):\n",
    "        print(i, s, ', ', end='')\n",
    "        \n",
    "    human = input('please input:')\n",
    "\n",
    "    c_index = random.randint(0,2)\n",
    "    computer = t1[c_index]\n",
    "\n",
    "    print(c_index, computer)\n",
    "\n",
    "    who_win = which_win(human, str(c_index))\n",
    "    \n",
    "    if who_win == 0:\n",
    "        human_win += 1\n",
    "    if who_win == 1:\n",
    "        computer_win += 1\n",
    "    \n",
    "    print(t2[which_win(human, str(c_index))])\n",
    "    print('human:computer ', human_win, ':', computer_win)\n",
    "    print()\n",
    "    \n",
    "    if (human_win == 3) or (computer_win == 3):\n",
    "        mark = False\n",
    "\n",
    "if human_win == 3:\n",
    "    print('final human win')\n",
    "else:\n",
    "    print('final computer win')"
   ]
  },
  {
   "cell_type": "markdown",
   "metadata": {},
   "source": [
    "## 思考\n",
    "\n",
    "写一个电脑来猜数的程序"
   ]
  },
  {
   "cell_type": "code",
   "execution_count": null,
   "metadata": {},
   "outputs": [],
   "source": [
    "# 猜数，机器猜\n",
    "\n",
    "min = 0\n",
    "max = 1000\n",
    "\n",
    "guess_ok_mark = False\n",
    "\n",
    "while not guess_ok_mark:\n",
    "\n",
    "    cur_guess = int((min + max) / 2)\n",
    "    print('I guess:', cur_guess)\n",
    "    human_answer = input('Please tell me big or small:')\n",
    "    if human_answer == 'big':\n",
    "        max = cur_guess\n",
    "    if human_answer == 'small':\n",
    "        min = cur_guess\n",
    "    if human_answer == 'ok':\n",
    "        print('HAHAHA')\n",
    "        guess_ok_mark = True"
   ]
  },
  {
   "cell_type": "code",
   "execution_count": null,
   "metadata": {},
   "outputs": [],
   "source": []
  },
  {
   "cell_type": "markdown",
   "metadata": {},
   "source": [
    "\n"
   ]
  }
 ],
 "metadata": {
  "kernelspec": {
   "display_name": "Python 3",
   "language": "python",
   "name": "python3"
  },
  "language_info": {
   "codemirror_mode": {
    "name": "ipython",
    "version": 3
   },
   "file_extension": ".py",
   "mimetype": "text/x-python",
   "name": "python",
   "nbconvert_exporter": "python",
   "pygments_lexer": "ipython3",
   "version": "3.7.6"
  }
 },
 "nbformat": 4,
 "nbformat_minor": 4
}
