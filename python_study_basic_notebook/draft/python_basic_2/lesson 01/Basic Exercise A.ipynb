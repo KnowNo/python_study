{
 "cells": [
  {
   "cell_type": "code",
   "execution_count": 4,
   "metadata": {},
   "outputs": [
    {
     "name": "stdout",
     "output_type": "stream",
     "text": [
      "Please input an integer:300\n",
      "More\n"
     ]
    }
   ],
   "source": [
    "n = int(input('Please input an integer:'))\n",
    "\n",
    "if n < 0 :\n",
    "    print('Negative')\n",
    "elif n >= 0 and n < 100:\n",
    "    print('Between 0..100')\n",
    "elif n >= 100 and n < 200:\n",
    "    print('Between 100..200')\n",
    "else :\n",
    "    print('Others')\n",
    "\n",
    "    "
   ]
  },
  {
   "cell_type": "code",
   "execution_count": 8,
   "metadata": {},
   "outputs": [
    {
     "name": "stdout",
     "output_type": "stream",
     "text": [
      "Please input an integer:400\n",
      "More\n"
     ]
    }
   ],
   "source": [
    "n = int(input('Please input an integer:'))\n",
    "\n",
    "if n < 0 :\n",
    "    print('Negative')\n",
    "else:\n",
    "    if n >= 0 and n < 100:\n",
    "        print('Between 0..100')\n",
    "    else:\n",
    "        if n >= 100 and n < 200:\n",
    "            print('Between 100..200')\n",
    "        else :\n",
    "            print('More')"
   ]
  },
  {
   "cell_type": "code",
   "execution_count": 1,
   "metadata": {},
   "outputs": [
    {
     "name": "stdout",
     "output_type": "stream",
     "text": [
      "3\n"
     ]
    }
   ],
   "source": [
    "# 找到两个数字中的小的一个\n",
    "x, y = 4, 3\n",
    "if x < y:\n",
    "    smaller = x\n",
    "else:\n",
    "    smaller = y\n",
    "\n",
    "print(smaller)"
   ]
  },
  {
   "cell_type": "code",
   "execution_count": 2,
   "metadata": {},
   "outputs": [
    {
     "name": "stdout",
     "output_type": "stream",
     "text": [
      "3\n"
     ]
    }
   ],
   "source": [
    "x, y = 4, 3\n",
    "\n",
    "smaller = x if x<y else y\n",
    "\n",
    "print(smaller)"
   ]
  },
  {
   "cell_type": "code",
   "execution_count": 1,
   "metadata": {},
   "outputs": [
    {
     "name": "stdout",
     "output_type": "stream",
     "text": [
      "110.0\n",
      "120.0\n"
     ]
    }
   ],
   "source": [
    "# 默认参数\n",
    "def cal_0(money, rate=0.1):\n",
    "    return money + money * rate\n",
    "\n",
    "print(cal_0(100))\n",
    "print(cal_0(100,0.2))"
   ]
  },
  {
   "cell_type": "code",
   "execution_count": 2,
   "metadata": {
    "scrolled": true
   },
   "outputs": [
    {
     "name": "stdout",
     "output_type": "stream",
     "text": [
      "61000\n",
      "62000\n",
      "52000\n"
     ]
    }
   ],
   "source": [
    "def cal_1(money, bonus=1000, month=12):\n",
    "    i = money * month + bonus\n",
    "    return i\n",
    "\n",
    "print(cal_1(5000))\n",
    "print(cal_1(5000, 2000))\n",
    "print(cal_1(5000, 2000, 10))"
   ]
  },
  {
   "cell_type": "code",
   "execution_count": 12,
   "metadata": {},
   "outputs": [
    {
     "name": "stdout",
     "output_type": "stream",
     "text": [
      "['Beijing', 'Shanghai', 'Taipei', 'Tokyo']\n"
     ]
    }
   ],
   "source": [
    "# 列表按照元素长度排序\n",
    "\n",
    "l = ['Shanghai', 'Beijing', 'Tokyo', 'Taipei']\n",
    "l.sort()\n",
    "print(l)"
   ]
  },
  {
   "cell_type": "code",
   "execution_count": 6,
   "metadata": {},
   "outputs": [
    {
     "name": "stdout",
     "output_type": "stream",
     "text": [
      "['Shanghai', 'Beijing', 'Taipei', 'Tokyo']\n"
     ]
    }
   ],
   "source": [
    "# 列表按照元素长度排序\n",
    "# solution #1\n",
    "\n",
    "l = ['Shanghai', 'Beijing', 'Tokyo', 'Taipei']\n",
    "\n",
    "def str_len(s1):\n",
    "    return len(s1)\n",
    "\n",
    "l.sort(key = str_len)\n",
    "\n",
    "print(l[::-1])"
   ]
  },
  {
   "cell_type": "code",
   "execution_count": 9,
   "metadata": {},
   "outputs": [
    {
     "name": "stdout",
     "output_type": "stream",
     "text": [
      "['Tokyo', 'Taipei', 'Beijing', 'Shanghai']\n"
     ]
    }
   ],
   "source": [
    "# 列表按照元素长度排序\n",
    "# solution #2\n",
    "\n",
    "l = ['Shanghai', 'Beijing', 'Tokyo', 'Taipei']\n",
    "l.sort(key = lambda s: len(s))\n",
    "print(l)"
   ]
  },
  {
   "cell_type": "code",
   "execution_count": 10,
   "metadata": {},
   "outputs": [
    {
     "name": "stdout",
     "output_type": "stream",
     "text": [
      "3 4 5\n",
      "5 12 13\n",
      "6 8 10\n",
      "8 15 17\n",
      "9 12 15\n",
      "12 16 20\n"
     ]
    }
   ],
   "source": [
    "# 找到符合 x*x + y*y == z*z 的 x y z\n",
    "# solution #1\n",
    "\n",
    "n = 25\n",
    "\n",
    "for x in range(1,n):\n",
    "    for y in range(x,n):\n",
    "        for z in range(y,n):\n",
    "            if x*x + y*y == z*z:\n",
    "                print(x,y,z)\n"
   ]
  },
  {
   "cell_type": "code",
   "execution_count": 2,
   "metadata": {},
   "outputs": [
    {
     "name": "stdout",
     "output_type": "stream",
     "text": [
      "[(3, 4, 5), (5, 12, 13), (6, 8, 10), (8, 15, 17), (9, 12, 15), (12, 16, 20)]\n"
     ]
    }
   ],
   "source": [
    "# solution #2\n",
    "\n",
    "n = 25 \n",
    "print([(x, y, z) for x in range(1, n) for y in range(x, n) for z in range(y, n) if x*x + y*y == z*z])"
   ]
  },
  {
   "cell_type": "code",
   "execution_count": null,
   "metadata": {
    "collapsed": true
   },
   "outputs": [],
   "source": [
    "# 列表按照元素长度排序\n",
    "\n",
    "l = ['Shanghai', 'Beijing', 'Tokyo', 'Taipei']\n",
    "l.sort()\n",
    "print(l)\n",
    "\n",
    "# 列表按照元素长度排序\n",
    "# solution #1\n",
    "\n",
    "l = ['Shanghai', 'Beijing', 'Tokyo', 'Taipei']\n",
    "\n",
    "def str_len(s1):\n",
    "    return len(s1)\n",
    "\n",
    "l.sort(key = str_len)\n",
    "\n",
    "print(l[::-1])\n",
    "\n",
    "# 列表按照元素长度排序\n",
    "# solution #2\n",
    "\n",
    "l = ['Shanghai', 'Beijing', 'Tokyo', 'Taipei']\n",
    "l.sort(key = lambda s: len(s))\n",
    "print(l)\n",
    "\n",
    "# 找到符合 x*x + y*y == z*z 的 x y z\n",
    "# solution #1\n",
    "\n",
    "n = 25\n",
    "\n",
    "for x in range(1,n):\n",
    "    for y in range(x,n):\n",
    "        for z in range(y,n):\n",
    "            if x*x + y*y == z*z:\n",
    "                print(x,y,z)\n",
    "\n",
    "\n",
    "# solution #2\n",
    "\n",
    "n = 25 \n",
    "print([(x, y, z) for x in range(1, n) for y in range(x, n) for z in range(y, n) if x*x + y*y == z*z])"
   ]
  },
  {
   "cell_type": "code",
   "execution_count": 7,
   "metadata": {},
   "outputs": [
    {
     "name": "stdout",
     "output_type": "stream",
     "text": [
      "Enter a number: 100\n",
      "The factors of 100 are:\n",
      "1\n",
      "2\n",
      "4\n",
      "5\n",
      "10\n",
      "20\n",
      "25\n",
      "50\n",
      "100\n",
      "0.00018978118896484375\n"
     ]
    }
   ],
   "source": [
    "# Find the factors of a number\n",
    "\n",
    "import time\n",
    "\n",
    "def print_factors(x):\n",
    "   print(\"The factors of\",x,\"are:\")\n",
    "   for i in range(1, x + 1):\n",
    "       if x % i == 0:\n",
    "           print(i)\n",
    "\n",
    "# take input from the user\n",
    "num = int(input(\"Enter a number: \"))\n",
    "\n",
    "t1 = time.time()\n",
    "print_factors(num)\n",
    "t2 = time.time()\n",
    "print(t2-t1)"
   ]
  },
  {
   "cell_type": "code",
   "execution_count": 6,
   "metadata": {},
   "outputs": [
    {
     "name": "stdout",
     "output_type": "stream",
     "text": [
      "20\n"
     ]
    }
   ],
   "source": [
    "# Find max number #1\n",
    "\n",
    "def find_max (l):\n",
    "    max = 0\n",
    "    for x in l:\n",
    "        if x > max:\n",
    "            max = x\n",
    "    return max\n",
    "\n",
    "print(find_max([-20,1,6,7,20,5]))"
   ]
  },
  {
   "cell_type": "code",
   "execution_count": 8,
   "metadata": {},
   "outputs": [
    {
     "name": "stdout",
     "output_type": "stream",
     "text": [
      "20\n"
     ]
    }
   ],
   "source": [
    "# Find max number #2\n",
    "# 使用递归\n",
    "\n",
    "def find_max (l):\n",
    "    if len(l) == 1:\n",
    "        return l[0]\n",
    "    v1 = l[0]\n",
    "    v2 = find_max(l[1:])\n",
    "    if v1 > v2:\n",
    "        return v1\n",
    "    else:\n",
    "        return v2\n",
    "\n",
    "print(find_max([1,6,7,20,5]))"
   ]
  },
  {
   "cell_type": "code",
   "execution_count": 8,
   "metadata": {},
   "outputs": [
    {
     "name": "stdout",
     "output_type": "stream",
     "text": [
      "5\n"
     ]
    }
   ],
   "source": [
    "print(max(1,3,4,5))"
   ]
  },
  {
   "cell_type": "code",
   "execution_count": 11,
   "metadata": {},
   "outputs": [
    {
     "name": "stdout",
     "output_type": "stream",
     "text": [
      "(2, 4)\n"
     ]
    }
   ],
   "source": [
    "print(max((1,2),(2,3),(2,4),(1,5)))"
   ]
  },
  {
   "cell_type": "code",
   "execution_count": 12,
   "metadata": {},
   "outputs": [
    {
     "name": "stdout",
     "output_type": "stream",
     "text": [
      "(2, 4, 1)\n"
     ]
    }
   ],
   "source": [
    "print(max((1,2),(2,3),(2,4),(2,4,1)))"
   ]
  },
  {
   "cell_type": "code",
   "execution_count": 13,
   "metadata": {},
   "outputs": [
    {
     "name": "stdout",
     "output_type": "stream",
     "text": [
      "(1, 2)\n"
     ]
    }
   ],
   "source": [
    "print(min((1,2),(2,3),(2,4),(2,4,1)))"
   ]
  },
  {
   "cell_type": "code",
   "execution_count": 1,
   "metadata": {},
   "outputs": [
    {
     "name": "stdout",
     "output_type": "stream",
     "text": [
      "range(0, 10)\n"
     ]
    }
   ],
   "source": [
    "print(range(10))"
   ]
  },
  {
   "cell_type": "code",
   "execution_count": 5,
   "metadata": {},
   "outputs": [
    {
     "name": "stdout",
     "output_type": "stream",
     "text": [
      "range(1, 10, 3)\n"
     ]
    }
   ],
   "source": [
    "print(range(1,10,3))"
   ]
  },
  {
   "cell_type": "code",
   "execution_count": 4,
   "metadata": {},
   "outputs": [
    {
     "name": "stdout",
     "output_type": "stream",
     "text": [
      "<class 'range'>\n"
     ]
    }
   ],
   "source": [
    "print(type(range(10)))"
   ]
  },
  {
   "cell_type": "code",
   "execution_count": 9,
   "metadata": {},
   "outputs": [
    {
     "name": "stdout",
     "output_type": "stream",
     "text": [
      "10\n",
      "9\n"
     ]
    }
   ],
   "source": [
    "print(int('10'))\n",
    "print(int(9))"
   ]
  },
  {
   "cell_type": "code",
   "execution_count": 11,
   "metadata": {},
   "outputs": [
    {
     "name": "stdout",
     "output_type": "stream",
     "text": [
      "143.45\n"
     ]
    }
   ],
   "source": [
    "print(float('123.45')+20)"
   ]
  },
  {
   "cell_type": "code",
   "execution_count": 16,
   "metadata": {},
   "outputs": [
    {
     "name": "stdout",
     "output_type": "stream",
     "text": [
      "{'tom': '100', 'mary': '80', 'jerry': '90'}\n"
     ]
    }
   ],
   "source": [
    "l = [('tom', '100'), ('jerry', '90'), ('mary', '80')]\n",
    "d = dict(l) \n",
    "print(d)"
   ]
  },
  {
   "cell_type": "code",
   "execution_count": 21,
   "metadata": {},
   "outputs": [
    {
     "name": "stdout",
     "output_type": "stream",
     "text": [
      "True\n"
     ]
    }
   ],
   "source": [
    "l = [True,True,True,True]\n",
    "print(all(l))"
   ]
  },
  {
   "cell_type": "code",
   "execution_count": 22,
   "metadata": {},
   "outputs": [
    {
     "name": "stdout",
     "output_type": "stream",
     "text": [
      "False\n"
     ]
    }
   ],
   "source": [
    "l = [True,True,False,True]\n",
    "print(all(l))"
   ]
  },
  {
   "cell_type": "code",
   "execution_count": 23,
   "metadata": {},
   "outputs": [
    {
     "name": "stdout",
     "output_type": "stream",
     "text": [
      "True\n"
     ]
    }
   ],
   "source": [
    "l = [True,True,False,True]\n",
    "print(any(l))"
   ]
  },
  {
   "cell_type": "code",
   "execution_count": 12,
   "metadata": {},
   "outputs": [
    {
     "name": "stdout",
     "output_type": "stream",
     "text": [
      "amy\n",
      "tom\n",
      "jerry \n"
     ]
    }
   ],
   "source": [
    "l = ['amy', 'tom', 'jerry ']\n",
    "for item in l:\n",
    "    print(item)"
   ]
  },
  {
   "cell_type": "code",
   "execution_count": 24,
   "metadata": {},
   "outputs": [
    {
     "name": "stdout",
     "output_type": "stream",
     "text": [
      "0 amy\n",
      "1 tom\n",
      "2 jerry \n"
     ]
    }
   ],
   "source": [
    "l = ['amy', 'tom', 'jerry ']\n",
    "for i, item in enumerate(l):\n",
    "    print(i, item)"
   ]
  },
  {
   "cell_type": "code",
   "execution_count": null,
   "metadata": {},
   "outputs": [],
   "source": []
  }
 ],
 "metadata": {
  "kernelspec": {
   "display_name": "Python 3",
   "language": "python",
   "name": "python3"
  },
  "language_info": {
   "codemirror_mode": {
    "name": "ipython",
    "version": 3
   },
   "file_extension": ".py",
   "mimetype": "text/x-python",
   "name": "python",
   "nbconvert_exporter": "python",
   "pygments_lexer": "ipython3",
   "version": "3.7.6"
  }
 },
 "nbformat": 4,
 "nbformat_minor": 1
}
