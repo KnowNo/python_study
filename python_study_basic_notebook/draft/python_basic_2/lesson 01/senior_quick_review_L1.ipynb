{
 "cells": [
  {
   "cell_type": "code",
   "execution_count": 1,
   "metadata": {
    "collapsed": false
   },
   "outputs": [
    {
     "name": "stdout",
     "output_type": "stream",
     "text": [
      "What is your name?david\n",
      "Hello david\n"
     ]
    }
   ],
   "source": [
    "# input and print\n",
    "name = input('What is your name? ')\n",
    "print('Hello ' + name)"
   ]
  },
  {
   "cell_type": "code",
   "execution_count": 3,
   "metadata": {
    "collapsed": false
   },
   "outputs": [
    {
     "name": "stdout",
     "output_type": "stream",
     "text": [
      "0\n",
      "1\n",
      "2\n",
      "3\n",
      "4\n"
     ]
    }
   ],
   "source": [
    "# simple loop\n",
    "for i in range(5):\n",
    "    print(i)"
   ]
  },
  {
   "cell_type": "code",
   "execution_count": 1,
   "metadata": {
    "collapsed": false
   },
   "outputs": [
    {
     "name": "stdout",
     "output_type": "stream",
     "text": [
      "10 10\n",
      "12 22\n",
      "14 36\n",
      "16 52\n",
      "18 70\n",
      "88\n"
     ]
    }
   ],
   "source": [
    "# loop\n",
    "j = 0\n",
    "for i in range(10,20,2):\n",
    "    j = j + i\n",
    "    print(i, j)\n",
    "print(i+j)"
   ]
  },
  {
   "cell_type": "code",
   "execution_count": 4,
   "metadata": {
    "collapsed": false
   },
   "outputs": [
    {
     "name": "stdout",
     "output_type": "stream",
     "text": [
      "[1, 2, 5, 9, 4]\n",
      "[1, 2, 9, 4]\n",
      "[2, 9, 4]\n",
      "15\n"
     ]
    }
   ],
   "source": [
    "# list\n",
    "a = [1,2,5,9]\n",
    "a.append(4)\n",
    "print(a)\n",
    "a.pop(2)\n",
    "print(a)\n",
    "a.remove(1)\n",
    "print(a)\n",
    "\n",
    "j = 0\n",
    "for i in range(len(a)):\n",
    "    j = j + a[i]\n",
    "    \n",
    "print(j)"
   ]
  },
  {
   "cell_type": "code",
   "execution_count": 5,
   "metadata": {
    "collapsed": false
   },
   "outputs": [
    {
     "name": "stdout",
     "output_type": "stream",
     "text": [
      "100\n",
      "80\n",
      "key exists\n",
      "{'Mary': 90, 'Jerry': 99}\n"
     ]
    }
   ],
   "source": [
    "# dict\n",
    "a = {'Tom': 100, 'Jerry': 99, 'Mary':90}\n",
    "print(a['Tom'])\n",
    "a['Tom'] = 80\n",
    "print(a['Tom'])\n",
    "if 'Tom' in a:\n",
    "    print('key exists')\n",
    "else:\n",
    "    print('key is not exists')\n",
    "a.pop('Tom')\n",
    "print(a)"
   ]
  },
  {
   "cell_type": "code",
   "execution_count": 6,
   "metadata": {
    "collapsed": false
   },
   "outputs": [
    {
     "name": "stdout",
     "output_type": "stream",
     "text": [
      "[0, 1, 5, 14, 25, 30, 100, 200]\n",
      "(200, 0)\n"
     ]
    }
   ],
   "source": [
    "# functions\n",
    "def my_max_min(*number):\n",
    "    a_list = list(number)\n",
    "    a_list.sort()\n",
    "    my_max = a_list[-1]\n",
    "    my_min = a_list[0]\n",
    "    print(a_list)\n",
    "    return my_max, my_min\n",
    "\n",
    "print(my_max_min(1,5,30,14,25,100,200,0))    "
   ]
  },
  {
   "cell_type": "code",
   "execution_count": 2,
   "metadata": {
    "collapsed": false
   },
   "outputs": [
    {
     "name": "stdout",
     "output_type": "stream",
     "text": [
      "['1', '3', '5']\n"
     ]
    }
   ],
   "source": [
    "a = ['1','3','5']\n",
    "print(a)"
   ]
  },
  {
   "cell_type": "code",
   "execution_count": 3,
   "metadata": {
    "collapsed": false
   },
   "outputs": [
    {
     "name": "stdout",
     "output_type": "stream",
     "text": [
      "['5', '3', '1']\n"
     ]
    }
   ],
   "source": [
    "b = a[::-1]\n",
    "print(b)"
   ]
  },
  {
   "cell_type": "code",
   "execution_count": 5,
   "metadata": {
    "collapsed": false
   },
   "outputs": [
    {
     "name": "stdout",
     "output_type": "stream",
     "text": [
      "<class 'tuple'>\n"
     ]
    }
   ],
   "source": [
    "def my(*number):\n",
    "    \n",
    "    print(type(number))\n",
    "    \n",
    "my(1,2,3,6,7,7)"
   ]
  },
  {
   "cell_type": "code",
   "execution_count": null,
   "metadata": {
    "collapsed": true
   },
   "outputs": [],
   "source": []
  }
 ],
 "metadata": {
  "kernelspec": {
   "display_name": "Python 3",
   "language": "python",
   "name": "python3"
  },
  "language_info": {
   "codemirror_mode": {
    "name": "ipython",
    "version": 3
   },
   "file_extension": ".py",
   "mimetype": "text/x-python",
   "name": "python",
   "nbconvert_exporter": "python",
   "pygments_lexer": "ipython3",
   "version": "3.5.2"
  }
 },
 "nbformat": 4,
 "nbformat_minor": 0
}
