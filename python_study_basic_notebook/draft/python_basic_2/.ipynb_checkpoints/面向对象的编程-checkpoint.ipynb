{
 "cells": [
  {
   "cell_type": "markdown",
   "metadata": {},
   "source": [
    "# Lesson 10\n",
    "\n",
    "* Python Senior, Lesson 10, v1.0.0, 2016.11 by David.Yi\n",
    "* v1.1, 2020.5.4 edit by David Yi\n",
    "\n",
    "\n",
    "## 本次内容要点\n",
    "\n",
    "* 面向对象的编程之一\n",
    "    * 类与实例\n",
    "    * 类的属性\n",
    "    * 类的方法\n",
    "* 思考一下"
   ]
  },
  {
   "cell_type": "markdown",
   "metadata": {
    "collapsed": true
   },
   "source": [
    "### 面向对象编程\n",
    "\n",
    "#### 类与实例\n",
    "\n",
    "类，是一个定义；实例是真正的对象的实现，创建一个实例的过程称作实例化。\n",
    "\n",
    "所有的类都继承自一个叫做 object 的类。继承的定义之后再说。\n",
    "\n",
    "类的一些操作方式和函数很像，在没有面向对象编程方式的时候，就是面向过程（函数）的开发方式。\n",
    "\n",
    "类可以很复杂，也可以很简单，取决于应用的需要。面向对象的编程方式，是现代流行的开发方式，博大精深，需要慢慢理解体会。一开始有些不太清楚，也没有关系。\n",
    "\n",
    "#### 类的属性\n",
    "\n",
    "类可以理解为一种称之为命名空间（ namespace），在这个类之下，数据都是属于这个类的实例的，我们称为属性，用实例名字+点+属性名字。这样的类比较简单，在 c 语言中称为结构体，在 pascal 中为记录类型，python 的数据结构比较简单。"
   ]
  },
  {
   "cell_type": "code",
   "execution_count": 3,
   "metadata": {},
   "outputs": [
    {
     "name": "stdout",
     "output_type": "stream",
     "text": [
      "4\n",
      "5\n"
     ]
    }
   ],
   "source": [
    "# 申明一个 class MyData\n",
    "class MyData(object):\n",
    "    pass\n",
    "\n",
    "# 实例化  MyData, 实例的名字叫做 obj_math\n",
    "obj_math = MyData()\n",
    "obj_math.x = 4\n",
    "print(obj_math.x)"
   ]
  },
  {
   "cell_type": "markdown",
   "metadata": {},
   "source": [
    "---\n",
    "\n",
    "#### 类的方法\n",
    "\n",
    "光是把类作为命名空间太简单了，可以给类添加功能，称为方法。\n",
    "\n",
    "方法定义在类中，使用在实例中。可以理解为实例是真正做事情的代码，所以在实例中调用方法完成某个功能是合理的。\n",
    "\n"
   ]
  },
  {
   "cell_type": "code",
   "execution_count": 6,
   "metadata": {},
   "outputs": [
    {
     "name": "stdout",
     "output_type": "stream",
     "text": [
      "Hello!\n"
     ]
    }
   ],
   "source": [
    "class MyData(object):\n",
    "    \n",
    "    # 定义一个 SayHello 的方法，self 可以理解为必须传递的参数\n",
    "    def SayHello(self):\n",
    "        print('Hello!')\n",
    "        \n",
    "# 实例化\n",
    "obj_math = MyData()\n",
    "\n",
    "# 调用方法\n",
    "obj_math.SayHello()"
   ]
  },
  {
   "cell_type": "code",
   "execution_count": 9,
   "metadata": {},
   "outputs": [
    {
     "ename": "NameError",
     "evalue": "name 'self' is not defined",
     "output_type": "error",
     "traceback": [
      "\u001b[0;31m---------------------------------------------------------------------------\u001b[0m",
      "\u001b[0;31mNameError\u001b[0m                                 Traceback (most recent call last)",
      "\u001b[0;32m<ipython-input-9-c6a1e4d0136a>\u001b[0m in \u001b[0;36m<module>\u001b[0;34m()\u001b[0m\n\u001b[0;32m----> 1\u001b[0;31m \u001b[0mMyData\u001b[0m\u001b[0;34m.\u001b[0m\u001b[0mSayHello\u001b[0m\u001b[0;34m(\u001b[0m\u001b[0mself\u001b[0m\u001b[0;34m)\u001b[0m\u001b[0;34m\u001b[0m\u001b[0m\n\u001b[0m",
      "\u001b[0;31mNameError\u001b[0m: name 'self' is not defined"
     ]
    }
   ],
   "source": [
    "# 类直接调用没有意义，报错\n",
    "MyData.SayHello()"
   ]
  },
  {
   "cell_type": "code",
   "execution_count": 5,
   "metadata": {},
   "outputs": [
    {
     "name": "stdout",
     "output_type": "stream",
     "text": [
      "Hello!\n",
      "9\n",
      "4\n"
     ]
    }
   ],
   "source": [
    "# 在上面基础上，复杂一点的例子\n",
    "\n",
    "class MyData(object):\n",
    "    \n",
    "    # 初始化方法，双下划线前后\n",
    "    # 实例化的时候，需要传递 self 之后的参数\n",
    "    def __init__(self, x, y):\n",
    "        self.x = x\n",
    "        self.y = y\n",
    "    \n",
    "    # 定义一个 SayHello 的方法，self 可以理解为必须传递的参数\n",
    "    def SayHello(self):\n",
    "        print('Hello!')\n",
    "        \n",
    "    def Add(self):\n",
    "        print(self.x + self.y)\n",
    "        \n",
    "# 实例化\n",
    "obj_math = MyData(3,4)\n",
    "\n",
    "# 调用方法\n",
    "obj_math.SayHello()\n",
    "\n",
    "obj_math.x = 5\n",
    "\n",
    "obj_math.Add()\n",
    "\n",
    "o1 = MyData(1,3)\n",
    "o1.Add()"
   ]
  },
  {
   "cell_type": "code",
   "execution_count": 15,
   "metadata": {},
   "outputs": [
    {
     "name": "stdout",
     "output_type": "stream",
     "text": [
      "Hello!\n",
      "7\n",
      "11\n"
     ]
    }
   ],
   "source": [
    "# 再复杂一点，创建多个实例\n",
    "\n",
    "class MyData(object):\n",
    "    \n",
    "    # 初始化方法，双下划线前后\n",
    "    # 实例化的时候，需要传递 self 之后的参数\n",
    "    def __init__(self, x, y):\n",
    "        self.x = x\n",
    "        self.y = y\n",
    "    \n",
    "    # 定义一个 SayHello 的方法，self 可以理解为必须传递的参数\n",
    "    def SayHello(self):\n",
    "        print('Hello!')\n",
    "        \n",
    "    def Add(self):\n",
    "        print(self.x + self.y)\n",
    "        \n",
    "# 实例化\n",
    "obj_math = MyData(3,4)\n",
    "\n",
    "# 调用方法\n",
    "obj_math.SayHello()\n",
    "obj_math.Add()\n",
    "\n",
    "# 再创建一个实例\n",
    "obj_math2 = MyData(5,6)\n",
    "obj_math2.Add()"
   ]
  },
  {
   "cell_type": "markdown",
   "metadata": {},
   "source": [
    "---\n",
    "\n",
    "思考一下\n",
    "\n",
    "启动一个最简单的服务器 `python3 -m http.server`\n",
    "\n",
    "然后在浏览器中 127.0.0.1:8000 来进行访问这个服务器了"
   ]
  },
  {
   "cell_type": "code",
   "execution_count": 17,
   "metadata": {},
   "outputs": [
    {
     "name": "stdout",
     "output_type": "stream",
     "text": [
      "Please input:3\n",
      "small\n"
     ]
    }
   ],
   "source": [
    "# 输入 n， 如果 n 等于 1 或者 等于 2 或者 等于 3， 显示 small，其他显示 big\n",
    "\n",
    "n = int(input('Please input:'))\n",
    "\n",
    "if n in [1,2,3]:\n",
    "    print('small')\n",
    "else:\n",
    "    print('big')"
   ]
  },
  {
   "cell_type": "code",
   "execution_count": 18,
   "metadata": {},
   "outputs": [
    {
     "name": "stdout",
     "output_type": "stream",
     "text": [
      "[0, 0]\n",
      "[1, 2]\n",
      "[4, 4]\n",
      "[9, 6]\n",
      "[16, 8]\n"
     ]
    }
   ],
   "source": [
    "def multiply(x):\n",
    "    return (x*x)\n",
    "\n",
    "def add(x):\n",
    "    return (x+x)\n",
    "\n",
    "funcs = [multiply, add]\n",
    "\n",
    "for i in range(5):\n",
    "    value = list(map(lambda x: x(i), funcs))\n",
    "    print(value)"
   ]
  },
  {
   "cell_type": "code",
   "execution_count": null,
   "metadata": {
    "collapsed": true
   },
   "outputs": [],
   "source": []
  }
 ],
 "metadata": {
  "kernelspec": {
   "display_name": "Python 3",
   "language": "python",
   "name": "python3"
  },
  "language_info": {
   "codemirror_mode": {
    "name": "ipython",
    "version": 3
   },
   "file_extension": ".py",
   "mimetype": "text/x-python",
   "name": "python",
   "nbconvert_exporter": "python",
   "pygments_lexer": "ipython3",
   "version": "3.7.6"
  }
 },
 "nbformat": 4,
 "nbformat_minor": 1
}
