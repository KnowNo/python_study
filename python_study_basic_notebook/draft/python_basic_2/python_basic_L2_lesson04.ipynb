{
 "cells": [
  {
   "cell_type": "markdown",
   "metadata": {},
   "source": [
    "# Python for Senior Lesson 4\n",
    "\n",
    "v1.0.0\n",
    "\n",
    "2016.10 by David.Yi\n",
    "\n",
    "## 复习\n",
    "* python 常用内置函数\n",
    "* List 列表的10个方法\n",
    "* List 列表的复制\n",
    "* 写一个简单的图形程序\n",
    "\n",
    "\n",
    "## 本次内容要点\n",
    "* 文件和目录操作之一：文件和目录操作\n",
    "* 有趣的 python 命令\n",
    "* 思考一下\n",
    "\n"
   ]
  },
  {
   "cell_type": "markdown",
   "metadata": {},
   "source": [
    "---\n",
    "\n",
    "## 文件和目录操作之一\n",
    "\n",
    "Python 的 os 库：有很多和操作系统相关的功能，还有很多和文件、路径和执行系统命令相关的函数。\n",
    "\n",
    "##### os 库常用函数\n",
    "\n",
    "* os.sep 可以取代操作系统特定的路径分割符\n",
    "* os.name 字符串指示你正在使用的平台。比如对于Windows，它是'nt'，而对于Linux/Unix用户，它是'posix' \n",
    "* os.getcwd() 函数得到当前工作目录，即当前Python脚本工作的目录路径\n",
    "* os.chdir(dirname)  改变工作目录到dirname\n",
    "* os.getenv() 用来读取环境变量\n",
    "* os.putenv() 用来设置环境变量 \n",
    "* os.listdir() 返回指定目录下的所有文件和目录名 \n",
    "* os.remove() 删除一个文件\n",
    "* os.system() 运行shell命令\n",
    "* os.linesep 字符串给出当前平台使用的行终止符。例如，Windows使用'/r/n'，Mac使用'\\n'。\n",
    "* os.mkdir() 建立路径\n",
    "* os.rmdir() 删除路径\n",
    "\n",
    ">注意：我们在 /Users/用户名 路径下建立一个用来测试的文件 test.txt\n",
    "\n",
    ">不同操作系统在路径和文件处理上有一定差异，这里的举例是基于 macOS，在 windows 下面会有较大差异，但是用法是一致的\n",
    "\n",
    "##### 关于文件系统的延展阅读\n",
    "* 文件系统介绍 https://zh.wikipedia.org/wiki/%E6%96%87%E4%BB%B6%E7%B3%BB%E7%BB%9F\n",
    "* windows 文件系统 FAT、FAT32、NTFS 介绍 https://support.microsoft.com/zh-cn/kb/100108\n",
    "* linux 文件系统介绍 http://cn.linux.vbird.org/linux_basic/0230filesystem.php"
   ]
  },
  {
   "cell_type": "code",
   "execution_count": 2,
   "metadata": {
    "collapsed": false
   },
   "outputs": [
    {
     "name": "stdout",
     "output_type": "stream",
     "text": [
      "/\n",
      "posix\n"
     ]
    }
   ],
   "source": [
    "import os\n",
    "\n",
    "# 操作系统路径分隔符\n",
    "print(os.sep)\n",
    "\n",
    "# 操作系统平台名称\n",
    "print(os.name)"
   ]
  },
  {
   "cell_type": "code",
   "execution_count": 3,
   "metadata": {
    "collapsed": false
   },
   "outputs": [
    {
     "data": {
      "text/plain": [
       "'/Users/yijun/Documents/dev_python/python_beginner/python_senior_slides/lesson4'"
      ]
     },
     "execution_count": 3,
     "metadata": {},
     "output_type": "execute_result"
    }
   ],
   "source": [
    "# 获取当前路径\n",
    "os.getcwd()"
   ]
  },
  {
   "cell_type": "code",
   "execution_count": 4,
   "metadata": {
    "collapsed": false
   },
   "outputs": [
    {
     "data": {
      "text/plain": [
       "'/Users/yijun'"
      ]
     },
     "execution_count": 4,
     "metadata": {},
     "output_type": "execute_result"
    }
   ],
   "source": [
    "# 切换路径\n",
    "os.chdir('/Users/yijun')\n",
    "os.getcwd()"
   ]
  },
  {
   "cell_type": "code",
   "execution_count": 4,
   "metadata": {
    "collapsed": false
   },
   "outputs": [
    {
     "data": {
      "text/plain": [
       "['.ipynb_checkpoints',\n",
       " 'lesson4_python_senior.ipynb',\n",
       " 'list_generator.ipynb',\n",
       " 'python_senior_L4_v1.pptx']"
      ]
     },
     "execution_count": 4,
     "metadata": {},
     "output_type": "execute_result"
    }
   ],
   "source": [
    "# 列出当前目录下所有文件\n",
    "os.listdir()"
   ]
  },
  {
   "cell_type": "code",
   "execution_count": 6,
   "metadata": {
    "collapsed": false
   },
   "outputs": [
    {
     "name": "stdout",
     "output_type": "stream",
     "text": [
      "<class 'list'>\n"
     ]
    }
   ],
   "source": [
    "# 注意返回的数据类型\n",
    "print(type(os.listdir()))"
   ]
  },
  {
   "cell_type": "code",
   "execution_count": 3,
   "metadata": {
    "collapsed": false
   },
   "outputs": [
    {
     "name": "stdout",
     "output_type": "stream",
     "text": [
      "4\n"
     ]
    }
   ],
   "source": [
    "# 计算目录下有多少文件\n",
    "a = os.listdir()\n",
    "print(len(a))"
   ]
  },
  {
   "cell_type": "code",
   "execution_count": 10,
   "metadata": {
    "collapsed": false
   },
   "outputs": [
    {
     "name": "stdout",
     "output_type": "stream",
     "text": [
      "PAServer\n",
      "Pictures\n",
      "Public\n",
      "PycharmProjects\n"
     ]
    }
   ],
   "source": [
    "# 可以指定路径参数，来列出该目录下所有文件\n",
    "l = os.listdir('/Users/yijun')\n",
    "\n",
    "# 可以判断各类情况，比如第一个是大写的 P 字母\n",
    "for i in l:\n",
    "    if i[0:1] == 'P':\n",
    "        print(i)"
   ]
  },
  {
   "cell_type": "code",
   "execution_count": 6,
   "metadata": {
    "collapsed": false
   },
   "outputs": [
    {
     "data": {
      "text/plain": [
       "'\\n'"
      ]
     },
     "execution_count": 6,
     "metadata": {},
     "output_type": "execute_result"
    }
   ],
   "source": [
    "# 操作系统换行符\n",
    "# 在一些文本文件处理中有用\n",
    "\n",
    "os.linesep"
   ]
  },
  {
   "cell_type": "code",
   "execution_count": 22,
   "metadata": {
    "collapsed": false
   },
   "outputs": [
    {
     "ename": "FileExistsError",
     "evalue": "[Errno 17] File exists: 'test'",
     "output_type": "error",
     "traceback": [
      "\u001b[0;31m---------------------------------------------------------------------------\u001b[0m",
      "\u001b[0;31mFileExistsError\u001b[0m                           Traceback (most recent call last)",
      "\u001b[0;32m<ipython-input-22-91172d87a831>\u001b[0m in \u001b[0;36m<module>\u001b[0;34m()\u001b[0m\n\u001b[1;32m      2\u001b[0m \u001b[0;34m\u001b[0m\u001b[0m\n\u001b[1;32m      3\u001b[0m \u001b[0mos\u001b[0m\u001b[0;34m.\u001b[0m\u001b[0mchdir\u001b[0m\u001b[0;34m(\u001b[0m\u001b[0;34m'/Users/yijun'\u001b[0m\u001b[0;34m)\u001b[0m\u001b[0;34m\u001b[0m\u001b[0m\n\u001b[0;32m----> 4\u001b[0;31m \u001b[0mos\u001b[0m\u001b[0;34m.\u001b[0m\u001b[0mmkdir\u001b[0m\u001b[0;34m(\u001b[0m\u001b[0;34m'test'\u001b[0m\u001b[0;34m)\u001b[0m\u001b[0;34m\u001b[0m\u001b[0m\n\u001b[0m",
      "\u001b[0;31mFileExistsError\u001b[0m: [Errno 17] File exists: 'test'"
     ]
    }
   ],
   "source": [
    "# 建立路径\n",
    "\n",
    "os.chdir('/Users/yijun')\n",
    "os.mkdir('test')"
   ]
  },
  {
   "cell_type": "markdown",
   "metadata": {},
   "source": [
    "---\n",
    "\n",
    "##### os.path 常用函数之一\n",
    "\n",
    "* os.path.isdir() 检查给出的路径是否是一个目录\n",
    "* os.path.isfile() 检查给出的路径是否一个文件\n",
    "* os.path.exists() 检查给出的路径或者文件是否存在\n",
    "* os.path.getsize() 获得路径或者文件的大小\n",
    "* os.path.getatime() 返回所指向的文件或者目录的最后存取时间\n",
    "* os.path.getmtime() 返回所指向的文件或者目录的最后修改时间 \n"
   ]
  },
  {
   "cell_type": "code",
   "execution_count": 9,
   "metadata": {
    "collapsed": false
   },
   "outputs": [
    {
     "data": {
      "text/plain": [
       "True"
      ]
     },
     "execution_count": 9,
     "metadata": {},
     "output_type": "execute_result"
    }
   ],
   "source": [
    "# 检查给出的路径是否是一个目录，存在\n",
    "os.path.isdir('/Users/yijun')"
   ]
  },
  {
   "cell_type": "code",
   "execution_count": 10,
   "metadata": {
    "collapsed": false
   },
   "outputs": [
    {
     "data": {
      "text/plain": [
       "False"
      ]
     },
     "execution_count": 10,
     "metadata": {},
     "output_type": "execute_result"
    }
   ],
   "source": [
    "# 检查给出的路径是否是一个目录，不存在\n",
    "os.path.isdir('/Users/yijunn')"
   ]
  },
  {
   "cell_type": "code",
   "execution_count": 12,
   "metadata": {
    "collapsed": false
   },
   "outputs": [
    {
     "data": {
      "text/plain": [
       "False"
      ]
     },
     "execution_count": 12,
     "metadata": {},
     "output_type": "execute_result"
    }
   ],
   "source": [
    "# 文件不是路径，所以返回 False\n",
    "os.path.isdir('/Users/yijun/test.txt')"
   ]
  },
  {
   "cell_type": "code",
   "execution_count": 11,
   "metadata": {
    "collapsed": false
   },
   "outputs": [
    {
     "data": {
      "text/plain": [
       "True"
      ]
     },
     "execution_count": 11,
     "metadata": {},
     "output_type": "execute_result"
    }
   ],
   "source": [
    "# 检查给出的路径是否一个文件，存在\n",
    "os.path.isfile('/Users/yijun/test1.txt')"
   ]
  },
  {
   "cell_type": "code",
   "execution_count": 12,
   "metadata": {
    "collapsed": false
   },
   "outputs": [
    {
     "data": {
      "text/plain": [
       "False"
      ]
     },
     "execution_count": 12,
     "metadata": {},
     "output_type": "execute_result"
    }
   ],
   "source": [
    "# 检查给出的路径是否一个文件，不存在\n",
    "os.path.isfile('/Users/yijun/test.txt')"
   ]
  },
  {
   "cell_type": "code",
   "execution_count": 14,
   "metadata": {
    "collapsed": false
   },
   "outputs": [
    {
     "data": {
      "text/plain": [
       "False"
      ]
     },
     "execution_count": 14,
     "metadata": {},
     "output_type": "execute_result"
    }
   ],
   "source": [
    "# 路径不是文件，所以返回 False\n",
    "os.path.isfile('/Users/yijun')"
   ]
  },
  {
   "cell_type": "code",
   "execution_count": 16,
   "metadata": {
    "collapsed": false
   },
   "outputs": [
    {
     "name": "stdout",
     "output_type": "stream",
     "text": [
      "True\n",
      "True\n"
     ]
    }
   ],
   "source": [
    "# 对路径和文件都通用的检查方式\n",
    "print(os.path.exists('/Users/yijun'))\n",
    "print(os.path.exists('/Users/yijun/test.txt'))"
   ]
  },
  {
   "cell_type": "code",
   "execution_count": 47,
   "metadata": {
    "collapsed": false
   },
   "outputs": [
    {
     "data": {
      "text/plain": [
       "19"
      ]
     },
     "execution_count": 47,
     "metadata": {},
     "output_type": "execute_result"
    }
   ],
   "source": [
    "# 获得路径或者文件的大小\n",
    "\n",
    "os.path.getsize('/Users/yijun/test.txt')"
   ]
  },
  {
   "cell_type": "code",
   "execution_count": 48,
   "metadata": {
    "collapsed": false
   },
   "outputs": [
    {
     "data": {
      "text/plain": [
       "2448"
      ]
     },
     "execution_count": 48,
     "metadata": {},
     "output_type": "execute_result"
    }
   ],
   "source": [
    "# 获得路径或者文件的大小\n",
    "\n",
    "os.path.getsize('/Users/yijun')"
   ]
  },
  {
   "cell_type": "code",
   "execution_count": 26,
   "metadata": {
    "collapsed": false
   },
   "outputs": [
    {
     "data": {
      "text/plain": [
       "1476880061.0"
      ]
     },
     "execution_count": 26,
     "metadata": {},
     "output_type": "execute_result"
    }
   ],
   "source": [
    "# 返回所指向的文件或者目录的最后存取时间\n",
    "\n",
    "os.path.getatime('/Users/yijun/test.txt')"
   ]
  },
  {
   "cell_type": "code",
   "execution_count": 3,
   "metadata": {
    "collapsed": false
   },
   "outputs": [
    {
     "name": "stdout",
     "output_type": "stream",
     "text": [
      "2016-10-22 13:22:46\n"
     ]
    }
   ],
   "source": [
    "# 返回所指向的文件或者目录的最后存取时间\n",
    "import os\n",
    "import time\n",
    "\n",
    "# 将日期格式化\n",
    "dt = time.localtime(os.path.getatime('/Users/yijun'))\n",
    "# print(dt)\n",
    "print(time.strftime('%Y-%m-%d %H:%M:%S', dt))"
   ]
  },
  {
   "cell_type": "code",
   "execution_count": 28,
   "metadata": {
    "collapsed": false
   },
   "outputs": [
    {
     "data": {
      "text/plain": [
       "1476879992.0"
      ]
     },
     "execution_count": 28,
     "metadata": {},
     "output_type": "execute_result"
    }
   ],
   "source": [
    "# 返回所指向的文件或者目录的最后修改时间\n",
    "\n",
    "os.path.getmtime('/Users/yijun/test.txt') "
   ]
  },
  {
   "cell_type": "code",
   "execution_count": 19,
   "metadata": {
    "collapsed": false
   },
   "outputs": [
    {
     "data": {
      "text/plain": [
       "'Wed Oct 19 20:26:32 2016'"
      ]
     },
     "execution_count": 19,
     "metadata": {},
     "output_type": "execute_result"
    }
   ],
   "source": [
    "# 返回所指向的文件或者目录的最后修改时间\n",
    "# 使用 time.ctime() 方法来格式化日期\n",
    "\n",
    "import time, os\n",
    "\n",
    "time.ctime(os.path.getmtime('/Users/yijun/test.txt') )"
   ]
  },
  {
   "cell_type": "markdown",
   "metadata": {
    "collapsed": true
   },
   "source": [
    "---\n",
    "\n",
    "##### os.path 常用函数之二\n",
    "\n",
    "* os.path.split() 返回一个路径的目录名和文件名\n",
    "* os.path.abspath() 返回规范化的绝对路径\n",
    "* os.path.isabs() 如果输入是绝对路径，返回True\n",
    "* os.path.split() 将路径分割成目录和文件名的二元素元组\n",
    "* os.path.splitdrive() 返回（drivername，fpath）元组 \n",
    "* os.path.dirname() 返回路径的目录，其实就是 os.path.split(path)的第一个元素\n",
    "* os.path.basename() 返回路径最后的文件名，其实就是 os.path.split(path)的第二个元素\n",
    "* os.path.splitext() 分离文件名与扩展名，返回(fname,fextension)元组 \n",
    "* os.path.join() 将多个路径组合后返回，第一个绝对路径之前的参数将被忽略\n",
    "* os.path.commonprefix(list) 返回list中，所有路径共有的最长的路径"
   ]
  },
  {
   "cell_type": "code",
   "execution_count": 29,
   "metadata": {
    "collapsed": false
   },
   "outputs": [
    {
     "data": {
      "text/plain": [
       "('/Users/yijun', 'test.txt')"
      ]
     },
     "execution_count": 29,
     "metadata": {},
     "output_type": "execute_result"
    }
   ],
   "source": [
    "# 返回一个路径的目录名和文件名\n",
    "\n",
    "os.path.split('/Users/yijun/test.txt')"
   ]
  },
  {
   "cell_type": "code",
   "execution_count": 5,
   "metadata": {
    "collapsed": false
   },
   "outputs": [
    {
     "data": {
      "text/plain": [
       "'/Users/yijun/Documents/dev_python/python_beginner/python_senior/lesson4/tt12.txt'"
      ]
     },
     "execution_count": 5,
     "metadata": {},
     "output_type": "execute_result"
    }
   ],
   "source": [
    "# 返回规范化的绝对路径\n",
    "# 会自动补齐完整路径\n",
    "\n",
    "os.path.abspath('tt12.txt') "
   ]
  },
  {
   "cell_type": "code",
   "execution_count": 34,
   "metadata": {
    "collapsed": false
   },
   "outputs": [
    {
     "name": "stdout",
     "output_type": "stream",
     "text": [
      "False\n",
      "True\n"
     ]
    }
   ],
   "source": [
    "# 如果输入是绝对路径，返回True\n",
    "\n",
    "print(os.path.isabs('test.txt'))\n",
    "print(os.path.isabs('/Users/yijun/test.txt'))"
   ]
  },
  {
   "cell_type": "code",
   "execution_count": 37,
   "metadata": {
    "collapsed": false
   },
   "outputs": [
    {
     "name": "stdout",
     "output_type": "stream",
     "text": [
      "('/Users/yijun', 'test.txt')\n",
      "<class 'tuple'>\n"
     ]
    }
   ],
   "source": [
    "# 将路径分割成目录和文件名的二元素元组\n",
    "\n",
    "s = os.path.split('/Users/yijun/test.txt')\n",
    "print(s)\n",
    "print(type(s))"
   ]
  },
  {
   "cell_type": "code",
   "execution_count": 38,
   "metadata": {
    "collapsed": false
   },
   "outputs": [
    {
     "data": {
      "text/plain": [
       "('', '/Users/yijun/test.txt')"
      ]
     },
     "execution_count": 38,
     "metadata": {},
     "output_type": "execute_result"
    }
   ],
   "source": [
    "# 返回（drivername，fpath）元组 \n",
    "\n",
    "# mac 下 drivername 返回为空\n",
    "os.path.splitdrive('/Users/yijun/test.txt') "
   ]
  },
  {
   "cell_type": "code",
   "execution_count": 42,
   "metadata": {
    "collapsed": false
   },
   "outputs": [
    {
     "data": {
      "text/plain": [
       "'/Users/yijun'"
      ]
     },
     "execution_count": 42,
     "metadata": {},
     "output_type": "execute_result"
    }
   ],
   "source": [
    "# 返回路径的目录，其实就是 os.path.split(path)的第一个元素\n",
    "\n",
    "os.path.dirname('/Users/yijun/test.txt')"
   ]
  },
  {
   "cell_type": "code",
   "execution_count": 41,
   "metadata": {
    "collapsed": false
   },
   "outputs": [
    {
     "data": {
      "text/plain": [
       "'test.txt'"
      ]
     },
     "execution_count": 41,
     "metadata": {},
     "output_type": "execute_result"
    }
   ],
   "source": [
    "# 返回路径最后的文件名，其实就是 os.path.split(path)的第二个元素\n",
    "\n",
    "os.path.basename('/Users/yijun/test.txt')"
   ]
  },
  {
   "cell_type": "code",
   "execution_count": 44,
   "metadata": {
    "collapsed": false
   },
   "outputs": [
    {
     "data": {
      "text/plain": [
       "('/Users/yijun/test', '.txt')"
      ]
     },
     "execution_count": 44,
     "metadata": {},
     "output_type": "execute_result"
    }
   ],
   "source": [
    "# 分离文件名与扩展名，返回(fname,fextension)元组 \n",
    "\n",
    "os.path.splitext('/Users/yijun/test.txt')"
   ]
  },
  {
   "cell_type": "code",
   "execution_count": 50,
   "metadata": {
    "collapsed": false
   },
   "outputs": [
    {
     "data": {
      "text/plain": [
       "'/Users/yijun/test.txt'"
      ]
     },
     "execution_count": 50,
     "metadata": {},
     "output_type": "execute_result"
    }
   ],
   "source": [
    "# 将多个路径组合后返回，第一个绝对路径之前的参数将被忽略\n",
    "\n",
    "os.path.join('/Users/yijun', 'test.txt')"
   ]
  },
  {
   "cell_type": "code",
   "execution_count": 46,
   "metadata": {
    "collapsed": false
   },
   "outputs": [
    {
     "data": {
      "text/plain": [
       "'/Users/yijun/'"
      ]
     },
     "execution_count": 46,
     "metadata": {},
     "output_type": "execute_result"
    }
   ],
   "source": [
    "# 返回list中，所有路径共有的最长的路径\n",
    "\n",
    "l = ['/Users/yijun/test.txt', '/Users/yijun/test/aaa.txt', '/Users/yijun/bbb.txt']\n",
    "os.path.commonprefix(l)"
   ]
  },
  {
   "cell_type": "code",
   "execution_count": 8,
   "metadata": {
    "collapsed": false
   },
   "outputs": [
    {
     "name": "stdout",
     "output_type": "stream",
     "text": [
      "/Users/yijun/Documents/dev_python/dig/doc/dig_v100_详细设计特性列表.docx\n",
      "/Users/yijun/Documents/dev_python/dig/doc/r2c1_v101_详细设计.docx\n",
      "/Users/yijun/Documents/dev_python/dig/doc/r2c1_v102_详细设计特性列表.docx\n",
      "/Users/yijun/Documents/dev_python/dig/doc/readme.txt\n",
      "/Users/yijun/Documents/dev_python/dig/doc/reportx_design.md\n",
      "/Users/yijun/Documents/dev_python/dig/doc/reportx_design.txt\n"
     ]
    }
   ],
   "source": [
    "# 遍历一个目录下的所有文件\n",
    "\n",
    "import os \n",
    "\n",
    "def list_dir(root_dir): \n",
    "    for lists in os.listdir(root_dir): \n",
    "        path = os.path.join(root_dir, lists) \n",
    "        print(path)\n",
    "        if os.path.isdir(path): \n",
    "            list_dir(path) \n",
    "\n",
    "# 注意不要挑选目录下过多文件的，否则会耗费电脑资源\n",
    "list_dir('/Users/yijun/Documents/dev_python/dig/doc')"
   ]
  },
  {
   "cell_type": "code",
   "execution_count": 7,
   "metadata": {
    "collapsed": false
   },
   "outputs": [
    {
     "name": "stdout",
     "output_type": "stream",
     "text": [
      "/Users/yijun/Documents/dev_python/dig/doc/dig_v100_详细设计特性列表.docx   65257\n",
      "/Users/yijun/Documents/dev_python/dig/doc/r2c1_v101_详细设计.docx   69549\n",
      "/Users/yijun/Documents/dev_python/dig/doc/r2c1_v102_详细设计特性列表.docx   20853\n",
      "/Users/yijun/Documents/dev_python/dig/doc/readme.txt   782\n",
      "/Users/yijun/Documents/dev_python/dig/doc/reportx_design.md   1752\n",
      "/Users/yijun/Documents/dev_python/dig/doc/reportx_design.txt   1544\n"
     ]
    }
   ],
   "source": [
    "# 遍历一个目录下的所有文件\n",
    "# 显示文件的字节数，用 getsize() \n",
    "\n",
    "import os \n",
    "\n",
    "def list_dir(root_dir): \n",
    "    for lists in os.listdir(root_dir): \n",
    "        path = os.path.join(root_dir, lists) \n",
    "        if lists[0:1] != '.':\n",
    "            filesize = os.path.getsize(path)\n",
    "            print(path, ' ', filesize)\n",
    "            if os.path.isdir(path): \n",
    "                list_dir(path) \n",
    "\n",
    "# 注意不要挑选目录下过多文件的，否则会耗费电脑资源\n",
    "list_dir('/Users/yijun/Documents/dev_python/dig/doc')"
   ]
  },
  {
   "cell_type": "code",
   "execution_count": 9,
   "metadata": {
    "collapsed": false
   },
   "outputs": [
    {
     "name": "stdout",
     "output_type": "stream",
     "text": [
      "/Users/yijun/Documents/dev_python/dig/__init__.py   1\n",
      "/Users/yijun/Documents/dev_python/dig/dig.py   5253\n",
      "/Users/yijun/Documents/dev_python/dig/dig_main.py   480\n"
     ]
    }
   ],
   "source": [
    "# 遍历一个目录下的所有文件\n",
    "# 过滤 . 开头的文件，一般是系统文件\n",
    "# 显示文件的字节数\n",
    "# 显示 .py 后缀的文件，引入 endswith 用法\n",
    "\n",
    "import os \n",
    "\n",
    "def list_dir(root_dir): \n",
    "    for lists in os.listdir(root_dir): \n",
    "        path = os.path.join(root_dir, lists) \n",
    "        if lists[0:1] != '.' and lists.endswith('.py'):\n",
    "            filesize = os.path.getsize(path)\n",
    "            print(path, ' ', filesize)\n",
    "            if os.path.isdir(path): \n",
    "                list_dir(path) \n",
    "\n",
    "# 注意不要挑选目录下过多文件的，否则会耗费电脑资源\n",
    "list_dir('/Users/yijun/Documents/dev_python/dig')"
   ]
  },
  {
   "cell_type": "markdown",
   "metadata": {},
   "source": [
    "---\n",
    "\n",
    "##### 有趣的 python 命令\n",
    "\n",
    "`python -m this`\n",
    "\n",
    "`python -m calendar`\n",
    "\n",
    "在终端方式下运行，看看是什么结果"
   ]
  },
  {
   "cell_type": "markdown",
   "metadata": {},
   "source": [
    "---\n",
    "\n",
    "##### 思考一下\n",
    "\n",
    "写一个可以搜索硬盘上指定路径指定类型的文件"
   ]
  },
  {
   "cell_type": "code",
   "execution_count": 13,
   "metadata": {
    "collapsed": false
   },
   "outputs": [
    {
     "name": "stdout",
     "output_type": "stream",
     "text": [
      "['/Users/yijun/Documents/dev_python/machinelearninginaction/Ch10/Portland.png']\n"
     ]
    }
   ],
   "source": [
    "import fnmatch\n",
    "import os\n",
    "\n",
    "images = ['*.jpg', '*.jpeg', '*.png', '*.tif', '*.tiff']\n",
    "matches = []\n",
    "\n",
    "for root, dirnames, filenames in os.walk('/Users/yijun/Documents/dev_python/machinelearninginaction/'):\n",
    "    for extensions in images:\n",
    "        for filename in fnmatch.filter(filenames, extensions):\n",
    "            matches.append(os.path.join(root, filename))\n",
    "\n",
    "print(matches)"
   ]
  },
  {
   "cell_type": "code",
   "execution_count": null,
   "metadata": {
    "collapsed": true
   },
   "outputs": [],
   "source": []
  }
 ],
 "metadata": {
  "kernelspec": {
   "display_name": "Python 3",
   "language": "python",
   "name": "python3"
  },
  "language_info": {
   "codemirror_mode": {
    "name": "ipython",
    "version": 3
   },
   "file_extension": ".py",
   "mimetype": "text/x-python",
   "name": "python",
   "nbconvert_exporter": "python",
   "pygments_lexer": "ipython3",
   "version": "3.5.2"
  }
 },
 "nbformat": 4,
 "nbformat_minor": 0
}
