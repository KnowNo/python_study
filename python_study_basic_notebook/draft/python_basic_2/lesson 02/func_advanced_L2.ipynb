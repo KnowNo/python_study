{
 "cells": [
  {
   "cell_type": "code",
   "execution_count": 1,
   "metadata": {
    "collapsed": false
   },
   "outputs": [
    {
     "name": "stdout",
     "output_type": "stream",
     "text": [
      "110.0\n",
      "120.0\n"
     ]
    }
   ],
   "source": [
    "# 默认参数\n",
    "def cal_0(money, rate=0.1):\n",
    "    return money + money * rate\n",
    "\n",
    "print(cal_0(100))\n",
    "print(cal_0(100,0.2))"
   ]
  },
  {
   "cell_type": "code",
   "execution_count": 2,
   "metadata": {
    "collapsed": false
   },
   "outputs": [
    {
     "name": "stdout",
     "output_type": "stream",
     "text": [
      "61000\n",
      "62000\n",
      "52000\n"
     ]
    }
   ],
   "source": [
    "def cal_1(money, bonus=1000, month=12):\n",
    "    i = money * month + bonus\n",
    "    return i\n",
    "\n",
    "print(cal_1(5000))\n",
    "print(cal_1(5000, 2000))\n",
    "print(cal_1(5000, 2000, 10))"
   ]
  },
  {
   "cell_type": "code",
   "execution_count": 1,
   "metadata": {
    "collapsed": false
   },
   "outputs": [
    {
     "name": "stdout",
     "output_type": "stream",
     "text": [
      "        \n",
      "       *\n",
      "      ***\n",
      "     *****\n",
      "    *******\n",
      "   *********\n",
      "  ***********\n",
      " *************\n",
      "      \n",
      "     *\n",
      "    ***\n",
      "   *****\n",
      "  *******\n",
      " *********\n"
     ]
    }
   ],
   "source": [
    "def draw_triangle(n=5):\n",
    "\n",
    "    for i in range(n+1):\n",
    "        print(' '*(n-i),'*'*(2*i-1))\n",
    "        \n",
    "draw_triangle(7)\n",
    "draw_triangle()\n"
   ]
  },
  {
   "cell_type": "code",
   "execution_count": 13,
   "metadata": {
    "collapsed": false
   },
   "outputs": [
    {
     "name": "stdout",
     "output_type": "stream",
     "text": [
      "2.5\n"
     ]
    }
   ],
   "source": [
    "# 可变长度的参数 元组\n",
    "def cal_2(kind, *numbers):\n",
    "    if kind == 'avg':\n",
    "        n = 0\n",
    "        for i in numbers:\n",
    "            n = n + i\n",
    "        return n / len(numbers)\n",
    "\n",
    "print(cal_2('avg', 1,2,3,4))"
   ]
  },
  {
   "cell_type": "code",
   "execution_count": 17,
   "metadata": {
    "collapsed": false
   },
   "outputs": [
    {
     "name": "stdout",
     "output_type": "stream",
     "text": [
      "2.5\n",
      "10\n"
     ]
    }
   ],
   "source": [
    "# 可变长度的参数 元组\n",
    "def cal_2(kind, *numbers):\n",
    "    if kind == 'avg':\n",
    "        n = 0\n",
    "        for i in numbers:\n",
    "            n = n + i\n",
    "        return n / len(numbers)\n",
    "    if kind == 'sum':\n",
    "        n = 0\n",
    "        for i in numbers:\n",
    "            n = n + i\n",
    "        return n\n",
    "    \n",
    "print(cal_2('avg', 1,2,3,4))\n",
    "print(cal_2('sum', 1,2,3,4))"
   ]
  },
  {
   "cell_type": "code",
   "execution_count": 20,
   "metadata": {
    "collapsed": false
   },
   "outputs": [
    {
     "name": "stdout",
     "output_type": "stream",
     "text": [
      "2.5\n",
      "10\n"
     ]
    }
   ],
   "source": [
    "# 可变长度的参数 元组\n",
    "def cal_2(kind, *numbers):\n",
    "    \n",
    "    n = 0\n",
    "    for i in numbers:\n",
    "        n = n + i\n",
    "    \n",
    "    if kind == 'avg':\n",
    "        return n / len(numbers)\n",
    "    if kind == 'sum':\n",
    "        return n\n",
    "    \n",
    "print(cal_2('avg', 1,2,3,4))\n",
    "print(cal_2('sum', 1,2,3,4))"
   ]
  },
  {
   "cell_type": "code",
   "execution_count": 3,
   "metadata": {
    "collapsed": false
   },
   "outputs": [
    {
     "name": "stdout",
     "output_type": "stream",
     "text": [
      "[1, 2, 3, 4, 5]\n",
      "jerry 95\n",
      "tom 90\n",
      "mary 100\n"
     ]
    }
   ],
   "source": [
    "# 可变长度参数 元组 字典\n",
    "def cal_3(*numbers, **students):\n",
    "\n",
    "    for i in numbers:\n",
    "        print(i)\n",
    "    for k,v in students.items():\n",
    "        print(k,v)\n",
    "        \n",
    "numbers = [1,2,3,4,5]\n",
    "students = {'tom':90, 'jerry':95, 'mary':100}\n",
    "cal_3(*numbers, **students)"
   ]
  },
  {
   "cell_type": "code",
   "execution_count": 5,
   "metadata": {
    "collapsed": false
   },
   "outputs": [
    {
     "name": "stdout",
     "output_type": "stream",
     "text": [
      "2.5\n",
      "10\n"
     ]
    }
   ],
   "source": [
    "# base on cal_2\n",
    "def cal_4(*numbers, kind):\n",
    "    \n",
    "    n = 0\n",
    "    for i in numbers:\n",
    "        n = n + i\n",
    "        \n",
    "    if kind == 'avg':\n",
    "        return n / len(numbers)\n",
    "    if kind == 'sum':\n",
    "        return n\n",
    "    \n",
    "print(cal_4(1,2,3,4, kind='avg'))\n",
    "print(cal_4(1,2,3,4, kind='sum'))"
   ]
  },
  {
   "cell_type": "code",
   "execution_count": 3,
   "metadata": {
    "collapsed": false
   },
   "outputs": [
    {
     "name": "stdout",
     "output_type": "stream",
     "text": [
      "2.5\n",
      "10\n"
     ]
    }
   ],
   "source": [
    "# base on cal_2, \n",
    "# 传递元组和字典参数的最合适写法\n",
    "def cal_5(*numbers, **kind):\n",
    "    \n",
    "    # 判断是否有 kind 这个 key\n",
    "    if 'kind' in kind:\n",
    "        kind_value = kind.get('kind')\n",
    "    \n",
    "    n = 0\n",
    "    for i in numbers:\n",
    "        n = n + i\n",
    "        \n",
    "    if kind_value == 'avg':\n",
    "        return n / len(numbers)\n",
    "    if kind_value == 'sum':\n",
    "        return n\n",
    "    \n",
    "print(cal_5(1,2,3,4, kind='avg'))\n",
    "print(cal_5(1,2,3,4, kind='sum'))"
   ]
  },
  {
   "cell_type": "code",
   "execution_count": 4,
   "metadata": {
    "collapsed": false
   },
   "outputs": [
    {
     "name": "stdout",
     "output_type": "stream",
     "text": [
      "2.0\n",
      "2.5\n",
      "10\n"
     ]
    }
   ],
   "source": [
    "# kind 中 增加 max key， \n",
    "# max = ingnore， 则忽略最大值\n",
    "def cal_6(*numbers, **kind):\n",
    "    \n",
    "    if 'kind' in kind:\n",
    "        kind_value = kind.get('kind')\n",
    "        \n",
    "    if 'max' in kind:\n",
    "        if kind.get('max') == 'ignore':\n",
    "            numbers = list(numbers)\n",
    "            numbers.remove(max(numbers))\n",
    "    \n",
    "    n = 0\n",
    "    for i in numbers:\n",
    "        n = n + i\n",
    "        \n",
    "    if kind_value == 'avg':\n",
    "        return n / len(numbers)\n",
    "    if kind_value == 'sum':\n",
    "        return n\n",
    "    \n",
    "print(cal_6(1,2,3,4, kind='avg', max='ignore'))\n",
    "print(cal_6(1,2,3,4, kind='avg'))\n",
    "print(cal_6(1,2,3,4, kind='sum'))"
   ]
  },
  {
   "cell_type": "code",
   "execution_count": 5,
   "metadata": {
    "collapsed": false
   },
   "outputs": [
    {
     "name": "stdout",
     "output_type": "stream",
     "text": [
      "1.75\n",
      "2.5\n",
      "10\n"
     ]
    }
   ],
   "source": [
    "# kind 中 增加 min key，\n",
    "# min key = double, 则最小值计算两次\n",
    "def cal_7(*numbers, **kind):\n",
    "    \n",
    "    numbers = list(numbers)\n",
    "    \n",
    "    if 'kind' in kind:\n",
    "        kind_value = kind.get('kind')\n",
    "        \n",
    "    if 'max' in kind:\n",
    "        if kind.get('max') == 'ignore':\n",
    "            numbers.remove(max(numbers))\n",
    "\n",
    "    if 'min' in kind:\n",
    "        if kind.get('min') == 'double':\n",
    "            numbers.append(min(numbers))\n",
    "            \n",
    "    n = 0\n",
    "    for i in numbers:\n",
    "        n = n + i\n",
    "        \n",
    "    if kind_value == 'avg':\n",
    "        return n / len(numbers)\n",
    "    if kind_value == 'sum':\n",
    "        return n\n",
    "    \n",
    "print(cal_7(1,2,3,4, kind='avg', max='ignore', min='double'))\n",
    "print(cal_7(1,2,3,4, kind='avg'))\n",
    "print(cal_7(1,2,3,4, kind='sum'))"
   ]
  },
  {
   "cell_type": "code",
   "execution_count": 6,
   "metadata": {
    "collapsed": false
   },
   "outputs": [
    {
     "data": {
      "text/plain": [
       "<function __main__.<lambda>>"
      ]
     },
     "execution_count": 6,
     "metadata": {},
     "output_type": "execute_result"
    }
   ],
   "source": [
    "def add(x, y):\n",
    "    return x + y\n",
    "\n",
    "lambda x, y: x + y"
   ]
  },
  {
   "cell_type": "code",
   "execution_count": 7,
   "metadata": {
    "collapsed": false
   },
   "outputs": [
    {
     "data": {
      "text/plain": [
       "5"
      ]
     },
     "execution_count": 7,
     "metadata": {},
     "output_type": "execute_result"
    }
   ],
   "source": [
    "a =  lambda x, y=2 : x + y \n",
    "a(3)"
   ]
  },
  {
   "cell_type": "code",
   "execution_count": 8,
   "metadata": {
    "collapsed": false
   },
   "outputs": [
    {
     "data": {
      "text/plain": [
       "8"
      ]
     },
     "execution_count": 8,
     "metadata": {},
     "output_type": "execute_result"
    }
   ],
   "source": [
    "a(3, 5)"
   ]
  },
  {
   "cell_type": "code",
   "execution_count": 9,
   "metadata": {
    "collapsed": false
   },
   "outputs": [
    {
     "name": "stdout",
     "output_type": "stream",
     "text": [
      "44\n"
     ]
    }
   ],
   "source": [
    "a = lambda x : x * x +40\n",
    "\n",
    "print(a(2))"
   ]
  },
  {
   "cell_type": "code",
   "execution_count": null,
   "metadata": {
    "collapsed": true
   },
   "outputs": [],
   "source": []
  }
 ],
 "metadata": {
  "kernelspec": {
   "display_name": "Python 3",
   "language": "python",
   "name": "python3"
  },
  "language_info": {
   "codemirror_mode": {
    "name": "ipython",
    "version": 3
   },
   "file_extension": ".py",
   "mimetype": "text/x-python",
   "name": "python",
   "nbconvert_exporter": "python",
   "pygments_lexer": "ipython3",
   "version": "3.4.5"
  }
 },
 "nbformat": 4,
 "nbformat_minor": 0
}
