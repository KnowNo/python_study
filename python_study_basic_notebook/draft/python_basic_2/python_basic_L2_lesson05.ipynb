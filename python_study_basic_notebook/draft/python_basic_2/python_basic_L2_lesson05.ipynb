{
 "cells": [
  {
   "cell_type": "markdown",
   "metadata": {},
   "source": [
    "# Python for Senior Lesson 5\n",
    "\n",
    "v1.0.0\n",
    "\n",
    "2016.10 by David.Yi\n",
    "\n",
    "## 复习\n",
    "* 文件和目录操作之一：文件和目录操作\n",
    "* 思考一下: 搜索硬盘上指定路径指定类型的文件\n",
    "\n",
    "\n",
    "## 本次内容要点\n",
    "* 列表生成器用法\n",
    "* 文件和目录操作之二：读写文本文件\n",
    "* 思考一下"
   ]
  },
  {
   "cell_type": "markdown",
   "metadata": {},
   "source": [
    "---\n",
    "\n",
    "## 列表生成式\n",
    "\n",
    "\n",
    "列表生成式是 Python 内置的非常简单却强大的可以用来创建list的方法。\n",
    "\n",
    "大家都知道，要生成一个这样的 list：[1, 2, 3, 4, 5, 6, 7, 8, 9, 10]\n",
    "\n",
    "可以用 `list(range(1, 11))` \n",
    "\n",
    "那么如果要生成这样的 list：[1, 4, 9, 16, 25, 36, 49, 64, 81, 100]，应该怎么办呢？"
   ]
  },
  {
   "cell_type": "code",
   "execution_count": 1,
   "metadata": {
    "collapsed": false
   },
   "outputs": [
    {
     "name": "stdout",
     "output_type": "stream",
     "text": [
      "[1, 4, 9, 16, 25, 36, 49, 64, 81, 100]\n"
     ]
    }
   ],
   "source": [
    "# 用循环来生成\n",
    "\n",
    "l = []\n",
    "for x in range(1, 11):\n",
    "    l.append(x * x)\n",
    "    \n",
    "print(l)"
   ]
  },
  {
   "cell_type": "code",
   "execution_count": 9,
   "metadata": {
    "collapsed": false,
    "scrolled": true
   },
   "outputs": [
    {
     "name": "stdout",
     "output_type": "stream",
     "text": [
      "[1, 4, 9, 16, 25, 36, 49, 64, 81, 100]\n"
     ]
    }
   ],
   "source": [
    "# 用列表生成式\n",
    "\n",
    "l = [ x * x for x in range(1, 11)]\n",
    "print(l)"
   ]
  },
  {
   "cell_type": "markdown",
   "metadata": {},
   "source": [
    "---\n",
    "##### 列表生成式用法:\n",
    "\n",
    "写列表生成式时，把要生成的元素 `x * x` 放到前面，后面跟 `for` 循环，就可以把 list 创建出来，十分有用。\n",
    "\n",
    "在列表生成式后面还可以加上判断，过滤出结果为偶数的结果\n",
    "\n",
    "[x * x for x in range(1, 11) if x % 2 == 0]\n"
   ]
  },
  {
   "cell_type": "code",
   "execution_count": 2,
   "metadata": {
    "collapsed": false
   },
   "outputs": [
    {
     "data": {
      "text/plain": [
       "[4, 16, 36, 64, 100]"
      ]
     },
     "execution_count": 2,
     "metadata": {},
     "output_type": "execute_result"
    }
   ],
   "source": [
    "# 在列表生成式后面加上判断，过滤出结果为偶数的结果\n",
    "\n",
    "[x * x for x in range(1, 11) if x % 2 == 0 ]"
   ]
  },
  {
   "cell_type": "code",
   "execution_count": 14,
   "metadata": {
    "collapsed": false
   },
   "outputs": [
    {
     "name": "stdout",
     "output_type": "stream",
     "text": [
      "[(2, 0), (3, 1), (4, 2), (5, 3), (6, 4), (7, 5), (8, 6), (9, 7)]\n"
     ]
    }
   ],
   "source": [
    "# 可以在列表生成式中使用双重循环\n",
    "# 输出一对元组，每个数在10以内，且加在一起等于5\n",
    "\n",
    "l = [(x, y) for x in range(10) for y in range(10) if x + y == 5 if x > y]\n",
    "\n",
    "print(l)"
   ]
  },
  {
   "cell_type": "code",
   "execution_count": 16,
   "metadata": {
    "collapsed": false
   },
   "outputs": [
    {
     "name": "stdout",
     "output_type": "stream",
     "text": [
      "['Pictures', 'Public']\n"
     ]
    }
   ],
   "source": [
    "# 改进之前寻找目录下指定字母开头的文件的判断方式\n",
    "# 修改为使用列表生成式\n",
    "\n",
    "import os\n",
    "\n",
    "# 可以指定路径参数，来列出该目录下所有文件\n",
    "# l = os.listdir('/Users/yijun')\n",
    "\n",
    "# 可以判断各类情况，比如第一个是大写的 P 字母, 用列表生成式的方式，代码精简了很多\n",
    "l1 =  [l for l in os.listdir('/Users/yijun') if l[0:1] == 'P']\n",
    "print(l1)"
   ]
  },
  {
   "cell_type": "markdown",
   "metadata": {},
   "source": [
    "---\n",
    "\n",
    "## 文件和目录操作之二\n",
    "\n",
    "读写文件是最常见的IO操作。Python内置了读写文件的函数，用法和C是兼容的。\n",
    "\n",
    "读写文件前，我们先必须了解一下，在磁盘上读写文件的功能都是由操作系统提供的，现代操作系统不允许普通的程序直接操作磁盘，所以，读写文件就是请求操作系统打开一个文件对象，然后，通过操作系统提供的接口从这个文件对象中读取数据，或者把数据写入这个文件对象。\n",
    "\n",
    "##### 读文件\n",
    "\n",
    "函数 `open()` 返回 文件对象，通常的用法需要两个参数：`open(filename, mode)`。分别是文件名和打开模式\n",
    "\n",
    "在做下面的例子前，我们要创建一个 `test.txt` 文件，并且保证其中的内容是如下样式，包含三行内容：\n",
    "\n",
    "> hello\n",
    "\n",
    "> hi\n",
    "\n",
    "> byebye\n",
    "\n",
    "文件保存在可以访问的目录，我这里就保存在和 notebook 同样的目录\n",
    "\n",
    "> 使用 jupyter 可以直接新建 Text File，来完成建立和编辑文本文件"
   ]
  },
  {
   "cell_type": "code",
   "execution_count": 5,
   "metadata": {
    "collapsed": false
   },
   "outputs": [
    {
     "name": "stdout",
     "output_type": "stream",
     "text": [
      "/Users/yijun/Documents/dev_python/python_beginner/python_senior/lesson5\n",
      "/Users/yijun/Documents/dev_python/python_beginner/python_senior/lesson5/test.txt\n",
      "Hello, World!\n",
      "Hello, Shanghai!\n",
      "Hello, Beijing!\n",
      "\n"
     ]
    }
   ],
   "source": [
    "import os\n",
    "\n",
    "# 获得当前路径\n",
    "cd = os.getcwd()\n",
    "\n",
    "print(cd)\n",
    "\n",
    "# 拼接完整文件名\n",
    "filename = os.path.join('/Users/Feng', 'test.txt')\n",
    "\n",
    "print(filename)\n",
    "\n",
    "try:\n",
    "    # 打开文件\n",
    "    f = open(filename, 'r')\n",
    "    print(f.read())\n",
    "finally:\n",
    "    if f:\n",
    "        f.close()"
   ]
  },
  {
   "cell_type": "code",
   "execution_count": 14,
   "metadata": {
    "collapsed": false
   },
   "outputs": [
    {
     "name": "stdout",
     "output_type": "stream",
     "text": [
      "hello\n",
      "hi\n",
      "byebye\n"
     ]
    }
   ],
   "source": [
    "# 简化调用方式\n",
    "# 省却了 try...finally，会有 with 来自动控制\n",
    "\n",
    "with open(filename, 'r') as f:\n",
    "    print(f.read())"
   ]
  },
  {
   "cell_type": "code",
   "execution_count": 23,
   "metadata": {
    "collapsed": false
   },
   "outputs": [
    {
     "name": "stdout",
     "output_type": "stream",
     "text": [
      "<class 'list'>\n",
      "['Hello\\n', 'byebye']\n"
     ]
    }
   ],
   "source": [
    "with open(filename, 'r') as f:\n",
    "    lines = f.readlines()\n",
    "\n",
    "print(type(lines))\n",
    "print(lines)"
   ]
  },
  {
   "cell_type": "code",
   "execution_count": 24,
   "metadata": {
    "collapsed": false
   },
   "outputs": [
    {
     "name": "stdout",
     "output_type": "stream",
     "text": [
      "Hello\n",
      "\n",
      "byebye\n"
     ]
    }
   ],
   "source": [
    "for i in lines:\n",
    "    print(i)"
   ]
  },
  {
   "cell_type": "code",
   "execution_count": 6,
   "metadata": {
    "collapsed": false
   },
   "outputs": [
    {
     "name": "stdout",
     "output_type": "stream",
     "text": [
      "Hello, World!\n",
      "\n",
      "Hello, Shanghai!\n",
      "\n",
      "Hello, Beijing!\n",
      "\n"
     ]
    }
   ],
   "source": [
    "# 更简单的按行读取文件内容方法\n",
    "with open(filename, 'r') as f:\n",
    "    for eachline in f:\n",
    "        print(eachline)"
   ]
  },
  {
   "cell_type": "markdown",
   "metadata": {},
   "source": [
    "---\n",
    "\n",
    "##### 写文件\n",
    "\n",
    "写文件和读文件是一样的，唯一区别是调用 `open()` 函数时，传入标识符 `'w'` 或者 `'wb'` 表示写文本文件或写二进制文件。\n",
    "\n",
    "r 以读方式打开\n",
    "w 以写方式打开\n",
    "a 以追加模式打开（必要时候创建新文件）"
   ]
  },
  {
   "cell_type": "code",
   "execution_count": 20,
   "metadata": {
    "collapsed": false
   },
   "outputs": [
    {
     "name": "stdout",
     "output_type": "stream",
     "text": [
      "Hello, World!\n",
      "Hello, Shanghai!\n",
      "Hello, CHINA!\n",
      "\n"
     ]
    }
   ],
   "source": [
    "# 写文件\n",
    "import os\n",
    "\n",
    "# 获得当前路径\n",
    "cd = os.getcwd()\n",
    "\n",
    "# 拼接完整文件名\n",
    "filename= os.path.join(cd, 'test2.txt')\n",
    "\n",
    "# 换行符\n",
    "br = os.linesep\n",
    "\n",
    "# 写文件\n",
    "with open(filename, 'w') as f:\n",
    "    f.write('Hello, World!' + br)\n",
    "    f.write('Hello, Shanghai!' + br)\n",
    "    f.write('Hello, CHINA!' + br)\n",
    "    \n",
    "with open(filename, 'r') as f:\n",
    "    print(f.read())"
   ]
  },
  {
   "cell_type": "markdown",
   "metadata": {},
   "source": [
    "---\n",
    "\n",
    "##### 操作系统和文件系统差异处理\n",
    "\n",
    "`linesep` 文件中分隔行的字符串\n",
    "`path.sep` 分割文件路径名的字符串\n",
    "`curdir` 当前工作目录的字符串\n",
    "`pardir` 当前工作目录的父目录字符串"
   ]
  },
  {
   "cell_type": "code",
   "execution_count": 21,
   "metadata": {
    "collapsed": false
   },
   "outputs": [
    {
     "name": "stdout",
     "output_type": "stream",
     "text": [
      "\n",
      "\n",
      "/\n",
      ".\n",
      "..\n"
     ]
    }
   ],
   "source": [
    "import os\n",
    "\n",
    "# 换行符会显示不出， 在 macOS 下是： \\n \n",
    "print(os.linesep) \n",
    "print(os.path.sep)\n",
    "print(os.path.curdir)\n",
    "print(os.path.pardir)"
   ]
  },
  {
   "cell_type": "markdown",
   "metadata": {},
   "source": [
    "---\n",
    "\n",
    "##### 使用 glob 包查找文件\n",
    "\n",
    "glob 是 python 自己带的一个文件操作相关模块，很简洁，用它可以查找符合自己目的的文件，就类似于Windows下的文件搜索，而且也支持通配符: `*,?,[]` 这三个通配符，\\* 代表0个或多个字符，? 代表一个字符，[] 匹配指定范围内的字符，如[0-9]匹配数字。\n",
    "\n",
    "glob 的主要方法也叫 glob，该方法返回所有匹配的文件路径列表，该方法需要一个参数用来指定匹配的路径字符串"
   ]
  },
  {
   "cell_type": "code",
   "execution_count": 25,
   "metadata": {
    "collapsed": false
   },
   "outputs": [],
   "source": [
    "# 使用 glob 来遍历指定路径下的指定类型文件\n",
    "import glob\n",
    "\n",
    "# notebook 写法\n",
    "glob.glob('/Users/yijun/dev_python/*/*.py')\n",
    "\n",
    "# IDLE 写法\n",
    "l = glob.glob('/Users/yijun/dev_python/*/*.py')\n",
    "for i in l:\n",
    "    print(i)"
   ]
  },
  {
   "cell_type": "code",
   "execution_count": 23,
   "metadata": {
    "collapsed": false
   },
   "outputs": [],
   "source": [
    "l = glob.glob('/Users/yijun/dev_python/*/e2*.py')\n",
    "for i in l:\n",
    "    print(i)"
   ]
  },
  {
   "cell_type": "markdown",
   "metadata": {},
   "source": [
    "##### python 灵活的变量定义"
   ]
  },
  {
   "cell_type": "code",
   "execution_count": 1,
   "metadata": {
    "collapsed": false
   },
   "outputs": [
    {
     "name": "stdout",
     "output_type": "stream",
     "text": [
      "1\n",
      "2\n",
      "3 4 5 6 7 8\n"
     ]
    }
   ],
   "source": [
    "# python 有趣灵活的变量定义\n",
    "\n",
    "first, second, *rest = (1,2,3,4,5,6,7,8)\n",
    "print(first)\n",
    "print(second)\n",
    "print(*rest)"
   ]
  },
  {
   "cell_type": "code",
   "execution_count": 28,
   "metadata": {
    "collapsed": false
   },
   "outputs": [
    {
     "name": "stdout",
     "output_type": "stream",
     "text": [
      "4\n",
      "3\n"
     ]
    }
   ],
   "source": [
    "# python 交换变量\n",
    "\n",
    "a, b = 3, 4\n",
    "a, b = b, a \n",
    "print(a)\n",
    "print(b)"
   ]
  },
  {
   "cell_type": "code",
   "execution_count": null,
   "metadata": {
    "collapsed": true
   },
   "outputs": [],
   "source": []
  }
 ],
 "metadata": {
  "anaconda-cloud": {},
  "kernelspec": {
   "display_name": "Python [default]",
   "language": "python",
   "name": "python3"
  },
  "language_info": {
   "codemirror_mode": {
    "name": "ipython",
    "version": 3
   },
   "file_extension": ".py",
   "mimetype": "text/x-python",
   "name": "python",
   "nbconvert_exporter": "python",
   "pygments_lexer": "ipython3",
   "version": "3.5.2"
  }
 },
 "nbformat": 4,
 "nbformat_minor": 0
}
