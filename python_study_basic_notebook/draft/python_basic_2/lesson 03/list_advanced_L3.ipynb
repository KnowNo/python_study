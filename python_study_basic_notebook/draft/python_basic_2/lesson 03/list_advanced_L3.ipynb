{
 "cells": [
  {
   "cell_type": "code",
   "execution_count": 4,
   "metadata": {
    "collapsed": false
   },
   "outputs": [
    {
     "name": "stdout",
     "output_type": "stream",
     "text": [
      "['tom', 'jerry', 'steven', 'mary']\n"
     ]
    }
   ],
   "source": [
    "# list append\n",
    "l = ['tom', 'jerry', 'steven']\n",
    "l.append('mary')\n",
    "print(l)"
   ]
  },
  {
   "cell_type": "code",
   "execution_count": 5,
   "metadata": {
    "collapsed": false
   },
   "outputs": [
    {
     "name": "stdout",
     "output_type": "stream",
     "text": [
      "['tom', 'jerry', 'steven', 'mary', 'may', 'david']\n"
     ]
    }
   ],
   "source": [
    "# list extend\n",
    "l.extend(['may', 'david'])\n",
    "print(l)"
   ]
  },
  {
   "cell_type": "code",
   "execution_count": 2,
   "metadata": {
    "collapsed": false
   },
   "outputs": [
    {
     "name": "stdout",
     "output_type": "stream",
     "text": [
      "['tom', 'jerry', 'helen', 'steven']\n"
     ]
    }
   ],
   "source": [
    "# list insert\n",
    "l = ['tom', 'jerry', 'steven']\n",
    "l.insert(2,'helen')\n",
    "print(l)"
   ]
  },
  {
   "cell_type": "code",
   "execution_count": 7,
   "metadata": {
    "collapsed": false
   },
   "outputs": [
    {
     "name": "stdout",
     "output_type": "stream",
     "text": [
      "['jerry', 'steven']\n"
     ]
    }
   ],
   "source": [
    "# list remove\n",
    "l = ['tom', 'jerry', 'steven']\n",
    "l.remove('tom')\n",
    "print(l)"
   ]
  },
  {
   "cell_type": "code",
   "execution_count": 8,
   "metadata": {
    "collapsed": false
   },
   "outputs": [
    {
     "name": "stdout",
     "output_type": "stream",
     "text": [
      "['tom', 'steven']\n"
     ]
    }
   ],
   "source": [
    "# list pop\n",
    "l = ['tom', 'jerry', 'steven']\n",
    "l.pop(1)\n",
    "print(l)"
   ]
  },
  {
   "cell_type": "code",
   "execution_count": 10,
   "metadata": {
    "collapsed": false
   },
   "outputs": [
    {
     "name": "stdout",
     "output_type": "stream",
     "text": [
      "[]\n"
     ]
    }
   ],
   "source": [
    "# list clear\n",
    "l = ['tom', 'jerry', 'steven']\n",
    "l.clear()\n",
    "print(l)"
   ]
  },
  {
   "cell_type": "code",
   "execution_count": 11,
   "metadata": {
    "collapsed": false
   },
   "outputs": [
    {
     "name": "stdout",
     "output_type": "stream",
     "text": [
      "1\n"
     ]
    }
   ],
   "source": [
    "# list index\n",
    "l = ['tom', 'jerry', 'steven']\n",
    "print(l.index('jerry'))"
   ]
  },
  {
   "cell_type": "code",
   "execution_count": 1,
   "metadata": {
    "collapsed": false
   },
   "outputs": [
    {
     "name": "stdout",
     "output_type": "stream",
     "text": [
      "1\n",
      "2\n"
     ]
    }
   ],
   "source": [
    "# list count\n",
    "l = ['tom', 'jerry', 'steven', 'steven']\n",
    "print(l.count('tom'))\n",
    "print(l.count('steven'))"
   ]
  },
  {
   "cell_type": "code",
   "execution_count": 16,
   "metadata": {
    "collapsed": false
   },
   "outputs": [
    {
     "name": "stdout",
     "output_type": "stream",
     "text": [
      "['jerry', 'steven', 'tom']\n"
     ]
    }
   ],
   "source": [
    "# sort method of list\n",
    "l = ['tom', 'jerry', 'steven']\n",
    "l.sort()\n",
    "print(l)"
   ]
  },
  {
   "cell_type": "code",
   "execution_count": 21,
   "metadata": {
    "collapsed": false
   },
   "outputs": [
    {
     "name": "stdout",
     "output_type": "stream",
     "text": [
      "['jerry', 'steven', 'tom']\n"
     ]
    }
   ],
   "source": [
    "# sorted function\n",
    "l = ['tom', 'jerry', 'steven']\n",
    "l1 = sorted(l)\n",
    "print(l1)"
   ]
  },
  {
   "cell_type": "code",
   "execution_count": 22,
   "metadata": {
    "collapsed": false
   },
   "outputs": [
    {
     "name": "stdout",
     "output_type": "stream",
     "text": [
      "['steven', 'jerry', 'tom']\n"
     ]
    }
   ],
   "source": [
    "# reverse method of list\n",
    "l = ['tom', 'jerry', 'steven']\n",
    "l.reverse()\n",
    "print(l)"
   ]
  },
  {
   "cell_type": "code",
   "execution_count": 23,
   "metadata": {
    "collapsed": false
   },
   "outputs": [
    {
     "name": "stdout",
     "output_type": "stream",
     "text": [
      "['tom', 'jerry', 'steven']\n",
      "['tom', 'jerry', 'steven']\n",
      "['tom', 'jerry', 'steven', 'may']\n",
      "['tom', 'jerry', 'steven', 'may']\n"
     ]
    }
   ],
   "source": [
    "# copy list #1\n",
    "l = ['tom', 'jerry', 'steven']\n",
    "l1 = l\n",
    "print(l)\n",
    "print(l1)\n",
    "\n",
    "l.append('may')\n",
    "print(l)\n",
    "print(l1)\n"
   ]
  },
  {
   "cell_type": "code",
   "execution_count": 24,
   "metadata": {
    "collapsed": false
   },
   "outputs": [
    {
     "name": "stdout",
     "output_type": "stream",
     "text": [
      "['tom', 'jerry', 'steven']\n",
      "['tom', 'jerry', 'steven']\n",
      "['tom', 'jerry', 'steven', 'may']\n",
      "['tom', 'jerry', 'steven']\n"
     ]
    }
   ],
   "source": [
    "# copy list, real copy #2\n",
    "l = ['tom', 'jerry', 'steven']\n",
    "l1 = l[:]\n",
    "print(l)\n",
    "print(l1)\n",
    "\n",
    "l.append('may')\n",
    "print(l)\n",
    "print(l1)"
   ]
  },
  {
   "cell_type": "code",
   "execution_count": 25,
   "metadata": {
    "collapsed": false
   },
   "outputs": [
    {
     "name": "stdout",
     "output_type": "stream",
     "text": [
      "['tom', 'jerry', 'steven']\n",
      "['tom', 'jerry', 'steven']\n",
      "['tom', 'jerry', 'steven', 'may']\n",
      "['tom', 'jerry', 'steven']\n"
     ]
    }
   ],
   "source": [
    "# copy list, real copy #3\n",
    "l = ['tom', 'jerry', 'steven']\n",
    "l1 = list(l)\n",
    "print(l)\n",
    "print(l1)\n",
    "\n",
    "l.append('may')\n",
    "print(l)\n",
    "print(l1)"
   ]
  },
  {
   "cell_type": "code",
   "execution_count": null,
   "metadata": {
    "collapsed": true
   },
   "outputs": [],
   "source": []
  }
 ],
 "metadata": {
  "kernelspec": {
   "display_name": "Python 3",
   "language": "python",
   "name": "python3"
  },
  "language_info": {
   "codemirror_mode": {
    "name": "ipython",
    "version": 3
   },
   "file_extension": ".py",
   "mimetype": "text/x-python",
   "name": "python",
   "nbconvert_exporter": "python",
   "pygments_lexer": "ipython3",
   "version": "3.5.1"
  }
 },
 "nbformat": 4,
 "nbformat_minor": 0
}
