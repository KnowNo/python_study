{
 "cells": [
  {
   "cell_type": "markdown",
   "metadata": {},
   "source": [
    "# Lesson 2\n",
    "Python Basic, Lesson 2, \n",
    "* v1.1, 2020.2,3,4 edit by David Yi\n",
    "\n",
    "### 本章内容要点\n",
    "\n",
    "* Python 入门 \n",
    "    * 基本变量概念\n",
    "    * print() 和 input() 用法\n",
    "    * for 循环语句和 range() 函数\n",
    "* 思考"
   ]
  },
  {
   "cell_type": "markdown",
   "metadata": {},
   "source": [
    "---\n",
    "\n",
    "## Python 入门\n",
    "\n",
    "### 基本变量概念\n",
    "\n",
    "Python 中的变量赋值不需要类型声明。\n",
    "\n",
    "每个变量在内存中创建，都包括变量的标识，名称和数据这些信息。\n",
    "每个变量在使用前都必须赋值，变量赋值以后该变量才会被创建。\n",
    "等号（=）用来给变量赋值。\n",
    "等号（=）运算符左边是一个变量名,等号（=）运算符右边是存储在变量中的值。\n",
    "\n"
   ]
  },
  {
   "cell_type": "code",
   "execution_count": 1,
   "metadata": {},
   "outputs": [
    {
     "name": "stdout",
     "output_type": "stream",
     "text": [
      "<class 'bool'>\n"
     ]
    }
   ],
   "source": [
    "counter = 100  # 整型变量\n",
    "miles = 1000.0 # 浮点型（小数）\n",
    "name = \"John\"  # 字符串\n",
    "name2 = 'Tom'\n",
    "bool = False  # 布尔值\n",
    "print(type(bool))"
   ]
  },
  {
   "cell_type": "code",
   "execution_count": 2,
   "metadata": {},
   "outputs": [
    {
     "name": "stdout",
     "output_type": "stream",
     "text": [
      "1 2 1\n",
      "Hello Hello\n"
     ]
    }
   ],
   "source": [
    "# 多个变量赋值\n",
    "\n",
    "a = b = c = 1\n",
    "b = 2 \n",
    "print(a,b,c)\n",
    "\n",
    "s = s1 = 'Hello'\n",
    "print(s,s1)"
   ]
  },
  {
   "cell_type": "code",
   "execution_count": 3,
   "metadata": {},
   "outputs": [
    {
     "name": "stdout",
     "output_type": "stream",
     "text": [
      "1 2 3\n"
     ]
    }
   ],
   "source": [
    "# 多个变量赋值\n",
    "\n",
    "a, b, c = 1, 2, 3\n",
    "print(a,b,c)"
   ]
  },
  {
   "cell_type": "code",
   "execution_count": 4,
   "metadata": {},
   "outputs": [
    {
     "name": "stdout",
     "output_type": "stream",
     "text": [
      "2 1\n"
     ]
    }
   ],
   "source": [
    "# 交换变量\n",
    "a, b = 1, 2\n",
    "a, b = b, a\n",
    "print(a,b)"
   ]
  },
  {
   "cell_type": "markdown",
   "metadata": {},
   "source": [
    "#### 动态语言\n",
    "Python是动态语言，即变量本身的类型不固定。\n",
    "\n",
    "与之对应的静态语言（如Java），在定义变量时，必须先指定变量类型，赋值时如不匹配则报错。"
   ]
  },
  {
   "cell_type": "markdown",
   "metadata": {},
   "source": [
    "#### 理解Python变量在内存中的表示\n",
    "当我们输入 a = 'ABC' 时，Python解释器做了2件事情：\n",
    "\n",
    "1. 在内存中创建了一个'ABC'的字符串；\n",
    "\n",
    "2. 在内存中创建了一个名为a的变量，并把它指向'ABC'。\n",
    "\n",
    "也可以把一个变量a赋值给另一个变量b，这个操作实际上是把变量b指向变量a所指向的数据"
   ]
  },
  {
   "cell_type": "code",
   "execution_count": 5,
   "metadata": {},
   "outputs": [
    {
     "name": "stdout",
     "output_type": "stream",
     "text": [
      "ABC\n"
     ]
    }
   ],
   "source": [
    "a = 'ABC'\n",
    "b = a\n",
    "a = 'XYZ'\n",
    "print(b)"
   ]
  },
  {
   "cell_type": "markdown",
   "metadata": {},
   "source": [
    "---\n",
    "\n",
    "### print() 和 input() 用法\n",
    "\n",
    "print() 用来显示内容，input() 用来输入内容，在类似命令行的操作中，这两条语句非常有用。电脑做的事情就是三种，输入、计算、输出。所以输入输出命令很重要，让我们迅速的了解电脑程序处理的基本原理，并且了解 Python 语言的基本规则。\n",
    "\n",
    "print() 也支持格式化输出，类似于 c 语言中的 printf。"
   ]
  },
  {
   "cell_type": "code",
   "execution_count": 24,
   "metadata": {},
   "outputs": [
    {
     "name": "stdout",
     "output_type": "stream",
     "text": [
      "100\n",
      "100\n"
     ]
    }
   ],
   "source": [
    "print(100)\n",
    "\n",
    "a = 100\n",
    "print(a)"
   ]
  },
  {
   "cell_type": "code",
   "execution_count": 7,
   "metadata": {},
   "outputs": [
    {
     "name": "stdout",
     "output_type": "stream",
     "text": [
      "name:david\n",
      "hello david\n"
     ]
    }
   ],
   "source": [
    "name = input('name:')\n",
    "print( 'hello', name) "
   ]
  },
  {
   "cell_type": "code",
   "execution_count": 8,
   "metadata": {},
   "outputs": [
    {
     "name": "stdout",
     "output_type": "stream",
     "text": [
      "small\n"
     ]
    }
   ],
   "source": [
    "a = 10\n",
    "if a > 10:\n",
    "    print('big')\n",
    "else:\n",
    "    print('small')"
   ]
  },
  {
   "cell_type": "code",
   "execution_count": 25,
   "metadata": {},
   "outputs": [
    {
     "name": "stdout",
     "output_type": "stream",
     "text": [
      "0\n",
      "1\n",
      "2\n",
      "3\n",
      "4\n",
      "5\n",
      "6\n",
      "7\n",
      "8\n",
      "9\n",
      "10\n",
      "11\n",
      "12\n"
     ]
    }
   ],
   "source": [
    "for i in range(13):\n",
    "    print(i)"
   ]
  },
  {
   "cell_type": "code",
   "execution_count": 10,
   "metadata": {},
   "outputs": [
    {
     "name": "stdout",
     "output_type": "stream",
     "text": [
      "h\n",
      "e\n",
      "l\n",
      "l\n",
      "o\n"
     ]
    }
   ],
   "source": [
    "for i in 'hello':\n",
    "    print(i)"
   ]
  },
  {
   "cell_type": "code",
   "execution_count": 11,
   "metadata": {},
   "outputs": [
    {
     "name": "stdout",
     "output_type": "stream",
     "text": [
      "The length of hello is 5\n"
     ]
    }
   ],
   "source": [
    "# 支持格式化的 print\n",
    "\n",
    "s = 'hello'\n",
    "x = len(s)  \n",
    "print('The length of %s is %d' % (s,x))  "
   ]
  },
  {
   "cell_type": "code",
   "execution_count": 12,
   "metadata": {},
   "outputs": [
    {
     "name": "stdout",
     "output_type": "stream",
     "text": [
      "hello from English\n",
      "hello from English\n"
     ]
    }
   ],
   "source": [
    "# 更加好，更加 pythonic 的写法：format函数-增强的格式化字符串函数\n",
    "# 关于format的更多细节，参见 https://docs.python.org/3/library/string.html#format-string-syntax\n",
    "# 通过关键字传参\n",
    "print('{greet} from {language}'.format(greet='hello', language='English'))\n",
    "\n",
    "# 通过位置传参\n",
    "print('{0} from {1}'.format('hello', 'English'))"
   ]
  },
  {
   "cell_type": "code",
   "execution_count": 13,
   "metadata": {},
   "outputs": [
    {
     "name": "stdout",
     "output_type": "stream",
     "text": [
      "The length of hello is 5\n"
     ]
    }
   ],
   "source": [
    "# 支持格式化的 print 的另外一种写法\n",
    "\n",
    "s = 'hello'\n",
    "x = len(s)  \n",
    "print('The length of {word} is {length}'.format(word=s,length=x))  "
   ]
  },
  {
   "cell_type": "markdown",
   "metadata": {},
   "source": [
    "---\n",
    "\n",
    "print() 格式化输出说明\n",
    "* %字符：标记转换说明符的开始\n",
    "\n",
    "* 转换标志：-表示左对齐；+表示在转换值之前要加上正负号；“”（空白字符）表示正数之前保留空格；0表示转换值若位数不够则用0填充。\n",
    "\n",
    "* 最小字段宽度：转换后的字符串至少应该具有该值指定的宽度。如果是*，则宽度会从值元组中读出。\n",
    "\n",
    "* 点(.)后跟精度值：如果转换的是实数，精度值就表示出现在小数点后的位数。如果转换的是字符串，那么该数字就表示最大字段宽度。如果是*，那么精度将从元组中读出。\n",
    "\n",
    "* 字符串格式化转换类型。\n",
    "\n",
    "转换类型          含义\n",
    "* d,i：带符号的十进制整数\n",
    "* o：不带符号的八进制\n",
    "* u：不带符号的十进制\n",
    "* x：不带符号的十六进制（小写）\n",
    "* X：不带符号的十六进制（大写）\n",
    "* e：科学计数法表示的浮点数（小写）\n",
    "* E：科学计数法表示的浮点数（大写）\n",
    "* f,F：十进制浮点数\n",
    "* g：如果指数大于-4或者小于精度值则和e相同，其他情况和f相同\n",
    "* G：如果指数大于-4或者小于精度值则和E相同，其他情况和F相同\n",
    "* C：单字符（接受整数或者单字符字符串）\n",
    "* r：字符串（使用repr转换任意python对象)\n",
    "* s：字符串（使用str转换任意python对象）"
   ]
  },
  {
   "cell_type": "code",
   "execution_count": 14,
   "metadata": {},
   "outputs": [
    {
     "name": "stdout",
     "output_type": "stream",
     "text": [
      "     3.142\n",
      "pi = 3.142\n",
      "000003.142\n",
      "3.142     \n",
      "+3.141593\n"
     ]
    }
   ],
   "source": [
    "# 格式化 print 举例\n",
    "\n",
    "pi = 3.141592653  \n",
    "\n",
    "print('%10.3f' % pi) #字段宽10，精度3 \n",
    "\n",
    "print(\"pi = %.*f\" % (3,pi)) #用*从后面的元组中读取字段宽度或精度  \n",
    "  \n",
    "print('%010.3f' % pi) #用0填充空白  \n",
    "  \n",
    "print('%-10.3f' % pi) #左对齐  \n",
    "       \n",
    "print('%+f' % pi) #显示正则表达式"
   ]
  },
  {
   "cell_type": "markdown",
   "metadata": {},
   "source": []
  },
  {
   "cell_type": "markdown",
   "metadata": {
    "collapsed": true
   },
   "source": [
    "Python 从3.6版本开始引入 f-string，称为格式化字符串常量，主要目的是使格式化字符串的操作更加简便。f-string在形式上是以 f 或 F 修饰符引领的字符串（f'xxx' 或 F'xxx'），以大括号 {} 标明被替换的字段；f-string在本质上并不是字符串常量，而是一个在运行时运算求值的表达式。\n",
    "\n",
    "f-string 在功能方面不逊于传统的 %-formatting语句和 str.format()函数，同时性能又优于二者，且使用起来也更加简洁明了，因此对于 Python3.6及以后的版本，推荐使用f-string进行字符串格式化。"
   ]
  },
  {
   "cell_type": "code",
   "execution_count": 15,
   "metadata": {},
   "outputs": [
    {
     "data": {
      "text/plain": [
       "'a is      3.142'"
      ]
     },
     "execution_count": 15,
     "metadata": {},
     "output_type": "execute_result"
    }
   ],
   "source": [
    "a = 3.141592653 \n",
    "f'a is {a:10.3f}'"
   ]
  },
  {
   "cell_type": "markdown",
   "metadata": {},
   "source": [
    "---\n",
    "\n",
    "### for 循环语句和 range() 函数\n",
    "\n",
    "Python的循环主要是 for...in 循环，依次把 list 或 tuple等中的每个元素迭代出来；Python 也有 while 循环，一般不常用。\n",
    "\n",
    "可以理解为，`for x in ...` 循环就是把每个元素代入变量x，然后执行缩进块的语句。\n",
    "\n",
    "如果是简单的按照次数的循环，一般用 range() 函数来产生一个可以生成迭代数字的序列"
   ]
  },
  {
   "cell_type": "code",
   "execution_count": 16,
   "metadata": {},
   "outputs": [
    {
     "name": "stdout",
     "output_type": "stream",
     "text": [
      "a\n",
      "b\n",
      "c\n",
      "d\n",
      "e\n",
      "f\n"
     ]
    }
   ],
   "source": [
    "# 按照字符串进行迭代循环\n",
    "s = 'abcdef'\n",
    "for i in s:\n",
    "    print(i)"
   ]
  },
  {
   "cell_type": "code",
   "execution_count": 17,
   "metadata": {},
   "outputs": [
    {
     "name": "stdout",
     "output_type": "stream",
     "text": [
      "a\n",
      "b\n",
      "c\n"
     ]
    }
   ],
   "source": [
    "s = ['a', 'b', 'c']\n",
    "for i in s:\n",
    "    print(i)"
   ]
  },
  {
   "cell_type": "code",
   "execution_count": 18,
   "metadata": {},
   "outputs": [
    {
     "name": "stdout",
     "output_type": "stream",
     "text": [
      "0\n",
      "1\n",
      "2\n"
     ]
    }
   ],
   "source": [
    "for i in range(3):    \n",
    "    print(i)"
   ]
  },
  {
   "cell_type": "markdown",
   "metadata": {},
   "source": [
    "#### 循环语句 while    \n",
    "while 循环是在 Python中的循环结构之一。 while循环继续，直到表达式变为假。      \n",
    "\n",
    "表达的是一个逻辑表达式，必须返回一个 true 或 false值。"
   ]
  },
  {
   "cell_type": "code",
   "execution_count": 19,
   "metadata": {},
   "outputs": [
    {
     "name": "stdout",
     "output_type": "stream",
     "text": [
      "The count is: 0\n",
      "The count is: 1\n",
      "The count is: 2\n",
      "The count is: 3\n",
      "The count is: 4\n",
      "The count is: 5\n",
      "The count is: 6\n",
      "The count is: 7\n",
      "The count is: 8\n",
      "Good bye!\n"
     ]
    }
   ],
   "source": [
    "count = 0\n",
    "while (count < 9):\n",
    "    print('The count is:', count)\n",
    "    count += 1\n",
    "print(\"Good bye!\")"
   ]
  },
  {
   "cell_type": "markdown",
   "metadata": {},
   "source": [
    "#### range() 函数\n",
    "\n",
    "range() 函数产生一个等差序列，range(x,y,z)，表示从 x 到 y（不含 y），z 为步长，可以为负。\n",
    "\n",
    "修改下面例子中的 range() 中的起始、结束和步长，来看看各种效果。"
   ]
  },
  {
   "cell_type": "code",
   "execution_count": 20,
   "metadata": {},
   "outputs": [
    {
     "name": "stdout",
     "output_type": "stream",
     "text": [
      "1\n",
      "4\n",
      "7\n"
     ]
    }
   ],
   "source": [
    "for i in range(1,10,3):\n",
    "    print(i)"
   ]
  },
  {
   "cell_type": "code",
   "execution_count": 4,
   "metadata": {},
   "outputs": [
    {
     "name": "stdout",
     "output_type": "stream",
     "text": [
      "10\n",
      "9\n",
      "8\n",
      "7\n",
      "6\n",
      "5\n",
      "4\n",
      "3\n"
     ]
    }
   ],
   "source": [
    "for i in range(10,2,-1):\n",
    "    print(i)"
   ]
  },
  {
   "cell_type": "code",
   "execution_count": 3,
   "metadata": {},
   "outputs": [
    {
     "name": "stdout",
     "output_type": "stream",
     "text": [
      "109876543"
     ]
    }
   ],
   "source": [
    "# print 时候不换行\n",
    "\n",
    "for i in range(10,2,-1):\n",
    "    print(i,end='')"
   ]
  },
  {
   "cell_type": "code",
   "execution_count": 5,
   "metadata": {},
   "outputs": [
    {
     "name": "stdout",
     "output_type": "stream",
     "text": [
      "10,9,8,7,6,5,4,3,"
     ]
    }
   ],
   "source": [
    "# print 时候不换行,优雅的分割\n",
    "\n",
    "for i in range(10,2,-1):\n",
    "    print(i,end=',')"
   ]
  },
  {
   "cell_type": "code",
   "execution_count": 22,
   "metadata": {},
   "outputs": [
    {
     "name": "stdout",
     "output_type": "stream",
     "text": [
      "0 Mary \n",
      "1 had\n",
      "2 a\n",
      "3 little \n",
      "4 lamb\n"
     ]
    }
   ],
   "source": [
    "# 同时获得列表中的序号和内容，可以这样写\n",
    "# len() 是获得列表的长度，可以理解元素个数\n",
    "\n",
    "s = ['Mary ', 'had', 'a', 'little ', 'lamb']\n",
    "for i in range(len(s)):\n",
    "    print(i, s[i])"
   ]
  },
  {
   "cell_type": "code",
   "execution_count": 23,
   "metadata": {
    "scrolled": true
   },
   "outputs": [
    {
     "name": "stdout",
     "output_type": "stream",
     "text": [
      "0 Mary \n",
      "1 had\n",
      "2 a\n",
      "3 little \n",
      "4 lamb\n"
     ]
    }
   ],
   "source": [
    "# 更加好的写法, 使用 enumerate\n",
    "\n",
    "s = ['Mary ', 'had', 'a', 'little ', 'lamb']\n",
    "for i, item in enumerate(s):\n",
    "    print(i, item)"
   ]
  },
  {
   "cell_type": "markdown",
   "metadata": {},
   "source": [
    "---\n",
    "### 练习\n",
    "\n",
    "参考 Python Basic Lesson 2 Exercise\n",
    "\n",
    "### 思考\n",
    "\n",
    "* 写一个函数，有两个输入参数，都是字符串，判断两个参数的相似度\n",
    "* 写一个简单的计算器，可以输入 1+2，4-2 这样，完成基本的四则运算\n",
    "* 我们要批一下作业，要检查作业的输出结果是否正确，怎么自动化实现这个过程"
   ]
  }
 ],
 "metadata": {
  "kernelspec": {
   "display_name": "Python 3",
   "language": "python",
   "name": "python3"
  },
  "language_info": {
   "codemirror_mode": {
    "name": "ipython",
    "version": 3
   },
   "file_extension": ".py",
   "mimetype": "text/x-python",
   "name": "python",
   "nbconvert_exporter": "python",
   "pygments_lexer": "ipython3",
   "version": "3.7.6"
  }
 },
 "nbformat": 4,
 "nbformat_minor": 4
}
