{
 "cells": [
  {
   "cell_type": "markdown",
   "metadata": {},
   "source": [
    "# Lesson 7\n",
    "\n",
    "Python Basic, Lesson 5, v1.0.1, 2016.12 by David.Yi    \n",
    "Python Basic, Lesson 5, v1.0.2, 2017.03 modified by Yimeng.Zhang   \n",
    "v1.1, 2020.4 2020.5 edit by David Yi\n",
    "\n",
    "    \n",
    "### 本次内容要点\n",
    "\n",
    "* 文件和目录操作之一：文件和目录操作\n",
    "* 文件和目录操作之二：读写文本文件\n",
    "* 思考：搜索电脑上指定路径指定类型的文件"
   ]
  },
  {
   "cell_type": "markdown",
   "metadata": {},
   "source": [
    "---\n",
    "\n",
    "## 文件和目录操作之一\n",
    "\n",
    "Python 的 os 库：有很多和文件、路径和执行系统命令相关的函数。\n",
    "\n",
    "### os 库常用函数\n",
    "\n",
    "* os.sep 可以取代操作系统特定的路径分割符\n",
    "* os.name 字符串指示你正在使用的平台。比如对于Windows，它是'nt'，而对于Linux/Unix用户，它是'posix' \n",
    "* os.getcwd() 函数得到当前工作目录，即当前Python脚本工作的目录路径\n",
    "* os.chdir(dirname)  改变工作目录到dirname\n",
    "* os.getenv() 用来读取环境变量\n",
    "* os.putenv() 用来设置环境变量 \n",
    "* os.listdir() 返回指定目录下的所有文件和目录名 \n",
    "* os.remove() 删除一个文件\n",
    "* os.system() 运行shell命令\n",
    "* os.linesep 字符串给出当前平台使用的行终止符。例如，Windows使用'/r/n'，Mac使用'\\n'。\n",
    "* os.mkdir() 建立路径\n",
    "* os.rmdir() 删除路径\n",
    "\n",
    ">不同操作系统在路径和文件处理上有一定差异，这里的举例在 Windows 和 macOS 下都测试过\n",
    "\n",
    "### 关于文件系统的延展阅读\n",
    "* 文件系统介绍 https://zh.wikipedia.org/wiki/%E6%96%87%E4%BB%B6%E7%B3%BB%E7%BB%9F\n",
    "* windows 文件系统 FAT、FAT32、NTFS 介绍 https://support.microsoft.com/zh-cn/kb/100108\n",
    "* linux 文件系统介绍 http://cn.linux.vbird.org/linux_basic/0230filesystem.php\n",
    "\n",
    "目前 python 社区逐渐推荐使用pathlib 函数包来进行文件目录相关的访问。和 python 其他一些函数包一样，文件目录操作由于其基本性和发展，造成库比较多，功能有重叠，对于理解python 如何处理文件目录，我们还是沿用了原来的函数包，而 pathlib 是从 python 3.4 版本开始引入并且不断得到完善。之后会有专题来介绍 pathlib。"
   ]
  },
  {
   "cell_type": "code",
   "execution_count": 1,
   "metadata": {
    "scrolled": true
   },
   "outputs": [
    {
     "name": "stdout",
     "output_type": "stream",
     "text": [
      "\\\n",
      "nt\n"
     ]
    }
   ],
   "source": [
    "import os\n",
    "\n",
    "# 操作系统路径分隔符\n",
    "print(os.sep)\n",
    "\n",
    "# 操作系统平台名称\n",
    "print(os.name)"
   ]
  },
  {
   "cell_type": "code",
   "execution_count": 2,
   "metadata": {},
   "outputs": [
    {
     "data": {
      "text/plain": [
       "'C:\\\\dev_python\\\\python_study\\\\python_study_basic_notebook'"
      ]
     },
     "execution_count": 2,
     "metadata": {},
     "output_type": "execute_result"
    }
   ],
   "source": [
    "# 获取当前路径\n",
    "os.getcwd()\n",
    "\n",
    "# 记录一下这是 zhang yimeng 当时执行后的结果：'C:\\\\Users\\\\yimeng.zhang\\\\Desktop\\\\Class\\\\python基础\\\\python_basic'\n",
    "# 这是我现在在 windows 电脑上执行的结果：'C:\\\\dev_python\\\\python_study\\\\python_study_basic_notebook'"
   ]
  },
  {
   "cell_type": "code",
   "execution_count": 4,
   "metadata": {},
   "outputs": [
    {
     "data": {
      "text/plain": [
       "'C:\\\\Users\\\\yimeng.zhang\\\\Desktop\\\\Class'"
      ]
     },
     "execution_count": 4,
     "metadata": {},
     "output_type": "execute_result"
    }
   ],
   "source": [
    "# 切换路径\n",
    "\n",
    "# os.chdir('/Users/david.yi')\n",
    "# 切换路径大家要参考上面获取的当前路径，根据自己的电脑做适当调整，替换下面 yijeng.zhang  为自己电脑上的用户名\n",
    "os.chdir('C:\\\\Users\\\\yimeng.zhang\\\\Desktop\\\\Class')\n",
    "os.getcwd()"
   ]
  },
  {
   "cell_type": "code",
   "execution_count": 4,
   "metadata": {},
   "outputs": [
    {
     "data": {
      "text/plain": [
       "['.ipynb_checkpoints',\n",
       " 'draft',\n",
       " 'files',\n",
       " 'imgs',\n",
       " 'imgs_old',\n",
       " 'Python Basic Exercise A.ipynb',\n",
       " 'Python Basic Exercise B.ipynb',\n",
       " 'Python Basic Lesson 01 - 简介.ipynb',\n",
       " 'Python Basic Lesson 02 - 变量, print, input.ipynb',\n",
       " 'Python Basic Lesson 03 - 循环 for, 字符串.ipynb',\n",
       " 'Python Basic Lesson 04 - 列表 list .ipynb',\n",
       " 'Python Basic Lesson 05 - 字典 dict, 元组 tuple .ipynb',\n",
       " 'Python Basic Lesson 06 - 随机数.ipynb',\n",
       " 'Python Basic Lesson 07 - 文件目录操作.ipynb',\n",
       " 'Python Basic Lesson 08 - 函数.ipynb',\n",
       " 'python_basic_outline.md']"
      ]
     },
     "execution_count": 4,
     "metadata": {},
     "output_type": "execute_result"
    }
   ],
   "source": [
    "# 返回指定的文件夹包含的文件或文件夹的名字的列表。这个列表以字母顺序。 \n",
    "# 不包括 '.' 和'..' 即使它在文件夹中。\n",
    "\n",
    "import os\n",
    "\n",
    "# os.chdir('C:\\\\Users\\\\yimeng.zhang\\\\Desktop\\\\Class\\\\python基础\\\\python_basic')\n",
    "os.listdir()"
   ]
  },
  {
   "cell_type": "code",
   "execution_count": 5,
   "metadata": {},
   "outputs": [
    {
     "name": "stdout",
     "output_type": "stream",
     "text": [
      "<class 'list'>\n"
     ]
    }
   ],
   "source": [
    "# 注意返回的数据类型是什么，是一个列表\n",
    "\n",
    "print(type(os.listdir()))"
   ]
  },
  {
   "cell_type": "code",
   "execution_count": 6,
   "metadata": {},
   "outputs": [
    {
     "name": "stdout",
     "output_type": "stream",
     "text": [
      "16\n"
     ]
    }
   ],
   "source": [
    "# 计算目录下有多少文件，因为返回结果是 list，因此各类计算都比较方便\n",
    "\n",
    "a = os.listdir()\n",
    "print(len(a))"
   ]
  },
  {
   "cell_type": "code",
   "execution_count": 9,
   "metadata": {},
   "outputs": [
    {
     "name": "stdout",
     "output_type": "stream",
     "text": [
      "Python Basic Exercise A.ipynb\n",
      "Python Basic Exercise B.ipynb\n",
      "Python Basic Lesson 01 - 简介.ipynb\n",
      "Python Basic Lesson 02 - 变量, print, input.ipynb\n",
      "Python Basic Lesson 03 - 循环 for, 字符串.ipynb\n",
      "Python Basic Lesson 04 - 列表 list .ipynb\n",
      "Python Basic Lesson 05 - 字典 dict, 元组 tuple .ipynb\n",
      "Python Basic Lesson 06 - 随机数.ipynb\n",
      "Python Basic Lesson 07 - 文件目录操作.ipynb\n",
      "Python Basic Lesson 08 - 函数.ipynb\n"
     ]
    }
   ],
   "source": [
    "# 可以指定路径参数，来列出该目录下所有文件\n",
    "\n",
    "# list_a = os.listdir('/Users/david.yi')\n",
    "list_a = os.listdir('C:\\\\dev_python\\\\python_study\\\\python_study_basic_notebook')\n",
    "\n",
    "# 可以判断各类情况，比如第一个是 P 字母\n",
    "for i in list_a:\n",
    "    if i[0] == 'P':\n",
    "        print(i)"
   ]
  },
  {
   "cell_type": "code",
   "execution_count": 10,
   "metadata": {},
   "outputs": [
    {
     "data": {
      "text/plain": [
       "'\\r\\n'"
      ]
     },
     "execution_count": 10,
     "metadata": {},
     "output_type": "execute_result"
    }
   ],
   "source": [
    "# 操作系统换行符\n",
    "# 在一些文本文件处理中有用\n",
    "\n",
    "os.linesep"
   ]
  },
  {
   "cell_type": "code",
   "execution_count": 7,
   "metadata": {},
   "outputs": [
    {
     "name": "stdout",
     "output_type": "stream",
     "text": [
      "ok\n"
     ]
    }
   ],
   "source": [
    "# 建立路径\n",
    "\n",
    "# 切换到当前路径\n",
    "os.getcwd()\n",
    "os.mkdir('test')\n",
    "print('ok')"
   ]
  },
  {
   "cell_type": "markdown",
   "metadata": {},
   "source": [
    "---\n",
    "\n",
    "### os.path 常用函数\n",
    "\n",
    "* os.path.isdir() 检查给出的路径是否是一个目录\n",
    "* os.path.isfile() 检查给出的路径是否一个文件\n",
    "* os.path.exists() 检查给出的路径或者文件是否存在\n",
    "* os.path.getsize() 获得路径或者文件的大小\n",
    "* os.path.getatime() 返回所指向的文件或者目录的最后存取时间\n",
    "* os.path.getmtime() 返回所指向的文件或者目录的最后修改时间 \n",
    "* os.path.split() 返回一个路径的目录名和文件名\n",
    "* os.path.abspath() 返回规范化的绝对路径\n",
    "* os.path.isabs() 如果输入是绝对路径，返回True\n",
    "* os.path.split() 将路径分割成目录和文件名的二元素元组\n",
    "* os.path.splitdrive() 返回（drivername，fpath）元组 \n",
    "* os.path.dirname() 返回路径的目录，其实就是 os.path.split(path)的第一个元素\n",
    "* os.path.basename() 返回路径最后的文件名，其实就是 os.path.split(path)的第二个元素\n",
    "* os.path.splitext() 分离文件名与扩展名，返回(fname,fextension)元组 \n",
    "* os.path.join() 将多个路径组合后返回，第一个绝对路径之前的参数将被忽略\n",
    "* os.path.commonprefix(list) 返回list中，所有路径共有的最长的路径"
   ]
  },
  {
   "cell_type": "code",
   "execution_count": 11,
   "metadata": {},
   "outputs": [
    {
     "name": "stdout",
     "output_type": "stream",
     "text": [
      "C:\\dev_python\\python_study\\python_study_basic_notebook\n",
      "True\n",
      "True\n",
      "False\n"
     ]
    }
   ],
   "source": [
    "# 检查给出的路径是否是一个存在的目录，存在\n",
    "\n",
    "# 确保执行这些测试代码的时候先设定路径到当前 notebook 的路径，或者设定的某个路径\n",
    "# 进行路径、文件操作时候，还是要谨慎小心一些\n",
    "\n",
    "os.chdir('C:\\\\dev_python\\\\python_study\\\\python_study_basic_notebook')\n",
    "s_dir = os.getcwd()\n",
    "print(s_dir)\n",
    "print(os.path.isdir(s_dir))\n",
    "print(os.path.isdir('C:\\\\Users'))\n",
    "print(os.path.isdir('C:\\\\Users222'))"
   ]
  },
  {
   "cell_type": "code",
   "execution_count": 12,
   "metadata": {},
   "outputs": [
    {
     "data": {
      "text/plain": [
       "False"
      ]
     },
     "execution_count": 12,
     "metadata": {},
     "output_type": "execute_result"
    }
   ],
   "source": [
    "# 检查给出的路径是否是一个存在的目录\n",
    "# 下面再当前路径下加了个字母，当然是不存在的\n",
    "\n",
    "os.path.isdir(s_dir + 's')"
   ]
  },
  {
   "cell_type": "code",
   "execution_count": 28,
   "metadata": {},
   "outputs": [
    {
     "data": {
      "text/plain": [
       "False"
      ]
     },
     "execution_count": 28,
     "metadata": {},
     "output_type": "execute_result"
    }
   ],
   "source": [
    "# 文件不是路径，即便文件存在，也返回 False\n",
    "\n",
    "os.path.isdir(s_dir + 'test.txt')"
   ]
  },
  {
   "cell_type": "code",
   "execution_count": 14,
   "metadata": {},
   "outputs": [
    {
     "name": "stdout",
     "output_type": "stream",
     "text": [
      "C:\\dev_python\\python_study\\python_study_basic_notebook\\files/test.txt\n"
     ]
    },
    {
     "data": {
      "text/plain": [
       "True"
      ]
     },
     "execution_count": 14,
     "metadata": {},
     "output_type": "execute_result"
    }
   ],
   "source": [
    "# 检查给出的路径是否一个文件，存在\n",
    "\n",
    "s_dir = os.getcwd()\n",
    "s_file = os.path.join(s_dir, 'files/test.txt')\n",
    "print(s_file)\n",
    "os.path.isfile(s_file)"
   ]
  },
  {
   "cell_type": "code",
   "execution_count": 27,
   "metadata": {},
   "outputs": [
    {
     "data": {
      "text/plain": [
       "False"
      ]
     },
     "execution_count": 27,
     "metadata": {},
     "output_type": "execute_result"
    }
   ],
   "source": [
    "# 检查给出的路径是否一个文件，不存在\n",
    "\n",
    "s_dir = os.getcwd()\n",
    "s_file = os.path.join(s_dir, 'test222.txt')\n",
    "os.path.isfile(s_file)"
   ]
  },
  {
   "cell_type": "code",
   "execution_count": 31,
   "metadata": {},
   "outputs": [
    {
     "data": {
      "text/plain": [
       "False"
      ]
     },
     "execution_count": 31,
     "metadata": {},
     "output_type": "execute_result"
    }
   ],
   "source": [
    "# 路径不是文件，所以返回 False\n",
    "\n",
    "s_dir = os.getcwd()\n",
    "os.path.isfile(s_dir)"
   ]
  },
  {
   "cell_type": "code",
   "execution_count": 30,
   "metadata": {},
   "outputs": [
    {
     "name": "stdout",
     "output_type": "stream",
     "text": [
      "True\n",
      "True\n"
     ]
    }
   ],
   "source": [
    "# 对路径和文件都通用的检查方式\n",
    "\n",
    "s_dir = os.getcwd()\n",
    "s_file = os.path.join(s_dir, 'test.txt')\n",
    "\n",
    "print(os.path.exists(s_dir))\n",
    "print(os.path.exists(s_file))"
   ]
  },
  {
   "cell_type": "code",
   "execution_count": 31,
   "metadata": {},
   "outputs": [
    {
     "data": {
      "text/plain": [
       "17"
      ]
     },
     "execution_count": 31,
     "metadata": {},
     "output_type": "execute_result"
    }
   ],
   "source": [
    "# 获得路径或者文件的大小\n",
    "\n",
    "s_dir = os.getcwd()\n",
    "s_file = os.path.join(s_dir, 'test.txt')\n",
    "\n",
    "os.path.getsize(s_file)"
   ]
  },
  {
   "cell_type": "code",
   "execution_count": 32,
   "metadata": {},
   "outputs": [
    {
     "data": {
      "text/plain": [
       "4096"
      ]
     },
     "execution_count": 32,
     "metadata": {},
     "output_type": "execute_result"
    }
   ],
   "source": [
    "# 获得路径或者文件的大小\n",
    "\n",
    "os.path.getsize(s_dir)"
   ]
  },
  {
   "cell_type": "code",
   "execution_count": 16,
   "metadata": {},
   "outputs": [
    {
     "data": {
      "text/plain": [
       "1586952838.4941905"
      ]
     },
     "execution_count": 16,
     "metadata": {},
     "output_type": "execute_result"
    }
   ],
   "source": [
    "# 返回所指向的文件或者目录的最后存取时间\n",
    "# 返回的时间格式可能和大家想象的不太一样\n",
    "\n",
    "s_dir = os.getcwd()\n",
    "s_file = os.path.join(s_dir, 'files/test.txt')\n",
    "\n",
    "os.path.getatime(s_file)"
   ]
  },
  {
   "cell_type": "code",
   "execution_count": 17,
   "metadata": {},
   "outputs": [
    {
     "name": "stdout",
     "output_type": "stream",
     "text": [
      "2020-04-25 15:21:44\n"
     ]
    }
   ],
   "source": [
    "# 返回所指向的文件或者目录的最后存取时间\n",
    "import os\n",
    "import time\n",
    "\n",
    "# 将日期格式化\n",
    "dt = time.localtime(os.path.getatime(s_dir))\n",
    "# print(dt)\n",
    "print(time.strftime('%Y-%m-%d %H:%M:%S', dt))"
   ]
  },
  {
   "cell_type": "code",
   "execution_count": 18,
   "metadata": {},
   "outputs": [
    {
     "data": {
      "text/plain": [
       "1586952838.4941905"
      ]
     },
     "execution_count": 18,
     "metadata": {},
     "output_type": "execute_result"
    }
   ],
   "source": [
    "# 返回所指向的文件或者目录的最后修改时间\n",
    "\n",
    "s_file = os.path.join(s_dir, 'files/test.txt')\n",
    "\n",
    "os.path.getmtime(s_file) "
   ]
  },
  {
   "cell_type": "code",
   "execution_count": 19,
   "metadata": {},
   "outputs": [
    {
     "data": {
      "text/plain": [
       "'Wed Apr 15 20:13:58 2020'"
      ]
     },
     "execution_count": 19,
     "metadata": {},
     "output_type": "execute_result"
    }
   ],
   "source": [
    "# 返回所指向的文件或者目录的最后修改时间\n",
    "# 使用 time.ctime() 方法来格式化日期\n",
    "\n",
    "import time, os\n",
    "\n",
    "s_file = os.path.join(s_dir, 'files/test.txt')\n",
    "\n",
    "time.ctime(os.path.getmtime(s_file))"
   ]
  },
  {
   "cell_type": "code",
   "execution_count": 4,
   "metadata": {},
   "outputs": [
    {
     "data": {
      "text/plain": [
       "'/Users/yijun/Documents/dev_python/python_study/python_study_basic_notebook/tt1211.txt'"
      ]
     },
     "execution_count": 4,
     "metadata": {},
     "output_type": "execute_result"
    }
   ],
   "source": [
    "# 返回规范化的绝对路径\n",
    "# 会自动补齐完整路径,不管文件是否存在\n",
    "\n",
    "os.path.abspath('tt1211.txt') "
   ]
  },
  {
   "cell_type": "code",
   "execution_count": 3,
   "metadata": {},
   "outputs": [
    {
     "name": "stdout",
     "output_type": "stream",
     "text": [
      "False\n",
      "True\n"
     ]
    }
   ],
   "source": [
    "# 如果输入是绝对路径，返回True\n",
    "\n",
    "print(os.path.isabs('test.txt'))\n",
    "print(os.path.isabs('/Users/yijun/test.txt'))"
   ]
  },
  {
   "cell_type": "code",
   "execution_count": 24,
   "metadata": {},
   "outputs": [
    {
     "name": "stdout",
     "output_type": "stream",
     "text": [
      "C:\\dev_python\\python_study\\python_study_basic_notebook\\test.txt\n"
     ]
    },
    {
     "data": {
      "text/plain": [
       "('C:\\\\dev_python\\\\python_study\\\\python_study_basic_notebook', 'test.txt')"
      ]
     },
     "execution_count": 24,
     "metadata": {},
     "output_type": "execute_result"
    }
   ],
   "source": [
    "# 返回一个路径的目录名和文件名\n",
    "\n",
    "# os.chdir('/Users/david.yi/Documents/dev/python_study/python_basic')\n",
    "# os.chdir('C:\\\\Users\\\\yimeng.zhang\\\\Desktop\\\\Class\\\\python基础\\\\python_basic')\n",
    "s_dir = os.getcwd()\n",
    "s_file = os.path.join(s_dir, 'test.txt')\n",
    "print(s_file)\n",
    "\n",
    "# 分拆路径和文件名\n",
    "os.path.split(s_file)"
   ]
  },
  {
   "cell_type": "code",
   "execution_count": 23,
   "metadata": {},
   "outputs": [
    {
     "data": {
      "text/plain": [
       "'/Users/yijun'"
      ]
     },
     "execution_count": 23,
     "metadata": {},
     "output_type": "execute_result"
    }
   ],
   "source": [
    "# 返回路径的目录，其实就是 os.path.split(path)的第一个元素\n",
    "\n",
    "os.path.dirname('/Users/yijun/test.txt')"
   ]
  },
  {
   "cell_type": "code",
   "execution_count": 41,
   "metadata": {},
   "outputs": [
    {
     "data": {
      "text/plain": [
       "'test.txt'"
      ]
     },
     "execution_count": 41,
     "metadata": {},
     "output_type": "execute_result"
    }
   ],
   "source": [
    "# 返回路径最后的文件名，其实就是 os.path.split(path)的第二个元素\n",
    "\n",
    "os.path.basename(s_file)"
   ]
  },
  {
   "cell_type": "code",
   "execution_count": 25,
   "metadata": {},
   "outputs": [
    {
     "data": {
      "text/plain": [
       "('C:\\\\dev_python\\\\python_study\\\\python_study_basic_notebook\\\\test', '.txt')"
      ]
     },
     "execution_count": 25,
     "metadata": {},
     "output_type": "execute_result"
    }
   ],
   "source": [
    "# 分离文件名与扩展名，返回(fname,fextension)元组 \n",
    "\n",
    "os.path.splitext(s_file)"
   ]
  },
  {
   "cell_type": "code",
   "execution_count": 27,
   "metadata": {},
   "outputs": [
    {
     "data": {
      "text/plain": [
       "'C:\\\\dev_python\\\\python_study\\\\python_study_basic_notebook\\\\files\\\\test.txt'"
      ]
     },
     "execution_count": 27,
     "metadata": {},
     "output_type": "execute_result"
    }
   ],
   "source": [
    "# 将多个路径组合后返回，第一个绝对路径之前的参数将被忽略\n",
    "\n",
    "# os.path.join('/Users/yijun', 'test.txt')\n",
    "os.path.join('C:\\\\dev_python\\\\python_study\\\\python_study_basic_notebook\\\\files', 'test.txt')"
   ]
  },
  {
   "cell_type": "code",
   "execution_count": 28,
   "metadata": {},
   "outputs": [
    {
     "data": {
      "text/plain": [
       "'/Users/yijun/'"
      ]
     },
     "execution_count": 28,
     "metadata": {},
     "output_type": "execute_result"
    }
   ],
   "source": [
    "# 返回list中，所有路径共有的最长的路径\n",
    "\n",
    "l = ['/Users/yijun/test.txt', '/Users/yijun/test/aaa.txt', '/Users/yijun/bbb.txt']\n",
    "os.path.commonprefix(l)"
   ]
  },
  {
   "cell_type": "code",
   "execution_count": 1,
   "metadata": {},
   "outputs": [
    {
     "name": "stdout",
     "output_type": "stream",
     "text": [
      "C:\\dev_python\\python_study\\python_study_basic_notebook\\.ipynb_checkpoints\n",
      "C:\\dev_python\\python_study\\python_study_basic_notebook\\.ipynb_checkpoints\\Python Basic Exercise A-checkpoint.ipynb\n",
      "C:\\dev_python\\python_study\\python_study_basic_notebook\\.ipynb_checkpoints\\Python Basic Exercise B-checkpoint.ipynb\n",
      "C:\\dev_python\\python_study\\python_study_basic_notebook\\.ipynb_checkpoints\\Python Basic Lesson 01 - 简介-checkpoint.ipynb\n",
      "C:\\dev_python\\python_study\\python_study_basic_notebook\\.ipynb_checkpoints\\Python Basic Lesson 01-checkpoint.ipynb\n",
      "C:\\dev_python\\python_study\\python_study_basic_notebook\\.ipynb_checkpoints\\Python Basic Lesson 02 - 变量, print, input-checkpoint.ipynb\n",
      "C:\\dev_python\\python_study\\python_study_basic_notebook\\.ipynb_checkpoints\\Python Basic Lesson 02-checkpoint.ipynb\n",
      "C:\\dev_python\\python_study\\python_study_basic_notebook\\.ipynb_checkpoints\\Python Basic Lesson 03 - 循环 for, 字符串-checkpoint.ipynb\n",
      "C:\\dev_python\\python_study\\python_study_basic_notebook\\.ipynb_checkpoints\\Python Basic Lesson 04 - 列表 list -checkpoint.ipynb\n",
      "C:\\dev_python\\python_study\\python_study_basic_notebook\\.ipynb_checkpoints\\Python Basic Lesson 04 - 列表 list-checkpoint.ipynb\n",
      "C:\\dev_python\\python_study\\python_study_basic_notebook\\.ipynb_checkpoints\\Python Basic Lesson 04-checkpoint.ipynb\n",
      "C:\\dev_python\\python_study\\python_study_basic_notebook\\.ipynb_checkpoints\\Python Basic Lesson 05 - dict tuple-checkpoint.ipynb\n",
      "C:\\dev_python\\python_study\\python_study_basic_notebook\\.ipynb_checkpoints\\Python Basic Lesson 05 - 字典 dict, 元组 tuple -checkpoint.ipynb\n",
      "C:\\dev_python\\python_study\\python_study_basic_notebook\\.ipynb_checkpoints\\Python Basic Lesson 05 - 字典 dict, 元组 tuple-checkpoint.ipynb\n",
      "C:\\dev_python\\python_study\\python_study_basic_notebook\\.ipynb_checkpoints\\Python Basic Lesson 05-checkpoint.ipynb\n",
      "C:\\dev_python\\python_study\\python_study_basic_notebook\\.ipynb_checkpoints\\Python Basic Lesson 06 - 随机数-checkpoint.ipynb\n",
      "C:\\dev_python\\python_study\\python_study_basic_notebook\\.ipynb_checkpoints\\Python Basic Lesson 07 - 文件目录操作-checkpoint.ipynb\n",
      "C:\\dev_python\\python_study\\python_study_basic_notebook\\.ipynb_checkpoints\\Python Basic Lesson 08 - 函数简介-checkpoint.ipynb\n",
      "C:\\dev_python\\python_study\\python_study_basic_notebook\\.ipynb_checkpoints\\Python Basic Lesson 09 - 日期函数-checkpoint.ipynb\n",
      "C:\\dev_python\\python_study\\python_study_basic_notebook\\.ipynb_checkpoints\\Python Basic Lesson 10 - 函数参数和匿名函数-checkpoint.ipynb\n",
      "C:\\dev_python\\python_study\\python_study_basic_notebook\\.ipynb_checkpoints\\Python Basic Lesson 11 - 集合库 collections-checkpoint.ipynb\n",
      "C:\\dev_python\\python_study\\python_study_basic_notebook\\.ipynb_checkpoints\\Python Basic Lesson 12 - 列表生成式-checkpoint.ipynb\n",
      "C:\\dev_python\\python_study\\python_study_basic_notebook\\.ipynb_checkpoints\\Python Basic Lesson 13 - 完整的 for 语句结构和 pprint-checkpoint.ipynb\n",
      "C:\\dev_python\\python_study\\python_study_basic_notebook\\.ipynb_checkpoints\\Python Basic Lesson 14 - 访问网络 requests-checkpoint.ipynb\n",
      "C:\\dev_python\\python_study\\python_study_basic_notebook\\.ipynb_checkpoints\\Python Basic Lesson 15 - 图片处理 Pillow-checkpoint.ipynb\n",
      "C:\\dev_python\\python_study\\python_study_basic_notebook\\.ipynb_checkpoints\\Python Basic Lesson 16 - 函数式编程-checkpoint.ipynb\n",
      "C:\\dev_python\\python_study\\python_study_basic_notebook\\.ipynb_checkpoints\\窗口界面编程 tk-checkpoint.ipynb\n",
      "C:\\dev_python\\python_study\\python_study_basic_notebook\\draft\n",
      "C:\\dev_python\\python_study\\python_study_basic_notebook\\draft\\.ipynb_checkpoints\n",
      "C:\\dev_python\\python_study\\python_study_basic_notebook\\draft\\.ipynb_checkpoints\\Python Basic Lesson 09 - 日期函数-checkpoint.ipynb\n",
      "C:\\dev_python\\python_study\\python_study_basic_notebook\\draft\\.ipynb_checkpoints\\Python Basic Lesson 10 - 函数参数和匿名函数-checkpoint.ipynb\n",
      "C:\\dev_python\\python_study\\python_study_basic_notebook\\draft\\.ipynb_checkpoints\\Python Basic Lesson 11 - 集合库 collections-checkpoint.ipynb\n",
      "C:\\dev_python\\python_study\\python_study_basic_notebook\\draft\\python_basic_2\n",
      "C:\\dev_python\\python_study\\python_study_basic_notebook\\draft\\python_basic_2\\.ipynb_checkpoints\n",
      "C:\\dev_python\\python_study\\python_study_basic_notebook\\draft\\python_basic_2\\.ipynb_checkpoints\\Python Basic Lesson 12 - 列表生成式-checkpoint.ipynb\n",
      "C:\\dev_python\\python_study\\python_study_basic_notebook\\draft\\python_basic_2\\.ipynb_checkpoints\\Python Basic Lesson 13 - 完整的 for 语句结构和 pprint-checkpoint.ipynb\n",
      "C:\\dev_python\\python_study\\python_study_basic_notebook\\draft\\python_basic_2\\.ipynb_checkpoints\\Python Basic Lesson 15 - 图片处理 Pillow-checkpoint.ipynb\n",
      "C:\\dev_python\\python_study\\python_study_basic_notebook\\draft\\python_basic_2\\.ipynb_checkpoints\\面向对象的编程-checkpoint.ipynb\n",
      "C:\\dev_python\\python_study\\python_study_basic_notebook\\draft\\python_basic_2\\.ipynb_checkpoints\\面向对象的编程之三-checkpoint.ipynb\n",
      "C:\\dev_python\\python_study\\python_study_basic_notebook\\draft\\python_basic_2\\.ipynb_checkpoints\\面向对象的编程之二-checkpoint.ipynb\n",
      "C:\\dev_python\\python_study\\python_study_basic_notebook\\draft\\python_basic_2\\.ipynb_checkpoints\\面向对象的编程之四-checkpoint.ipynb\n",
      "C:\\dev_python\\python_study\\python_study_basic_notebook\\draft\\python_basic_2\\files\n",
      "C:\\dev_python\\python_study\\python_study_basic_notebook\\draft\\python_basic_2\\files\\test.txt\n",
      "C:\\dev_python\\python_study\\python_study_basic_notebook\\draft\\python_basic_2\\imgs\n",
      "C:\\dev_python\\python_study\\python_study_basic_notebook\\draft\\python_basic_2\\imgs\\logo.gif\n",
      "C:\\dev_python\\python_study\\python_study_basic_notebook\\draft\\python_basic_2\\imgs\\logo2.jpg\n",
      "C:\\dev_python\\python_study\\python_study_basic_notebook\\draft\\python_basic_2\\imgs\\logo3.jpg\n",
      "C:\\dev_python\\python_study\\python_study_basic_notebook\\draft\\python_basic_2\\imgs\\map.png\n",
      "C:\\dev_python\\python_study\\python_study_basic_notebook\\draft\\python_basic_2\\imgs\\test.jpg\n",
      "C:\\dev_python\\python_study\\python_study_basic_notebook\\draft\\python_basic_2\\imgs\\test_blur.jpg\n",
      "C:\\dev_python\\python_study\\python_study_basic_notebook\\draft\\python_basic_2\\imgs\\test_crop.jpg\n",
      "C:\\dev_python\\python_study\\python_study_basic_notebook\\draft\\python_basic_2\\imgs\\test_draw.jpg\n",
      "C:\\dev_python\\python_study\\python_study_basic_notebook\\draft\\python_basic_2\\imgs\\test_edge.jpg\n",
      "C:\\dev_python\\python_study\\python_study_basic_notebook\\draft\\python_basic_2\\imgs\\test_enhance.jpg\n",
      "C:\\dev_python\\python_study\\python_study_basic_notebook\\draft\\python_basic_2\\imgs\\test_rotate.jpg\n",
      "C:\\dev_python\\python_study\\python_study_basic_notebook\\draft\\python_basic_2\\imgs\\test_thumbnail.jpg\n",
      "C:\\dev_python\\python_study\\python_study_basic_notebook\\draft\\python_basic_2\\lesson 01\n",
      "C:\\dev_python\\python_study\\python_study_basic_notebook\\draft\\python_basic_2\\lesson 01\\.ipynb_checkpoints\n",
      "C:\\dev_python\\python_study\\python_study_basic_notebook\\draft\\python_basic_2\\lesson 01\\.ipynb_checkpoints\\Basic Exercise A-checkpoint.ipynb\n",
      "C:\\dev_python\\python_study\\python_study_basic_notebook\\draft\\python_basic_2\\lesson 01\\Basic Exercise A.ipynb\n",
      "C:\\dev_python\\python_study\\python_study_basic_notebook\\draft\\python_basic_2\\lesson 01\\python_senior_slides_python_senior_L1_v1.pptx\n",
      "C:\\dev_python\\python_study\\python_study_basic_notebook\\draft\\python_basic_2\\lesson 03\n",
      "C:\\dev_python\\python_study\\python_study_basic_notebook\\draft\\python_basic_2\\lesson 03\\.ipynb_checkpoints\n",
      "C:\\dev_python\\python_study\\python_study_basic_notebook\\draft\\python_basic_2\\lesson 03\\.ipynb_checkpoints\\窗口界面编程 tk-checkpoint.ipynb\n",
      "C:\\dev_python\\python_study\\python_study_basic_notebook\\draft\\python_basic_2\\lesson 03\\python_senior_slides_python_senior_L3_v1.pptx\n",
      "C:\\dev_python\\python_study\\python_study_basic_notebook\\draft\\python_basic_2\\python_basic_L2_lesson07.ipynb\n",
      "C:\\dev_python\\python_study\\python_study_basic_notebook\\draft\\python_basic_2\\python_basic_L2_lesson14.ipynb\n",
      "C:\\dev_python\\python_study\\python_study_basic_notebook\\draft\\python_basic_2\\python_basic_L2_outline_v1.docx\n",
      "C:\\dev_python\\python_study\\python_study_basic_notebook\\draft\\python_basic_2\\面向对象的编程.ipynb\n",
      "C:\\dev_python\\python_study\\python_study_basic_notebook\\draft\\python_basic_2\\面向对象的编程之三.ipynb\n",
      "C:\\dev_python\\python_study\\python_study_basic_notebook\\draft\\python_basic_2\\面向对象的编程之二.ipynb\n",
      "C:\\dev_python\\python_study\\python_study_basic_notebook\\draft\\python_basic_2\\面向对象的编程之四.ipynb\n",
      "C:\\dev_python\\python_study\\python_study_basic_notebook\\draft\\列表切片.ipynb\n",
      "C:\\dev_python\\python_study\\python_study_basic_notebook\\draft\\单元测试 unittest.ipynb\n",
      "C:\\dev_python\\python_study\\python_study_basic_notebook\\files\n",
      "C:\\dev_python\\python_study\\python_study_basic_notebook\\files\\baidu_logo.gif\n",
      "C:\\dev_python\\python_study\\python_study_basic_notebook\\files\\list_dump.txt\n",
      "C:\\dev_python\\python_study\\python_study_basic_notebook\\files\\ply\n",
      "C:\\dev_python\\python_study\\python_study_basic_notebook\\files\\ply\\calc.py\n",
      "C:\\dev_python\\python_study\\python_study_basic_notebook\\files\\ply\\parser.out\n",
      "C:\\dev_python\\python_study\\python_study_basic_notebook\\files\\ply\\parsetab.py\n",
      "C:\\dev_python\\python_study\\python_study_basic_notebook\\files\\test.jpg\n",
      "C:\\dev_python\\python_study\\python_study_basic_notebook\\files\\test.txt\n",
      "C:\\dev_python\\python_study\\python_study_basic_notebook\\files\\test2.txt\n",
      "C:\\dev_python\\python_study\\python_study_basic_notebook\\files\\test_blur.jpg\n",
      "C:\\dev_python\\python_study\\python_study_basic_notebook\\files\\test_crop.jpg\n",
      "C:\\dev_python\\python_study\\python_study_basic_notebook\\files\\test_drawline.jpg\n",
      "C:\\dev_python\\python_study\\python_study_basic_notebook\\files\\test_edge.jpg\n",
      "C:\\dev_python\\python_study\\python_study_basic_notebook\\files\\test_enhance.jpg\n",
      "C:\\dev_python\\python_study\\python_study_basic_notebook\\files\\test_rotate.jpg\n",
      "C:\\dev_python\\python_study\\python_study_basic_notebook\\files\\test_thumbnail.jpg\n",
      "C:\\dev_python\\python_study\\python_study_basic_notebook\\imgs\n",
      "C:\\dev_python\\python_study\\python_study_basic_notebook\\imgs\\anaconda.png\n",
      "C:\\dev_python\\python_study\\python_study_basic_notebook\\imgs\\guido-headshot-2019.jpg\n",
      "C:\\dev_python\\python_study\\python_study_basic_notebook\\imgs\\jupyter.png\n",
      "C:\\dev_python\\python_study\\python_study_basic_notebook\\imgs\\pycharm.png\n",
      "C:\\dev_python\\python_study\\python_study_basic_notebook\\imgs\\pycharm_202001.png\n",
      "C:\\dev_python\\python_study\\python_study_basic_notebook\\imgs\\python_install.jpeg\n",
      "C:\\dev_python\\python_study\\python_study_basic_notebook\\imgs\\python_install_1.jpeg\n",
      "C:\\dev_python\\python_study\\python_study_basic_notebook\\imgs\\python_install_2.jpeg\n",
      "C:\\dev_python\\python_study\\python_study_basic_notebook\\imgs\\python_install_3.jpeg\n",
      "C:\\dev_python\\python_study\\python_study_basic_notebook\\imgs\\python_install_4.jpeg\n",
      "C:\\dev_python\\python_study\\python_study_basic_notebook\\imgs\\python_install_5.png\n",
      "C:\\dev_python\\python_study\\python_study_basic_notebook\\imgs_old\n",
      "C:\\dev_python\\python_study\\python_study_basic_notebook\\imgs_old\\python_use.jpg\n",
      "C:\\dev_python\\python_study\\python_study_basic_notebook\\Python Basic Exercise A.ipynb\n",
      "C:\\dev_python\\python_study\\python_study_basic_notebook\\Python Basic Exercise B.ipynb\n",
      "C:\\dev_python\\python_study\\python_study_basic_notebook\\Python Basic Lesson 01 - 简介.ipynb\n",
      "C:\\dev_python\\python_study\\python_study_basic_notebook\\Python Basic Lesson 02 - 变量, print, input.ipynb\n",
      "C:\\dev_python\\python_study\\python_study_basic_notebook\\Python Basic Lesson 03 - 循环 for, 字符串.ipynb\n",
      "C:\\dev_python\\python_study\\python_study_basic_notebook\\Python Basic Lesson 04 - 列表 list.ipynb\n",
      "C:\\dev_python\\python_study\\python_study_basic_notebook\\Python Basic Lesson 05 - 字典 dict, 元组 tuple.ipynb\n",
      "C:\\dev_python\\python_study\\python_study_basic_notebook\\Python Basic Lesson 06 - 随机数.ipynb\n",
      "C:\\dev_python\\python_study\\python_study_basic_notebook\\Python Basic Lesson 07 - 文件目录操作.ipynb\n",
      "C:\\dev_python\\python_study\\python_study_basic_notebook\\Python Basic Lesson 08 - 函数简介.ipynb\n",
      "C:\\dev_python\\python_study\\python_study_basic_notebook\\Python Basic Lesson 09 - 日期函数.ipynb\n",
      "C:\\dev_python\\python_study\\python_study_basic_notebook\\Python Basic Lesson 10 - 函数参数和匿名函数.ipynb\n",
      "C:\\dev_python\\python_study\\python_study_basic_notebook\\Python Basic Lesson 11 - 集合库 collections.ipynb\n",
      "C:\\dev_python\\python_study\\python_study_basic_notebook\\Python Basic Lesson 12 - 列表生成式.ipynb\n",
      "C:\\dev_python\\python_study\\python_study_basic_notebook\\Python Basic Lesson 13 - 完整的 for 语句结构和 pprint.ipynb\n",
      "C:\\dev_python\\python_study\\python_study_basic_notebook\\Python Basic Lesson 14 - 访问网络初步和requests包.ipynb\n",
      "C:\\dev_python\\python_study\\python_study_basic_notebook\\Python Basic Lesson 15 - 图片处理 Pillow.ipynb\n",
      "C:\\dev_python\\python_study\\python_study_basic_notebook\\Python Basic Lesson 16 - 函数式编程.ipynb\n",
      "C:\\dev_python\\python_study\\python_study_basic_notebook\\test_thumbnail.jpg\n",
      "C:\\dev_python\\python_study\\python_study_basic_notebook\\__pycache__\n",
      "C:\\dev_python\\python_study\\python_study_basic_notebook\\__pycache__\\parsetab.cpython-37.pyc\n",
      "C:\\dev_python\\python_study\\python_study_basic_notebook\\窗口界面编程 tk.ipynb\n"
     ]
    }
   ],
   "source": [
    "# 遍历一个目录下的所有文件\n",
    "\n",
    "import os \n",
    "\n",
    "def list_dir(root_dir): \n",
    "    for lists in os.listdir(root_dir): \n",
    "        path = os.path.join(root_dir, lists) \n",
    "        print(path)\n",
    "        if os.path.isdir(path): \n",
    "            list_dir(path) \n",
    "\n",
    "# 注意不要挑选目录下过多文件的，否则会耗费电脑资源\n",
    "list_dir(os.getcwd())"
   ]
  },
  {
   "cell_type": "code",
   "execution_count": 31,
   "metadata": {
    "scrolled": true
   },
   "outputs": [
    {
     "name": "stdout",
     "output_type": "stream",
     "text": [
      "C:\\dev_python\\python_study\\python_study_basic_notebook\\draft   4096\n",
      "C:\\dev_python\\python_study\\python_study_basic_notebook\\draft\\Python Basic Lesson 05a.ipynb   4386\n",
      "C:\\dev_python\\python_study\\python_study_basic_notebook\\draft\\python_basic_lesson_04.ipynb   21033\n",
      "C:\\dev_python\\python_study\\python_study_basic_notebook\\draft\\python_basic_lesson_04_exercise.ipynb   6449\n",
      "C:\\dev_python\\python_study\\python_study_basic_notebook\\draft\\python_basic_lesson_05.ipynb   46070\n",
      "C:\\dev_python\\python_study\\python_study_basic_notebook\\draft\\python_basic_lesson_05_exercise.ipynb   3328\n",
      "C:\\dev_python\\python_study\\python_study_basic_notebook\\draft\\python_basic_lesson_06.ipynb   35160\n",
      "C:\\dev_python\\python_study\\python_study_basic_notebook\\draft\\函数的不同参数.ipynb   9128\n",
      "C:\\dev_python\\python_study\\python_study_basic_notebook\\draft\\列表切片.ipynb   4719\n",
      "C:\\dev_python\\python_study\\python_study_basic_notebook\\draft\\匿名函数.ipynb   2241\n",
      "C:\\dev_python\\python_study\\python_study_basic_notebook\\draft\\日期处理.ipynb   9834\n",
      "C:\\dev_python\\python_study\\python_study_basic_notebook\\files   0\n",
      "C:\\dev_python\\python_study\\python_study_basic_notebook\\files\\list_dump.txt   52\n",
      "C:\\dev_python\\python_study\\python_study_basic_notebook\\files\\test.txt   17\n",
      "C:\\dev_python\\python_study\\python_study_basic_notebook\\files\\test2.txt   51\n",
      "C:\\dev_python\\python_study\\python_study_basic_notebook\\imgs   4096\n",
      "C:\\dev_python\\python_study\\python_study_basic_notebook\\imgs\\anaconda.png   834508\n",
      "C:\\dev_python\\python_study\\python_study_basic_notebook\\imgs\\guido-headshot-2019.jpg   566262\n",
      "C:\\dev_python\\python_study\\python_study_basic_notebook\\imgs\\jupyter.png   105782\n",
      "C:\\dev_python\\python_study\\python_study_basic_notebook\\imgs\\pycharm.png   192052\n",
      "C:\\dev_python\\python_study\\python_study_basic_notebook\\imgs\\pycharm_202001.png   370526\n",
      "C:\\dev_python\\python_study\\python_study_basic_notebook\\imgs\\python_install.jpeg   21799\n",
      "C:\\dev_python\\python_study\\python_study_basic_notebook\\imgs\\python_install_1.jpeg   28779\n",
      "C:\\dev_python\\python_study\\python_study_basic_notebook\\imgs\\python_install_2.jpeg   22304\n",
      "C:\\dev_python\\python_study\\python_study_basic_notebook\\imgs\\python_install_3.jpeg   31846\n",
      "C:\\dev_python\\python_study\\python_study_basic_notebook\\imgs\\python_install_4.jpeg   15478\n",
      "C:\\dev_python\\python_study\\python_study_basic_notebook\\imgs\\python_install_5.png   33686\n",
      "C:\\dev_python\\python_study\\python_study_basic_notebook\\imgs_old   0\n",
      "C:\\dev_python\\python_study\\python_study_basic_notebook\\imgs_old\\python_use.jpg   102903\n",
      "C:\\dev_python\\python_study\\python_study_basic_notebook\\Python Basic Exercise A.ipynb   5354\n",
      "C:\\dev_python\\python_study\\python_study_basic_notebook\\Python Basic Exercise B.ipynb   7618\n",
      "C:\\dev_python\\python_study\\python_study_basic_notebook\\Python Basic Lesson 01 - 简介.ipynb   24389\n",
      "C:\\dev_python\\python_study\\python_study_basic_notebook\\Python Basic Lesson 02 - 变量, print, input.ipynb   15027\n",
      "C:\\dev_python\\python_study\\python_study_basic_notebook\\Python Basic Lesson 03 - 循环 for, 字符串.ipynb   11220\n",
      "C:\\dev_python\\python_study\\python_study_basic_notebook\\Python Basic Lesson 04 - 列表 list .ipynb   12606\n",
      "C:\\dev_python\\python_study\\python_study_basic_notebook\\Python Basic Lesson 05 - 字典 dict, 元组 tuple .ipynb   21842\n",
      "C:\\dev_python\\python_study\\python_study_basic_notebook\\Python Basic Lesson 06 - 随机数.ipynb   11817\n",
      "C:\\dev_python\\python_study\\python_study_basic_notebook\\Python Basic Lesson 07 - 文件目录操作.ipynb   41351\n",
      "C:\\dev_python\\python_study\\python_study_basic_notebook\\Python Basic Lesson 08 - 函数.ipynb   11458\n",
      "C:\\dev_python\\python_study\\python_study_basic_notebook\\python_basic_outline.md   1605\n"
     ]
    }
   ],
   "source": [
    "# 遍历一个目录下的所有文件\n",
    "# 显示文件的字节数，用 getsize() \n",
    "\n",
    "import os \n",
    "\n",
    "def list_dir(root_dir): \n",
    "    for lists in os.listdir(root_dir): \n",
    "        path = os.path.join(root_dir, lists) \n",
    "        if lists[0:1] != '.': \n",
    "            filesize = os.path.getsize(path)\n",
    "            print(path, ' ', filesize)\n",
    "            if os.path.isdir(path): \n",
    "                list_dir(path) \n",
    "\n",
    "# 注意不要挑选目录下过多文件的，否则会耗费电脑资源\n",
    "#list_dir('/Users/david.yi/Documents/dev/dig/doc')\n",
    "list_dir(os.getcwd())"
   ]
  },
  {
   "cell_type": "code",
   "execution_count": 2,
   "metadata": {},
   "outputs": [
    {
     "name": "stdout",
     "output_type": "stream",
     "text": [
      "C:\\dev_python\\python_study\\python_study_basic_notebook\\Python Basic Exercise A.ipynb   8620\n",
      "C:\\dev_python\\python_study\\python_study_basic_notebook\\Python Basic Exercise B.ipynb   13968\n",
      "C:\\dev_python\\python_study\\python_study_basic_notebook\\Python Basic Lesson 01 - 简介.ipynb   24745\n",
      "C:\\dev_python\\python_study\\python_study_basic_notebook\\Python Basic Lesson 02 - 变量, print, input.ipynb   15893\n",
      "C:\\dev_python\\python_study\\python_study_basic_notebook\\Python Basic Lesson 03 - 循环 for, 字符串.ipynb   11789\n",
      "C:\\dev_python\\python_study\\python_study_basic_notebook\\Python Basic Lesson 04 - 列表 list.ipynb   15143\n",
      "C:\\dev_python\\python_study\\python_study_basic_notebook\\Python Basic Lesson 05 - 字典 dict, 元组 tuple.ipynb   24665\n",
      "C:\\dev_python\\python_study\\python_study_basic_notebook\\Python Basic Lesson 06 - 随机数.ipynb   13111\n",
      "C:\\dev_python\\python_study\\python_study_basic_notebook\\Python Basic Lesson 07 - 文件目录操作.ipynb   55173\n",
      "C:\\dev_python\\python_study\\python_study_basic_notebook\\Python Basic Lesson 08 - 函数简介.ipynb   15008\n",
      "C:\\dev_python\\python_study\\python_study_basic_notebook\\Python Basic Lesson 09 - 日期函数.ipynb   11459\n",
      "C:\\dev_python\\python_study\\python_study_basic_notebook\\Python Basic Lesson 10 - 函数参数和匿名函数.ipynb   14624\n",
      "C:\\dev_python\\python_study\\python_study_basic_notebook\\Python Basic Lesson 11 - 集合库 collections.ipynb   34546\n",
      "C:\\dev_python\\python_study\\python_study_basic_notebook\\Python Basic Lesson 12 - 列表生成式.ipynb   7597\n",
      "C:\\dev_python\\python_study\\python_study_basic_notebook\\Python Basic Lesson 13 - 完整的 for 语句结构和 pprint.ipynb   11247\n",
      "C:\\dev_python\\python_study\\python_study_basic_notebook\\Python Basic Lesson 14 - 访问网络初步和requests包.ipynb   44865\n",
      "C:\\dev_python\\python_study\\python_study_basic_notebook\\Python Basic Lesson 15 - 图片处理 Pillow.ipynb   2806102\n",
      "C:\\dev_python\\python_study\\python_study_basic_notebook\\Python Basic Lesson 16 - 函数式编程.ipynb   16314\n",
      "C:\\dev_python\\python_study\\python_study_basic_notebook\\窗口界面编程 tk.ipynb   2968\n"
     ]
    }
   ],
   "source": [
    "# 遍历一个目录下的所有文件\n",
    "# 过滤 . 开头的文件，一般是系统文件\n",
    "# 显示文件的字节数\n",
    "# 显示指定后缀 ipynb 的文件，引入 endswith 用法\n",
    "\n",
    "import os \n",
    "\n",
    "def list_dir(root_dir): \n",
    "    for lists in os.listdir(root_dir): \n",
    "        path = os.path.join(root_dir, lists) \n",
    "        if lists[0:1] != '.' and lists.endswith('.ipynb'):\n",
    "            filesize = os.path.getsize(path)\n",
    "            print(path, ' ', filesize)\n",
    "            if os.path.isdir(path): \n",
    "                list_dir(path) \n",
    "\n",
    "# 注意不要挑选目录下过多文件的，否则会耗费电脑资源\n",
    "\n",
    "# list_dir('/Users/david.yi/Documents/dev/dig/n_query')\n",
    "list_dir(os.getcwd())"
   ]
  },
  {
   "cell_type": "code",
   "execution_count": 37,
   "metadata": {},
   "outputs": [
    {
     "name": "stdout",
     "output_type": "stream",
     "text": [
      "['C:\\\\dev_python\\\\python_study\\\\python_study_basic_notebook\\\\imgs\\\\guido-headshot-2019.jpg', 'C:\\\\dev_python\\\\python_study\\\\python_study_basic_notebook\\\\imgs\\\\python_install.jpeg', 'C:\\\\dev_python\\\\python_study\\\\python_study_basic_notebook\\\\imgs\\\\python_install_1.jpeg', 'C:\\\\dev_python\\\\python_study\\\\python_study_basic_notebook\\\\imgs\\\\python_install_2.jpeg', 'C:\\\\dev_python\\\\python_study\\\\python_study_basic_notebook\\\\imgs\\\\python_install_3.jpeg', 'C:\\\\dev_python\\\\python_study\\\\python_study_basic_notebook\\\\imgs\\\\python_install_4.jpeg', 'C:\\\\dev_python\\\\python_study\\\\python_study_basic_notebook\\\\imgs\\\\anaconda.png', 'C:\\\\dev_python\\\\python_study\\\\python_study_basic_notebook\\\\imgs\\\\jupyter.png', 'C:\\\\dev_python\\\\python_study\\\\python_study_basic_notebook\\\\imgs\\\\pycharm.png', 'C:\\\\dev_python\\\\python_study\\\\python_study_basic_notebook\\\\imgs\\\\pycharm_202001.png', 'C:\\\\dev_python\\\\python_study\\\\python_study_basic_notebook\\\\imgs\\\\python_install_5.png', 'C:\\\\dev_python\\\\python_study\\\\python_study_basic_notebook\\\\imgs_old\\\\python_use.jpg']\n"
     ]
    }
   ],
   "source": [
    "# 写一个可以搜索硬盘上指定路径指定类型的文件\n",
    "# os.walk() 返回一个三元tuple(root, dirnames, filenames)\n",
    "# 第一个为起始路径，String\n",
    "# 第二个为起始路径下的文件夹, List\n",
    "# 第三个是起始路径下的文件. List\n",
    "\n",
    "# fnmatch python自带的文件名模式匹配包\n",
    "# https://docs.python.org/zh-tw/3/library/fnmatch.html\n",
    "import fnmatch\n",
    "import os\n",
    "\n",
    "images = ['*.jpg', '*.jpeg', '*.png', '*.tif', '*.tiff']\n",
    "matches = []\n",
    "\n",
    "# for root, dirnames, filenames in os.walk('/Users/david.yi/Documents/dev/'):\n",
    "for root, dirnames, filenames in os.walk(os.getcwd()):\n",
    "    for extensions in images:\n",
    "        for filename in fnmatch.filter(filenames, extensions):\n",
    "            matches.append(os.path.join(root, filename))\n",
    "\n",
    "print(matches)\n",
    "\n",
    "# import os\n",
    "# for root, dirnames, filenames in os.walk('C:\\\\Users\\\\yimeng.zhang\\\\Desktop\\\\Class\\\\python基础\\\\python_basic'):\n",
    "#     print(filenames)\n"
   ]
  },
  {
   "cell_type": "markdown",
   "metadata": {},
   "source": [
    "---\n",
    "\n",
    "## 文件和目录操作之二\n",
    "\n",
    "读写文件是最常见的IO操作。Python内置了读写文件的函数。\n",
    "\n",
    "读写文件前，我们先必须了解一下，在磁盘上读写文件的功能都是由操作系统提供的，现代操作系统不允许普通的程序直接操作磁盘，所以，读写文件就是请求操作系统打开一个文件对象，然后，通过操作系统提供的接口从这个文件对象中读取数据，或者把数据写入这个文件对象。\n",
    "\n",
    "### 读文件\n",
    "\n",
    "函数 `open()` 返回 文件对象，通常的用法需要两个参数：`open(filename, mode)`。分别是文件名和打开模式\n",
    "\n",
    "在做下面的例子前，我们要创建一个 `test.txt` 文件，并且保证其中的内容是如下样式，包含三行内容：\n",
    "\n",
    "> hello\n",
    "\n",
    "> hi\n",
    "\n",
    "> byebye\n",
    "\n",
    "文件保存在可以访问的目录，我们用到的文件都保存在 notebook 下面的 files 目录；\n",
    "\n",
    "> 使用 jupyter 可以直接新建 Text File，来完成建立和编辑文本文件"
   ]
  },
  {
   "cell_type": "code",
   "execution_count": 39,
   "metadata": {},
   "outputs": [
    {
     "name": "stdout",
     "output_type": "stream",
     "text": [
      "C:\\dev_python\\python_study\\python_study_basic_notebook\n",
      "C:\\dev_python\\python_study\\python_study_basic_notebook\\files/test.txt\n",
      "hello\n",
      "hi\n",
      "byebye\n"
     ]
    }
   ],
   "source": [
    "import os\n",
    "\n",
    "# 获得当前路径\n",
    "s_dir = os.getcwd()\n",
    "\n",
    "print(s_dir)\n",
    "\n",
    "# 拼接完整文件名\n",
    "filename = os.path.join(s_dir, 'files/test.txt')\n",
    "\n",
    "print(filename)\n",
    "\n",
    "# 和读写文件打交道是一件需要小心的事情，这里用了 try-finally 的方式来避免出错\n",
    "try:\n",
    "    # 打开文件\n",
    "    f = open(filename, 'r')\n",
    "    print(f.read())\n",
    "finally:\n",
    "    if f:\n",
    "        f.close()"
   ]
  },
  {
   "cell_type": "code",
   "execution_count": 40,
   "metadata": {},
   "outputs": [
    {
     "name": "stdout",
     "output_type": "stream",
     "text": [
      "hello\n",
      "hi\n",
      "byebye\n"
     ]
    }
   ],
   "source": [
    "# 简化调用方式\n",
    "# 省却了 try...finally，会有 with 来自动控制保证可以关闭文件等\n",
    "\n",
    "with open(filename, 'r') as f:\n",
    "    print(f.read())"
   ]
  },
  {
   "cell_type": "code",
   "execution_count": 41,
   "metadata": {},
   "outputs": [
    {
     "name": "stdout",
     "output_type": "stream",
     "text": [
      "<class 'list'>\n",
      "['hello\\n', 'hi\\n', 'byebye']\n"
     ]
    }
   ],
   "source": [
    "# 读入文件所有的内容\n",
    "# 这样操作对于一般的文件没啥问题，太大的文件不能这样读，内存会不够\n",
    "\n",
    "with open(filename, 'r') as f:\n",
    "    lines = f.readlines()\n",
    "\n",
    "print(type(lines))\n",
    "print(lines)"
   ]
  },
  {
   "cell_type": "code",
   "execution_count": 42,
   "metadata": {},
   "outputs": [
    {
     "name": "stdout",
     "output_type": "stream",
     "text": [
      "hello\n",
      "\n",
      "hi\n",
      "\n",
      "byebye\n"
     ]
    }
   ],
   "source": [
    "# 把读入的文件显示出来\n",
    "\n",
    "for i in lines:\n",
    "    print(i)"
   ]
  },
  {
   "cell_type": "code",
   "execution_count": 43,
   "metadata": {},
   "outputs": [
    {
     "name": "stdout",
     "output_type": "stream",
     "text": [
      "hello\n",
      "\n",
      "hi\n",
      "\n",
      "byebye\n"
     ]
    }
   ],
   "source": [
    "# 更简单的按行读取文件内容方法\n",
    "\n",
    "with open(filename, 'r') as f:\n",
    "    for eachline in f:\n",
    "        print(eachline)"
   ]
  },
  {
   "cell_type": "markdown",
   "metadata": {},
   "source": [
    "---\n",
    "\n",
    "### 写文件\n",
    "\n",
    "写文件和读文件是一样的，唯一区别是调用 `open()` 函数时，传入标识符 `'w'` 或者 `'wb'` 表示写文本文件或写二进制文件。\n",
    "\n",
    "r 以读方式打开\n",
    "w 以写方式打开\n",
    "a 以追加模式打开（必要时候创建新文件）"
   ]
  },
  {
   "cell_type": "code",
   "execution_count": 2,
   "metadata": {},
   "outputs": [
    {
     "name": "stdout",
     "output_type": "stream",
     "text": [
      "/Users/yijun/Documents/dev_python/python_study/python_study_basic_notebook/files/test2.txt\n",
      "\n"
     ]
    }
   ],
   "source": [
    "# 写文件\n",
    "import os\n",
    "\n",
    "# 获得当前路径\n",
    "s_dir = os.getcwd()\n",
    "\n",
    "# 拼接完整文件名\n",
    "filename= os.path.join(s_dir, 'files/test2.txt')\n",
    "print(filename)\n",
    "\n",
    "# 换行符\n",
    "br = os.linesep\n",
    "\n",
    "# 写文件\n",
    "with open(filename, 'w') as f:\n",
    "    f.write('Hello, World!' + br)\n",
    "    f.write('Hello, Shanghai!' + br)\n",
    "    f.write('Hello, CHINA!' + br)\n",
    "    f.close()\n",
    "    \n",
    "with open(filename, 'r') as f:\n",
    "    print(f.read())"
   ]
  },
  {
   "cell_type": "markdown",
   "metadata": {
    "collapsed": true
   },
   "source": [
    "### 操作系统和文件系统差异处理\n",
    "\n",
    "如果要写一个 windows 和 macOS 都能用的文件处理软件，很多时候要考虑操作系统带来的差异\n",
    "\n",
    "* `linesep` 文件中分隔行的字符串；\n",
    "* `path.sep` 分割文件路径名的字符串；\n",
    "* `curdir` 当前工作目录的字符串；\n",
    "* `pardir` 当前工作目录的父目录字符串；"
   ]
  },
  {
   "cell_type": "markdown",
   "metadata": {},
   "source": [
    "---\n",
    "\n",
    "### 使用 glob 包查找文件\n",
    "\n",
    "glob 是 python 自己带的一个文件操作相关模块，很简洁，用它可以查找符合自己目的的文件，就类似于 Windows 下的文件搜索，而且也支持通配符: `*,?,[]` 这三个通配符，\\* 代表0个或多个字符，? 代表一个字符，[] 匹配指定范围内的字符，如[0-9]匹配数字。\n",
    "\n",
    "glob 的主要方法也叫 glob，该方法返回所有匹配的文件路径列表，该方法需要一个参数用来指定匹配的路径字符串。\n",
    "\n",
    "> 2020.5.10 之前的教程我们推荐试用 glob 函数包来进行查找文件，随着 python 的演进，现在推荐试用 pathlib 函数包来进行文件操作，来获得更加好的兼容性和性能，在pathlib 函数包中同样有 glob 函数，下面简单的演示了试用 pathlib 中的 glob 来遍历搜索文件。"
   ]
  },
  {
   "cell_type": "code",
   "execution_count": 35,
   "metadata": {
    "scrolled": true
   },
   "outputs": [
    {
     "data": {
      "text/plain": [
       "[WindowsPath('Python Basic Exercise A.ipynb'),\n",
       " WindowsPath('Python Basic Exercise B.ipynb'),\n",
       " WindowsPath('Python Basic Lesson 01 - 简介.ipynb'),\n",
       " WindowsPath('Python Basic Lesson 02 - 变量, print, input.ipynb'),\n",
       " WindowsPath('Python Basic Lesson 03 - 循环 for, 字符串.ipynb'),\n",
       " WindowsPath('Python Basic Lesson 04 - 列表 list.ipynb'),\n",
       " WindowsPath('Python Basic Lesson 05 - 字典 dict, 元组 tuple.ipynb'),\n",
       " WindowsPath('Python Basic Lesson 06 - 随机数.ipynb'),\n",
       " WindowsPath('Python Basic Lesson 07 - 文件目录操作.ipynb'),\n",
       " WindowsPath('Python Basic Lesson 08 - 函数简介.ipynb'),\n",
       " WindowsPath('Python Basic Lesson 09 - 日期函数.ipynb'),\n",
       " WindowsPath('Python Basic Lesson 10 - 函数参数和匿名函数.ipynb'),\n",
       " WindowsPath('Python Basic Lesson 11 - 集合库 collections.ipynb'),\n",
       " WindowsPath('Python Basic Lesson 12 - 列表生成式.ipynb'),\n",
       " WindowsPath('Python Basic Lesson 13 - 完整的 for 语句结构和 pprint.ipynb'),\n",
       " WindowsPath('Python Basic Lesson 14 - 访问网络初步和requests包.ipynb'),\n",
       " WindowsPath('Python Basic Lesson 15 - 图片处理 Pillow.ipynb'),\n",
       " WindowsPath('Python Basic Lesson 16 - 函数式编程.ipynb'),\n",
       " WindowsPath('窗口界面编程 tk.ipynb'),\n",
       " WindowsPath('.ipynb_checkpoints/Python Basic Exercise A-checkpoint.ipynb'),\n",
       " WindowsPath('.ipynb_checkpoints/Python Basic Exercise B-checkpoint.ipynb'),\n",
       " WindowsPath('.ipynb_checkpoints/Python Basic Lesson 01 - 简介-checkpoint.ipynb'),\n",
       " WindowsPath('.ipynb_checkpoints/Python Basic Lesson 01-checkpoint.ipynb'),\n",
       " WindowsPath('.ipynb_checkpoints/Python Basic Lesson 02 - 变量, print, input-checkpoint.ipynb'),\n",
       " WindowsPath('.ipynb_checkpoints/Python Basic Lesson 02-checkpoint.ipynb'),\n",
       " WindowsPath('.ipynb_checkpoints/Python Basic Lesson 03 - 循环 for, 字符串-checkpoint.ipynb'),\n",
       " WindowsPath('.ipynb_checkpoints/Python Basic Lesson 04 - 列表 list -checkpoint.ipynb'),\n",
       " WindowsPath('.ipynb_checkpoints/Python Basic Lesson 04 - 列表 list-checkpoint.ipynb'),\n",
       " WindowsPath('.ipynb_checkpoints/Python Basic Lesson 04-checkpoint.ipynb'),\n",
       " WindowsPath('.ipynb_checkpoints/Python Basic Lesson 05 - dict tuple-checkpoint.ipynb'),\n",
       " WindowsPath('.ipynb_checkpoints/Python Basic Lesson 05 - 字典 dict, 元组 tuple -checkpoint.ipynb'),\n",
       " WindowsPath('.ipynb_checkpoints/Python Basic Lesson 05 - 字典 dict, 元组 tuple-checkpoint.ipynb'),\n",
       " WindowsPath('.ipynb_checkpoints/Python Basic Lesson 05-checkpoint.ipynb'),\n",
       " WindowsPath('.ipynb_checkpoints/Python Basic Lesson 06 - 随机数-checkpoint.ipynb'),\n",
       " WindowsPath('.ipynb_checkpoints/Python Basic Lesson 07 - 文件目录操作-checkpoint.ipynb'),\n",
       " WindowsPath('.ipynb_checkpoints/Python Basic Lesson 08 - 函数简介-checkpoint.ipynb'),\n",
       " WindowsPath('.ipynb_checkpoints/Python Basic Lesson 09 - 日期函数-checkpoint.ipynb'),\n",
       " WindowsPath('.ipynb_checkpoints/Python Basic Lesson 10 - 函数参数和匿名函数-checkpoint.ipynb'),\n",
       " WindowsPath('.ipynb_checkpoints/Python Basic Lesson 11 - 集合库 collections-checkpoint.ipynb'),\n",
       " WindowsPath('.ipynb_checkpoints/Python Basic Lesson 12 - 列表生成式-checkpoint.ipynb'),\n",
       " WindowsPath('.ipynb_checkpoints/Python Basic Lesson 13 - 完整的 for 语句结构和 pprint-checkpoint.ipynb'),\n",
       " WindowsPath('.ipynb_checkpoints/Python Basic Lesson 14 - 访问网络 requests-checkpoint.ipynb'),\n",
       " WindowsPath('.ipynb_checkpoints/Python Basic Lesson 15 - 图片处理 Pillow-checkpoint.ipynb'),\n",
       " WindowsPath('.ipynb_checkpoints/Python Basic Lesson 16 - 函数式编程-checkpoint.ipynb'),\n",
       " WindowsPath('.ipynb_checkpoints/窗口界面编程 tk-checkpoint.ipynb'),\n",
       " WindowsPath('draft/列表切片.ipynb'),\n",
       " WindowsPath('draft/单元测试 unittest.ipynb'),\n",
       " WindowsPath('draft/.ipynb_checkpoints/Python Basic Lesson 09 - 日期函数-checkpoint.ipynb'),\n",
       " WindowsPath('draft/.ipynb_checkpoints/Python Basic Lesson 10 - 函数参数和匿名函数-checkpoint.ipynb'),\n",
       " WindowsPath('draft/.ipynb_checkpoints/Python Basic Lesson 11 - 集合库 collections-checkpoint.ipynb'),\n",
       " WindowsPath('draft/python_basic_2/python_basic_L2_lesson07.ipynb'),\n",
       " WindowsPath('draft/python_basic_2/python_basic_L2_lesson14.ipynb'),\n",
       " WindowsPath('draft/python_basic_2/面向对象的编程.ipynb'),\n",
       " WindowsPath('draft/python_basic_2/面向对象的编程之三.ipynb'),\n",
       " WindowsPath('draft/python_basic_2/面向对象的编程之二.ipynb'),\n",
       " WindowsPath('draft/python_basic_2/面向对象的编程之四.ipynb'),\n",
       " WindowsPath('draft/python_basic_2/.ipynb_checkpoints/Python Basic Lesson 12 - 列表生成式-checkpoint.ipynb'),\n",
       " WindowsPath('draft/python_basic_2/.ipynb_checkpoints/Python Basic Lesson 13 - 完整的 for 语句结构和 pprint-checkpoint.ipynb'),\n",
       " WindowsPath('draft/python_basic_2/.ipynb_checkpoints/Python Basic Lesson 15 - 图片处理 Pillow-checkpoint.ipynb'),\n",
       " WindowsPath('draft/python_basic_2/.ipynb_checkpoints/面向对象的编程-checkpoint.ipynb'),\n",
       " WindowsPath('draft/python_basic_2/.ipynb_checkpoints/面向对象的编程之三-checkpoint.ipynb'),\n",
       " WindowsPath('draft/python_basic_2/.ipynb_checkpoints/面向对象的编程之二-checkpoint.ipynb'),\n",
       " WindowsPath('draft/python_basic_2/.ipynb_checkpoints/面向对象的编程之四-checkpoint.ipynb'),\n",
       " WindowsPath('draft/python_basic_2/lesson 01/Basic Exercise A.ipynb'),\n",
       " WindowsPath('draft/python_basic_2/lesson 01/.ipynb_checkpoints/Basic Exercise A-checkpoint.ipynb'),\n",
       " WindowsPath('draft/python_basic_2/lesson 03/.ipynb_checkpoints/窗口界面编程 tk-checkpoint.ipynb')]"
      ]
     },
     "execution_count": 35,
     "metadata": {},
     "output_type": "execute_result"
    }
   ],
   "source": [
    "import pathlib\n",
    "\n",
    "# 获得当前路径\n",
    "s_dir = os.getcwd()\n",
    "\n",
    "list(pathlib.Path('.').glob('**/*.ipynb'))\n"
   ]
  },
  {
   "cell_type": "markdown",
   "metadata": {},
   "source": [
    "我们在 fishbase 的 fish_file 包内，也实现了一个搜索文件的功能，也使用了 python 自带的 pathlib 函数包。"
   ]
  },
  {
   "cell_type": "code",
   "execution_count": null,
   "metadata": {},
   "outputs": [],
   "source": [
    "# v1.0.14 edit by Hu Jun, edit by Jia Chunying, #38\n",
    "# v1.0.17 edit by Hu Jun, #212\n",
    "# v1.3 edit by David Yi, #272\n",
    "def find_files(path, exts=None):\n",
    "    \"\"\"\n",
    "    查找路径下的文件，返回指定类型的文件列表\n",
    "\n",
    "    :param:\n",
    "        * path: (string) 查找路径\n",
    "        * exts: (list) 文件类型列表，默认为空\n",
    "\n",
    "    :return:\n",
    "        * files_list: (list) 文件列表\n",
    "\n",
    "    举例如下::\n",
    "\n",
    "        print('--- find_files demo ---')\n",
    "        path1 = '/root/fishbase_issue'\n",
    "        all_files = find_files(path1)\n",
    "        print(all_files)\n",
    "        exts_files = find_files(path1, exts=['.png', '.py'])\n",
    "        print(exts_files)\n",
    "        print('---')\n",
    "\n",
    "    执行结果::\n",
    "\n",
    "        --- find_files demo ---\n",
    "        ['/root/fishbase_issue/test.png', '/root/fishbase_issue/head.jpg','/root/fishbase_issue/py/man.png'\n",
    "        ['/root/fishbase_issue/test.png', '/root/fishbase_issue/py/man.png']\n",
    "        ---\n",
    "\n",
    "        \"\"\"\n",
    "    files_list = []\n",
    "    for root, dirs, files in os.walk(path):\n",
    "        for name in files:\n",
    "            files_list.append(os.path.join(root, name))\n",
    "\n",
    "    if exts is not None:\n",
    "        return [file for file in files_list if pathlib.Path(file).suffix in exts]\n",
    "\n",
    "    return files_list"
   ]
  },
  {
   "cell_type": "markdown",
   "metadata": {
    "collapsed": true
   },
   "source": [
    "---\n",
    "\n",
    "## 思考\n",
    "\n",
    "* 想一下，如果要搜索指定目录下的 office 文件，包括 word、excel 和 ppt，然后将搜索到的文件名放在一个字典中，字典的 key 是 doc、xls、ppt 这些后缀，而 value 则是搜索到的文件的绝对路径名的列表；这个题目为我们之后的桌面文档整理程序做准备。"
   ]
  },
  {
   "cell_type": "code",
   "execution_count": null,
   "metadata": {
    "collapsed": true
   },
   "outputs": [],
   "source": []
  }
 ],
 "metadata": {
  "anaconda-cloud": {},
  "kernelspec": {
   "display_name": "Python 3",
   "language": "python",
   "name": "python3"
  },
  "language_info": {
   "codemirror_mode": {
    "name": "ipython",
    "version": 3
   },
   "file_extension": ".py",
   "mimetype": "text/x-python",
   "name": "python",
   "nbconvert_exporter": "python",
   "pygments_lexer": "ipython3",
   "version": "3.7.6"
  }
 },
 "nbformat": 4,
 "nbformat_minor": 1
}
