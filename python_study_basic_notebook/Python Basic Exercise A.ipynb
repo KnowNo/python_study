{
 "cells": [
  {
   "cell_type": "markdown",
   "metadata": {},
   "source": [
    "# Python Basic Exercise A\n",
    "* v1.1, 2020.4 5，edit by David Yi"
   ]
  },
  {
   "cell_type": "markdown",
   "metadata": {},
   "source": [
    "## 题目1：两个正整数a和b， 输出它们的最大公约数。\n",
    "\n",
    "例如：a = 24, b = 16\n",
    "\n",
    "则输出：8"
   ]
  },
  {
   "cell_type": "code",
   "execution_count": 2,
   "metadata": {},
   "outputs": [
    {
     "name": "stdout",
     "output_type": "stream",
     "text": [
      "8\n"
     ]
    }
   ],
   "source": [
    "a = 24\n",
    "b = 16\n",
    "for i in range(min(a,b), 0, -1): \n",
    "    if a % i == 0 and b % i ==0: \n",
    "        print(i) \n",
    "        break"
   ]
  },
  {
   "cell_type": "code",
   "execution_count": 3,
   "metadata": {},
   "outputs": [
    {
     "name": "stdout",
     "output_type": "stream",
     "text": [
      "8\n"
     ]
    }
   ],
   "source": [
    "while b:\n",
    "    a,b=b,a%b\n",
    "print(a)"
   ]
  },
  {
   "cell_type": "code",
   "execution_count": 4,
   "metadata": {},
   "outputs": [
    {
     "name": "stdout",
     "output_type": "stream",
     "text": [
      "8\n"
     ]
    }
   ],
   "source": [
    "print(max([x for x in range(1,a+1) if a%x==0 and b%x==0]))"
   ]
  },
  {
   "cell_type": "markdown",
   "metadata": {},
   "source": [
    "##  题目2：输出 9*9 乘法口诀表\n",
    "\n",
    "\n",
    "\n",
    "程序分析：分行与列考虑，共9行9列，i控制行，j控制列。"
   ]
  },
  {
   "cell_type": "code",
   "execution_count": 11,
   "metadata": {},
   "outputs": [
    {
     "name": "stdout",
     "output_type": "stream",
     "text": [
      "1 x 1 = 1 \t\n",
      "2 x 1 = 2 \t2 x 2 = 4 \t\n",
      "3 x 1 = 3 \t3 x 2 = 6 \t3 x 3 = 9 \t\n",
      "4 x 1 = 4 \t4 x 2 = 8 \t4 x 3 = 12 \t4 x 4 = 16 \t\n",
      "5 x 1 = 5 \t5 x 2 = 10 \t5 x 3 = 15 \t5 x 4 = 20 \t5 x 5 = 25 \t\n",
      "6 x 1 = 6 \t6 x 2 = 12 \t6 x 3 = 18 \t6 x 4 = 24 \t6 x 5 = 30 \t6 x 6 = 36 \t\n",
      "7 x 1 = 7 \t7 x 2 = 14 \t7 x 3 = 21 \t7 x 4 = 28 \t7 x 5 = 35 \t7 x 6 = 42 \t7 x 7 = 49 \t\n",
      "8 x 1 = 8 \t8 x 2 = 16 \t8 x 3 = 24 \t8 x 4 = 32 \t8 x 5 = 40 \t8 x 6 = 48 \t8 x 7 = 56 \t8 x 8 = 64 \t\n",
      "9 x 1 = 9 \t9 x 2 = 18 \t9 x 3 = 27 \t9 x 4 = 36 \t9 x 5 = 45 \t9 x 6 = 54 \t9 x 7 = 63 \t9 x 8 = 72 \t9 x 9 = 81 \t\n"
     ]
    }
   ],
   "source": [
    "for i in range(1, 10):\n",
    "    for j in range(1, i+1):\n",
    "        print (\"%d x %d = %d\" % (i, j, i*j),\"\\t\",end=\"\")\n",
    "        if i==j:\n",
    "            print(\"\")"
   ]
  },
  {
   "cell_type": "code",
   "execution_count": 6,
   "metadata": {},
   "outputs": [
    {
     "name": "stdout",
     "output_type": "stream",
     "text": [
      "1 x 1 = 1 \t\n",
      "1 x 2 = 2 \t2 x 2 = 4 \t\n",
      "1 x 3 = 3 \t2 x 3 = 6 \t3 x 3 = 9 \t\n",
      "1 x 4 = 4 \t2 x 4 = 8 \t3 x 4 = 12 \t4 x 4 = 16 \t\n",
      "1 x 5 = 5 \t2 x 5 = 10 \t3 x 5 = 15 \t4 x 5 = 20 \t5 x 5 = 25 \t\n",
      "1 x 6 = 6 \t2 x 6 = 12 \t3 x 6 = 18 \t4 x 6 = 24 \t5 x 6 = 30 \t6 x 6 = 36 \t\n",
      "1 x 7 = 7 \t2 x 7 = 14 \t3 x 7 = 21 \t4 x 7 = 28 \t5 x 7 = 35 \t6 x 7 = 42 \t7 x 7 = 49 \t\n",
      "1 x 8 = 8 \t2 x 8 = 16 \t3 x 8 = 24 \t4 x 8 = 32 \t5 x 8 = 40 \t6 x 8 = 48 \t7 x 8 = 56 \t8 x 8 = 64 \t\n",
      "1 x 9 = 9 \t2 x 9 = 18 \t3 x 9 = 27 \t4 x 9 = 36 \t5 x 9 = 45 \t6 x 9 = 54 \t7 x 9 = 63 \t8 x 9 = 72 \t9 x 9 = 81 \t\n"
     ]
    }
   ],
   "source": [
    "i=0\n",
    "j=0\n",
    "while i<9:\n",
    "    i+=1\n",
    "    while j<9:\n",
    "        j+=1\n",
    "        print(j,\"x\",i,\"=\",i*j,\"\\t\",end=\"\")\n",
    "        if i==j:\n",
    "            j=0\n",
    "            print(\"\")\n",
    "            break"
   ]
  },
  {
   "cell_type": "code",
   "execution_count": 12,
   "metadata": {},
   "outputs": [
    {
     "name": "stdout",
     "output_type": "stream",
     "text": [
      " 1 x 1 =  1\n",
      " 1 x 2 =  2\t 2 x 2 =  4\n",
      " 1 x 3 =  3\t 2 x 3 =  6\t 3 x 3 =  9\n",
      " 1 x 4 =  4\t 2 x 4 =  8\t 3 x 4 = 12\t 4 x 4 = 16\n",
      " 1 x 5 =  5\t 2 x 5 = 10\t 3 x 5 = 15\t 4 x 5 = 20\t 5 x 5 = 25\n",
      " 1 x 6 =  6\t 2 x 6 = 12\t 3 x 6 = 18\t 4 x 6 = 24\t 5 x 6 = 30\t 6 x 6 = 36\n",
      " 1 x 7 =  7\t 2 x 7 = 14\t 3 x 7 = 21\t 4 x 7 = 28\t 5 x 7 = 35\t 6 x 7 = 42\t 7 x 7 = 49\n",
      " 1 x 8 =  8\t 2 x 8 = 16\t 3 x 8 = 24\t 4 x 8 = 32\t 5 x 8 = 40\t 6 x 8 = 48\t 7 x 8 = 56\t 8 x 8 = 64\n",
      " 1 x 9 =  9\t 2 x 9 = 18\t 3 x 9 = 27\t 4 x 9 = 36\t 5 x 9 = 45\t 6 x 9 = 54\t 7 x 9 = 63\t 8 x 9 = 72\t 9 x 9 = 81\n"
     ]
    }
   ],
   "source": [
    "print('\\n'.join(['\\t'.join([\"%2s x%2s = %2s\"%(j,i,i*j) for j in range(1,i+1)]) for i in range(1,10)]))"
   ]
  },
  {
   "cell_type": "markdown",
   "metadata": {},
   "source": [
    "## 题目3：编写一个函数，给你三个整数a,b,c, 判断能否以它们为三个边长构成三角形。若能，输出YES，否则输出NO"
   ]
  },
  {
   "cell_type": "code",
   "execution_count": 5,
   "metadata": {},
   "outputs": [
    {
     "name": "stdout",
     "output_type": "stream",
     "text": [
      "no\n"
     ]
    }
   ],
   "source": [
    "def func1(a,b,c):\n",
    "    if (a+b)>c and (b+c)>a and (a+c)>b:\n",
    "        return 'yes'\n",
    "    else:\n",
    "        return 'no'\n",
    "\n",
    "\n",
    "print(func1(1,2,3))"
   ]
  },
  {
   "cell_type": "code",
   "execution_count": 3,
   "metadata": {},
   "outputs": [
    {
     "name": "stdout",
     "output_type": "stream",
     "text": [
      "yes\n"
     ]
    }
   ],
   "source": [
    "def func2(a,b,c):\n",
    "    if max(a,b,c)<(a+b+c)/2.0:\n",
    "        return 'yes'\n",
    "    else:\n",
    "        return 'no'\n",
    "\n",
    "print(func2(3,4,5))"
   ]
  },
  {
   "cell_type": "markdown",
   "metadata": {},
   "source": [
    "## 题目4，简单的四则计算器"
   ]
  },
  {
   "cell_type": "code",
   "execution_count": 17,
   "metadata": {},
   "outputs": [
    {
     "name": "stdout",
     "output_type": "stream",
     "text": [
      "\n",
      "     please type in the math operation you would like to complete:\n",
      "     + for addition\n",
      "     - for subtraction\n",
      "     * for multiplication\n",
      "     / for division\n",
      "     +\n",
      "Please enter the first number: 1\n",
      "Please enter the second number: 4\n",
      "1.0 + 4.0 = 5.0 \n"
     ]
    }
   ],
   "source": [
    "# 简单四则计算器代码，摘自 https://www.jianshu.com/p/c22bfd91df49\n",
    "\n",
    "def calculate():\n",
    "     operation = input('''\n",
    "     please type in the math operation you would like to complete:\n",
    "     + for addition\n",
    "     - for subtraction\n",
    "     * for multiplication\n",
    "     / for division\n",
    "     ''')\n",
    "     number_1 = float(input('Please enter the first number: '))\n",
    "     number_2 = float(input('Please enter the second number: '))\n",
    "     if operation == '+': \n",
    "          print('{} + {} = {} '.format(number_1, number_2,number_1 + number_2))          \n",
    "                                    \n",
    "     elif operation == '-':\n",
    "          print('{} - {} = {} '.format(number_1,number_2,number_1 - number_2))\n",
    "     elif operation == '*':                                      \n",
    "          print('{} * {} = {} '.format(number_1, number_2,number_1 * number_2))\n",
    "     elif operation == '/' and number_2 != 0:                                      \n",
    "          print('{} / {} = {} '.format(number_1, number_2,number_1 / number_2))\n",
    "     else:\n",
    "          print('You have not typed a valid operator, please run the program again.')\n",
    "\n",
    "\n",
    "calculate()"
   ]
  }
 ],
 "metadata": {
  "kernelspec": {
   "display_name": "Python 3",
   "language": "python",
   "name": "python3"
  },
  "language_info": {
   "codemirror_mode": {
    "name": "ipython",
    "version": 3
   },
   "file_extension": ".py",
   "mimetype": "text/x-python",
   "name": "python",
   "nbconvert_exporter": "python",
   "pygments_lexer": "ipython3",
   "version": "3.7.6"
  }
 },
 "nbformat": 4,
 "nbformat_minor": 1
}
