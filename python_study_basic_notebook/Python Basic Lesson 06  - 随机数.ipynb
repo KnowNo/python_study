{
 "cells": [
  {
   "cell_type": "markdown",
   "metadata": {},
   "source": [
    "# Lesson 6\n",
    "\n",
    "v1.1, 2020.4 edit by David Yi\n",
    "\n",
    "    \n",
    "### 本次内容要点\n",
    "\n",
    "* 随机数\n",
    "* 思考：猜数游戏"
   ]
  },
  {
   "cell_type": "markdown",
   "metadata": {},
   "source": [
    "---\n",
    "\n",
    "### 随机数\n",
    "\n",
    "随机数这一概念在不同领域有着不同的含义，在密码学、通信领域有着非常重要的用途。\n",
    "\n",
    "Python 的随机数模块是 random，random 模块主要有以下函数，结合例子来看看。\n",
    "\n",
    "* random.choice()\n",
    "* random.sample() \n",
    "* random.random()\n",
    "* random.uniform()\n",
    "* random.randint()\n",
    "* random.shuffle()\n",
    "* random.sample"
   ]
  },
  {
   "cell_type": "code",
   "execution_count": 3,
   "metadata": {},
   "outputs": [
    {
     "name": "stdout",
     "output_type": "stream",
     "text": [
      "31\n",
      "c\n",
      "[25, 84, 34, 22, 41, 98, 15, 5, 64, 67]\n",
      "55\n",
      "3\n"
     ]
    }
   ],
   "source": [
    "import random\n",
    "\n",
    "# random.choice从序列中获取一个随机元素。\n",
    "# 其函数原型为：random.choice(sequence)。参数sequence表示一个有序类型。\n",
    "\n",
    "print(random.choice(range(1,100)))\n",
    "\n",
    "# 从一个列表中产生随机元素\n",
    "a = ['a', 'b', 'c']\n",
    "print(random.choice(a))\n",
    "\n",
    "# 创建指定范围内指定个数的整数随机数\n",
    "print(random.sample(range(1,100), 10))\n",
    "\n",
    "# random.randint(a, b)，用于生成一个指定范围内的整数。\n",
    "# 其中参数a是下限，参数b是上限，生成的随机数n: a <= n <= b\n",
    "print(random.randint(1,100))\n",
    "\n",
    "# random.randrange的函数原型为：random.randrange([start], stop[, step])，\n",
    "# 从指定范围内，按指定基数递增的集合中 获取一个随机数。\n",
    "print(random.randrange(1,10))\n",
    "\n"
   ]
  },
  {
   "cell_type": "code",
   "execution_count": 2,
   "metadata": {},
   "outputs": [
    {
     "name": "stdout",
     "output_type": "stream",
     "text": [
      "0.5363797275543286\n",
      "89.1792648203426\n",
      "27.226542908824634\n",
      "[5, 12, 87, 23, 1]\n",
      "[9, 2, 3, 6, 4]\n",
      "[8, 0, 1, 2, 7, 9, 6]\n"
     ]
    }
   ],
   "source": [
    "# random.random()用于生成一个0到1的随机符点数: 0 <= n < 1.0\n",
    "print(random.random())\n",
    "\n",
    "# random.uniform的函数原型为：random.uniform(a, b)，\n",
    "# 用于生成一个指定范围内的随机符点数，两个参数其中一个是上限，一个是下限。\n",
    "# 如果a > b，则生成的随机数n: a <= n <= b。如果 a <b， 则 b <= n <= a。\n",
    "print(random.uniform(1,100))\n",
    "print(random.uniform(50,10))\n",
    "\n",
    "# random.shuffle的函数原型为：random.shuffle(x[, random])，\n",
    "# 用于将一个列表中的元素打乱\n",
    "a = [12, 23, 1, 5, 87]\n",
    "random.shuffle(a)\n",
    "print(a)\n",
    "\n",
    "# random.sample的函数原型为：random.sample(sequence, k)，\n",
    "# 从指定序列中随机获取指定长度的片断。sample函数不会修改原有序列。\n",
    "print(random.sample(range(10),5))\n",
    "print(random.sample(range(10),7))"
   ]
  },
  {
   "cell_type": "code",
   "execution_count": null,
   "metadata": {},
   "outputs": [],
   "source": [
    "# 猜数，人猜\n",
    "\n",
    "import random\n",
    "\n",
    "a = random.randint(1,1000)\n",
    "\n",
    "print('Now you can guess...')\n",
    "\n",
    "guess_mark = True\n",
    "\n",
    "while guess_mark:\n",
    "    user_number =int(input('please input number:'))\n",
    "    if user_number > a:\n",
    "        print('too big')\n",
    "    if user_number < a:\n",
    "        print('too small')\n",
    "    if user_number == a:\n",
    "        print('bingo!')\n",
    "        guess_mark = False"
   ]
  },
  {
   "cell_type": "code",
   "execution_count": null,
   "metadata": {},
   "outputs": [],
   "source": [
    "# 猜数，人猜\n",
    "# 记录猜数的过程\n",
    "\n",
    "import random\n",
    "user_number_list = []\n",
    "user_guess_count = 0\n",
    "a = random.randint(1,100)\n",
    "print('Now you can guess...')\n",
    "guess_mark = True\n",
    "\n",
    "while guess_mark:\n",
    "    user_number =int(input('please input number:'))\n",
    "    \n",
    "    user_number_list.append(user_number)\n",
    "    user_guess_count += 1\n",
    "    \n",
    "    if user_number > a:\n",
    "        print('too big')\n",
    "    if user_number < a:\n",
    "        print('too small')\n",
    "    if user_number == a:\n",
    "        print('bingo!')\n",
    "        print('your guess number list:', user_number_list)\n",
    "        print('you try times:', user_guess_count)\n",
    "        guess_mark = False"
   ]
  },
  {
   "cell_type": "code",
   "execution_count": null,
   "metadata": {},
   "outputs": [],
   "source": [
    "\n",
    "# 猜数，人猜\n",
    "# 增加判断次数，如果1-4次，以及以上显示不同提示语\n",
    "\n",
    "import random\n",
    "\n",
    "user_number_list = []\n",
    "\n",
    "user_guess_count = 0\n",
    "\n",
    "a = random.randint(1,100)\n",
    "\n",
    "print('Now you can guess...')\n",
    "\n",
    "guess_mark = True\n",
    "\n",
    "while guess_mark:\n",
    "    \n",
    "    if 0 <= user_guess_count <= 4:\n",
    "        user_number =int(input('please input number:'))\n",
    "    if 4 < user_guess_count <= 100:\n",
    "        user_number =int(input('try harder, please input number:'))\n",
    "    \n",
    "    user_number_list.append(user_number)\n",
    "    user_guess_count += 1\n",
    "    \n",
    "    if user_number > a:\n",
    "        print('too big')\n",
    "    if user_number < a:\n",
    "        print('too small')\n",
    "    if user_number == a:\n",
    "        print('bingo!')\n",
    "        print('your guess number list:', user_number_list)\n",
    "        print('you try times:', user_guess_count)\n",
    "        guess_mark = False\n"
   ]
  }
 ],
 "metadata": {
  "kernelspec": {
   "display_name": "Python 3",
   "language": "python",
   "name": "python3"
  },
  "language_info": {
   "codemirror_mode": {
    "name": "ipython",
    "version": 3
   },
   "file_extension": ".py",
   "mimetype": "text/x-python",
   "name": "python",
   "nbconvert_exporter": "python",
   "pygments_lexer": "ipython3",
   "version": "3.7.6"
  }
 },
 "nbformat": 4,
 "nbformat_minor": 4
}
