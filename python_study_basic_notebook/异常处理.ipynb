{
 "cells": [
  {
   "cell_type": "markdown",
   "metadata": {
    "collapsed": true
   },
   "source": [
    "# Lesson 17\n",
    "\n",
    "* v1.1, 2020.5 edit by David Yi\n",
    "\n",
    "\n",
    "## 本次内容\n",
    "\n",
    "* 异常处理\n",
    "* 日志处理\n"
   ]
  },
  {
   "cell_type": "markdown",
   "metadata": {},
   "source": [
    "## 异常处理\n",
    "\n",
    "异常是一个事件，该事件会在程序执行过程中发生，影响了程序的正常执行。一般情况下，在 Python 无法正常处理程序时就会发生一个异常。异常也是Python对象，表示一个错误。当 Python 脚本发生异常时我们需要捕获处理它，否则程序会终止执行。\n"
   ]
  },
  {
   "cell_type": "code",
   "execution_count": 6,
   "metadata": {},
   "outputs": [
    {
     "name": "stdout",
     "output_type": "stream",
     "text": [
      "a:a\n"
     ]
    },
    {
     "ename": "ValueError",
     "evalue": "invalid literal for int() with base 10: 'a'",
     "output_type": "error",
     "traceback": [
      "\u001b[1;31m---------------------------------------------------------------------------\u001b[0m",
      "\u001b[1;31mValueError\u001b[0m                                Traceback (most recent call last)",
      "\u001b[1;32m<ipython-input-6-c9aaffe441c1>\u001b[0m in \u001b[0;36m<module>\u001b[1;34m\u001b[0m\n\u001b[0;32m      1\u001b[0m \u001b[1;31m# 输入字母会报错\u001b[0m\u001b[1;33m\u001b[0m\u001b[1;33m\u001b[0m\u001b[1;33m\u001b[0m\u001b[0m\n\u001b[0;32m      2\u001b[0m \u001b[1;33m\u001b[0m\u001b[0m\n\u001b[1;32m----> 3\u001b[1;33m \u001b[0ma\u001b[0m \u001b[1;33m=\u001b[0m \u001b[0mint\u001b[0m\u001b[1;33m(\u001b[0m\u001b[0minput\u001b[0m\u001b[1;33m(\u001b[0m\u001b[1;34m'a:'\u001b[0m\u001b[1;33m)\u001b[0m\u001b[1;33m)\u001b[0m\u001b[1;33m\u001b[0m\u001b[1;33m\u001b[0m\u001b[0m\n\u001b[0m\u001b[0;32m      4\u001b[0m \u001b[0mr\u001b[0m \u001b[1;33m=\u001b[0m \u001b[1;36m10\u001b[0m \u001b[1;33m/\u001b[0m \u001b[0ma\u001b[0m\u001b[1;33m\u001b[0m\u001b[1;33m\u001b[0m\u001b[0m\n\u001b[0;32m      5\u001b[0m \u001b[0mprint\u001b[0m\u001b[1;33m(\u001b[0m\u001b[1;34m'result:'\u001b[0m\u001b[1;33m,\u001b[0m \u001b[0mr\u001b[0m\u001b[1;33m)\u001b[0m\u001b[1;33m\u001b[0m\u001b[1;33m\u001b[0m\u001b[0m\n",
      "\u001b[1;31mValueError\u001b[0m: invalid literal for int() with base 10: 'a'"
     ]
    }
   ],
   "source": [
    "# 输入字母会报错\n",
    "\n",
    "a = int(input('a:'))\n",
    "r = 10 / a\n",
    "print('result:', r)"
   ]
  },
  {
   "cell_type": "code",
   "execution_count": 8,
   "metadata": {
    "scrolled": true
   },
   "outputs": [
    {
     "name": "stdout",
     "output_type": "stream",
     "text": [
      "a:a\n",
      "except: invalid literal for int() with base 10: 'a'\n"
     ]
    }
   ],
   "source": [
    "# 防止输入字母会报错\n",
    "\n",
    "try:\n",
    "    a = int(input('a:'))\n",
    "    r = 10 / a\n",
    "    print('result:', r)\n",
    "except ValueError as e:\n",
    "    print('except:',e)"
   ]
  },
  {
   "cell_type": "code",
   "execution_count": 5,
   "metadata": {},
   "outputs": [
    {
     "name": "stdout",
     "output_type": "stream",
     "text": [
      "a:0\n",
      "except: division by zero\n"
     ]
    }
   ],
   "source": [
    "# 防止输入0作为除数\n",
    "\n",
    "try:\n",
    "    a = int(input('a:'))\n",
    "    r = 10 / a\n",
    "    print('result:', r)\n",
    "except ZeroDivisionError as e:\n",
    "    print('except:',e)"
   ]
  },
  {
   "cell_type": "code",
   "execution_count": 10,
   "metadata": {},
   "outputs": [
    {
     "name": "stdout",
     "output_type": "stream",
     "text": [
      "a:0\n",
      "except: <class 'Exception'> division by zero\n"
     ]
    }
   ],
   "source": [
    "# 如何捕捉多个类型的错误？\n",
    "\n",
    "try:\n",
    "    a = int(input('a:'))\n",
    "    r = 10 / a\n",
    "    print('result:', r)\n",
    "except ZeroDivisionError as e:\n",
    "    print('except:',e)\n",
    "except ValueError as e:\n",
    "    print('except:',e)\n"
   ]
  },
  {
   "cell_type": "code",
   "execution_count": 11,
   "metadata": {},
   "outputs": [
    {
     "name": "stdout",
     "output_type": "stream",
     "text": [
      "a:0\n",
      "except: division by zero\n",
      "finish...\n"
     ]
    }
   ],
   "source": [
    "# try...except...finally\n",
    "\n",
    "a = int(input('a:'))\n",
    "\n",
    "try:\n",
    "    r = 10 / a\n",
    "    print('result:', r)\n",
    "except ZeroDivisionError as e:\n",
    "    print('except:', e)\n",
    "finally:\n",
    "    print('finish...')"
   ]
  },
  {
   "cell_type": "code",
   "execution_count": 69,
   "metadata": {},
   "outputs": [
    {
     "name": "stdout",
     "output_type": "stream",
     "text": [
      "except: name 'c' is not defined\n"
     ]
    }
   ],
   "source": [
    "# 防止错误举例\n",
    "\n",
    "a = 100\n",
    "try:\n",
    "    b = a + c \n",
    "    print(b)\n",
    "except NameError as e:\n",
    "    print('except:',e)"
   ]
  },
  {
   "cell_type": "code",
   "execution_count": 1,
   "metadata": {},
   "outputs": [
    {
     "name": "stdout",
     "output_type": "stream",
     "text": [
      "a:3\n",
      "covert ok\n",
      "result: 3.3333333333333335\n",
      "finish...\n"
     ]
    }
   ],
   "source": [
    "# 对 int 进行判断\n",
    "\n",
    "a = input('a:')\n",
    "\n",
    "# 对输入值转换还有更完善的方法，设定一个转换结果\n",
    "try:\n",
    "    a = int(a)\n",
    "except ValueError as e:\n",
    "    print('except:', e)   \n",
    "    a = 1\n",
    "finally:\n",
    "    print('covert ok')\n",
    "   \n",
    "try:\n",
    "    r = 10 / a\n",
    "    print('result:', r)\n",
    "except ZeroDivisionError as e:\n",
    "    print('except:', e)\n",
    "finally:\n",
    "    print('finish...')"
   ]
  },
  {
   "cell_type": "markdown",
   "metadata": {},
   "source": [
    "## 日志处理\n",
    "\n",
    "对于防止错误比较有效的一个方式，就是打印日志，平时俗称的log。我们在学习 python 的过程中，经常会用 print 打印出一些变量的值什么的，其实也是日志的一种方式。打印日志一方面是记录正常的操作，另一方面很大的作用就是用在出错的时候检查。日志大部分时候是一种文本文件，便于存储、查询和归档。python 中也有比较完善的日志处理模块。\n",
    "\n",
    "实际操作中，日志文件的数量会非常惊人，其实在大数据处理中日志处理也是重要的一项课题。\n",
    "\n",
    "\n"
   ]
  },
  {
   "cell_type": "code",
   "execution_count": 11,
   "metadata": {},
   "outputs": [
    {
     "name": "stdout",
     "output_type": "stream",
     "text": [
      "log ok\n"
     ]
    }
   ],
   "source": [
    "from fishbase.fish_logger import *\n",
    "from fishbase.fish_file import *\n",
    "\n",
    "log_abs_filename = get_abs_filename_with_sub_path('files', 'fish_test.log')[1]\n",
    "\n",
    "set_log_file(log_abs_filename)\n",
    "\n",
    "logger.info('test fish base log')\n",
    "logger.warning('test fish base log')\n",
    "logger.error('test fish base log')\n",
    "\n",
    "print('log ok')\n",
    "\n",
    "\n"
   ]
  },
  {
   "cell_type": "code",
   "execution_count": null,
   "metadata": {},
   "outputs": [],
   "source": []
  }
 ],
 "metadata": {
  "kernelspec": {
   "display_name": "Python 3",
   "language": "python",
   "name": "python3"
  },
  "language_info": {
   "codemirror_mode": {
    "name": "ipython",
    "version": 3
   },
   "file_extension": ".py",
   "mimetype": "text/x-python",
   "name": "python",
   "nbconvert_exporter": "python",
   "pygments_lexer": "ipython3",
   "version": "3.7.6"
  }
 },
 "nbformat": 4,
 "nbformat_minor": 4
}
