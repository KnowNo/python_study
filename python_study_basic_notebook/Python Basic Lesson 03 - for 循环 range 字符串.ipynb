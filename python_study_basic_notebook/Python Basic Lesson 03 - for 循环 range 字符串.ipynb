{
 "cells": [
  {
   "cell_type": "markdown",
   "metadata": {},
   "source": [
    "# Lesson 3\n",
    "Python Basic, Lesson 3, \n",
    "* v1.0, 2016\n",
    "* v1.1, 2020.2,3,4 edit by David Yi\n",
    "\n",
    "### 本章内容要点\n",
    "\n",
    "* for 循环语句和 range() 函数\n",
    "* 常用数据类型 \n",
    "    * 字符串\n",
    "* 思考"
   ]
  },
  {
   "cell_type": "markdown",
   "metadata": {},
   "source": [
    "---\n",
    "\n",
    "### for 循环语句和 range() 函数\n",
    "\n",
    "Python的循环语句主要是 for...in 循环，依次把 in 后面的 list 列表或 tuple元组等中的每个元素迭代出来，进行循环；\n",
    "\n",
    "Python 也有 while 循环，一般不常用。\n",
    "\n",
    "可以理解为，`for x in ...` 循环就是把每个元素代入变量x，然后执行后面缩进块的语句。\n",
    "\n",
    "如果是简单的按照次数的循环，一般用 range() 函数来产生一个可以生成迭代数字的序列。\n",
    "\n",
    "字面意思理解起来有点辛苦，我们还是看看实际例子，通过代码直接来学习。"
   ]
  },
  {
   "cell_type": "code",
   "execution_count": 1,
   "metadata": {},
   "outputs": [
    {
     "name": "stdout",
     "output_type": "stream",
     "text": [
      "a\n",
      "b\n",
      "c\n",
      "d\n",
      "e\n",
      "f\n"
     ]
    }
   ],
   "source": [
    "# 按照字符串进行迭代循环\n",
    "\n",
    "s = 'abcdef'\n",
    "for i in s:\n",
    "    print(i)"
   ]
  },
  {
   "cell_type": "code",
   "execution_count": 2,
   "metadata": {},
   "outputs": [
    {
     "name": "stdout",
     "output_type": "stream",
     "text": [
      "a\n",
      "b\n",
      "c\n"
     ]
    }
   ],
   "source": [
    "# 按照列表进行循环，列表内容为字符\n",
    "\n",
    "s = ['a', 'b', 'c']\n",
    "for i in s:\n",
    "    print(i)"
   ]
  },
  {
   "cell_type": "code",
   "execution_count": 3,
   "metadata": {},
   "outputs": [
    {
     "name": "stdout",
     "output_type": "stream",
     "text": [
      "0\n",
      "1\n",
      "2\n"
     ]
    }
   ],
   "source": [
    "# 按照列列表进行循环，列表内容为数字\n",
    "\n",
    "for i in range(3):    \n",
    "    print(i)"
   ]
  },
  {
   "cell_type": "markdown",
   "metadata": {},
   "source": [
    "#### 循环语句 while    \n",
    "while 循环是在 Python中的循环结构之一。 while 执行循环中的内容，直到表达式变为假。      \n",
    "\n",
    "表达式是指一个逻辑表达式，返回一个 True 或 False 值。\n",
    "一定要小心设置表达式，如果永远是 True 的话，循环就一直执行下去了，称之为死循环。\n",
    "\n",
    "大部分场景里，循环语句不建议使用 while，但有时候使用 while 语句会让程序很简洁。"
   ]
  },
  {
   "cell_type": "code",
   "execution_count": 4,
   "metadata": {},
   "outputs": [
    {
     "name": "stdout",
     "output_type": "stream",
     "text": [
      "The count is: 0\n",
      "The count is: 1\n",
      "The count is: 2\n",
      "The count is: 3\n",
      "The count is: 4\n",
      "The count is: 5\n",
      "The count is: 6\n",
      "The count is: 7\n",
      "The count is: 8\n",
      "Good bye!\n"
     ]
    }
   ],
   "source": [
    "# 用 while 进行循环\n",
    "\n",
    "count = 0\n",
    "while (count < 9):\n",
    "    print('The count is:', count)\n",
    "    count += 1\n",
    "    \n",
    "print(\"Good bye!\")"
   ]
  },
  {
   "cell_type": "markdown",
   "metadata": {},
   "source": [
    "#### range() 函数\n",
    "\n",
    "range() 函数产生一个等差序列，range(x,y,z)，表示从 x 到 y（不含 y），z 为步长，可以为负。\n",
    "\n",
    "修改下面例子中的 range() 中的起始、结束和步长，来看看各种效果。"
   ]
  },
  {
   "cell_type": "code",
   "execution_count": 5,
   "metadata": {},
   "outputs": [
    {
     "name": "stdout",
     "output_type": "stream",
     "text": [
      "1\n",
      "4\n",
      "7\n"
     ]
    }
   ],
   "source": [
    "# for 循环，使用range()\n",
    "\n",
    "for i in range(1,10,3):\n",
    "    print(i)"
   ]
  },
  {
   "cell_type": "code",
   "execution_count": 6,
   "metadata": {},
   "outputs": [
    {
     "name": "stdout",
     "output_type": "stream",
     "text": [
      "10\n",
      "9\n",
      "8\n",
      "7\n",
      "6\n",
      "5\n",
      "4\n",
      "3\n"
     ]
    }
   ],
   "source": [
    "# for 循环，使用range()\n",
    "\n",
    "for i in range(10,2,-1):\n",
    "    print(i)"
   ]
  },
  {
   "cell_type": "code",
   "execution_count": 7,
   "metadata": {},
   "outputs": [
    {
     "name": "stdout",
     "output_type": "stream",
     "text": [
      "109876543"
     ]
    }
   ],
   "source": [
    "# print 时候输出内容，可以不换行\n",
    "\n",
    "for i in range(10,2,-1):\n",
    "    print(i,end='')"
   ]
  },
  {
   "cell_type": "code",
   "execution_count": 8,
   "metadata": {},
   "outputs": [
    {
     "name": "stdout",
     "output_type": "stream",
     "text": [
      "10,9,8,7,6,5,4,3,"
     ]
    }
   ],
   "source": [
    "# print 时候不换行,优雅的分割\n",
    "\n",
    "for i in range(10,2,-1):\n",
    "    print(i,end=',')"
   ]
  },
  {
   "cell_type": "code",
   "execution_count": 9,
   "metadata": {},
   "outputs": [
    {
     "name": "stdout",
     "output_type": "stream",
     "text": [
      "0 Mary \n",
      "1 had\n",
      "2 a\n",
      "3 little \n",
      "4 lamb\n"
     ]
    }
   ],
   "source": [
    "# 同时获得列表中的序号和内容，可以这样写\n",
    "# len() 是获得列表的长度，可以理解为元素个数\n",
    "\n",
    "s = ['Mary ', 'had', 'a', 'little ', 'lamb']\n",
    "for i in range(len(s)):\n",
    "    print(i, s[i])"
   ]
  },
  {
   "cell_type": "code",
   "execution_count": 10,
   "metadata": {
    "scrolled": true
   },
   "outputs": [
    {
     "name": "stdout",
     "output_type": "stream",
     "text": [
      "0 Mary \n",
      "1 had\n",
      "2 a\n",
      "3 little \n",
      "4 lamb\n"
     ]
    }
   ],
   "source": [
    "# 更加好的写法, 使用 enumerate()\n",
    "\n",
    "s = ['Mary ', 'had', 'a', 'little ', 'lamb']\n",
    "for i, item in enumerate(s):\n",
    "    print(i, item)"
   ]
  },
  {
   "cell_type": "markdown",
   "metadata": {},
   "source": [
    "## 字符串\n",
    "\n",
    "字符串即有序的字符的集合，用来存储或表现基于文本的信息。在程序开发中字符串被广泛使用。"
   ]
  },
  {
   "cell_type": "code",
   "execution_count": 11,
   "metadata": {},
   "outputs": [
    {
     "name": "stdout",
     "output_type": "stream",
     "text": [
      "spam\n"
     ]
    }
   ],
   "source": [
    "# 单引号\n",
    "\n",
    "a = 'spam' \n",
    "print(a)"
   ]
  },
  {
   "cell_type": "code",
   "execution_count": 12,
   "metadata": {},
   "outputs": [
    {
     "name": "stdout",
     "output_type": "stream",
     "text": [
      "spam\n",
      "spam's log\n"
     ]
    }
   ],
   "source": [
    "# 双引号\n",
    "\n",
    "a = \"spam\" \n",
    "print(a)\n",
    "b = \"spam's log\"\n",
    "print(b)"
   ]
  },
  {
   "cell_type": "code",
   "execution_count": 13,
   "metadata": {},
   "outputs": [
    {
     "name": "stdout",
     "output_type": "stream",
     "text": [
      "multile lines\n",
      "this is an example\n"
     ]
    }
   ],
   "source": [
    "# 多行字符串\n",
    "a = '''multile lines\n",
    "this is an example'''\n",
    "print(a)"
   ]
  },
  {
   "cell_type": "code",
   "execution_count": 14,
   "metadata": {},
   "outputs": [
    {
     "name": "stdout",
     "output_type": "stream",
     "text": [
      "a\n",
      "b\tc\n"
     ]
    }
   ],
   "source": [
    "s = 'a\\nb\\tc'  # 转义字符串\n",
    "print(s)"
   ]
  },
  {
   "cell_type": "code",
   "execution_count": 15,
   "metadata": {},
   "outputs": [
    {
     "name": "stdout",
     "output_type": "stream",
     "text": [
      "C:\n",
      "ew\text.txt\n",
      "C:\\new\\text.txt\n"
     ]
    }
   ],
   "source": [
    "# 输出内容因为转义而发生变化\n",
    "a = 'C:\\new\\text.txt'\n",
    "print(a)\n",
    "\n",
    "# 输出内容不带转义\n",
    "b = r'C:\\new\\text.txt'\n",
    "print(b)"
   ]
  },
  {
   "cell_type": "code",
   "execution_count": 16,
   "metadata": {},
   "outputs": [
    {
     "name": "stdout",
     "output_type": "stream",
     "text": [
      "ABC.txt123\n",
      "ABC.txtABC.txt\n",
      "A\n",
      "t\n",
      "txt.CBA\n",
      "AB\n",
      "7\n",
      "abc.txt\n",
      "ABC.TXT\n",
      "True\n",
      "True\n"
     ]
    }
   ],
   "source": [
    "# 常用的字符串表达式\n",
    "\n",
    "s = 'ABC.txt'\n",
    "print(s + '123')  # 字符串拼接\n",
    "print(s * 2)  # 重复\n",
    "print(s[0])  # 索引\n",
    "print(s[-1])\n",
    "print(s[::-1])  # 反转\n",
    "print(s[0:2]) # 切片\n",
    "print(len(s))  # 长度\n",
    "print(s.lower()) # 小写转换\n",
    "print(s.upper()) # 大写转换\n",
    "print(s.endswith('.txt'))  # 后缀测试\n",
    "print('AB' in s) # 成员关系测试"
   ]
  },
  {
   "cell_type": "markdown",
   "metadata": {},
   "source": [
    "## 练习\n",
    "\n",
    "题目：有四个数字：1、2、3、4，能组成多少个互不相同且无重复数字的三位数？  \n",
    "\n",
    "程序分析：可填在百位、十位、个位的数字都是1、2、3、4。组成所有的排列后再去掉不满足条件的排列。\n"
   ]
  },
  {
   "cell_type": "code",
   "execution_count": 1,
   "metadata": {},
   "outputs": [
    {
     "name": "stdout",
     "output_type": "stream",
     "text": [
      "1 2 3\n",
      "1 2 4\n",
      "1 3 2\n",
      "1 3 4\n",
      "1 4 2\n",
      "1 4 3\n",
      "2 1 3\n",
      "2 1 4\n",
      "2 3 1\n",
      "2 3 4\n",
      "2 4 1\n",
      "2 4 3\n",
      "3 1 2\n",
      "3 1 4\n",
      "3 2 1\n",
      "3 2 4\n",
      "3 4 1\n",
      "3 4 2\n",
      "4 1 2\n",
      "4 1 3\n",
      "4 2 1\n",
      "4 2 3\n",
      "4 3 1\n",
      "4 3 2\n"
     ]
    }
   ],
   "source": [
    "for i in range(1,5):\n",
    "    for j in range(1,5):\n",
    "        for k in range(1,5):\n",
    "            if( i != k ) and (i != j) and (j != k):\n",
    "                print(i,j,k)"
   ]
  },
  {
   "cell_type": "code",
   "execution_count": null,
   "metadata": {},
   "outputs": [],
   "source": []
  }
 ],
 "metadata": {
  "kernelspec": {
   "display_name": "Python 3",
   "language": "python",
   "name": "python3"
  },
  "language_info": {
   "codemirror_mode": {
    "name": "ipython",
    "version": 3
   },
   "file_extension": ".py",
   "mimetype": "text/x-python",
   "name": "python",
   "nbconvert_exporter": "python",
   "pygments_lexer": "ipython3",
   "version": "3.7.6"
  }
 },
 "nbformat": 4,
 "nbformat_minor": 4
}
