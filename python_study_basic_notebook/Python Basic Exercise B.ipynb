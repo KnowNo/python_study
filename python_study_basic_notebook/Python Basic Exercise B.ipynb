{
 "cells": [
  {
   "cell_type": "markdown",
   "metadata": {},
   "source": [
    "# Python Basic Exercise B\n",
    "* v1.1, 2020.4 edit by David Yi\n"
   ]
  },
  {
   "cell_type": "markdown",
   "metadata": {},
   "source": [
    "## 题目1： 判断两个字符串的相似性"
   ]
  },
  {
   "cell_type": "code",
   "execution_count": 15,
   "metadata": {},
   "outputs": [
    {
     "name": "stdout",
     "output_type": "stream",
     "text": [
      "1.0\n",
      "0.8571428571428571\n",
      "0.11764705882352941\n",
      "0.5833333333333334\n"
     ]
    }
   ],
   "source": [
    "# 利用 Python 内置函数判断两个字符串的相似性\n",
    "\n",
    "from difflib import SequenceMatcher\n",
    "\n",
    "def similarity(a, b):\n",
    "    return SequenceMatcher(None, a, b).ratio()\n",
    "\n",
    "print(similarity('这是一个有趣的问题', '这是一个有趣的问题'))\n",
    "print(similarity('这是一个有趣的问题', '这基本上是一个有趣的问题'))\n",
    "print(similarity('这是一个有趣的问题', '高高的山上有只羊'))\n",
    "\n",
    "# 其实并不是那么聪明\n",
    "print(similarity('快捷支付是哪四要素', '快捷支付接口这里的四要素是什么'))\n",
    "\n",
    "# python 内置的 difflib 虽然不是那么智能，不过功能还是很强大的，可以用它很容易的制作出类似代码比较的工具"
   ]
  },
  {
   "cell_type": "markdown",
   "metadata": {},
   "source": [
    "## 题目2： 给定用户名列表，输入开头几位字母，程序自动补充用户名"
   ]
  },
  {
   "cell_type": "code",
   "execution_count": 7,
   "metadata": {},
   "outputs": [
    {
     "name": "stdout",
     "output_type": "stream",
     "text": [
      "please input name : C\n",
      "Do you want to find ['Candy', 'Chris']?1\n",
      "Chris\n"
     ]
    }
   ],
   "source": [
    "# 补充用户名字，利用切片的例子\n",
    "name = ['Adam','Alex','Amy','Bob','Boom','Candy','Chris','David','Jason','Jasonstatham','Bill'];\n",
    "i_name = input('please input name : ')\n",
    "\n",
    "wname = [];\n",
    "for n in name:\n",
    "    if n[0:len(i_name)] == i_name:\n",
    "        wname.append(n);\n",
    "\n",
    "if len(wname) != 0:\n",
    "    number = input('Do you want to find %s?'%(wname))\n",
    "    print(wname[int(number)])\n",
    "else:\n",
    "    print('%s not find'%(i_name))\n",
    "    "
   ]
  },
  {
   "cell_type": "markdown",
   "metadata": {},
   "source": [
    "## 题目3：编写一个函数，给你三个整数a,b,c, 判断能否以它们为三个边长构成三角形。若能，输出YES，否则输出NO"
   ]
  },
  {
   "cell_type": "code",
   "execution_count": 5,
   "metadata": {},
   "outputs": [
    {
     "name": "stdout",
     "output_type": "stream",
     "text": [
      "no\n"
     ]
    }
   ],
   "source": [
    "def func1(a,b,c):\n",
    "    if (a+b)>c and (b+c)>a and (a+c)>b:\n",
    "        return 'yes'\n",
    "    else:\n",
    "        return 'no'\n",
    "\n",
    "\n",
    "print(func1(1,2,3))"
   ]
  },
  {
   "cell_type": "code",
   "execution_count": 3,
   "metadata": {},
   "outputs": [
    {
     "name": "stdout",
     "output_type": "stream",
     "text": [
      "yes\n"
     ]
    }
   ],
   "source": [
    "def func2(a,b,c):\n",
    "    if max(a,b,c)<(a+b+c)/2.0:\n",
    "        return 'yes'\n",
    "    else:\n",
    "        return 'no'\n",
    "\n",
    "print(func2(3,4,5))"
   ]
  },
  {
   "cell_type": "markdown",
   "metadata": {
    "collapsed": true
   },
   "source": [
    "## 题目4：编写一个猜数字的程序，人在0-1000范围内设定一个数字让电脑猜，每猜一次人反馈电脑是猜大了或小了，为电脑制定一定策略最快猜到正确数字"
   ]
  },
  {
   "cell_type": "code",
   "execution_count": 4,
   "metadata": {},
   "outputs": [
    {
     "name": "stdout",
     "output_type": "stream",
     "text": [
      "I guess: 500\n",
      "Please tell me big or small:small\n",
      "I guess: 750\n",
      "Please tell me big or small:small\n",
      "I guess: 875\n",
      "Please tell me big or small:big\n",
      "I guess: 812\n",
      "Please tell me big or small:big\n",
      "I guess: 781\n",
      "Please tell me big or small:small\n",
      "I guess: 796\n",
      "Please tell me big or small:small\n",
      "I guess: 804\n",
      "Please tell me big or small:big\n",
      "I guess: 800\n",
      "Please tell me big or small:ok\n",
      "HAHAHA\n"
     ]
    }
   ],
   "source": [
    "\n",
    "# 猜数，机器猜\n",
    "\n",
    "min = 0\n",
    "max = 1000\n",
    "\n",
    "guess_ok_mark = False\n",
    "\n",
    "while not guess_ok_mark:\n",
    "\n",
    "    cur_guess = int((min + max) / 2)\n",
    "    print('I guess:', cur_guess)\n",
    "    human_answer = input('Please tell me big or small:')\n",
    "    if human_answer == 'big':\n",
    "        max = cur_guess\n",
    "    if human_answer == 'small':\n",
    "        min = cur_guess\n",
    "    if human_answer == 'ok':\n",
    "        print('HAHAHA')\n",
    "        guess_ok_mark = True"
   ]
  },
  {
   "cell_type": "code",
   "execution_count": 17,
   "metadata": {},
   "outputs": [
    {
     "name": "stdout",
     "output_type": "stream",
     "text": [
      "\n",
      "     please type in the math operation you would like to complete:\n",
      "     + for addition\n",
      "     - for subtraction\n",
      "     * for multiplication\n",
      "     / for division\n",
      "     +\n",
      "Please enter the first number: 1\n",
      "Please enter the second number: 4\n",
      "1.0 + 4.0 = 5.0 \n"
     ]
    }
   ],
   "source": [
    "# 简单四则计算器代码，摘自 https://www.jianshu.com/p/c22bfd91df49\n",
    "\n",
    "def calculate():\n",
    "     operation = input('''\n",
    "     please type in the math operation you would like to complete:\n",
    "     + for addition\n",
    "     - for subtraction\n",
    "     * for multiplication\n",
    "     / for division\n",
    "     ''')\n",
    "     number_1 = float(input('Please enter the first number: '))\n",
    "     number_2 = float(input('Please enter the second number: '))\n",
    "     if operation == '+': \n",
    "          print('{} + {} = {} '.format(number_1, number_2,number_1 + number_2))          \n",
    "                                    \n",
    "     elif operation == '-':\n",
    "          print('{} - {} = {} '.format(number_1,number_2,number_1 - number_2))\n",
    "     elif operation == '*':                                      \n",
    "          print('{} * {} = {} '.format(number_1, number_2,number_1 * number_2))\n",
    "     elif operation == '/' and number_2 != 0:                                      \n",
    "          print('{} / {} = {} '.format(number_1, number_2,number_1 / number_2))\n",
    "     else:\n",
    "          print('You have not typed a valid operator, please run the program again.')\n",
    "\n",
    "\n",
    "calculate()"
   ]
  },
  {
   "cell_type": "code",
   "execution_count": null,
   "metadata": {},
   "outputs": [],
   "source": []
  }
 ],
 "metadata": {
  "kernelspec": {
   "display_name": "Python 3",
   "language": "python",
   "name": "python3"
  },
  "language_info": {
   "codemirror_mode": {
    "name": "ipython",
    "version": 3
   },
   "file_extension": ".py",
   "mimetype": "text/x-python",
   "name": "python",
   "nbconvert_exporter": "python",
   "pygments_lexer": "ipython3",
   "version": "3.7.6"
  }
 },
 "nbformat": 4,
 "nbformat_minor": 1
}
