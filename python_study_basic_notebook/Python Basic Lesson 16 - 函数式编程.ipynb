{
 "cells": [
  {
   "cell_type": "markdown",
   "metadata": {
    "collapsed": true
   },
   "source": [
    "# Lesson 16\n",
    "\n",
    "* v1.1, 2020.5 edit by David Yi\n",
    "\n",
    "\n",
    "## 本次内容\n",
    "\n",
    "* 闭包：将函数作为值返回\n",
    "* 偏函数\n",
    "* 高阶函数 map/reduce/filte"
   ]
  },
  {
   "cell_type": "code",
   "execution_count": 4,
   "metadata": {},
   "outputs": [
    {
     "name": "stdout",
     "output_type": "stream",
     "text": [
      "25\n"
     ]
    }
   ],
   "source": [
    "# 将函数作为值返回\n",
    "\n",
    "def lazy_sum(*args):\n",
    "    \n",
    "    def sum():\n",
    "        ax = 0\n",
    "        for n in args:\n",
    "            ax = ax + n\n",
    "        return ax\n",
    "    \n",
    "    return sum\n",
    "\n",
    "f = lazy_sum(1, 3, 5, 7, 9)\n",
    "print(f())"
   ]
  },
  {
   "cell_type": "markdown",
   "metadata": {},
   "source": [
    "## 闭包\n",
    "\n",
    "在这个例子中，我们在函数 lazy_sum 中又定义了函数 sum，并且，内部函数 sum 可以引用外部函数 lazy_sum 的参数和局部变量，当 lazy_sum 返回函数 sum 时，相关参数和变量都保存在返回的函数中，这种称为“闭包（Closure）”。\n",
    "\n",
    "一个函数可以返回一个计算结果，也可以返回一个函数。\n",
    "\n",
    "返回一个函数时，牢记该函数并未执行，返回函数中不要引用任何可能会变化的变量。\n",
    "\n",
    "闭包和函数的作用域等有关，掌握和理解闭包，对于后续 Python 的深入开发有很大好处，特别是装饰器。"
   ]
  },
  {
   "cell_type": "markdown",
   "metadata": {},
   "source": [
    "## 偏函数\n",
    "\n",
    "python 的 functools 模块提供了很多有用的功能，其中一个就是偏函数（Partial function）。要注意，这里的偏函数和数学意义上的偏函数不一样。\n",
    "\n",
    "在介绍函数参数的时候，我们讲到，通过设定参数的默认值，可以降低函数调用的难度。而偏函数也可以做到这一点。"
   ]
  },
  {
   "cell_type": "code",
   "execution_count": 10,
   "metadata": {},
   "outputs": [
    {
     "name": "stdout",
     "output_type": "stream",
     "text": [
      "12345\n",
      "8\n",
      "26\n"
     ]
    }
   ],
   "source": [
    "# 进制转换函数\n",
    "\n",
    "print(int(12345))\n",
    "print(int('1000',base=2))\n",
    "print(int('1A',base=16))"
   ]
  },
  {
   "cell_type": "markdown",
   "metadata": {},
   "source": [
    "虽然默认参数还是很容易使用，但是如果我们在某个场景需要大量调用的话，还是有点不方便，特别是对于有很多参数的函数来说，会让程序显得复杂。还记得之前那个 max min 的程序么？我们可以用偏函数来解决整个问题。"
   ]
  },
  {
   "cell_type": "code",
   "execution_count": 12,
   "metadata": {},
   "outputs": [
    {
     "name": "stdout",
     "output_type": "stream",
     "text": [
      "64\n",
      "85\n"
     ]
    }
   ],
   "source": [
    "import functools\n",
    "\n",
    "int2 = functools.partial(int, base=2)\n",
    "\n",
    "print(int2('1000000'))\n",
    "print(int2('1010101'))"
   ]
  },
  {
   "cell_type": "code",
   "execution_count": 22,
   "metadata": {},
   "outputs": [
    {
     "name": "stdout",
     "output_type": "stream",
     "text": [
      "10\n",
      "12\n",
      "18\n",
      "9\n"
     ]
    }
   ],
   "source": [
    "# 偏函数举例\n",
    "\n",
    "def func(x=2,y=3,z=4):\n",
    "    return x+y+z\n",
    "\n",
    "print(func(x=3))\n",
    "print(func(y=6))\n",
    "print(func(x=4,y=10))\n",
    "print(func(2,3))"
   ]
  },
  {
   "cell_type": "code",
   "execution_count": 1,
   "metadata": {},
   "outputs": [
    {
     "ename": "NameError",
     "evalue": "name 'func' is not defined",
     "output_type": "error",
     "traceback": [
      "\u001b[1;31m---------------------------------------------------------------------------\u001b[0m",
      "\u001b[1;31mNameError\u001b[0m                                 Traceback (most recent call last)",
      "\u001b[1;32m<ipython-input-1-fa127ee522f4>\u001b[0m in \u001b[0;36m<module>\u001b[1;34m\u001b[0m\n\u001b[0;32m      1\u001b[0m \u001b[1;32mimport\u001b[0m \u001b[0mfunctools\u001b[0m\u001b[1;33m\u001b[0m\u001b[1;33m\u001b[0m\u001b[0m\n\u001b[0;32m      2\u001b[0m \u001b[1;33m\u001b[0m\u001b[0m\n\u001b[1;32m----> 3\u001b[1;33m \u001b[0mf1\u001b[0m \u001b[1;33m=\u001b[0m \u001b[0mfunctools\u001b[0m\u001b[1;33m.\u001b[0m\u001b[0mpartial\u001b[0m\u001b[1;33m(\u001b[0m\u001b[0mfunc\u001b[0m\u001b[1;33m,\u001b[0m \u001b[0mz\u001b[0m\u001b[1;33m=\u001b[0m\u001b[1;36m2\u001b[0m\u001b[1;33m)\u001b[0m\u001b[1;33m\u001b[0m\u001b[1;33m\u001b[0m\u001b[0m\n\u001b[0m\u001b[0;32m      4\u001b[0m \u001b[0mprint\u001b[0m\u001b[1;33m(\u001b[0m\u001b[0mf1\u001b[0m\u001b[1;33m(\u001b[0m\u001b[1;36m2\u001b[0m\u001b[1;33m,\u001b[0m\u001b[1;36m3\u001b[0m\u001b[1;33m)\u001b[0m\u001b[1;33m)\u001b[0m\u001b[1;33m\u001b[0m\u001b[1;33m\u001b[0m\u001b[0m\n\u001b[0;32m      5\u001b[0m \u001b[0mprint\u001b[0m\u001b[1;33m(\u001b[0m\u001b[0mf1\u001b[0m\u001b[1;33m(\u001b[0m\u001b[1;36m2\u001b[0m\u001b[1;33m)\u001b[0m\u001b[1;33m)\u001b[0m\u001b[1;33m\u001b[0m\u001b[1;33m\u001b[0m\u001b[0m\n",
      "\u001b[1;31mNameError\u001b[0m: name 'func' is not defined"
     ]
    }
   ],
   "source": [
    "import functools\n",
    "\n",
    "f1 = functools.partial(func, z=2)\n",
    "print(f1(2,3))\n",
    "print(f1(2))\n",
    "print(f1(2,3,4)) # 会报错，不需要再输入 z 的值"
   ]
  },
  {
   "cell_type": "markdown",
   "metadata": {},
   "source": [
    "##  map() 函数\n",
    "\n",
    "python内建了 map() 和 reduce() 这两个功能强大的函数。\n",
    "\n",
    "我们先看 map。map() 函数接收两个参数，一个是函数，一个是可迭代的序列，比如 list，map 将传入的函数依次作用到序列的每个元素，并把结果作为新的 Iterator 可迭代值返回。\n",
    "\n",
    "举例说明，比如我们有一个函数 f(x) = x2，要把这个函数作用在一个list [1, 2, 3, 4, 5, 6, 7, 8, 9]上，就可以用map()实现如下：\n",
    "\n",
    "![](map.png)\n",
    "\n",
    "> 如果你知道 Google的那篇大名鼎鼎的论文“MapReduce: Simplified Data Processing on Large Clusters”，你就能大概明白map/reduce的概念。在 hadoop 时代，map/reduce 的理念是高效并行运算的核心。"
   ]
  },
  {
   "cell_type": "code",
   "execution_count": 3,
   "metadata": {},
   "outputs": [
    {
     "name": "stdout",
     "output_type": "stream",
     "text": [
      "1\n",
      "4\n",
      "9\n",
      "16\n",
      "25\n",
      "36\n",
      "49\n",
      "64\n",
      "81\n"
     ]
    }
   ],
   "source": [
    "# map 函数举例\n",
    "\n",
    "def f(x):\n",
    "    return x * x\n",
    "\n",
    "r = map(f, [1, 2, 3, 4, 5, 6, 7, 8, 9])\n",
    "\n",
    "for i in r:\n",
    "    print(i)"
   ]
  },
  {
   "cell_type": "code",
   "execution_count": 2,
   "metadata": {},
   "outputs": [
    {
     "name": "stdout",
     "output_type": "stream",
     "text": [
      "4\n",
      "7\n",
      "12\n",
      "19\n",
      "28\n",
      "39\n",
      "52\n",
      "67\n",
      "84\n"
     ]
    }
   ],
   "source": [
    "# 这个 f(x) 函数可以比较复杂，包含更多逻辑\n",
    "\n",
    "def f(x):\n",
    "    y = x * x + 3\n",
    "    return y\n",
    "\n",
    "r = map(f, [1, 2, 3, 4, 5, 6, 7, 8, 9])\n",
    "\n",
    "for i in r:\n",
    "    print(i)"
   ]
  },
  {
   "cell_type": "code",
   "execution_count": 6,
   "metadata": {},
   "outputs": [
    {
     "name": "stdout",
     "output_type": "stream",
     "text": [
      "[8, 22, 36, 50, 64, 78, 92]\n",
      "67\n",
      "487\n",
      "1299\n",
      "2503\n",
      "4099\n",
      "6087\n",
      "8467\n"
     ]
    }
   ],
   "source": [
    "# 进行 map 处理的数据也可以复杂一些\n",
    "\n",
    "def f(x):\n",
    "    y = x * x + 3\n",
    "    return y\n",
    "\n",
    "l = [x for x in range(1,100,7) if x % 2 ==0]\n",
    "\n",
    "print(l)\n",
    "\n",
    "# 主要的程序还是很简洁\n",
    "r = map(f, l)\n",
    "\n",
    "for i in r:\n",
    "    print(i)"
   ]
  },
  {
   "cell_type": "markdown",
   "metadata": {},
   "source": [
    "## reduce() 函数\n",
    "\n",
    "再看 reduce 的用法。reduce 把一个函数作用在一个序列[x1, x2, x3, ...]上，这个函数必须接收两个参数，reduce 把结果继续和序列的下一个元素做累积计算，其效果就是：\n",
    "\n",
    "reduce(f, [x1, x2, x3, x4]) = f(f(f(x1, x2), x3), x4)\n"
   ]
  },
  {
   "cell_type": "code",
   "execution_count": 8,
   "metadata": {},
   "outputs": [
    {
     "name": "stdout",
     "output_type": "stream",
     "text": [
      "25\n"
     ]
    }
   ],
   "source": [
    "# reduce 举例，一个加法函数\n",
    "from functools import reduce\n",
    "\n",
    "def add(x, y):\n",
    "    return x + y\n",
    "\n",
    "print(reduce(add, [1, 3, 5, 7, 9]))"
   ]
  },
  {
   "cell_type": "code",
   "execution_count": 22,
   "metadata": {},
   "outputs": [
    {
     "name": "stdout",
     "output_type": "stream",
     "text": [
      "13579\n"
     ]
    }
   ],
   "source": [
    "# reduce，模拟一个字符串转换为整数的函数\n",
    "\n",
    "from functools import reduce\n",
    "\n",
    "def f(x, y):\n",
    "    return x * 10 + y\n",
    "\n",
    "# 将字符转换为数字\n",
    "def char2int(s):\n",
    "    return {'0': 0, '1': 1, '2': 2, '3': 3, '4': 4, '5': 5, '6': 6, '7': 7, '8': 8, '9': 9}[s]\n",
    "\n",
    "print(reduce(f, map(char2int, '13579')))"
   ]
  },
  {
   "cell_type": "code",
   "execution_count": 18,
   "metadata": {},
   "outputs": [
    {
     "name": "stdout",
     "output_type": "stream",
     "text": [
      "1 <class 'int'>\n",
      "3 <class 'int'>\n",
      "5 <class 'int'>\n",
      "7 <class 'int'>\n",
      "9 <class 'int'>\n"
     ]
    }
   ],
   "source": [
    "# 先 map\n",
    "\n",
    "l = map(char2num, '13579')\n",
    "for i in l:\n",
    "    print(i,type(i))"
   ]
  },
  {
   "cell_type": "code",
   "execution_count": 20,
   "metadata": {},
   "outputs": [
    {
     "data": {
      "text/plain": [
       "13579"
      ]
     },
     "execution_count": 20,
     "metadata": {},
     "output_type": "execute_result"
    }
   ],
   "source": [
    "# 再 reduce\n",
    "\n",
    "l = map(char2num, '13579')\n",
    "print(reduce(fn,l))"
   ]
  },
  {
   "cell_type": "code",
   "execution_count": 1,
   "metadata": {},
   "outputs": [
    {
     "name": "stdout",
     "output_type": "stream",
     "text": [
      "12345\n"
     ]
    }
   ],
   "source": [
    "# 将字符串转换成整数的函数再包装一下\n",
    "\n",
    "from functools import reduce\n",
    "\n",
    "def f(x, y):\n",
    "    return x * 10 + y\n",
    "\n",
    "def char2int(s):\n",
    "    return {'0': 0, '1': 1, '2': 2, '3': 3, '4': 4, '5': 5, \n",
    "            '6': 6, '7': 7, '8': 8, '9': 9}[s]\n",
    "\n",
    "def str2int(s):\n",
    "    return reduce(f, map(char2int, s))\n",
    "\n",
    "print(str2int('12345'))"
   ]
  },
  {
   "cell_type": "markdown",
   "metadata": {
    "collapsed": true
   },
   "source": [
    "## filter() 函数\n",
    "\n",
    "Python内建的filter()函数用于过滤序列。\n",
    "\n",
    "和map()类似，filter()也接收一个函数和一个序列。和map()不同的是，filter()把传入的函数依次作用于每个元素，然后根据返回值是True还是False决定保留还是丢弃该元素。\n",
    "\n"
   ]
  },
  {
   "cell_type": "code",
   "execution_count": 6,
   "metadata": {
    "scrolled": true
   },
   "outputs": [
    {
     "name": "stdout",
     "output_type": "stream",
     "text": [
      "[1, 5]\n"
     ]
    }
   ],
   "source": [
    "# filter 举例，在一个list中，删掉偶数，只保留奇数\n",
    "\n",
    "# 判断是否是奇数\n",
    "def is_odd(n):\n",
    "    return n % 2 == 1\n",
    "\n",
    "print(list(filter(is_odd, [1, 2, 4, 5, 6])))"
   ]
  },
  {
   "cell_type": "code",
   "execution_count": 2,
   "metadata": {},
   "outputs": [
    {
     "name": "stdout",
     "output_type": "stream",
     "text": [
      "['A', 'B', 'C']\n"
     ]
    }
   ],
   "source": [
    "# 筛选一个 list 中为空的元素\n",
    "\n",
    "def is_empty(s):\n",
    "    # strip() 用于移除字符串头尾指定的字符（默认为空格）\n",
    "    if len(s.strip()) ==0:\n",
    "        return False\n",
    "    else:\n",
    "        return True\n",
    "\n",
    "print(list(filter(is_empty, ['A', '', 'B','C', '  '])))"
   ]
  },
  {
   "cell_type": "code",
   "execution_count": 21,
   "metadata": {},
   "outputs": [
    {
     "name": "stdout",
     "output_type": "stream",
     "text": [
      "[5, 7, 11, 13, 17, 19, 23, 25, 29]\n"
     ]
    }
   ],
   "source": [
    "# 返回一定范围内既不能被2整除也不能被3整数的数字\n",
    "\n",
    "def f(x): \n",
    "    return x % 2 != 0 and x % 3 != 0\n",
    "\n",
    "print(list(filter(f, range(2, 30))))"
   ]
  },
  {
   "cell_type": "markdown",
   "metadata": {},
   "source": [
    "#### 高阶函数小结\n",
    "\n",
    "使用高阶函数可以让代码简洁优雅，好的函数，可以使程序修改和调试都变得容易。\n",
    "\n",
    "函数式编程，相对传统方式比较难理解，但是这样的确比较 pythonic，符合 python 的发展。"
   ]
  },
  {
   "cell_type": "code",
   "execution_count": null,
   "metadata": {
    "collapsed": true
   },
   "outputs": [],
   "source": []
  }
 ],
 "metadata": {
  "kernelspec": {
   "display_name": "Python 3",
   "language": "python",
   "name": "python3"
  },
  "language_info": {
   "codemirror_mode": {
    "name": "ipython",
    "version": 3
   },
   "file_extension": ".py",
   "mimetype": "text/x-python",
   "name": "python",
   "nbconvert_exporter": "python",
   "pygments_lexer": "ipython3",
   "version": "3.7.6"
  }
 },
 "nbformat": 4,
 "nbformat_minor": 4
}
