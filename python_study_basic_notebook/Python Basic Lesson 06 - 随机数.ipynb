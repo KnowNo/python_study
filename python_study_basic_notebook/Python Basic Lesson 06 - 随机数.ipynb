{
 "cells": [
  {
   "cell_type": "markdown",
   "metadata": {},
   "source": [
    "# Lesson 6\n",
    "\n",
    "v1.1, 2020.4 edit by David Yi\n",
    "\n",
    "    \n",
    "### 本次内容要点\n",
    "\n",
    "* 随机数\n",
    "* 思考：猜数游戏等"
   ]
  },
  {
   "cell_type": "markdown",
   "metadata": {},
   "source": [
    "---\n",
    "\n",
    "### 随机数\n",
    "\n",
    "随机数这一概念在不同领域有着不同的含义，在密码学、通信领域有着非常重要的用途。\n",
    "\n",
    "Python 的随机数模块是 random，random 模块主要有以下函数，结合例子来看看。\n",
    "\n",
    "* random.choice()\n",
    "* random.sample() \n",
    "* random.random()\n",
    "* random.uniform()\n",
    "* random.randint()\n",
    "* random.shuffle()\n",
    "* random.sample"
   ]
  },
  {
   "cell_type": "code",
   "execution_count": 1,
   "metadata": {},
   "outputs": [
    {
     "name": "stdout",
     "output_type": "stream",
     "text": [
      "20\n",
      "a\n"
     ]
    }
   ],
   "source": [
    "import random\n",
    "\n",
    "# random.choice(sequence)。参数sequence表示一个有序类型。\n",
    "# random.choice从序列中获取一个随机元素。\n",
    "\n",
    "print(random.choice(range(1,100)))\n",
    "\n",
    "# 从一个列表中产生随机元素\n",
    "list1 = ['a', 'b', 'c']\n",
    "print(random.choice(list1))"
   ]
  },
  {
   "cell_type": "code",
   "execution_count": 2,
   "metadata": {},
   "outputs": [
    {
     "name": "stdout",
     "output_type": "stream",
     "text": [
      "[68, 73, 84, 54, 28, 94, 93, 71, 86, 16]\n",
      "[3, 5, 9, 7, 1]\n"
     ]
    }
   ],
   "source": [
    "# random.sample()\n",
    "\n",
    "# 创建指定范围内指定个数的整数随机数\n",
    "print(random.sample(range(1,100), 10))\n",
    "\n",
    "print(random.sample(range(1,10), 5))\n",
    "\n",
    "# 如果要产生的随机数数量大于范围边界，会怎么样？\n",
    "# print(random.sample(range(1,10), 15))"
   ]
  },
  {
   "cell_type": "code",
   "execution_count": 3,
   "metadata": {},
   "outputs": [
    {
     "name": "stdout",
     "output_type": "stream",
     "text": [
      "27\n",
      "4\n",
      "1\n"
     ]
    }
   ],
   "source": [
    "# random.randint(a, b)，用于生成一个指定范围内的整数。\n",
    "# 其中参数a是下限，参数b是上限，生成的随机数n: a <= n <= b\n",
    "print(random.randint(1,100))\n",
    "\n",
    "# random.randrange([start], stop[, step])，\n",
    "# 从指定范围内，按指定基数递增的集合中 获取一个随机数。\n",
    "print(random.randrange(1,10))\n",
    "\n",
    "# 可以多运行几次，看看结果总是哪几个数字\n",
    "print(random.randrange(1,10,3))"
   ]
  },
  {
   "cell_type": "code",
   "execution_count": 4,
   "metadata": {},
   "outputs": [
    {
     "name": "stdout",
     "output_type": "stream",
     "text": [
      "0.45381735798354406\n",
      "84.25087087102592\n",
      "35.24990186501766\n"
     ]
    }
   ],
   "source": [
    "# random.random()用于生成一个0到1的随机浮点数: 0 <= n < 1.0\n",
    "print(random.random())\n",
    "\n",
    "# random.uniform(a, b)，\n",
    "# 用于生成一个指定范围内的随机浮点数，两个参数其中一个是上限，一个是下限。\n",
    "# 如果a > b，则生成的随机数n: a <= n <= b。如果 a <b， 则 b <= n <= a。\n",
    "print(random.uniform(1,100))\n",
    "print(random.uniform(50,10))"
   ]
  },
  {
   "cell_type": "markdown",
   "metadata": {},
   "source": [
    "随机数在程序开发中有很重要的作用，"
   ]
  },
  {
   "cell_type": "code",
   "execution_count": 5,
   "metadata": {},
   "outputs": [
    {
     "name": "stdout",
     "output_type": "stream",
     "text": [
      "[12, 5, 1, 23, 87]\n",
      "[1, 2, 9, 6, 0]\n",
      "[5, 7, 9, 4, 8, 2, 1]\n"
     ]
    }
   ],
   "source": [
    "# random.shuffle(x[, random])，\n",
    "# 用于将一个列表中的元素打乱\n",
    "a = [12, 23, 1, 5, 87]\n",
    "random.shuffle(a)\n",
    "print(a)\n",
    "\n",
    "# random.sample(sequence, k)，\n",
    "# 从指定序列中随机获取指定长度的片断。sample函数不会修改原有序列。\n",
    "print(random.sample(range(10),5))\n",
    "print(random.sample(range(10),7))"
   ]
  },
  {
   "cell_type": "markdown",
   "metadata": {},
   "source": [
    "## 思考\n",
    "\n",
    "1. 一个猜数程序"
   ]
  },
  {
   "cell_type": "code",
   "execution_count": null,
   "metadata": {},
   "outputs": [],
   "source": [
    "# 猜数，人猜\n",
    "# 简单版本\n",
    "\n",
    "import random\n",
    "\n",
    "a = random.randint(1,1000)\n",
    "\n",
    "print('Now you can guess...')\n",
    "\n",
    "guess_mark = True\n",
    "\n",
    "while guess_mark:\n",
    "    user_number =int(input('please input number:'))\n",
    "    if user_number > a:\n",
    "        print('too big')\n",
    "    if user_number < a:\n",
    "        print('too small')\n",
    "    if user_number == a:\n",
    "        print('bingo!')\n",
    "        guess_mark = False"
   ]
  },
  {
   "cell_type": "code",
   "execution_count": null,
   "metadata": {},
   "outputs": [],
   "source": [
    "# 猜数，人猜\n",
    "# 记录猜数的过程\n",
    "\n",
    "import random\n",
    "\n",
    "# 记录人猜了多少数字\n",
    "user_number_list = []\n",
    "\n",
    "# 记录人猜了几次\n",
    "user_guess_count = 0\n",
    "\n",
    "a = random.randint(1,100)\n",
    "\n",
    "print('Now you can guess...')\n",
    "guess_mark = True\n",
    "\n",
    "# 主循环\n",
    "while guess_mark:\n",
    "    user_number =int(input('please input number:'))\n",
    "    \n",
    "    user_number_list.append(user_number)\n",
    "    user_guess_count += 1\n",
    "    \n",
    "    if user_number > a:\n",
    "        print('too big')\n",
    "    if user_number < a:\n",
    "        print('too small')\n",
    "    if user_number == a:\n",
    "        print('bingo!')\n",
    "        print('your guess number list:', user_number_list)\n",
    "        print('you try times:', user_guess_count)\n",
    "        guess_mark = False"
   ]
  },
  {
   "cell_type": "code",
   "execution_count": null,
   "metadata": {},
   "outputs": [],
   "source": [
    "# 猜数，人猜\n",
    "# 增加判断次数，如果1-4次，以及以上显示不同提示语\n",
    "\n",
    "import random\n",
    "\n",
    "# 记录人猜了多少数字\n",
    "user_number_list = []\n",
    "\n",
    "# 记录人猜了几次\n",
    "user_guess_count = 0\n",
    "\n",
    "a = random.randint(1,100)\n",
    "\n",
    "print('Now you can guess...')\n",
    "\n",
    "guess_mark = True\n",
    "\n",
    "# 主循环\n",
    "while guess_mark:\n",
    "    \n",
    "    if 0 <= user_guess_count <= 4:\n",
    "        user_number =int(input('please input number:'))\n",
    "    if 4 < user_guess_count <= 100:\n",
    "        user_number =int(input('try harder, please input number:'))\n",
    "    \n",
    "    user_number_list.append(user_number)\n",
    "    user_guess_count += 1\n",
    "    \n",
    "    if user_number > a:\n",
    "        print('too big')\n",
    "    if user_number < a:\n",
    "        print('too small')\n",
    "    if user_number == a:\n",
    "        print('bingo!')\n",
    "        print('your guess number list:', user_number_list)\n",
    "        print('you try times:', user_guess_count)\n",
    "        guess_mark = False\n"
   ]
  },
  {
   "cell_type": "markdown",
   "metadata": {},
   "source": [
    "2. 更加复杂的生成随机内容。\n",
    "\n",
    "可以参考我们开发的python 函数包中的 random 部分，https://fishbase.readthedocs.io/en/latest/fish_random.html\n",
    "\n",
    "fish_random.gen_random_address(zone)\t通过省份行政区划代码，返回该省份的随机地址\n",
    "\n",
    "fish_random.get_random_areanote(zone)\t省份行政区划代码，返回下辖的随机地区名称\n",
    "\n",
    "fish_random.gen_random_bank_card([…])\t通过指定的银行名称，随机生成该银行的卡号\n",
    "\n",
    "fish_random.gen_random_company_name()\t随机生成一个公司名称\n",
    "\n",
    "fish_random.gen_random_float(minimum, maximum)\t指定一个浮点数范围，随机生成并返回区间内的一个浮点数，区间为闭区间 受限于 random.random 精度限制，支持最大 15 位精度\n",
    "\n",
    "fish_random.gen_random_id_card([zone, …])\t根据指定的省份编号、性别或年龄，随机生成一个身份证号\n",
    "\n",
    "fish_random.gen_random_mobile()\t随机生成一个手机号\n",
    "\n",
    "fish_random.gen_random_name([family_name, …])\t指定姓氏、性别、长度，返回随机人名，也可不指定生成随机人名\n",
    "\n",
    "fish_random.gen_random_str(min_length, …)\t指定一个前后缀、字符串长度以及字符串包含字符类型，返回随机生成带有前后缀及指定长度的字符串\n"
   ]
  },
  {
   "cell_type": "code",
   "execution_count": 10,
   "metadata": {},
   "outputs": [
    {
     "name": "stdout",
     "output_type": "stream",
     "text": [
      "4367456382851478\n",
      "6227586313118152\n",
      "6216673914496348917\n"
     ]
    }
   ],
   "source": [
    "from fishbase.fish_random import *\n",
    "\n",
    "# 这些银行卡卡号只是符合规范，可以通过最基本的银行卡号规范检查，但是实际上是不存在的\n",
    "\n",
    "# 随机生成一张银行卡卡号\n",
    "print(gen_random_bank_card())\n",
    "\n",
    "# 随机生成一张中国银行的借记卡卡号\n",
    "print(gen_random_bank_card('中国银行', 'CC'))\n",
    "\n",
    "# 随机生成一张中国银行的贷记卡卡号\n",
    "print(gen_random_bank_card('中国银行', 'DC'))"
   ]
  },
  {
   "cell_type": "code",
   "execution_count": 16,
   "metadata": {},
   "outputs": [
    {
     "name": "stdout",
     "output_type": "stream",
     "text": [
      "['310104197810177752']\n",
      "['310119197001192703']\n",
      "['310104199011217980']\n",
      "['53092419900907401X', '532424199005059597', '530927199012121779', '530324199004146034', '532101199001157199', '533500199006285057', '533222199007069497', '530827199001145171', '532124199004143539', '530921199001069532', '530702199008158036', '532425199002159118', '532325199008035233', '533422199006189391', '532724199008132776', '530121199012223810', '532326199003308390', '532628199011097238', '533525199006195892', '532524199004067179']\n"
     ]
    }
   ],
   "source": [
    "from fishbase.fish_random import *\n",
    "\n",
    "# 生成假的身份证号码，符合标准身份证的分段设置和校验位\n",
    "\n",
    "# 指定身份证的地域\n",
    "print(gen_random_id_card('310000'))\n",
    "\n",
    "# 增加指定年龄\n",
    "print(gen_random_id_card('310000', age=70))\n",
    "\n",
    "# 增加年龄和性别\n",
    "print(gen_random_id_card('310000', age=30, gender='00'))\n",
    "\n",
    "# 生成一组\n",
    "print(gen_random_id_card(age=30, gender='01', result_type='LIST'))"
   ]
  },
  {
   "cell_type": "code",
   "execution_count": null,
   "metadata": {},
   "outputs": [],
   "source": []
  }
 ],
 "metadata": {
  "kernelspec": {
   "display_name": "Python 3",
   "language": "python",
   "name": "python3"
  },
  "language_info": {
   "codemirror_mode": {
    "name": "ipython",
    "version": 3
   },
   "file_extension": ".py",
   "mimetype": "text/x-python",
   "name": "python",
   "nbconvert_exporter": "python",
   "pygments_lexer": "ipython3",
   "version": "3.7.6"
  }
 },
 "nbformat": 4,
 "nbformat_minor": 4
}
