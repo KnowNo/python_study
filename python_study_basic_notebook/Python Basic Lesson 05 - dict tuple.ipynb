{
 "cells": [
  {
   "cell_type": "markdown",
   "metadata": {},
   "source": [
    "# Lesson 5\n",
    "\n",
    "v1.0.0, 2016.12 by David Yi   \n",
    "v1.0.1, 2017.02 modified by Yimeng Zhang  \n",
    "v1.1, 2020.4 edit by David Yi\n",
    "\n",
    "    \n",
    "### 本次内容要点\n",
    "\n",
    "* dict 字典用法\n",
    "* tuple 元组用法\n",
    "* 思考"
   ]
  },
  {
   "cell_type": "markdown",
   "metadata": {
    "collapsed": true
   },
   "source": [
    "---\n",
    "\n",
    "##  dict 字典用法\n",
    "\n",
    "字典是另一种可变容器模型，可存储任意类型对象。\n",
    "\n",
    "字典的每个键值(key=>value)对用冒号(:)分割，每个对之间用逗号(,)分割，整个字典包括在花括号({})中，格式如 `d = {key1 : value1, key2 : value2 }`\n",
    "\n",
    "字典中的 key 值不可以重复（第一次定义后不能重复）\n",
    "\n",
    "字典的几个特点：\n",
    "1. 查找和插入的速度极快，不会随着key的增加而变慢；   \n",
    "2. 需要占用大量的内存，内存浪费多。   \n",
    "\n",
    "而list相反：\n",
    "1. 查找和插入的时间随着元素的增加而增加；   \n",
    "2. 占用空间小，浪费内存很少。   \n",
    "\n",
    "字典的基本操作：\n",
    "* 创建字典\n",
    "* 访问字典中的 key-value\n",
    "* 修改字典中的 key-value\n",
    "* 获得字典中指定 key 的 value\n",
    "* 删除字典中的 key"
   ]
  },
  {
   "cell_type": "code",
   "execution_count": 1,
   "metadata": {},
   "outputs": [
    {
     "name": "stdout",
     "output_type": "stream",
     "text": [
      "{'Tom': 95, 'Mary': 90, 'Tracy': 92}\n",
      "95\n"
     ]
    }
   ],
   "source": [
    "# 定义字典\n",
    "# 访问字典中的 key-value\n",
    "\n",
    "d = {'Tom': 95, 'Mary': 90, 'Tracy': 92}\n",
    "print(d)\n",
    "print(d['Tom'])"
   ]
  },
  {
   "cell_type": "code",
   "execution_count": 2,
   "metadata": {},
   "outputs": [
    {
     "name": "stdout",
     "output_type": "stream",
     "text": [
      "{'Tom': 95, 'Mary': 90, 'Tracy': 92, 'Hugo': 85}\n"
     ]
    }
   ],
   "source": [
    "# 字典增加元素\n",
    "\n",
    "d['Hugo'] = 85\n",
    "print(d)"
   ]
  },
  {
   "cell_type": "code",
   "execution_count": 3,
   "metadata": {},
   "outputs": [
    {
     "name": "stdout",
     "output_type": "stream",
     "text": [
      "{'Tom': 97, 'Mary': 90, 'Tracy': 92, 'Hugo': 85}\n",
      "True\n",
      "80\n"
     ]
    },
    {
     "ename": "KeyError",
     "evalue": "'Tommy'",
     "output_type": "error",
     "traceback": [
      "\u001b[0;31m---------------------------------------------------------------------------\u001b[0m",
      "\u001b[0;31mKeyError\u001b[0m                                  Traceback (most recent call last)",
      "\u001b[0;32m<ipython-input-3-2ea9cef8a29e>\u001b[0m in \u001b[0;36m<module>\u001b[0;34m\u001b[0m\n\u001b[1;32m     10\u001b[0m \u001b[0;34m\u001b[0m\u001b[0m\n\u001b[1;32m     11\u001b[0m \u001b[0;31m# 直接去获得不存在的 key 的 value，会报错\u001b[0m\u001b[0;34m\u001b[0m\u001b[0;34m\u001b[0m\u001b[0;34m\u001b[0m\u001b[0m\n\u001b[0;32m---> 12\u001b[0;31m \u001b[0mprint\u001b[0m\u001b[0;34m(\u001b[0m\u001b[0md\u001b[0m\u001b[0;34m[\u001b[0m\u001b[0;34m'Tommy'\u001b[0m\u001b[0;34m]\u001b[0m\u001b[0;34m)\u001b[0m\u001b[0;34m\u001b[0m\u001b[0;34m\u001b[0m\u001b[0m\n\u001b[0m\u001b[1;32m     13\u001b[0m \u001b[0;34m\u001b[0m\u001b[0m\n",
      "\u001b[0;31mKeyError\u001b[0m: 'Tommy'"
     ]
    }
   ],
   "source": [
    "# 修改字典元素的值\n",
    "d['Tom'] = 97\n",
    "print(d)\n",
    "\n",
    "# 字典是否存在某个 key\n",
    "print('Tom' in d)\n",
    "\n",
    "# 如果要获得不存在的 key 的 value，可以设置默认值\n",
    "print(d.get('Tommy',80))\n",
    "\n",
    "# 直接去获得不存在的 key 的 value，会报错\n",
    "print(d['Tommy'])\n",
    "\n"
   ]
  },
  {
   "cell_type": "code",
   "execution_count": 4,
   "metadata": {},
   "outputs": [
    {
     "name": "stdout",
     "output_type": "stream",
     "text": [
      "{'Tom': 95, 'Mary': 90, 'Tracy': 92}\n",
      "{'Mary': 90, 'Tracy': 92}\n"
     ]
    }
   ],
   "source": [
    "# 字典删除 key\n",
    "\n",
    "d = {'Tom': 95, 'Mary': 90, 'Tracy': 92}\n",
    "print(d)\n",
    "\n",
    "# 删除 key\n",
    "d.pop('Tom')\n",
    "print(d)"
   ]
  },
  {
   "cell_type": "code",
   "execution_count": 19,
   "metadata": {},
   "outputs": [
    {
     "name": "stdout",
     "output_type": "stream",
     "text": [
      "{'id_0': 0, 'id_1': 3, 'id_2': 6, 'id_3': 9, 'id_4': 12, 'id_5': 15, 'id_6': 18, 'id_7': 21, 'id_8': 24, 'id_9': 27, 'id_10': 30, 'id_11': 33, 'id_12': 36, 'id_13': 39, 'id_14': 42, 'id_15': 45, 'id_16': 48, 'id_17': 51, 'id_18': 54, 'id_19': 57, 'id_20': 60, 'id_21': 63, 'id_22': 66, 'id_23': 69, 'id_24': 72, 'id_25': 75, 'id_26': 78, 'id_27': 81, 'id_28': 84, 'id_29': 87}\n",
      "30\n"
     ]
    }
   ],
   "source": [
    "# 获得字典的长度\n",
    "\n",
    "# 一个空的字典\n",
    "d1 = {}\n",
    "\n",
    "# 造一些字典内容\n",
    "for i in range(30):\n",
    "    d1['id_'+str(i)] = i*3\n",
    "print(d1)\n",
    "\n",
    "print(len(d1))"
   ]
  },
  {
   "cell_type": "markdown",
   "metadata": {
    "collapsed": true
   },
   "source": [
    "---\n",
    "\n",
    "## Tuple 元组用法\n",
    "\n",
    "Tuple 也是一种有序列表，在存储数据方面和 list 列表很相似， 为了区分，我们叫它元组。\n",
    "Tuple 一旦内容存储后，就不能修改；这样的好处是数据很安全。\n",
    "\n",
    "应用范围：在我们需要使用 list 列表功能的时候，但是又不需要改变这个 list 的内容，用 Tuple 元组功能会很安全，不用担心程序中不小心修改了其内容。Python 在向函数传递多个参数时候，就是采用 tuple，保证参数在被调用的过程中的安全。\n",
    "\n"
   ]
  },
  {
   "cell_type": "code",
   "execution_count": 2,
   "metadata": {},
   "outputs": [
    {
     "name": "stdout",
     "output_type": "stream",
     "text": [
      "('Tom', 'Jerry', 'Mary')\n"
     ]
    }
   ],
   "source": [
    "# 创建元组\n",
    "\n",
    "t = ('Tom', 'Jerry', 'Mary')\n",
    "print(t)"
   ]
  },
  {
   "cell_type": "code",
   "execution_count": 4,
   "metadata": {},
   "outputs": [
    {
     "name": "stdout",
     "output_type": "stream",
     "text": [
      "Jerry\n"
     ]
    }
   ],
   "source": [
    "# 访问元组的元素\n",
    "\n",
    "print(t[1])"
   ]
  },
  {
   "cell_type": "code",
   "execution_count": 8,
   "metadata": {},
   "outputs": [
    {
     "ename": "AttributeError",
     "evalue": "'tuple' object has no attribute 'append'",
     "output_type": "error",
     "traceback": [
      "\u001b[1;31m---------------------------------------------------------------------------\u001b[0m",
      "\u001b[1;31mAttributeError\u001b[0m                            Traceback (most recent call last)",
      "\u001b[1;32m<ipython-input-8-e2bbceae4065>\u001b[0m in \u001b[0;36m<module>\u001b[1;34m()\u001b[0m\n\u001b[0;32m      1\u001b[0m \u001b[1;31m# 元组创建后是不能修改的\u001b[0m\u001b[1;33m\u001b[0m\u001b[1;33m\u001b[0m\u001b[0m\n\u001b[0;32m      2\u001b[0m \u001b[1;33m\u001b[0m\u001b[0m\n\u001b[1;32m----> 3\u001b[1;33m \u001b[0mt\u001b[0m\u001b[1;33m.\u001b[0m\u001b[0mappend\u001b[0m\u001b[1;33m(\u001b[0m\u001b[1;34m'Someone'\u001b[0m\u001b[1;33m)\u001b[0m\u001b[1;33m\u001b[0m\u001b[0m\n\u001b[0m",
      "\u001b[1;31mAttributeError\u001b[0m: 'tuple' object has no attribute 'append'"
     ]
    }
   ],
   "source": [
    "# 元组创建后是不能修改的\n",
    "\n",
    "# 会报错\n",
    "t.append('Someone')"
   ]
  },
  {
   "cell_type": "code",
   "execution_count": 3,
   "metadata": {},
   "outputs": [
    {
     "ename": "TypeError",
     "evalue": "'tuple' object does not support item assignment",
     "output_type": "error",
     "traceback": [
      "\u001b[1;31m---------------------------------------------------------------------------\u001b[0m",
      "\u001b[1;31mTypeError\u001b[0m                                 Traceback (most recent call last)",
      "\u001b[1;32m<ipython-input-3-ce71be290f22>\u001b[0m in \u001b[0;36m<module>\u001b[1;34m\u001b[0m\n\u001b[0;32m      2\u001b[0m \u001b[1;33m\u001b[0m\u001b[0m\n\u001b[0;32m      3\u001b[0m \u001b[1;31m# 像列表一样去定义值也会报错\u001b[0m\u001b[1;33m\u001b[0m\u001b[1;33m\u001b[0m\u001b[1;33m\u001b[0m\u001b[0m\n\u001b[1;32m----> 4\u001b[1;33m \u001b[0mt\u001b[0m\u001b[1;33m[\u001b[0m\u001b[1;36m1\u001b[0m\u001b[1;33m]\u001b[0m \u001b[1;33m=\u001b[0m \u001b[1;34m'aaa'\u001b[0m\u001b[1;33m\u001b[0m\u001b[1;33m\u001b[0m\u001b[0m\n\u001b[0m",
      "\u001b[1;31mTypeError\u001b[0m: 'tuple' object does not support item assignment"
     ]
    }
   ],
   "source": [
    "# 元组创建后是不能修改的\n",
    "\n",
    "# 像列表一样去定义值也会报错\n",
    "# 'tuple' object does not support item assignment\n",
    "t[1] = 'aaa'"
   ]
  },
  {
   "cell_type": "code",
   "execution_count": 20,
   "metadata": {},
   "outputs": [
    {
     "name": "stdout",
     "output_type": "stream",
     "text": [
      "(['A', 'B', 'C'], 100, 200)\n"
     ]
    }
   ],
   "source": [
    "# 创建复杂一点的元组\n",
    "\n",
    "t1  = ['A', 'B', 'C']\n",
    "t2 =(t1, 100, 200)\n",
    "print(t2)"
   ]
  },
  {
   "cell_type": "code",
   "execution_count": 4,
   "metadata": {},
   "outputs": [
    {
     "name": "stdout",
     "output_type": "stream",
     "text": [
      "['A', 'B', 'C']\n",
      "(['A', 'B', 'C'], 100, 200)\n",
      "['A', 'B', 'C', 'D']\n",
      "(['A', 'B', 'C', 'D'], 100, 200)\n"
     ]
    }
   ],
   "source": [
    "# 变通的实现\"可变\"元组内容\n",
    "\n",
    "t1  = ['A', 'B', 'C']\n",
    "t2 =(t1, 100, 200)\n",
    "print(t1)\n",
    "print(t2)\n",
    "\n",
    "# tuple的每个元素，指向永远不变，但指向的元素本身是可变的\n",
    "t1.append('D')\n",
    "\n",
    "print(t1)\n",
    "print(t2)  "
   ]
  },
  {
   "cell_type": "code",
   "execution_count": 25,
   "metadata": {},
   "outputs": [
    {
     "name": "stdout",
     "output_type": "stream",
     "text": [
      "<class 'int'>\n",
      "<class 'tuple'>\n",
      "(1,)\n"
     ]
    }
   ],
   "source": [
    "# 创建只有1个元素的元组\n",
    "\n",
    "# 下面这样是不行的\n",
    "t = (1)\n",
    "# l成了一个整数，因为这里的括号有歧义，被认作数学计算里的小括号\n",
    "print(type(t))  \n",
    "\n",
    "# 1个元素的元组必须加逗号来消除歧义\n",
    "t = (1,)\n",
    "print(type(t))\n",
    "print(t)"
   ]
  },
  {
   "cell_type": "markdown",
   "metadata": {},
   "source": [
    "### 思考\n",
    "\n",
    "* 中文分词，是一个很有趣的话题，也是机器学习中关于语言处理的最基本的概念。今天我们看看 Python 怎么处理中文分词。\n",
    "* 需要先安装 jieba 这个 Python 的库，使用 `pip install jieba`"
   ]
  },
  {
   "cell_type": "code",
   "execution_count": 7,
   "metadata": {},
   "outputs": [
    {
     "name": "stderr",
     "output_type": "stream",
     "text": [
      "Building prefix dict from the default dictionary ...\n",
      "Dumping model to file cache C:\\Users\\yijun\\AppData\\Local\\Temp\\jieba.cache\n",
      "Loading model cost 0.656 seconds.\n",
      "Prefix dict has been built successfully.\n"
     ]
    },
    {
     "name": "stdout",
     "output_type": "stream",
     "text": [
      "Full Mode: 今天/ 天上/ 上海/ 的/ 天气/ 怎么/ 怎么样\n"
     ]
    }
   ],
   "source": [
    "import jieba\n",
    "\n",
    "# 全模式\n",
    "# 把句子中所有的可以称此的词语都扫描出来，速度非常快，但是不能解决歧义\n",
    "\n",
    "seg_list = jieba.cut(\"今天上海的天气怎么样\", cut_all = True)\n",
    "print(\"Full Mode: \" + \"/ \".join(seg_list))  \n"
   ]
  },
  {
   "cell_type": "code",
   "execution_count": 29,
   "metadata": {},
   "outputs": [
    {
     "name": "stdout",
     "output_type": "stream",
     "text": [
      "Default Mode: 明天/ 纽约/ 下雨/ 么\n"
     ]
    }
   ],
   "source": [
    "# 精确模式\n",
    "# 试图将句子最精确的切开，适合文本分析\n",
    "\n",
    "seg_list = jieba.cut(\"明天纽约下雨么\", cut_all = False)\n",
    "print(\"Default Mode: \" + \"/ \".join(seg_list))  \n"
   ]
  },
  {
   "cell_type": "code",
   "execution_count": 30,
   "metadata": {},
   "outputs": [
    {
     "name": "stdout",
     "output_type": "stream",
     "text": [
      "现在, 天气, 怎么样\n"
     ]
    }
   ],
   "source": [
    "# 默认是精确模式\n",
    "\n",
    "seg_list = jieba.cut(\"现在天气怎么样\")  \n",
    "print(\", \".join(seg_list))\n"
   ]
  },
  {
   "cell_type": "code",
   "execution_count": null,
   "metadata": {},
   "outputs": [],
   "source": [
    "# 默认是精确模式\n",
    "\n",
    "seg_list = jieba.cut(\"小明硕士毕业于中国科学院计算所，后在日本京都大学深造\")  \n",
    "print(\", \".join(seg_list))\n"
   ]
  },
  {
   "cell_type": "code",
   "execution_count": 31,
   "metadata": {},
   "outputs": [
    {
     "name": "stdout",
     "output_type": "stream",
     "text": [
      "小明, 硕士, 毕业, 于, 中国, 科学, 学院, 科学院, 中国科学院, 计算, 计算所, ，, 后, 在, 日本, 京都, 大学, 日本京都大学, 深造\n"
     ]
    }
   ],
   "source": [
    "# 搜索引擎模式\n",
    "# 在精确模式的基础上，对长词再次切分，提高召回率，适合用于搜索引擎分词    \n",
    "\n",
    "seg_list = jieba.cut_for_search(\"小明硕士毕业于中国科学院计算所，后在日本京都大学深造\") \n",
    "print(\", \".join(seg_list))"
   ]
  },
  {
   "cell_type": "code",
   "execution_count": 10,
   "metadata": {},
   "outputs": [
    {
     "name": "stdout",
     "output_type": "stream",
     "text": [
      "黑夜, 总会, 过去\n",
      "黑夜, 夜总会, 总会, 过去\n"
     ]
    }
   ],
   "source": [
    "# 看看网络上的段子，分词带来的烦恼\n",
    "\n",
    "seg_list = jieba.cut_for_search(\"黑夜总会过去\") \n",
    "print(\", \".join(seg_list))\n",
    "seg_list = jieba.cut(\"黑夜总会过去\", cut_all = True)\n",
    "print(\", \".join(seg_list))"
   ]
  },
  {
   "cell_type": "code",
   "execution_count": 32,
   "metadata": {},
   "outputs": [
    {
     "name": "stdout",
     "output_type": "stream",
     "text": [
      "2016,年,第一季度,支付,事业部,交易量,报表\n"
     ]
    }
   ],
   "source": [
    "# 默认是精确模式\n",
    "seg_list = jieba.cut(\"2016年第一季度支付事业部交易量报表\")  \n",
    "print(','.join(seg_list))"
   ]
  },
  {
   "cell_type": "code",
   "execution_count": 33,
   "metadata": {},
   "outputs": [
    {
     "name": "stdout",
     "output_type": "stream",
     "text": [
      "2016\n",
      "年\n",
      "第一季度\n",
      "支付\n",
      "事业部\n",
      "交易量\n",
      "报表\n"
     ]
    }
   ],
   "source": [
    "# 默认是精确模式\n",
    "seg_list = jieba.cut(\"2016年第一季度支付事业部交易量报表\")  \n",
    "for i in seg_list:\n",
    "    print(i)"
   ]
  },
  {
   "cell_type": "code",
   "execution_count": 34,
   "metadata": {},
   "outputs": [
    {
     "name": "stdout",
     "output_type": "stream",
     "text": [
      "我 r\n",
      "爱 v\n",
      "北京 ns\n",
      "天安门 ns\n"
     ]
    }
   ],
   "source": [
    "import jieba.posseg as pseg\n",
    "words = pseg.cut(\"我爱北京天安门\")\n",
    "\n",
    "for word, flag in words:\n",
    "    print('%s %s' % (word, flag))"
   ]
  },
  {
   "cell_type": "markdown",
   "metadata": {},
   "source": [
    "#### 词性\n",
    "\n",
    "北大词性标注集\n",
    "\n",
    "* Ag     形语素     形容词性语素。形容词代码为a，语素代码ｇ前面置以A。\n",
    "* a       形容词      取英语形容词adjective的第1个字母。\n",
    "* ad 副形词 直接作状语的形容词。形容词代码a和副词代码d并在一起。\n",
    "* an 名形词 具有名词功能的形容词。形容词代码a和名词代码n并在一起。\n",
    "* b       区别词      取汉字“别”的声母。\n",
    "* c       连词        取英语连词conjunction的第1个字母。\n",
    "* Dg     副语素     副词性语素。副词代码为d，语素代码ｇ前面置以D。\n",
    "* d       副词     取adverb的第2个字母，因其第1个字母已用于形容词。\n",
    "* e       叹词     取英语叹词exclamation的第1个字母。\n",
    "* f        方位词      取汉字“方”的声母。\n",
    "* g  语素    绝大多数语素都能作为合成词的“词根”，取汉字“根”的声母。\n",
    "* h       前接成分   取英语head的第1个字母。\n",
    "* i        成语        取英语成语idiom的第1个字母。\n",
    "* j        简称略语  取汉字“简”的声母。\n",
    "* k       后接成分\n",
    "* l        习用语     习用语尚未成为成语，有点“临时性”，取“临”的声母。\n",
    "* m       数词     取英语numeral的第3个字母，n，u已有他用。\n",
    "* Ng     名语素     名词性语素。名词代码为n，语素代码ｇ前面置以N。\n",
    "* n   名词        取英语名词noun的第1个字母。\n",
    "* nr  人名        名词代码n和“人(ren)”的声母并在一起。\n",
    "* ns      地名     名词代码n和处所词代码s并在一起。\n",
    "* nt      机构团体    “团”的声母为t，名词代码n和t并在一起。\n",
    "* nz     其他专名    “专”的声母的第1个字母为z，名词代码n和z并在一起。 \n",
    "* o       拟声词     取英语拟声词onomatopoeia的第1个字母。\n",
    "* p       介词     取英语介词prepositional的第1个字母。\n",
    "* q       量词        取英语quantity的第1个字母。\n",
    "* r       代词        取英语代词pronoun的第2个字母,因p已用于介词。\n",
    "* s       处所词     取英语space的第1个字母。\n",
    "* Tg     时语素      时间词性语素。时间词代码为t,在语素的代码g前面置以T。\n",
    "* t     时间词      取英语time的第1个字母。\n",
    "* u       助词        取英语助词auxiliary 的第2个字母,因a已用于形容词。\n",
    "* Vg     动语素      动词性语素。动词代码为v。在语素的代码g前面置以V。\n",
    "* v       动词        取英语动词verb的第一个字母。\n",
    "* vd     副动词      直接作状语的动词。动词和副词的代码并在一起。\n",
    "* vn     名动词      指具有名词功能的动词。动词和名词的代码并在一起。\n",
    "* w      标点符号   \n",
    "* x       非语素字    非语素字只是一个符号，字母x通常用于代表未知数、符号。\n",
    "* y       语气词      取汉字“语”的声母。\n",
    "* z      状态词      取汉字“状”的声母的前一个字母。\n"
   ]
  },
  {
   "cell_type": "markdown",
   "metadata": {},
   "source": [
    "#### 思考：\n",
    "\n",
    "* 做一个简单的对话机器人，有了上面的分词工具，是不是有一些思路？"
   ]
  },
  {
   "cell_type": "code",
   "execution_count": null,
   "metadata": {},
   "outputs": [],
   "source": []
  }
 ],
 "metadata": {
  "kernelspec": {
   "display_name": "Python 3",
   "language": "python",
   "name": "python3"
  },
  "language_info": {
   "codemirror_mode": {
    "name": "ipython",
    "version": 3
   },
   "file_extension": ".py",
   "mimetype": "text/x-python",
   "name": "python",
   "nbconvert_exporter": "python",
   "pygments_lexer": "ipython3",
   "version": "3.7.6"
  }
 },
 "nbformat": 4,
 "nbformat_minor": 4
}
