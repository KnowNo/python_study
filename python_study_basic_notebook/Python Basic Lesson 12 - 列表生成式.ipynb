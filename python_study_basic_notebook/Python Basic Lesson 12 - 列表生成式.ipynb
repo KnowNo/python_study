{
 "cells": [
  {
   "cell_type": "markdown",
   "metadata": {},
   "source": [
    "# Lesson 12\n",
    "\n",
    "* v1.0.0，2016.10 by David.Yi\n",
    "* v1.1, 2020.4.30 5，edit by David Yi\n",
    "\n",
    "## 本次内容要点\n",
    "* 列表生成器用法\n",
    "* 思考一下：整理文件的应用需要哪些功能"
   ]
  },
  {
   "cell_type": "markdown",
   "metadata": {},
   "source": [
    "---\n",
    "\n",
    "## 列表生成式\n",
    "\n",
    "\n",
    "列表生成式是 Python 内置的非常简单却强大的可以用来创建list的方法。\n",
    "\n",
    "大家都知道，要生成一个这样的 list：[1, 2, 3, 4, 5, 6, 7, 8, 9, 10]\n",
    "\n",
    "可以用 `list(range(1, 11))` \n",
    "\n",
    "那么如果要生成这样的 list：[1, 4, 9, 16, 25, 36, 49, 64, 81, 100]，应该怎么办呢？"
   ]
  },
  {
   "cell_type": "code",
   "execution_count": 1,
   "metadata": {},
   "outputs": [
    {
     "name": "stdout",
     "output_type": "stream",
     "text": [
      "[1, 4, 9, 16, 25, 36, 49, 64, 81, 100]\n"
     ]
    }
   ],
   "source": [
    "# 用循环来生成\n",
    "\n",
    "list1 = []\n",
    "for x in range(1, 11):\n",
    "    list1.append(x * x)\n",
    "    \n",
    "print(list1)"
   ]
  },
  {
   "cell_type": "code",
   "execution_count": 2,
   "metadata": {
    "scrolled": true
   },
   "outputs": [
    {
     "name": "stdout",
     "output_type": "stream",
     "text": [
      "[1, 4, 9, 16, 25, 36, 49, 64, 81, 100]\n"
     ]
    }
   ],
   "source": [
    "# 用列表生成式\n",
    "# 是不是更加简洁和优雅？\n",
    "\n",
    "list1 = [ x * x for x in range(1, 11)]\n",
    "print(list1)"
   ]
  },
  {
   "cell_type": "markdown",
   "metadata": {},
   "source": [
    "---\n",
    "### 列表生成式用法\n",
    "\n",
    "写列表生成式时，把要生成的元素 `x * x` 放到前面，后面跟 `for` 循环，就可以把 list 创建出来，十分有用。\n",
    "\n",
    "在列表生成式后面还可以加上判断，过滤出结果为偶数的结果\n",
    "\n",
    "[x * x for x in range(1, 11) if x % 2 == 0]\n"
   ]
  },
  {
   "cell_type": "code",
   "execution_count": 2,
   "metadata": {},
   "outputs": [
    {
     "data": {
      "text/plain": [
       "[4, 16, 36, 64, 100]"
      ]
     },
     "execution_count": 2,
     "metadata": {},
     "output_type": "execute_result"
    }
   ],
   "source": [
    "# 在列表生成式后面加上判断，过滤出结果为偶数的结果\n",
    "\n",
    "[x * x for x in range(1, 11) if x % 2 == 0 ]"
   ]
  },
  {
   "cell_type": "code",
   "execution_count": 3,
   "metadata": {},
   "outputs": [
    {
     "name": "stdout",
     "output_type": "stream",
     "text": [
      "[(3, 2), (4, 1), (5, 0)]\n"
     ]
    }
   ],
   "source": [
    "# 可以在列表生成式中使用双重循环\n",
    "# 输出一对元组，每个数在10以内，且加在一起等于5\n",
    "\n",
    "list1 = [(x, y) for x in range(10) for y in range(10) if x + y == 5 if x > y]\n",
    "\n",
    "print(list1)"
   ]
  },
  {
   "cell_type": "code",
   "execution_count": 6,
   "metadata": {},
   "outputs": [
    {
     "name": "stdout",
     "output_type": "stream",
     "text": [
      "['Pictures', 'PrintHood', 'PycharmProjects']\n"
     ]
    }
   ],
   "source": [
    "# 改进之前寻找目录下指定字母开头的文件的判断方式\n",
    "# 修改为使用列表生成式\n",
    "\n",
    "import os\n",
    "\n",
    "# 可以判断各类情况，比如第一个是大写的 P 字母, 用列表生成式的方式，代码精简了很多\n",
    "list1 =  [x for x in os.listdir('/Users/yijun') if x[0:1] == 'P']\n",
    "print(list1)"
   ]
  },
  {
   "cell_type": "markdown",
   "metadata": {},
   "source": [
    "### 字典也可以用列表生成式生成\n",
    "\n",
    "可以理解列表生成式的改变被泛化了，可以用类似的方法来生成字典。\n",
    "\n",
    "zip() 函数用来把多个可迭代的对象作为参数，将对象中对应的元素打包成一个个元组，然后返回由这些元组组成的列表。所以像个拉链一样，将不同的可迭代对象装配起来。"
   ]
  },
  {
   "cell_type": "code",
   "execution_count": 20,
   "metadata": {},
   "outputs": [
    {
     "name": "stdout",
     "output_type": "stream",
     "text": [
      "<zip object at 0x000001A0D718F848>\n"
     ]
    }
   ],
   "source": [
    "# zip 对象没有办法直接显示其内容，因为它也是一个可迭代的对象\n",
    "\n",
    "list1 = zip(range(5),'hello')\n",
    "print(list1)"
   ]
  },
  {
   "cell_type": "code",
   "execution_count": 16,
   "metadata": {},
   "outputs": [
    {
     "name": "stdout",
     "output_type": "stream",
     "text": [
      "0 h\n",
      "1 e\n",
      "2 l\n",
      "3 l\n",
      "4 o\n"
     ]
    }
   ],
   "source": [
    "# 我们用循环来读取 zip 输出的内容\n",
    "\n",
    "for k,v in zip(range(5),'hello'):\n",
    "    print(k,v)"
   ]
  },
  {
   "cell_type": "code",
   "execution_count": 8,
   "metadata": {},
   "outputs": [
    {
     "name": "stdout",
     "output_type": "stream",
     "text": [
      "{0: 'h', 1: 'e', 2: 'l', 3: 'l', 4: 'o', 5: ' ', 6: 'w', 7: 'o', 8: 'r', 9: 'l', 10: 'd'}\n"
     ]
    }
   ],
   "source": [
    "# 用列表生成式来生成字典\n",
    "\n",
    "s = 'hello world'\n",
    "dict1 = {k:v for (k,v) in zip(range(11),s)}\n",
    "print(dict1)"
   ]
  },
  {
   "cell_type": "code",
   "execution_count": 24,
   "metadata": {},
   "outputs": [
    {
     "name": "stdout",
     "output_type": "stream",
     "text": [
      "[range(0, 5), range(5, 10), range(10, 15)]\n",
      "[0, 1, 2, 3, 4, 5, 6, 7, 8, 9, 10, 11, 12, 13, 14]\n"
     ]
    }
   ],
   "source": [
    "# 将矩阵降维\n",
    "\n",
    "def list_flatten(matrix):\n",
    "    return [x for row in matrix for x in row]\n",
    "\n",
    "matrix = [range(0,5),range(5,10),range(10,15)]\n",
    "\n",
    "print(matrix)\n",
    "\n",
    "print(list_flatten(matrix))"
   ]
  },
  {
   "cell_type": "code",
   "execution_count": 22,
   "metadata": {},
   "outputs": [
    {
     "name": "stdout",
     "output_type": "stream",
     "text": [
      "{0: 'h', 1: 'e', 2: 'l', 3: 'l', 4: 'o', 5: ' ', 6: 'w', 7: 'o', 8: 'r', 9: 'l', 10: 'd'}\n"
     ]
    }
   ],
   "source": [
    "# 也可以直接使用 dict() 类型转换，因为这里逻辑比较简单\n",
    "\n",
    "dict1 = dict(zip(range(11),s))\n",
    "print(dict1)"
   ]
  },
  {
   "cell_type": "markdown",
   "metadata": {},
   "source": [
    "## 思考一下\n",
    "\n",
    "我习惯将所有的文件存放在文档目录，然后一周到两周整理一次，但是我发现这个是一个很辛苦的事情，也比较无聊。我们尝试写一个根据一些基本规则来整理文件的程序。\n",
    "\n",
    "1. 整理文件的规则之一是根据文件名中的关键字，存放到指定的文件夹中\n",
    "2. 文件名关键字-文件夹的关系可以自定义\n",
    "3. 可以在文件夹下面建立一层按照周或者月的日期范围文件夹，相关文件根据文件创建日期可以放到相应文件夹\n",
    "\n",
    "大家看看还需要什么功能？\n",
    "\n",
    "作为一个小小的产品，也可以遵循产品开发的流程，我们先明确需求，先了解好用户需要的功能，再做抽象和归纳。\n",
    "\n",
    "这个思考一下的场景会比较复杂，我们循序渐进。"
   ]
  },
  {
   "cell_type": "code",
   "execution_count": null,
   "metadata": {},
   "outputs": [],
   "source": []
  }
 ],
 "metadata": {
  "anaconda-cloud": {},
  "kernelspec": {
   "display_name": "Python 3",
   "language": "python",
   "name": "python3"
  },
  "language_info": {
   "codemirror_mode": {
    "name": "ipython",
    "version": 3
   },
   "file_extension": ".py",
   "mimetype": "text/x-python",
   "name": "python",
   "nbconvert_exporter": "python",
   "pygments_lexer": "ipython3",
   "version": "3.7.6"
  }
 },
 "nbformat": 4,
 "nbformat_minor": 1
}
