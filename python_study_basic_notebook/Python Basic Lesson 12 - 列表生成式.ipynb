{
 "cells": [
  {
   "cell_type": "markdown",
   "metadata": {},
   "source": [
    "# Lesson 12\n",
    "\n",
    "* v1.0.0，2016.10 by David.Yi\n",
    "* v1.1, 2020.4.30 edit by David Yi\n",
    "\n",
    "## 本次内容要点\n",
    "* 列表生成器用法\n",
    "* 思考一下"
   ]
  },
  {
   "cell_type": "markdown",
   "metadata": {},
   "source": [
    "---\n",
    "\n",
    "## 列表生成式\n",
    "\n",
    "\n",
    "列表生成式是 Python 内置的非常简单却强大的可以用来创建list的方法。\n",
    "\n",
    "大家都知道，要生成一个这样的 list：[1, 2, 3, 4, 5, 6, 7, 8, 9, 10]\n",
    "\n",
    "可以用 `list(range(1, 11))` \n",
    "\n",
    "那么如果要生成这样的 list：[1, 4, 9, 16, 25, 36, 49, 64, 81, 100]，应该怎么办呢？"
   ]
  },
  {
   "cell_type": "code",
   "execution_count": 1,
   "metadata": {},
   "outputs": [
    {
     "name": "stdout",
     "output_type": "stream",
     "text": [
      "[1, 4, 9, 16, 25, 36, 49, 64, 81, 100]\n"
     ]
    }
   ],
   "source": [
    "# 用循环来生成\n",
    "\n",
    "l = []\n",
    "for x in range(1, 11):\n",
    "    l.append(x * x)\n",
    "    \n",
    "print(l)"
   ]
  },
  {
   "cell_type": "code",
   "execution_count": 9,
   "metadata": {
    "scrolled": true
   },
   "outputs": [
    {
     "name": "stdout",
     "output_type": "stream",
     "text": [
      "[1, 4, 9, 16, 25, 36, 49, 64, 81, 100]\n"
     ]
    }
   ],
   "source": [
    "# 用列表生成式\n",
    "# 是不是更加简洁和优雅？\n",
    "\n",
    "l = [ x * x for x in range(1, 11)]\n",
    "print(l)"
   ]
  },
  {
   "cell_type": "markdown",
   "metadata": {},
   "source": [
    "---\n",
    "##### 列表生成式用法:\n",
    "\n",
    "写列表生成式时，把要生成的元素 `x * x` 放到前面，后面跟 `for` 循环，就可以把 list 创建出来，十分有用。\n",
    "\n",
    "在列表生成式后面还可以加上判断，过滤出结果为偶数的结果\n",
    "\n",
    "[x * x for x in range(1, 11) if x % 2 == 0]\n"
   ]
  },
  {
   "cell_type": "code",
   "execution_count": 2,
   "metadata": {},
   "outputs": [
    {
     "data": {
      "text/plain": [
       "[4, 16, 36, 64, 100]"
      ]
     },
     "execution_count": 2,
     "metadata": {},
     "output_type": "execute_result"
    }
   ],
   "source": [
    "# 在列表生成式后面加上判断，过滤出结果为偶数的结果\n",
    "\n",
    "[x * x for x in range(1, 11) if x % 2 == 0 ]"
   ]
  },
  {
   "cell_type": "code",
   "execution_count": 14,
   "metadata": {},
   "outputs": [
    {
     "name": "stdout",
     "output_type": "stream",
     "text": [
      "[(2, 0), (3, 1), (4, 2), (5, 3), (6, 4), (7, 5), (8, 6), (9, 7)]\n"
     ]
    }
   ],
   "source": [
    "# 可以在列表生成式中使用双重循环\n",
    "# 输出一对元组，每个数在10以内，且加在一起等于5\n",
    "\n",
    "l = [(x, y) for x in range(10) for y in range(10) if x + y == 5 if x > y]\n",
    "\n",
    "print(l)"
   ]
  },
  {
   "cell_type": "code",
   "execution_count": 1,
   "metadata": {},
   "outputs": [
    {
     "name": "stdout",
     "output_type": "stream",
     "text": [
      "['Pictures', 'PrintHood', 'PycharmProjects']\n"
     ]
    }
   ],
   "source": [
    "# 改进之前寻找目录下指定字母开头的文件的判断方式\n",
    "# 修改为使用列表生成式\n",
    "\n",
    "import os\n",
    "\n",
    "# 可以指定路径参数，来列出该目录下所有文件\n",
    "# l = os.listdir('/Users/yijun')\n",
    "\n",
    "# 可以判断各类情况，比如第一个是大写的 P 字母, 用列表生成式的方式，代码精简了很多\n",
    "list1 =  [l for l in os.listdir('/Users/yijun') if l[0:1] == 'P']\n",
    "print(list1)"
   ]
  },
  {
   "cell_type": "markdown",
   "metadata": {},
   "source": [
    "##### python 灵活的变量定义"
   ]
  },
  {
   "cell_type": "code",
   "execution_count": 1,
   "metadata": {},
   "outputs": [
    {
     "name": "stdout",
     "output_type": "stream",
     "text": [
      "1\n",
      "2\n",
      "3 4 5 6 7 8\n"
     ]
    }
   ],
   "source": [
    "# python 有趣灵活的变量定义\n",
    "\n",
    "first, second, *rest = (1,2,3,4,5,6,7,8)\n",
    "print(first)\n",
    "print(second)\n",
    "print(*rest)"
   ]
  },
  {
   "cell_type": "code",
   "execution_count": 28,
   "metadata": {},
   "outputs": [
    {
     "name": "stdout",
     "output_type": "stream",
     "text": [
      "4\n",
      "3\n"
     ]
    }
   ],
   "source": [
    "# python 交换变量\n",
    "\n",
    "a, b = 3, 4\n",
    "a, b = b, a \n",
    "print(a)\n",
    "print(b)"
   ]
  },
  {
   "cell_type": "code",
   "execution_count": null,
   "metadata": {
    "collapsed": true
   },
   "outputs": [],
   "source": []
  }
 ],
 "metadata": {
  "anaconda-cloud": {},
  "kernelspec": {
   "display_name": "Python 3",
   "language": "python",
   "name": "python3"
  },
  "language_info": {
   "codemirror_mode": {
    "name": "ipython",
    "version": 3
   },
   "file_extension": ".py",
   "mimetype": "text/x-python",
   "name": "python",
   "nbconvert_exporter": "python",
   "pygments_lexer": "ipython3",
   "version": "3.7.6"
  }
 },
 "nbformat": 4,
 "nbformat_minor": 1
}
