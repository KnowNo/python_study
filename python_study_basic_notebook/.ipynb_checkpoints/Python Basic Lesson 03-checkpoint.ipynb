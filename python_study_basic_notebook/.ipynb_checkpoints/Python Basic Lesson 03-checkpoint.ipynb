{
 "cells": [
  {
   "cell_type": "markdown",
   "metadata": {},
   "source": [
    "# Lesson 3\n",
    "\n",
    "v1.0.0, 2016.12 by David Yi   \n",
    "v1.0.1, 2017.02 modified by Yimeng Zhang  \n",
    "v1.1, 2020.4 edit by David Yi\n",
    "\n",
    "    \n",
    "### 本次内容要点\n",
    "\n",
    "* 常用数据类型 \n",
    "    * 字符串\n",
    "    * list 用法\n",
    "    * dict 用法\n",
    "    * tuple 用法\n",
    "* 思考\n",
    "    * 中文分词介绍"
   ]
  },
  {
   "cell_type": "markdown",
   "metadata": {},
   "source": [
    "## 字符串\n",
    "\n",
    "字符串即有序的字符的集合，用来存储或表现基于文本的信息。在程序开发中字符串被广泛使用。"
   ]
  },
  {
   "cell_type": "code",
   "execution_count": 24,
   "metadata": {},
   "outputs": [
    {
     "name": "stdout",
     "output_type": "stream",
     "text": [
      "spam\n"
     ]
    }
   ],
   "source": [
    "a = 'spam' # 单引号\n",
    "print(a)"
   ]
  },
  {
   "cell_type": "code",
   "execution_count": 9,
   "metadata": {},
   "outputs": [
    {
     "name": "stdout",
     "output_type": "stream",
     "text": [
      "spam\n",
      "spam's log\n"
     ]
    }
   ],
   "source": [
    "a = \"spam\" # 双引号\n",
    "print(a)\n",
    "b = \"spam's log\"\n",
    "print(b)"
   ]
  },
  {
   "cell_type": "code",
   "execution_count": 14,
   "metadata": {},
   "outputs": [
    {
     "name": "stdout",
     "output_type": "stream",
     "text": [
      "multile lines\n",
      "this is an example\n"
     ]
    }
   ],
   "source": [
    "# 多行字符串\n",
    "a = '''multile lines\n",
    "this is an example'''\n",
    "print(a)"
   ]
  },
  {
   "cell_type": "code",
   "execution_count": 12,
   "metadata": {},
   "outputs": [
    {
     "name": "stdout",
     "output_type": "stream",
     "text": [
      "a\n",
      "b\tc\n"
     ]
    }
   ],
   "source": [
    "s = 'a\\nb\\tc'  # 转义字符串\n",
    "print(s)"
   ]
  },
  {
   "cell_type": "code",
   "execution_count": 1,
   "metadata": {},
   "outputs": [
    {
     "name": "stdout",
     "output_type": "stream",
     "text": [
      "C:\n",
      "ew\text.txt\n",
      "C:\\new\\text.txt\n"
     ]
    }
   ],
   "source": [
    "# 原始字符串\n",
    "a = 'C:\\new\\text.txt'\n",
    "print(a)\n",
    "b = r'C:\\new\\text.txt'\n",
    "print(b)"
   ]
  },
  {
   "cell_type": "code",
   "execution_count": 3,
   "metadata": {},
   "outputs": [
    {
     "name": "stdout",
     "output_type": "stream",
     "text": [
      "ABC.txt123\n",
      "ABC.txtABC.txt\n",
      "A\n",
      "t\n",
      "txt.CBA\n",
      "AB\n",
      "7\n",
      "abc.txt\n",
      "ABC.TXT\n",
      "True\n",
      "True\n"
     ]
    }
   ],
   "source": [
    "# 常用的字符串表达式\n",
    "s = 'ABC.txt'\n",
    "print(s + '123')  # 字符串拼接\n",
    "print(s * 2)  # 重复\n",
    "print(s[0])  # 索引\n",
    "print(s[-1])\n",
    "print(s[::-1])  # 反转\n",
    "print(s[0:2]) # 切片\n",
    "print(len(s))  # 长度\n",
    "print(s.lower()) # 小写转换\n",
    "print(s.upper()) # 大写转换\n",
    "print(s.endswith('.txt'))  # 后缀测试\n",
    "print('AB' in s) # 成员关系测试"
   ]
  },
  {
   "cell_type": "markdown",
   "metadata": {
    "collapsed": true
   },
   "source": [
    "---\n",
    "\n",
    "##  列表\n",
    "\n",
    "列表 list 是 Python 内置的一种数据类型。list是一种可变、有序的集合，可以随时添加和删除其中的元素。\n",
    "列表是 Python 程序中最常用的数据类型之一，掌握列表的用法会大大提升 Python 的开发能力。\n",
    "\n",
    "列表的基本操作：\n",
    "* 创建列表\n",
    "* 访问列表中的元素\n",
    "* 增加元素\n",
    "* 删除元素\n",
    "* 排序\n",
    "* 多维\n",
    "* 保存和载入\n",
    "\n",
    "list 中除了保存一般的数字、字符以外，可以存储 Python 中各种复杂的数据类型，包括 list 本身、对象等。"
   ]
  },
  {
   "cell_type": "code",
   "execution_count": 13,
   "metadata": {},
   "outputs": [
    {
     "name": "stdout",
     "output_type": "stream",
     "text": [
      "['pig', 'cat', 'dog']\n",
      "cat\n",
      "dog\n"
     ]
    }
   ],
   "source": [
    "# 创建列表\n",
    "\n",
    "a = ['pig', 'cat', 'dog']\n",
    "\n",
    "print(a)\n",
    "\n",
    "# 用序号访问列表中的元素，支持双向\n",
    "print(a[1])\n",
    "print(a[-1])"
   ]
  },
  {
   "cell_type": "code",
   "execution_count": 18,
   "metadata": {},
   "outputs": [
    {
     "name": "stdout",
     "output_type": "stream",
     "text": [
      "['bird']\n",
      "['bird', 'snake']\n",
      "['sheep', 'bird', 'snake']\n"
     ]
    }
   ],
   "source": [
    "# 列表初始化\n",
    "a = []\n",
    "\n",
    "# 列表末尾追加元素\n",
    "a.append('bird')\n",
    "print(a)\n",
    "a.append('snake')\n",
    "print(a)\n",
    "\n",
    "# 列表指定位置插入元素\n",
    "a.insert(0,'sheep')\n",
    "print(a)"
   ]
  },
  {
   "cell_type": "code",
   "execution_count": 19,
   "metadata": {},
   "outputs": [
    {
     "name": "stdout",
     "output_type": "stream",
     "text": [
      "['sheep', 'snake']\n"
     ]
    }
   ],
   "source": [
    "# 列表删除指定序号的元素\n",
    "a.pop(1)\n",
    "print(a)"
   ]
  },
  {
   "cell_type": "code",
   "execution_count": 20,
   "metadata": {},
   "outputs": [
    {
     "name": "stdout",
     "output_type": "stream",
     "text": [
      "['pig', 'cat']\n"
     ]
    }
   ],
   "source": [
    "# 列表删除指定内容的元素\n",
    "\n",
    "a = ['pig', 'cat', 'dog']\n",
    "a.remove('dog')\n",
    "print(a)"
   ]
  },
  {
   "cell_type": "code",
   "execution_count": 4,
   "metadata": {},
   "outputs": [
    {
     "name": "stdout",
     "output_type": "stream",
     "text": [
      "['snake', 'pig', 'dog', 'cat']\n"
     ]
    }
   ],
   "source": [
    "# 列表排序\n",
    "\n",
    "a = ['pig', 'cat', 'dog', 'snake']\n",
    "a.sort(reverse = True)\n",
    "print(a)"
   ]
  },
  {
   "cell_type": "code",
   "execution_count": 5,
   "metadata": {},
   "outputs": [
    {
     "name": "stdout",
     "output_type": "stream",
     "text": [
      "[4, 3, 2, 1]\n"
     ]
    }
   ],
   "source": [
    "# 列表数字排序\n",
    "\n",
    "a = [1,2,3,4]\n",
    "a.sort(reverse = True)\n",
    "print(a)"
   ]
  },
  {
   "cell_type": "code",
   "execution_count": 22,
   "metadata": {},
   "outputs": [
    {
     "name": "stdout",
     "output_type": "stream",
     "text": [
      "['cat', 'dog', 'pig', 'snake', ['cat1', 'cat2', 'cat3']]\n"
     ]
    }
   ],
   "source": [
    "# 列表追加另一个列表\n",
    "# 使用 append 一个列表的话，这个列表会以一个元素的方式追加到原来列表\n",
    "\n",
    "b = ['cat1', 'cat2', 'cat3']\n",
    "a.append(b)\n",
    "print(a)"
   ]
  },
  {
   "cell_type": "code",
   "execution_count": 23,
   "metadata": {},
   "outputs": [
    {
     "name": "stdout",
     "output_type": "stream",
     "text": [
      "['pig', 'cat', 'dog', 'snake', 'cat1', 'cat2', 'cat3']\n"
     ]
    }
   ],
   "source": [
    "# 列表追加另一个列表的元素\n",
    "# 使用 extned 一个列表，会以元素的形式追加到原来的列表\n",
    "\n",
    "a = ['pig', 'cat', 'dog', 'snake']\n",
    "b = ['cat1', 'cat2', 'cat3']\n",
    "a.extend(b)\n",
    "print(a)"
   ]
  },
  {
   "cell_type": "code",
   "execution_count": 6,
   "metadata": {},
   "outputs": [
    {
     "name": "stdout",
     "output_type": "stream",
     "text": [
      "2\n"
     ]
    }
   ],
   "source": [
    "# 统计某个元素在列表中出现次数\n",
    "\n",
    "a = ['a','b','b','c']\n",
    "print(a.count('b'))"
   ]
  },
  {
   "cell_type": "markdown",
   "metadata": {},
   "source": [
    "---\n",
    "\n",
    "### pickle 序列化\n",
    "\n",
    "Python中可以使用 pickle 模块将对象转化为文件保存在磁盘上，在需要的时候再读取并还原。具体用法如下：\n",
    "\n",
    "```pickle.dump(obj, file[, protocol])```\n",
    "\n",
    "pickle 的格式和 Python 版本等有关，不同版本之间不兼容。比较通用的序列化方式是用 json 格式，可以跨平台、跨语言。\n"
   ]
  },
  {
   "cell_type": "code",
   "execution_count": 9,
   "metadata": {},
   "outputs": [],
   "source": [
    "# 列表内容保存\n",
    "\n",
    "# 使用 pickle 模块\n",
    "import pickle\n",
    "\n",
    "f = open('files/list_dump.txt', 'wb')\n",
    "a = ['pig', 'cat', 'dog', 'snake', 'snake']\n",
    "pickle.dump(a, f)\n",
    "f.close()"
   ]
  },
  {
   "cell_type": "code",
   "execution_count": 25,
   "metadata": {},
   "outputs": [
    {
     "name": "stdout",
     "output_type": "stream",
     "text": [
      "['pig', 'cat', 'dog', 'snake', 'snake']\n"
     ]
    }
   ],
   "source": [
    "# 列表内容读出\n",
    "\n",
    "f = open('list_dump.txt', 'rb')\n",
    "a1 = pickle.load(f)\n",
    "f.close()\n",
    "print(a1)"
   ]
  },
  {
   "cell_type": "code",
   "execution_count": 25,
   "metadata": {},
   "outputs": [
    {
     "name": "stdout",
     "output_type": "stream",
     "text": [
      "[['pig', 'cat', 'dog'], [1, 2, 3]]\n",
      "cat\n",
      "3\n"
     ]
    }
   ],
   "source": [
    "# 两维列表\n",
    "\n",
    "a = ['pig', 'cat', 'dog']\n",
    "b = [1,2,3]\n",
    "c = []\n",
    "\n",
    "c.append(a)\n",
    "c.append(b)\n",
    "\n",
    "print(c)\n",
    "\n",
    "# 第0个元素的第1个元素\n",
    "print(c[0][1]) # cat\n",
    "\n",
    "# 第1个元素的第2个元素\n",
    "print(c[1][2]) # 3"
   ]
  },
  {
   "cell_type": "code",
   "execution_count": 11,
   "metadata": {},
   "outputs": [
    {
     "name": "stdout",
     "output_type": "stream",
     "text": [
      "['pig', 'cat']\n"
     ]
    }
   ],
   "source": [
    "# 列表生成式 初步\n",
    "# 过滤列表中的重复元素\n",
    "\n",
    "b = [x for x in a if a.count(x) == 1]\n",
    "print(b)"
   ]
  },
  {
   "cell_type": "markdown",
   "metadata": {
    "collapsed": true
   },
   "source": [
    "---\n",
    "\n",
    "###  字典\n",
    "\n",
    "字典是另一种可变容器模型，可存储任意类型对象。\n",
    "\n",
    "字典的每个键值(key=>value)对用冒号(:)分割，每个对之间用逗号(,)分割，整个字典包括在花括号({})中，格式如 `d = {key1 : value1, key2 : value2 }`\n",
    "\n",
    "字典中的 key 值不可以重复（定义后也没有办法重复）\n",
    "\n",
    "字典的几个特点：\n",
    "1. 查找和插入的速度极快，不会随着key的增加而变慢；   \n",
    "2. 需要占用大量的内存，内存浪费多。   \n",
    "\n",
    "而list相反：\n",
    "1. 查找和插入的时间随着元素的增加而增加；   \n",
    "2. 占用空间小，浪费内存很少。   \n",
    "\n",
    "字典的基本操作：\n",
    "* 创建字典\n",
    "* 访问字典中的 key-value\n",
    "* 修改字典中的 key-value\n",
    "* 获得字典中指定 key 的 value\n",
    "* 删除字典中的 key"
   ]
  },
  {
   "cell_type": "code",
   "execution_count": 13,
   "metadata": {},
   "outputs": [
    {
     "name": "stdout",
     "output_type": "stream",
     "text": [
      "{'Tom': 95, 'Jerry': 90, 'Tracy': 92}\n",
      "95\n"
     ]
    }
   ],
   "source": [
    "# 定义字典\n",
    "# 访问字典中的 key-value\n",
    "\n",
    "d = {'Tom': 95, 'Jerry': 90, 'Tracy': 92}\n",
    "print(d)\n",
    "print(d['Tom'])"
   ]
  },
  {
   "cell_type": "code",
   "execution_count": 14,
   "metadata": {},
   "outputs": [
    {
     "name": "stdout",
     "output_type": "stream",
     "text": [
      "{'Tom': 95, 'Jerry': 90, 'Tracy': 92, 'Hugo': 85}\n"
     ]
    }
   ],
   "source": [
    "# 字典增加元素\n",
    "\n",
    "d['Hugo'] = 85\n",
    "print(d)"
   ]
  },
  {
   "cell_type": "code",
   "execution_count": 17,
   "metadata": {},
   "outputs": [
    {
     "name": "stdout",
     "output_type": "stream",
     "text": [
      "{'Tom': 97, 'Jerry': 90, 'Tracy': 92, 'Hugo': 85}\n",
      "True\n",
      "80\n"
     ]
    },
    {
     "ename": "KeyError",
     "evalue": "'Tommy'",
     "output_type": "error",
     "traceback": [
      "\u001b[0;31m---------------------------------------------------------------------------\u001b[0m",
      "\u001b[0;31mKeyError\u001b[0m                                  Traceback (most recent call last)",
      "\u001b[0;32m<ipython-input-17-f09cbbce6cad>\u001b[0m in \u001b[0;36m<module>\u001b[0;34m\u001b[0m\n\u001b[1;32m     10\u001b[0m \u001b[0;34m\u001b[0m\u001b[0m\n\u001b[1;32m     11\u001b[0m \u001b[0;31m# 获得字典 key 的 value\u001b[0m\u001b[0;34m\u001b[0m\u001b[0;34m\u001b[0m\u001b[0;34m\u001b[0m\u001b[0m\n\u001b[0;32m---> 12\u001b[0;31m \u001b[0mprint\u001b[0m\u001b[0;34m(\u001b[0m\u001b[0md\u001b[0m\u001b[0;34m[\u001b[0m\u001b[0;34m'Tommy'\u001b[0m\u001b[0;34m]\u001b[0m\u001b[0;34m)\u001b[0m\u001b[0;34m\u001b[0m\u001b[0;34m\u001b[0m\u001b[0m\n\u001b[0m\u001b[1;32m     13\u001b[0m \u001b[0;34m\u001b[0m\u001b[0m\n",
      "\u001b[0;31mKeyError\u001b[0m: 'Tommy'"
     ]
    }
   ],
   "source": [
    "# 修改元素的值\n",
    "d['Tom'] = 97\n",
    "print(d)\n",
    "\n",
    "# 是否存在某个 key\n",
    "print('Tom' in d)\n",
    "\n",
    "# 获得不存在的 key 的 value，设置默认值\n",
    "print(d.get('Tommy',80))\n",
    "\n",
    "# 获得不存在的 key 的 value，会报错\n",
    "print(d['Tommy'])\n",
    "\n"
   ]
  },
  {
   "cell_type": "code",
   "execution_count": 18,
   "metadata": {},
   "outputs": [
    {
     "name": "stdout",
     "output_type": "stream",
     "text": [
      "{'Tom': 95, 'Jerry': 90, 'Tracy': 92}\n",
      "{'Jerry': 90, 'Tracy': 92}\n"
     ]
    }
   ],
   "source": [
    "# 字典删除 key\n",
    "\n",
    "d = {'Tom': 95, 'Jerry': 90, 'Tracy': 92}\n",
    "print(d)\n",
    "d.pop('Tom')\n",
    "print(d)"
   ]
  },
  {
   "cell_type": "code",
   "execution_count": 19,
   "metadata": {},
   "outputs": [
    {
     "name": "stdout",
     "output_type": "stream",
     "text": [
      "{'id_0': 0, 'id_1': 3, 'id_2': 6, 'id_3': 9, 'id_4': 12, 'id_5': 15, 'id_6': 18, 'id_7': 21, 'id_8': 24, 'id_9': 27, 'id_10': 30, 'id_11': 33, 'id_12': 36, 'id_13': 39, 'id_14': 42, 'id_15': 45, 'id_16': 48, 'id_17': 51, 'id_18': 54, 'id_19': 57, 'id_20': 60, 'id_21': 63, 'id_22': 66, 'id_23': 69, 'id_24': 72, 'id_25': 75, 'id_26': 78, 'id_27': 81, 'id_28': 84, 'id_29': 87}\n",
      "30\n"
     ]
    }
   ],
   "source": [
    "# 获得字典长度\n",
    "\n",
    "d1 = {}\n",
    "for i in range(30):\n",
    "    d1['id_'+str(i)] = i*3\n",
    "print(d1)\n",
    "\n",
    "print(len(d1))"
   ]
  },
  {
   "cell_type": "markdown",
   "metadata": {
    "collapsed": true
   },
   "source": [
    "---\n",
    "\n",
    "### Tuple 元组\n",
    "\n",
    "Tuple 也是一种有序列表，在存储数据方面和 List 很相似\n",
    "Tuple 一旦内容存储后，就不能修改；这样的好处是数据很安全\n",
    "\n",
    "应用范围：在我们需要使用 list 功能的时候，但是又不需要改变这个 list 的内容，用 Tuple 元组功能会很安全，不用担心程序中不小心修改了其内容。函数传递多个参数时候，就是采用 tuple，保证参数在被调用的过程中的安全。\n",
    "\n"
   ]
  },
  {
   "cell_type": "code",
   "execution_count": 3,
   "metadata": {},
   "outputs": [
    {
     "name": "stdout",
     "output_type": "stream",
     "text": [
      "('Tom', 'Jerry', 'Mary')\n"
     ]
    }
   ],
   "source": [
    "# 创建元组\n",
    "\n",
    "t = ('Tom', 'Jerry', 'Mary')\n",
    "print(t)"
   ]
  },
  {
   "cell_type": "code",
   "execution_count": 4,
   "metadata": {},
   "outputs": [
    {
     "name": "stdout",
     "output_type": "stream",
     "text": [
      "Jerry\n"
     ]
    }
   ],
   "source": [
    "# 访问元组的元素\n",
    "\n",
    "print(t[1])"
   ]
  },
  {
   "cell_type": "code",
   "execution_count": 8,
   "metadata": {},
   "outputs": [
    {
     "ename": "AttributeError",
     "evalue": "'tuple' object has no attribute 'append'",
     "output_type": "error",
     "traceback": [
      "\u001b[1;31m---------------------------------------------------------------------------\u001b[0m",
      "\u001b[1;31mAttributeError\u001b[0m                            Traceback (most recent call last)",
      "\u001b[1;32m<ipython-input-8-e2bbceae4065>\u001b[0m in \u001b[0;36m<module>\u001b[1;34m()\u001b[0m\n\u001b[0;32m      1\u001b[0m \u001b[1;31m# 元组创建后是不能修改的\u001b[0m\u001b[1;33m\u001b[0m\u001b[1;33m\u001b[0m\u001b[0m\n\u001b[0;32m      2\u001b[0m \u001b[1;33m\u001b[0m\u001b[0m\n\u001b[1;32m----> 3\u001b[1;33m \u001b[0mt\u001b[0m\u001b[1;33m.\u001b[0m\u001b[0mappend\u001b[0m\u001b[1;33m(\u001b[0m\u001b[1;34m'Someone'\u001b[0m\u001b[1;33m)\u001b[0m\u001b[1;33m\u001b[0m\u001b[0m\n\u001b[0m",
      "\u001b[1;31mAttributeError\u001b[0m: 'tuple' object has no attribute 'append'"
     ]
    }
   ],
   "source": [
    "# 元组创建后是不能修改的\n",
    "\n",
    "t.append('Someone')"
   ]
  },
  {
   "cell_type": "code",
   "execution_count": 9,
   "metadata": {},
   "outputs": [
    {
     "ename": "TypeError",
     "evalue": "'tuple' object does not support item assignment",
     "output_type": "error",
     "traceback": [
      "\u001b[1;31m---------------------------------------------------------------------------\u001b[0m",
      "\u001b[1;31mTypeError\u001b[0m                                 Traceback (most recent call last)",
      "\u001b[1;32m<ipython-input-9-a9cd518cf863>\u001b[0m in \u001b[0;36m<module>\u001b[1;34m()\u001b[0m\n\u001b[1;32m----> 1\u001b[1;33m \u001b[0mt\u001b[0m\u001b[1;33m[\u001b[0m\u001b[1;36m1\u001b[0m\u001b[1;33m]\u001b[0m \u001b[1;33m=\u001b[0m \u001b[1;34m'aaa'\u001b[0m\u001b[1;33m\u001b[0m\u001b[0m\n\u001b[0m",
      "\u001b[1;31mTypeError\u001b[0m: 'tuple' object does not support item assignment"
     ]
    }
   ],
   "source": [
    "t[1] = 'aaa'"
   ]
  },
  {
   "cell_type": "code",
   "execution_count": 20,
   "metadata": {},
   "outputs": [
    {
     "name": "stdout",
     "output_type": "stream",
     "text": [
      "(['A', 'B', 'C'], 100, 200)\n"
     ]
    }
   ],
   "source": [
    "# 创建复杂一点的元组\n",
    "\n",
    "t1  = ['A', 'B', 'C']\n",
    "t2 =(t1, 100, 200)\n",
    "print(t2)"
   ]
  },
  {
   "cell_type": "code",
   "execution_count": 22,
   "metadata": {},
   "outputs": [
    {
     "name": "stdout",
     "output_type": "stream",
     "text": [
      "['A', 'B', 'C']\n",
      "['A', 'B', 'C', 'D']\n",
      "(['A', 'B', 'C', 'D'], 100, 200)\n"
     ]
    }
   ],
   "source": [
    "# 变通的实现\"可变\"元组内容\n",
    "print(t1)\n",
    "t1.append('D')\n",
    "print(t1)\n",
    "print(t2)  # tuple的每个元素，指向永远不变，但指向的元素本身是可变的"
   ]
  },
  {
   "cell_type": "code",
   "execution_count": 25,
   "metadata": {},
   "outputs": [
    {
     "name": "stdout",
     "output_type": "stream",
     "text": [
      "<class 'int'>\n",
      "<class 'tuple'>\n",
      "(1,)\n"
     ]
    }
   ],
   "source": [
    "# 创建只有1个元素的元组\n",
    "\n",
    "t = (1)\n",
    "print(type(t))  # l成了一个整数，因为这里的括号有歧义，被认作数学计算里的小括号\n",
    "\n",
    "# 1个元素的元组必须加逗号来消除歧义\n",
    "t = (1,)\n",
    "print(type(t))\n",
    "print(t)"
   ]
  },
  {
   "cell_type": "markdown",
   "metadata": {},
   "source": [
    "---\n",
    "\n",
    "### 练习\n",
    "\n",
    "参考 Python Basic Lesson 3 Exercise"
   ]
  },
  {
   "cell_type": "markdown",
   "metadata": {},
   "source": [
    "### 思考\n",
    "\n",
    "* 中文分词\n",
    "* 剪刀石头布"
   ]
  },
  {
   "cell_type": "code",
   "execution_count": 27,
   "metadata": {},
   "outputs": [
    {
     "name": "stdout",
     "output_type": "stream",
     "text": [
      "Full Mode: 今天/ 天上/ 上海/ 的/ 天气/ 怎么/ 怎么样\n"
     ]
    }
   ],
   "source": [
    "import jieba\n",
    "\n",
    "# 全模式\n",
    "# 把句子中所有的可以称此的词语都扫描出来，速度非常快，但是不能解决歧义\n",
    "seg_list = jieba.cut(\"今天上海的天气怎么样\", cut_all = True)\n",
    "print(\"Full Mode: \" + \"/ \".join(seg_list))  \n"
   ]
  },
  {
   "cell_type": "code",
   "execution_count": 29,
   "metadata": {},
   "outputs": [
    {
     "name": "stdout",
     "output_type": "stream",
     "text": [
      "Default Mode: 明天/ 纽约/ 下雨/ 么\n"
     ]
    }
   ],
   "source": [
    "# 精确模式\n",
    "# 试图将句子最精确的切开，适合文本分析\n",
    "seg_list = jieba.cut(\"明天纽约下雨么\", cut_all = False)\n",
    "print(\"Default Mode: \" + \"/ \".join(seg_list))  \n"
   ]
  },
  {
   "cell_type": "code",
   "execution_count": 30,
   "metadata": {},
   "outputs": [
    {
     "name": "stdout",
     "output_type": "stream",
     "text": [
      "现在, 天气, 怎么样\n"
     ]
    }
   ],
   "source": [
    "# 默认是精确模式\n",
    "seg_list = jieba.cut(\"现在天气怎么样\")  \n",
    "print(\", \".join(seg_list))\n"
   ]
  },
  {
   "cell_type": "code",
   "execution_count": null,
   "metadata": {},
   "outputs": [],
   "source": [
    "# 默认是精确模式\n",
    "seg_list = jieba.cut(\"小明硕士毕业于中国科学院计算所，后在日本京都大学深造\")  \n",
    "print(\", \".join(seg_list))\n"
   ]
  },
  {
   "cell_type": "code",
   "execution_count": 31,
   "metadata": {},
   "outputs": [
    {
     "name": "stdout",
     "output_type": "stream",
     "text": [
      "小明, 硕士, 毕业, 于, 中国, 科学, 学院, 科学院, 中国科学院, 计算, 计算所, ，, 后, 在, 日本, 京都, 大学, 日本京都大学, 深造\n"
     ]
    }
   ],
   "source": [
    "# 搜索引擎模式\n",
    "# 在精确模式的基础上，对长词再次切分，提高召回率，适合用于搜索引擎分词    \n",
    "seg_list = jieba.cut_for_search(\"小明硕士毕业于中国科学院计算所，后在日本京都大学深造\") \n",
    "print(\", \".join(seg_list))"
   ]
  },
  {
   "cell_type": "code",
   "execution_count": 32,
   "metadata": {},
   "outputs": [
    {
     "name": "stdout",
     "output_type": "stream",
     "text": [
      "2016,年,第一季度,支付,事业部,交易量,报表\n"
     ]
    }
   ],
   "source": [
    "# 默认是精确模式\n",
    "seg_list = jieba.cut(\"2016年第一季度支付事业部交易量报表\")  \n",
    "print(','.join(seg_list))"
   ]
  },
  {
   "cell_type": "code",
   "execution_count": 33,
   "metadata": {},
   "outputs": [
    {
     "name": "stdout",
     "output_type": "stream",
     "text": [
      "2016\n",
      "年\n",
      "第一季度\n",
      "支付\n",
      "事业部\n",
      "交易量\n",
      "报表\n"
     ]
    }
   ],
   "source": [
    "# 默认是精确模式\n",
    "seg_list = jieba.cut(\"2016年第一季度支付事业部交易量报表\")  \n",
    "for i in seg_list:\n",
    "    print(i)"
   ]
  },
  {
   "cell_type": "code",
   "execution_count": 34,
   "metadata": {},
   "outputs": [
    {
     "name": "stdout",
     "output_type": "stream",
     "text": [
      "我 r\n",
      "爱 v\n",
      "北京 ns\n",
      "天安门 ns\n"
     ]
    }
   ],
   "source": [
    "import jieba.posseg as pseg\n",
    "words = pseg.cut(\"我爱北京天安门\")\n",
    "\n",
    "for word, flag in words:\n",
    "    print('%s %s' % (word, flag))"
   ]
  },
  {
   "cell_type": "markdown",
   "metadata": {},
   "source": [
    "北大词性标注集\n",
    "\n",
    "Ag     形语素     形容词性语素。形容词代码为a，语素代码ｇ前面置以A。\n",
    "a       形容词      取英语形容词adjective的第1个字母。\n",
    "ad 副形词 直接作状语的形容词。形容词代码a和副词代码d并在一起。\n",
    "an 名形词 具有名词功能的形容词。形容词代码a和名词代码n并在一起。\n",
    "b       区别词      取汉字“别”的声母。\n",
    "c       连词        取英语连词conjunction的第1个字母。\n",
    "Dg     副语素     副词性语素。副词代码为d，语素代码ｇ前面置以D。\n",
    "d       副词     取adverb的第2个字母，因其第1个字母已用于形容词。\n",
    "e       叹词     取英语叹词exclamation的第1个字母。\n",
    "f        方位词      取汉字“方” 的声母。\n",
    "g  语素    绝大多数语素都能作为合成词的“词根”，取汉字“根”的声母。\n",
    "h       前接成分   取英语head的第1个字母。\n",
    "i        成语        取英语成语idiom的第1个字母。\n",
    "j        简称略语  取汉字“简”的声母。\n",
    "k       后接成分\n",
    "l        习用语     习用语尚未成为成语，有点“临时性”，取“临”的声母。\n",
    "m       数词     取英语numeral的第3个字母，n，u已有他用。\n",
    "Ng      名语素     名词性语素。名词代码为n，语素代码ｇ前面置以N。\n",
    "n        名词        取英语名词noun的第1个字母。\n",
    "nr  人名        名词代码n和“人(ren)”的声母并在一起。\n",
    "ns      地名     名词代码n和处所词代码s并在一起。\n",
    "nt      机构团体    “团”的声母为t，名词代码n和t并在一起。\n",
    "nz     其他专名    “专”的声母的第1个字母为z，名词代码n和z并在一起。 \n",
    "o       拟声词     取英语拟声词onomatopoeia的第1个字母。\n",
    "p       介词     取英语介词prepositional的第1个字母。\n",
    "q       量词        取英语quantity的第1个字母。\n",
    "r       代词        取英语代词pronoun的第2个字母,因p已用于介词。\n",
    "s       处所词     取英语space的第1个字母。\n",
    "Tg     时语素      时间词性语素。时间词代码为t,在语素的代码g前面置以T。\n",
    "t     时间词      取英语time的第1个字母。\n",
    "u       助词        取英语助词auxiliary 的第2个字母,因a已用于形容词。\n",
    "Vg     动语素      动词性语素。动词代码为v。在语素的代码g前面置以V。\n",
    "v       动词        取英语动词verb的第一个字母。\n",
    "vd     副动词      直接作状语的动词。动词和副词的代码并在一起。\n",
    "vn     名动词      指具有名词功能的动词。动词和名词的代码并在一起。\n",
    "w      标点符号   \n",
    "x       非语素字    非语素字只是一个符号，字母x通常用于代表未知数、符号。\n",
    "y       语气词      取汉字“语”的声母。\n",
    "z      状态词      取汉字“状”的声母的前一个字母。\n"
   ]
  },
  {
   "cell_type": "markdown",
   "metadata": {},
   "source": [
    "思考：\n",
    "* 怎么判断一句话的情感色彩，是褒义，还是贬义？\n",
    "* 做一个简单的对话机器人，有了上面的分词工具，是不是有一些思路？"
   ]
  }
 ],
 "metadata": {
  "anaconda-cloud": {},
  "kernelspec": {
   "display_name": "Python 3",
   "language": "python",
   "name": "python3"
  },
  "language_info": {
   "codemirror_mode": {
    "name": "ipython",
    "version": 3
   },
   "file_extension": ".py",
   "mimetype": "text/x-python",
   "name": "python",
   "nbconvert_exporter": "python",
   "pygments_lexer": "ipython3",
   "version": "3.7.6"
  }
 },
 "nbformat": 4,
 "nbformat_minor": 1
}
