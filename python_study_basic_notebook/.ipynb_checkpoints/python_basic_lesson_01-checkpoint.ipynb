{
 "cells": [
  {
   "cell_type": "markdown",
   "metadata": {},
   "source": [
    "# Lesson 1\n",
    "Python Basic, Lesson 1, \n",
    "* v1.0.1, 2016.12 by David Yi   \n",
    "* v1.0.2, 2017.2 edit by Eamon Zhang\n",
    "* v1.0.3, 2018.2 edit by David Yi\n",
    "* v1.0.4, 2018.12 edit by David Yi\n",
    "* v1.1, 2020.2,3,4 edit by David Yi\n",
    "\n",
    "### 本章内容要点\n",
    "\n",
    "* Python 简介\n",
    "    * Python 是什么\n",
    "    * 创始人\n",
    "    * 版本\n",
    "    * Python 能做什么\n",
    "    * Python 的优点和缺点\n",
    "    * Python 的设计哲学\n",
    "    * 提高编程能力的体会\n",
    "* 怎么运行 Python\n",
    "    * 使用标准的 Python 和 IDLE\n",
    "    * anaconda 介绍\n",
    "    * Jupyter Notebook介绍\n",
    "    * Pycharm 介绍\n",
    "    * Visual Studio Code 介绍\n",
    "* Python 入门 \n",
    "    * 基本变量概念\n",
    "    * print() 和 input() 用法\n",
    "    * for 循环语句和 range() 函数\n",
    "* 思考\n"
   ]
  },
  {
   "cell_type": "markdown",
   "metadata": {},
   "source": [
    "---\n",
    "\n",
    "## Python 简介\n",
    "\n",
    "### Python 是什么\n",
    "下面的定义来自维基百科，https://zh.wikipedia.org/wiki/Python\n",
    "\n",
    "Python（英国发音：/ˈpaɪθən/ 美国发音：/ˈpaɪθɑːn/），是一种广泛使用的高级编程语言，属于通用型编程语言，由吉多·范罗苏姆 创造，第一版发布于 1991 年。可以视之为一种改良 (加入一些其他编程语言的优点，如面向对象) 的 LISP。作为一种解释型语言，Python 的设计哲学强调代码的可读性和简洁的语法（尤其是使用空格缩进划分代码块，而非使用大括号或者关键词）。相比于 C++ 或 Java，Python 让开发者能够用更少的代码表达想法。不管是小型还是大型程序，该语言都试图让程序的结构清晰明了。\n",
    "\n",
    "与 Scheme、Ruby、Perl、Tcl 等动态类型编程语言一样，Python 拥有动态类型系统和垃圾回收功能，能够自动管理内存使用，并且支持多种编程范式，包括面向对象、命令式、函数式和过程式编程。其本身拥有一个巨大而广泛的标准库。\n",
    "\n",
    "Python 虚拟机本身几乎可以在所有的操作系统中运行。Python 的正式解释器CPython是用 C语言编写的、是一个由社区驱动的自由软件，目前由 Python软件基金会管理。\n",
    "\n",
    "上面这些 Python 语言的介绍，如果看了有点晕，不知所云，也没关系，不影响对 Python 的学习。\n",
    "\n",
    "### 创始人\n",
    "Python 的创始人为吉多·范罗苏姆（Guido van Rossum），是一个非常可爱的荷兰人，不像其他很多目前常用的语言的创始者都退隐江湖那样，Python 的创始者至今还是把握着Python 发展的方向。在 2018年，Rossum 宣布不再参与 Python 的发展，而是改成一个小组。在 2019 年，他又宣布退出 Python 语言的具体工作。\n",
    "\n",
    "### 版本\n",
    "Python 2.0 于 2000年10月16日发布，增加了实现完整的垃圾回收，并且支持 Unicode。同时，整个开发过程更加透明，社区对开发进度的影响逐渐扩大。目前 2.x系列的最新版本是 2.7.17，2.x系列将在 2020年4 月被停止支持。还有不少以前的项目使用 Python 2.x系列开发并且维护着，不过这几年很多新项目已经都不支持 Python 2.x 了，所以建议大家不要再学习 Python 2.x 了。对于现在学习 Python 的朋友来说，已经不太需要了解 Python 2 和 Python 3 的差异了，肯定 Python 3 要好得多，知道这个就够了。\n",
    "\n",
    "Python 3.0 于 2008年12月3日发布，此版不完全兼容之前的Python源代码。Python 3.7.x 系列发布于 2018年 10月。3.7.x 系列相比之前的 3.6.x 系列，新功能增加的频率快了不少。目前 Python 的最新稳定版本是 3.8.x 系列，3.8.1 发布于 2019年 12月。一般教学我们会用 3.7.x 或者 3.8.x 系列，在绝大多数场景下都没有什么问题，初学者不会碰到之后 3.8.x 系列支持的新特性。\n",
    "\n",
    "### Python 能做什么？\n",
    "\n",
    "Python 能做的事情很多，否则也不会在这几年这么热门。Python 是一门计算机语言，和其他编程语言各有优势，按照国外网友的一些总结，Python 在以下方面有一定优势，如果你正好是想开发相关的程序，可以更加关注一下。\n",
    "\n",
    "1. Web 开发：不管是 web 网站，还是api 接口，或者微服务，以及现在流行的 Serverless，Python 都很强大，老牌的 Python 框架 Django 和 Flask不论，近几年又涌现出相当多的 web 框架，可以非常快速的开发 web 程序。现在已经是一个线上的时代，Python 这方面与时俱进。\n",
    "\n",
    "2. 游戏开发：Python 有一个非常棒的游戏框架，叫做 Pygame，做做简单的小游戏没啥问题。\n",
    "\n",
    "3. 计算机视觉： 可以用一个通用的框架叫做 Opencv 来做很多高级的图形和视觉处理。我的团队在 2016 年的时候使用 Python+Opencv 做当时刚兴起的人脸识别、图像识别等。\n",
    "\n",
    "4. 网络爬虫： 这也是 Python 非常强悍的功能，并且几乎在所有语言中没有什么对手，这个要归功于在网络处理领域里面，Python 有两个神一般的框架 Requests 和 Scrapy，如果要进行网络爬虫的学习研究，Python 是最好的语言。\n",
    "\n",
    "5. 机器学习： 这个就不用多说了，也是目前 Python 火起来的重要原因之一，目前绝大多数机器学习的项目还是用 Python 开发，老牌的有 scikit-learn、theano、tensorflow 这些框架，这两年 PyTorch 非常火红，有后来追上的趋势。\n",
    "\n",
    "6. 数据分析： 除了机器学习以外，Python 大热的另外一个原因就是数据分析，同样有一个神级的框架，叫做 Pandas，通过极致优化的性能和易用性，凭借一己之力将 R 语言打的落花流水。\n",
    "\n",
    "等等，还有很多方面，这里就不一一列举了。\n",
    "\n",
    "### Python 的优点和缺点\n",
    "优点 \n",
    "1. 软件质量         \n",
    "注重可读性，被称作“可执行的伪代码”。比一般脚本语言高很多可维护性和可重用性。极简主义的设计思想，尽管实现一个任务可能有很多种方法，往往只有一种方法是显而易见的，明了的解决办法胜于“魔术”般的方法。\n",
    "\n",
    "2. 提高开发者的效率      \n",
    "代码大小只有C++、Java 的1/3-1/5，意味着可以输入、调试和维护更少的代码。 Python 代码是可立即执行代码，无须传统编译语言或静态语言的编译与链接步骤，意味着修改代码直接看到效果，具有快速调整能力。\n",
    "\n",
    "3. 可移植性      \n",
    "大多数 Python 程序不做任何改变即可在各类平台上运行，Windos 或者 macOS 都可以。\n",
    "\n",
    "4. 标准库/第三方库的支持      \n",
    "有众多成熟的功能模块，包括网站开发、数值计算、服务器应用、数据库应用、游戏开发、Web、人工智能等各个方面，特别是前几年 Python 在人工智能、机器学习、数据统计方面大放异彩，这也归功于一些非常优秀的第三方库。现在 Python 已经面临和 Java、JavaScript 差不多的问题了，优秀的库太多，不知道选哪一个合适。\n",
    "\n",
    "5. 组件集成      \n",
    "轻松与其他应用程序进行通信。可以调用C/C++的库，也可以被C/C++调用，也可以和 Java 集成。这几年随着像 Go 这样一些新的编译型语言发展， 很多语言都可以给 Python 写库函数。\n",
    "\n",
    "6. 简单易学，非常适合编程初学者\n",
    "支持所有现代编程语言的特性，但是也适当做了简化，在学习曲线、程序效果、程序性能上做到了较好的平衡。\n",
    "\n",
    "缺点\n",
    "1. 执行速度不够快（与 C/C++,Java 等相比）        \n",
    "Python 标准实现方式是将源代码的语句转换为字节码，再将字节码解释出来。但没有将代码编译为底层的二进制代码，所以速度比较慢。\n",
    "\n",
    "2. 本地图形化应用能力还不够\n",
    "Python 有好几种开发本地图形化应用程序的方法，但是和当年的 Visual Basic 和 Delphi 等神器相比，差距还很大。Python 开发 web 页面和服务端程序，进行数据处理和分析，人工智能建模、训练和实战，或者做一些小工具都是没问题的，但是高效率的开发漂亮的图形化应用还有一段路要走。\n",
    "\n",
    "3. 在很多领域，优秀的第三方库太多，选择困难。前面说了，这个算是甜蜜的烦恼吧\n",
    "\n",
    "v1.1 补充: 过去Python 有个缺点就是是性能不够强，相比较 Java、Go 语言等速度不够快，最近两年，Python 语言发展非常快，在 Python 3.5 版本之后，性能大大提升，用在服务端处理高并发也足够胜任，我们会在中级教程中介绍这些内容。对于一般应用，Python 的性能是足够的。"
   ]
  },
  {
   "cell_type": "markdown",
   "metadata": {},
   "source": [
    "### Python 的设计哲学\n",
    "\n",
    "Python 的设计哲学是“优雅”、“明确”、“简单”。Python 开发者的哲学是“用一种方法，最好是只有一种方法来做一件事”，也因此它和拥有明显个人风格的其他语言很不一样。在设计Python语言时，如果面临多种选择，Python 开发者一般会拒绝花俏的语法，而选择明确的、没有或者很少有歧义的语法。\n",
    "\n",
    "在 Python 解释器内运行 import this，可以看到如下的内容，称之为 Python 之禅。（之后等 Python 环境安装好之后可以看看）\n",
    "\n",
    "    The Zen of Python, by Tim Peters\n",
    "\n",
    "    Beautiful is better than ugly.\n",
    "    Explicit is better than implicit.\n",
    "    Simple is better than complex.\n",
    "    Complex is better than complicated.\n",
    "    Flat is better than nested.\n",
    "    Sparse is better than dense.\n",
    "    Readability counts.\n",
    "    Special cases aren't special enough to break the rules.\n",
    "    Although practicality beats purity.\n",
    "    Errors should never pass silently.\n",
    "    Unless explicitly silenced.\n",
    "    In the face of ambiguity, refuse the temptation to guess.\n",
    "    There should be one-- and preferably only one --obvious way to do it.\n",
    "    Although that way may not be obvious at first unless you're Dutch.\n",
    "    Now is better than never.\n",
    "    Although never is often better than *right* now.\n",
    "    If the implementation is hard to explain, it's a bad idea.\n",
    "    If the implementation is easy to explain, it may be a good idea.\n",
    "    Namespaces are one honking great idea -- let's do more of those!\n",
    "    \n",
    "Python 之禅的中文翻译如下：\n",
    "\n",
    "    优美优于丑陋，\n",
    "    明了优于隐晦；\n",
    "    简单优于复杂，\n",
    "    复杂优于凌乱，\n",
    "    扁平优于嵌套，\n",
    "    稀疏优于稠密，\n",
    "    可读性很重要！\n",
    "    即使实用比纯粹更优，\n",
    "    特例亦不可违背原则。\n",
    "    错误绝不能悄悄忽略，\n",
    "    除非它明确需要如此。\n",
    "    面对不确定性，拒绝妄加猜测。\n",
    "    任何问题应有一种，且最好只有一种，显而易见的解决方法。\n",
    "    尽管这方法一开始并非如此直观，除非你是荷兰人。\n",
    "    做优于不做，\n",
    "    然而不假思索还不如不做。\n",
    "    很难解释的，必然是坏方法。\n",
    "    很好解释的，可能是好方法。\n",
    "    命名空间是个绝妙的主意，我们应好好利用它。\n"
   ]
  },
  {
   "cell_type": "markdown",
   "metadata": {},
   "source": [
    "### 提高编程能力的体会\n",
    "\n",
    "在看这个教程的朋友，肯定是想学习 Python，看看它到底好学么？能做什么？或许也有一些创意想去实现。我们不能承诺学好 Python 之后月薪年薪多少的话，如果你想做一个程序员，或者想用程序来改变一些事情，分享一些心得体会。\n",
    "\n",
    "* 世界观和人生观\n",
    "\n",
    "我相信电脑技术是改变了世界的现在和未来，如同当年发明电、发明汽车一样，电脑从 1945 年发明到现在，也只有几十年。电脑技术还会有巨大的跃进，我们有幸可以目睹和参与这个过程。作为程序员，使用编程技术来让生活更美好、工作效率更高。我们需要不断学习，有分享精神，并不能把编程技术只是作为一个谋生工具，只是赚钱。用技术来改变世界，让世界变得更加美好。没有几个是天才，或许我们的技术能力也不是那么强，但是，信念要存在，要有理想，一砖一瓦，一起构筑高楼大厦。\n",
    "\n",
    "* 天赋和勤奋\n",
    "\n",
    "刚才说到，天才是不多的，我们需要更多的还是勤奋。每个人都有不同的天赋，有的人擅长逻辑思维，有的人语言文字能力很强。在学习编程领域里面也是，其实光是编程，从前端开发到后端设计和架构师，可以细分十几种岗位，各种各样的编程语言更是五花八门。学习的过程是艰苦的，就算再容易入门的语言，比如 Python，也是入门容易精通难，更不说那些入门也不容易的语言了。好在计算机科学家和全世界的程序员不断地在努力，降低编程语言的学习成本，提升编程语言的功能，作为学习编程，我们已经比二十年、十年前幸福多了。所以，加上你的勤奋，开始梦想。\n",
    "\n",
    "* 阅读\n",
    "\n",
    "多看书，多看文章，多看代码。现在是一个快知识的时代，很多人不太愿意静下心来看书，那么阅读还包括看一些视频教程。介质的形态并不是最重要的，与时俱进。\n",
    "\n",
    "* 实践，实践，再实践\n",
    "\n",
    "学习编程就像学习外语一样，要多实践，光是看代码是不够的。一开始可以跟着教程，将代码原原本本的输入，看看运行结果。在这个过程中，因为可能发生输入错误之类，所以可以掌握很多细节，这是非常重要的。再复杂的程序也是从一行行的基础代码开始累积的。而基本功的扎实与否在你以后的编程学习乃至工作中就会很有用处。学习到一定程度之后，可以自己写点小程序来解决一些简单问题，用程序来创造一些东西。\n",
    "\n",
    "* 提问题，会搜索\n",
    "\n",
    "编程学习中有时候会需要一些或许傻傻的问题，或许一些别人没碰到过的问题，我们可以依靠搜索引擎来寻找答案。首选 Google 来搜索，准确度高很多。程序员还有专门的搜索引擎，比如 Stack Overflow，准确度非常高，个人经验几乎所有编程问题都可以在 Stack Overflow找到答案。老外这方面比较好，愿意回答问题、分享使用经验。"
   ]
  },
  {
   "cell_type": "markdown",
   "metadata": {},
   "source": [
    "### 如何运行 Python\n",
    "\n",
    "简单的给大家介绍一下 Python 程序怎么运行，便于之后的学习\n",
    "\n",
    "* 准备工作\n",
    "* 使用标准的 Python 和 IDLE\n",
    "* anaconda 介绍\n",
    "* Jupyter Notebook\n",
    "* Jetbrain PyCharm\n",
    "* Microsoft VS Code\n",
    " "
   ]
  },
  {
   "cell_type": "markdown",
   "metadata": {},
   "source": [
    "---\n",
    "\n",
    "## 怎么运行 Python\n",
    "\n",
    "* 下载安装 Python 最新版本。除非你原来安装过Python，并且由于一些原因一定要用Python 的官方版本，从学习和一般开发角度都不推荐直接安装官方Python了。使用下面安装 anaconda 的方法比较好。\n",
    "\n",
    "* 或者下载安装 anaconda 最新版本。anaconda 是一个强大的、开源的 Python 整体解决方案，包括最新版本的 Python、jupyter等各类工具、精选的 Python 第三方库等。目前 anaconda 也包含了 Microsoft 开源的 VSCode开发工具。\n",
    "\n",
    "### 使用标准的 Python 和 IDLE\n",
    "\n",
    "首先到 Python 官网 (www.python.org) 。目前 Python 进入到了 3.8+ 系列，不建议再使用 2.x 系列了，还有不少项目习惯用 Python 2.7.x，Python 官方已经明确除了安全补丁以外，不会继续支持 2.7.x 系列，所以如果是初学者，就直接选择 Python 3，目前所有的开发工具、第三方函数包等都对 Python 3.x 版本很友好。\n",
    "\n",
    "截止 2020 年 2 月，python 最新版本是 3.8.1，而 3.9 版本也在测试中了。\n",
    "\n",
    "从 Python 官网的 download 链接开始，以 Python 3.5.1 为例，简单介绍一下如何安装。\n",
    "\n",
    "![](imgs/python_install.jpeg)\n",
    "\n",
    "Windows 操作系统只需要下载32位版本即可，对于 Python 的学习不会有任何影响，macOS 电脑下载对应的最新版本就可以了。\n",
    "\n",
    "以 Windows 操作系统举例，下载后，执行安装程序，如下：\n",
    "\n",
    "![](imgs/python_install_1.jpeg)\n",
    "\n",
    "一般情况下不用做任何修改，几分钟就安装好了，如下:\n",
    "\n",
    "![](imgs/python_install_2.jpeg)\n",
    "\n",
    "安装好后，在开始菜单找到 Python 3.8 程序组，看到其中的 IDLE(Python 3.8 32bit)，运行后就会出现下面的 Python 命令行界面：\n",
    "\n",
    "![](imgs/python_install_5.png)\n",
    "\n",
    "可以在这里进行输入 Python 程序，正确的话，会执行。\n",
    "\n",
    "![](imgs/python_install_3.jpeg)\n",
    "\n",
    "不过在这个类似 shell 的环境里面编辑复杂的 python 程序会比较麻烦，所以，可以在 shell 的 File 菜单里面选择第一项 New File，这时候，一个编辑器窗口就出现了。\n",
    "\n",
    "在编辑器里可以编写比较长的程序，选择菜单 Run 里面的 Run Module，就可以运行程序，结果会显示在一个 shell 窗口中，就像下面这样，注意在运行程序前是需要保存程序文件的。\n",
    "\n",
    "![](imgs/python_install_4.jpeg)\n"
   ]
  },
  {
   "cell_type": "markdown",
   "metadata": {},
   "source": [
    "---\n",
    "\n",
    "### anaconda 介绍\n",
    "\n",
    "![](imgs/anaconda.png)\n",
    "\n",
    "对于初学者，Python 的安装也许并不容易，尤其面临 Python 版本的问题，会浪费很多时间，甚至让人放弃的感觉，anaconda 是一种简便的安装方法，可以完美的兼容 Python 2.7 和 Python 3.x，并集成了许多 packages（第三方包），免去配置环境变量的烦恼，\n",
    "\n",
    "anaconda的优势如下：\n",
    "\n",
    "* 集成很多第三方库，省去一一下载的麻烦； \n",
    "* anaconda 的 conda 命令除了可以安装第三方库以外，还可以将 Python 环境作为安装内容的一部分，因此一台电脑上配置多个 Python 开发环境非常容易；\n",
    "* Pycharm、VSCode 等都直接支持 conda 配置；\n",
    "* 自带很多强大工具，比如数据分析、机器学习工具，还集成了微软的开发工具VSCode；\n",
    "\n",
    "anaconda的下载地址：https://www.continuum.io/downloads \n",
    "\n",
    "选择操作系统和版本就可以。国内下载 anaconda 速度比较慢，可以通过镜像地址下载：https://mirrors.tuna.tsinghua.edu.cn/anaconda/\n",
    "\n",
    "anaconda 最新版本是 2020.02 版本。\n",
    "\n",
    "有了 anaconda 之后，安装多个 Python版本、升级 Python 等都会比较容易。\n",
    "\n",
    "---\n",
    "\n",
    "### Jupyter 介绍\n",
    "\n",
    "![](imgs/jupyter.png)\n",
    "\n",
    "Jupyter Notebook(此前被称为 IPython notebook)是一个交互式笔记本。Jupyter Notebooks 是一款开源的网络应用，我们可以将其用于创建和共享代码与文档。\n",
    "\n",
    "Jupyter 提供了一个环境，无需离开这个环境，就可以在其中编写代码、运行代码、查看输出、可视化数据并查看结果。因此，这是一款可执行端到端的数据科学工作流程的便捷工具，其中包括数据清理、统计建模、构建和训练机器学习模型、可视化数据等等。当然，对于学习编程来说 Jupyter 同样是一个非常好的工具。\n",
    "\n",
    "当还处于原型开发阶段时，Jupyter Notebooks 的作用更是引人注目。因为代码是按独立单元(cell)的形式编写的，而且这些单元是独立执行的。这让用户可以测试一个项目中的特定代码块，而无需从项目开始处执行代码。对于通过 Python 来学习和探索的项目来说，特别适合。对于其他Python 比较复杂的项目开发可能 IDE 开发工具更加适合。\n",
    "\n",
    "如果安装了 anaconda，只要执行`jupyter notebook` 就可以启动 Jupyter 的服务端。或者启动 anaconda-navigator 这个图形化导航工具，来执行 Jupyter。\n",
    "\n",
    "如果没有安装 anaconda，可以执行`pip install jupyter` ，来安装 Jupyter，其实它也是 Python 的一个第三方扩展包。\n"
   ]
  },
  {
   "cell_type": "markdown",
   "metadata": {},
   "source": [
    "### Pycharm 介绍\n",
    "\n",
    "Python 的 IDE 开发环境大概至少有几十个，一般的学习、调试用 python 自带的 shell、IDLE 即可，用 jupyter notebook 也可以满足很多需求。\n",
    "\n",
    "真正的日常开发还是需要专业的编辑器，推荐 PyCharm，分为商业版本和免费的教育版本，免费版本用在一般的项目开发绰绰有余。\n",
    "\n",
    "![](imgs/pycharm_202001.png)\n",
    "\n",
    "Pycharm 目前最新版本是 2020.1，下载链接：https://www.jetbrains.com/pycharm/download/ \n",
    "\n",
    "### VS Code 介绍\n",
    "\n",
    "Visual Studio Code（简称VS Code）是一个由微软开发，同时支持Windows 、 Linux和macOS等操作系统且开放源代码的代码编辑器，它支持测试，并内置了Git 版本控制功能，同时也具有开发环境功能，例如代码补全（类似于 IntelliSense）、代码片段和代码重构等。该编辑器支持用户个性化配置，例如改变主题颜色、键盘快捷方式等各种属性和参数，同时还在编辑器中内置了扩展程序管理的功能。\n",
    "\n",
    "在2019年的Stack Overflow组织的开发者调研中，VS Code被认为是最受开发者欢迎的开发环境，据调查87317名受访者中有50.7%的受访者声称正在使用VS Code。\n",
    "\n",
    "微软还是非常强大的软件公司，隔一段时间就会有一些惊艳之作。VS Code 也是其中之一。"
   ]
  },
  {
   "cell_type": "markdown",
   "metadata": {},
   "source": [
    "---\n",
    "\n",
    "## Python 入门\n",
    "\n",
    "### 基本变量概念\n",
    "\n",
    "Python 中的变量赋值不需要类型声明。\n",
    "\n",
    "每个变量在内存中创建，都包括变量的标识，名称和数据这些信息。\n",
    "每个变量在使用前都必须赋值，变量赋值以后该变量才会被创建。\n",
    "等号（=）用来给变量赋值。\n",
    "等号（=）运算符左边是一个变量名,等号（=）运算符右边是存储在变量中的值。\n",
    "\n"
   ]
  },
  {
   "cell_type": "code",
   "execution_count": 1,
   "metadata": {},
   "outputs": [],
   "source": [
    "counter = 100  # 整型变量\n",
    "miles = 1000.0 # 浮点型（小数）\n",
    "name = \"John\"  # 字符串\n",
    "name2 = 'Tom'\n",
    "bool = False  # 布尔值\n",
    "print(type(bool))"
   ]
  },
  {
   "cell_type": "code",
   "execution_count": 2,
   "metadata": {},
   "outputs": [],
   "source": [
    "# 多个变量赋值\n",
    "\n",
    "a = b = c = 1\n",
    "b = 2 \n",
    "print(a,b,c)\n",
    "\n",
    "s = s1 = 'Hello'\n",
    "print(s,s1)"
   ]
  },
  {
   "cell_type": "code",
   "execution_count": 3,
   "metadata": {},
   "outputs": [],
   "source": [
    "# 多个变量赋值\n",
    "\n",
    "a, b, c = 1, 2, 3\n",
    "print(a,b,c)"
   ]
  },
  {
   "cell_type": "code",
   "execution_count": 4,
   "metadata": {},
   "outputs": [
    {
     "name": "stdout",
     "output_type": "stream",
     "text": [
      "2 1\n"
     ]
    }
   ],
   "source": [
    "# 交换变量\n",
    "a, b = 1, 2\n",
    "a, b = b, a\n",
    "print(a,b)"
   ]
  },
  {
   "cell_type": "markdown",
   "metadata": {},
   "source": [
    "#### 动态语言\n",
    "Python是动态语言，即变量本身的类型不固定。\n",
    "\n",
    "与之对应的静态语言（如Java），在定义变量时，必须先指定变量类型，赋值时如不匹配则报错。"
   ]
  },
  {
   "cell_type": "markdown",
   "metadata": {},
   "source": [
    "#### 理解Python变量在内存中的表示\n",
    "当我们输入 a = 'ABC' 时，Python解释器做了2件事情：\n",
    "\n",
    "1. 在内存中创建了一个'ABC'的字符串；\n",
    "\n",
    "2. 在内存中创建了一个名为a的变量，并把它指向'ABC'。\n",
    "\n",
    "也可以把一个变量a赋值给另一个变量b，这个操作实际上是把变量b指向变量a所指向的数据"
   ]
  },
  {
   "cell_type": "code",
   "execution_count": 5,
   "metadata": {},
   "outputs": [
    {
     "name": "stdout",
     "output_type": "stream",
     "text": [
      "ABC\n"
     ]
    }
   ],
   "source": [
    "a = 'ABC'\n",
    "b = a\n",
    "a = 'XYZ'\n",
    "print(b)"
   ]
  },
  {
   "cell_type": "markdown",
   "metadata": {},
   "source": [
    "---\n",
    "\n",
    "### print() 和 input() 用法\n",
    "\n",
    "print() 用来显示内容，input()用来输入内容，在类似命令行的操作中，这两条语句非常有用。电脑做的事情就是三种，输入、计算、输出。所以输入输出命令很重要，让我们迅速的了解电脑程序处理的基本原理，并且了解Python 语言的基本规则。\n",
    "\n",
    "print() 也支持格式化输出，类似于 c 语言中的 printf。"
   ]
  },
  {
   "cell_type": "code",
   "execution_count": 6,
   "metadata": {},
   "outputs": [
    {
     "name": "stdout",
     "output_type": "stream",
     "text": [
      "100\n",
      "100\n",
      "100 200 300\n"
     ]
    }
   ],
   "source": [
    "print(100)\n",
    "\n",
    "a = 100\n",
    "print(a)\n",
    "\n",
    "print(100, 200, 300)"
   ]
  },
  {
   "cell_type": "code",
   "execution_count": 7,
   "metadata": {},
   "outputs": [
    {
     "name": "stdout",
     "output_type": "stream",
     "text": [
      "name:david\n",
      "hello david\n"
     ]
    }
   ],
   "source": [
    "name = input('name:')\n",
    "print( 'hello', name) "
   ]
  },
  {
   "cell_type": "code",
   "execution_count": 8,
   "metadata": {},
   "outputs": [
    {
     "name": "stdout",
     "output_type": "stream",
     "text": [
      "small\n"
     ]
    }
   ],
   "source": [
    "a = 10\n",
    "if a > 10:\n",
    "    print('big')\n",
    "else:\n",
    "    print('small')"
   ]
  },
  {
   "cell_type": "code",
   "execution_count": 9,
   "metadata": {},
   "outputs": [
    {
     "name": "stdout",
     "output_type": "stream",
     "text": [
      "0\n",
      "1\n",
      "2\n",
      "3\n",
      "4\n",
      "5\n",
      "6\n",
      "7\n",
      "8\n",
      "9\n",
      "10\n",
      "11\n",
      "12\n"
     ]
    }
   ],
   "source": [
    "for i in range(13):\n",
    "    print(i)"
   ]
  },
  {
   "cell_type": "code",
   "execution_count": 10,
   "metadata": {},
   "outputs": [
    {
     "name": "stdout",
     "output_type": "stream",
     "text": [
      "h\n",
      "e\n",
      "l\n",
      "l\n",
      "o\n"
     ]
    }
   ],
   "source": [
    "for i in 'hello':\n",
    "    print(i)"
   ]
  },
  {
   "cell_type": "code",
   "execution_count": 11,
   "metadata": {},
   "outputs": [
    {
     "name": "stdout",
     "output_type": "stream",
     "text": [
      "The length of hello is 5\n"
     ]
    }
   ],
   "source": [
    "# 支持格式化的 print\n",
    "\n",
    "s = 'hello'\n",
    "x = len(s)  \n",
    "print('The length of %s is %d' % (s,x))  "
   ]
  },
  {
   "cell_type": "code",
   "execution_count": 12,
   "metadata": {},
   "outputs": [
    {
     "name": "stdout",
     "output_type": "stream",
     "text": [
      "hello from English\n",
      "hello from English\n"
     ]
    }
   ],
   "source": [
    "# 更加好，更加 pythonic 的写法：format函数-增强的格式化字符串函数\n",
    "# 关于format的更多细节，参见 https://docs.python.org/3/library/string.html#format-string-syntax\n",
    "# 通过关键字传参\n",
    "print('{greet} from {language}'.format(greet='hello', language='English'))\n",
    "\n",
    "# 通过位置传参\n",
    "print('{0} from {1}'.format('hello', 'English'))"
   ]
  },
  {
   "cell_type": "code",
   "execution_count": 13,
   "metadata": {},
   "outputs": [
    {
     "name": "stdout",
     "output_type": "stream",
     "text": [
      "The length of hello is 5\n"
     ]
    }
   ],
   "source": [
    "# 支持格式化的 print 的另外一种写法\n",
    "\n",
    "s = 'hello'\n",
    "x = len(s)  \n",
    "print('The length of {word} is {length}'.format(word=s,length=x))  "
   ]
  },
  {
   "cell_type": "markdown",
   "metadata": {},
   "source": [
    "---\n",
    "\n",
    "print() 格式化输出说明\n",
    "* %字符：标记转换说明符的开始\n",
    "\n",
    "* 转换标志：-表示左对齐；+表示在转换值之前要加上正负号；“”（空白字符）表示正数之前保留空格；0表示转换值若位数不够则用0填充。\n",
    "\n",
    "* 最小字段宽度：转换后的字符串至少应该具有该值指定的宽度。如果是*，则宽度会从值元组中读出。\n",
    "\n",
    "* 点(.)后跟精度值：如果转换的是实数，精度值就表示出现在小数点后的位数。如果转换的是字符串，那么该数字就表示最大字段宽度。如果是*，那么精度将从元组中读出。\n",
    "\n",
    "* 字符串格式化转换类型。\n",
    "\n",
    "转换类型          含义\n",
    "* d,i：带符号的十进制整数\n",
    "* o：不带符号的八进制\n",
    "* u：不带符号的十进制\n",
    "* x：不带符号的十六进制（小写）\n",
    "* X：不带符号的十六进制（大写）\n",
    "* e：科学计数法表示的浮点数（小写）\n",
    "* E：科学计数法表示的浮点数（大写）\n",
    "* f,F：十进制浮点数\n",
    "* g：如果指数大于-4或者小于精度值则和e相同，其他情况和f相同\n",
    "* G：如果指数大于-4或者小于精度值则和E相同，其他情况和F相同\n",
    "* C：单字符（接受整数或者单字符字符串）\n",
    "* r：字符串（使用repr转换任意python对象)\n",
    "* s：字符串（使用str转换任意python对象）"
   ]
  },
  {
   "cell_type": "code",
   "execution_count": 14,
   "metadata": {},
   "outputs": [
    {
     "name": "stdout",
     "output_type": "stream",
     "text": [
      "     3.142\n",
      "pi = 3.142\n",
      "000003.142\n",
      "3.142     \n",
      "+3.141593\n"
     ]
    }
   ],
   "source": [
    "# 格式化 print 举例\n",
    "\n",
    "pi = 3.141592653  \n",
    "\n",
    "print('%10.3f' % pi) #字段宽10，精度3 \n",
    "\n",
    "print(\"pi = %.*f\" % (3,pi)) #用*从后面的元组中读取字段宽度或精度  \n",
    "  \n",
    "print('%010.3f' % pi) #用0填充空白  \n",
    "  \n",
    "print('%-10.3f' % pi) #左对齐  \n",
    "       \n",
    "print('%+f' % pi) #显示正则表达式"
   ]
  },
  {
   "cell_type": "markdown",
   "metadata": {},
   "source": []
  },
  {
   "cell_type": "markdown",
   "metadata": {
    "collapsed": true
   },
   "source": [
    "Python 从3.6版本开始引入f-string，称为格式化字符串常量，主要目的是使格式化字符串的操作更加简便。f-string在形式上是以 f 或 F 修饰符引领的字符串（f'xxx' 或 F'xxx'），以大括号 {} 标明被替换的字段；f-string在本质上并不是字符串常量，而是一个在运行时运算求值的表达式。\n",
    "\n",
    "f-string在功能方面不逊于传统的%-formatting语句和str.format()函数，同时性能又优于二者，且使用起来也更加简洁明了，因此对于Python3.6及以后的版本，推荐使用f-string进行字符串格式化。"
   ]
  },
  {
   "cell_type": "code",
   "execution_count": 15,
   "metadata": {},
   "outputs": [
    {
     "data": {
      "text/plain": [
       "'a is      3.142'"
      ]
     },
     "execution_count": 15,
     "metadata": {},
     "output_type": "execute_result"
    }
   ],
   "source": [
    "a = 3.141592653 \n",
    "f'a is {a:10.3f}'"
   ]
  },
  {
   "cell_type": "markdown",
   "metadata": {},
   "source": [
    "---\n",
    "\n",
    "### for 循环语句和 range() 函数\n",
    "\n",
    "Python的循环主要是for...in循环，依次把list或tuple等中的每个元素迭代出来；python 也有 while 循环，一般不常用。\n",
    "\n",
    "可以理解为，`for x in ...` 循环就是把每个元素代入变量x，然后执行缩进块的语句。\n",
    "\n",
    "如果是简单的按照次数的循环，一般用 range() 函数来产生一个可以生成迭代数字的序列"
   ]
  },
  {
   "cell_type": "code",
   "execution_count": 16,
   "metadata": {},
   "outputs": [
    {
     "name": "stdout",
     "output_type": "stream",
     "text": [
      "a\n",
      "b\n",
      "c\n",
      "d\n",
      "e\n",
      "f\n"
     ]
    }
   ],
   "source": [
    "# 按照字符串进行迭代循环\n",
    "s = 'abcdef'\n",
    "for i in s:\n",
    "    print(i)"
   ]
  },
  {
   "cell_type": "code",
   "execution_count": 17,
   "metadata": {},
   "outputs": [
    {
     "name": "stdout",
     "output_type": "stream",
     "text": [
      "a\n",
      "b\n",
      "c\n"
     ]
    }
   ],
   "source": [
    "s = ['a', 'b', 'c']\n",
    "for i in s:\n",
    "    print(i)"
   ]
  },
  {
   "cell_type": "code",
   "execution_count": 18,
   "metadata": {},
   "outputs": [
    {
     "name": "stdout",
     "output_type": "stream",
     "text": [
      "0\n",
      "1\n",
      "2\n"
     ]
    }
   ],
   "source": [
    "for i in range(3):    \n",
    "    print(i)"
   ]
  },
  {
   "cell_type": "markdown",
   "metadata": {},
   "source": [
    "#### 循环语句 while    \n",
    "while循环是在Python中的循环结构之一。 while循环继续，直到表达式变为假。      \n",
    "\n",
    "表达的是一个逻辑表达式，必须返回一个true或false值。"
   ]
  },
  {
   "cell_type": "code",
   "execution_count": 19,
   "metadata": {},
   "outputs": [
    {
     "name": "stdout",
     "output_type": "stream",
     "text": [
      "The count is: 0\n",
      "The count is: 1\n",
      "The count is: 2\n",
      "The count is: 3\n",
      "The count is: 4\n",
      "The count is: 5\n",
      "The count is: 6\n",
      "The count is: 7\n",
      "The count is: 8\n",
      "Good bye!\n"
     ]
    }
   ],
   "source": [
    "count = 0\n",
    "while (count < 9):\n",
    "    print('The count is:', count)\n",
    "    count += 1\n",
    "print(\"Good bye!\")"
   ]
  },
  {
   "cell_type": "markdown",
   "metadata": {},
   "source": [
    "#### range() 函数\n",
    "\n",
    "range() 函数产生一个等差序列，range(x,y,z)，表示从 x 到 y（不含 y），z 为步长，可以为负。\n",
    "\n",
    "修改下面例子中的 range() 中的起始、结束和步长，来看看各种效果。"
   ]
  },
  {
   "cell_type": "code",
   "execution_count": 20,
   "metadata": {},
   "outputs": [
    {
     "name": "stdout",
     "output_type": "stream",
     "text": [
      "1\n",
      "4\n",
      "7\n"
     ]
    }
   ],
   "source": [
    "for i in range(1,10,3):\n",
    "    print(i)"
   ]
  },
  {
   "cell_type": "code",
   "execution_count": 21,
   "metadata": {},
   "outputs": [
    {
     "name": "stdout",
     "output_type": "stream",
     "text": [
      "10\n",
      "9\n",
      "8\n",
      "7\n",
      "6\n",
      "5\n",
      "4\n",
      "3\n"
     ]
    }
   ],
   "source": [
    "for i in range(10,2,-1):\n",
    "    print(i)"
   ]
  },
  {
   "cell_type": "code",
   "execution_count": 22,
   "metadata": {},
   "outputs": [
    {
     "name": "stdout",
     "output_type": "stream",
     "text": [
      "0 Mary \n",
      "1 had\n",
      "2 a\n",
      "3 little \n",
      "4 lamb\n"
     ]
    }
   ],
   "source": [
    "# 同时获得列表中的序号和内容，可以这样写\n",
    "# len() 是获得列表的长度，可以理解元素个数\n",
    "\n",
    "s = ['Mary ', 'had', 'a', 'little ', 'lamb']\n",
    "for i in range(len(s)):\n",
    "    print(i, s[i])"
   ]
  },
  {
   "cell_type": "code",
   "execution_count": 23,
   "metadata": {},
   "outputs": [
    {
     "name": "stdout",
     "output_type": "stream",
     "text": [
      "0 Mary \n",
      "1 had\n",
      "2 a\n",
      "3 little \n",
      "4 lamb\n"
     ]
    }
   ],
   "source": [
    "# 更加好的写法, 使用 enumerate\n",
    "\n",
    "s = ['Mary ', 'had', 'a', 'little ', 'lamb']\n",
    "for i, item in enumerate(s):\n",
    "    print(i, item)"
   ]
  },
  {
   "cell_type": "markdown",
   "metadata": {},
   "source": [
    "---\n",
    "\n",
    "### 思考\n",
    "\n",
    "* 写程序：打印一个 99 乘法表\n",
    "* 思考：写一个函数，有两个输入参数，都是字符串，判断两个参数的相似度\n",
    "* 思考：写一个简单的计算器，可以输入 1+2，4-2 这样，完成基本的四则运算\n",
    "* 思考：我们要批一下作业，要检查作业的输出结果是否正确，怎么自动化实现这个过程"
   ]
  },
  {
   "cell_type": "code",
   "execution_count": null,
   "metadata": {},
   "outputs": [],
   "source": []
  }
 ],
 "metadata": {
  "anaconda-cloud": {},
  "kernelspec": {
   "display_name": "Python 3",
   "language": "python",
   "name": "python3"
  },
  "language_info": {
   "codemirror_mode": {
    "name": "ipython",
    "version": 3
   },
   "file_extension": ".py",
   "mimetype": "text/x-python",
   "name": "python",
   "nbconvert_exporter": "python",
   "pygments_lexer": "ipython3",
   "version": "3.7.6"
  }
 },
 "nbformat": 4,
 "nbformat_minor": 2
}
