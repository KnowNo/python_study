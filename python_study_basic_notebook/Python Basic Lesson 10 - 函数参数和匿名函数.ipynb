{
 "cells": [
  {
   "cell_type": "markdown",
   "metadata": {},
   "source": [
    "# Lesson 10\n",
    "\n",
    "* Python Basic, Lesson 4, v1.0.1, 2016.12 by David.Yi      \n",
    "* Python Basic, Lesson 4, v1.0.2, 2017.03 modified by Yimeng.Zhang\n",
    "* v1.1, 2020.4 5，edit by David Yi\n",
    "\n",
    "    \n",
    "### 本次内容要点\n",
    "\n",
    "* 函数不同参数形式\n",
    "* 匿名函数\n",
    "* 思考一下：函数可变参数练习"
   ]
  },
  {
   "cell_type": "markdown",
   "metadata": {
    "collapsed": true
   },
   "source": [
    "## 函数不同参数形式\n",
    "\n",
    "### 位置参数和默认参数\n",
    "\n",
    "位置参数：必须按照顺序准确传递，如果数量和顺序不对，就会可能造成程序错误；调用函数时候，如果写了参数名称，那么位置就不重要了； \n",
    "\n",
    "默认参数：在参数申明的时候跟一个用于默认值的赋值语句，如果调用函数的时候没有给出值，那么这个赋值语句就执行；\n",
    "\n",
    "注意：所有必须的参数要在默认参数之前；\n",
    "\n",
    "默认参数的好处：\n",
    "* 减少程序复杂度\n",
    "* 降低程序错误可能性\n",
    "* 更好的兼容性\n",
    "\n",
    "### 可变长度的参数-元组和字典\n",
    "\n",
    "可变长度的参数，分为不提供关键字和提供关键字两种模式，分别为元组 tuple 和字典 dict；\n",
    "\n",
    "可变长度的参数，如果是提供关键字，就是字典 dict，需要提供 key – value；\n",
    "\n",
    "将字典作为参数传递的时候，可以直接传一个字典变量，也可以在参数列表中写明 key 和 value。\n",
    "\n",
    "\n",
    "函数参数小结\n",
    "\n",
    "* 位置参数\n",
    "* 默认参数\n",
    "* 元组参数，一个星号\n",
    "* 字典参数，两个星号，需要传递 key 和 value"
   ]
  },
  {
   "cell_type": "code",
   "execution_count": 17,
   "metadata": {},
   "outputs": [
    {
     "name": "stdout",
     "output_type": "stream",
     "text": [
      "110.0\n",
      "120.0\n",
      "130.0\n"
     ]
    }
   ],
   "source": [
    "# 函数默认参数\n",
    "\n",
    "def cal_0(money, rate=0.1):\n",
    "    return money + money * rate \n",
    "\n",
    "print(cal_0(100))\n",
    "print(cal_0(100,0.2))\n",
    "print(cal_0(rate=0.3,money=100))"
   ]
  },
  {
   "cell_type": "code",
   "execution_count": 25,
   "metadata": {},
   "outputs": [
    {
     "name": "stdout",
     "output_type": "stream",
     "text": [
      "61000\n",
      "62000\n",
      "52000\n"
     ]
    }
   ],
   "source": [
    "# 函数默认参数\n",
    "\n",
    "def cal_1(money, bonus=1000, month=12，a=1, b=2):\n",
    "    i = money * month + bonus \n",
    "    return i\n",
    "\n",
    "print(cal_1(5000))\n",
    "print(cal_1(5000, 2000))\n",
    "print(cal_1(5000, 2000, 10))"
   ]
  },
  {
   "cell_type": "code",
   "execution_count": null,
   "metadata": {
    "collapsed": true
   },
   "outputs": [],
   "source": [
    "# 画一个三角形 ，n=高度\n",
    "'''\n",
    "       *\n",
    "      ***\n",
    "     *****\n",
    "    *******\n",
    "   *********\n",
    "  ***********\n",
    " *************\n",
    "\n",
    "''' "
   ]
  },
  {
   "cell_type": "code",
   "execution_count": 1,
   "metadata": {},
   "outputs": [
    {
     "name": "stdout",
     "output_type": "stream",
     "text": [
      "    \n",
      "   *\n",
      "  ***\n",
      " *****\n"
     ]
    }
   ],
   "source": [
    "# 函数默认参数\n",
    "\n",
    "def draw_triangle(n=5):\n",
    "\n",
    "    for i in range(n+1):\n",
    "        print(' '*(n-i),'*'*(2*i-1))\n",
    "        \n",
    "draw_triangle(3)"
   ]
  },
  {
   "cell_type": "code",
   "execution_count": 2,
   "metadata": {},
   "outputs": [
    {
     "name": "stdout",
     "output_type": "stream",
     "text": [
      "        \n",
      "       *\n",
      "      ***\n",
      "     *****\n",
      "    *******\n",
      "   *********\n",
      "  ***********\n",
      " *************\n"
     ]
    }
   ],
   "source": [
    "draw_triangle(7)"
   ]
  },
  {
   "cell_type": "code",
   "execution_count": 3,
   "metadata": {
    "scrolled": true
   },
   "outputs": [
    {
     "name": "stdout",
     "output_type": "stream",
     "text": [
      "2.5\n"
     ]
    }
   ],
   "source": [
    "# 函数可变长度的参数 元组\n",
    "\n",
    "# 计算平均数\n",
    "def cal_2(kind, *numbers):\n",
    "    if kind == 'avg':\n",
    "        n = 0\n",
    "        for i in numbers:\n",
    "            n = n + i\n",
    "        return n / len(numbers)\n",
    "\n",
    "t = cal_2('avg', 1,2,3,4)\n",
    "print(t)"
   ]
  },
  {
   "cell_type": "code",
   "execution_count": 4,
   "metadata": {},
   "outputs": [
    {
     "name": "stdout",
     "output_type": "stream",
     "text": [
      "2.5\n",
      "10\n",
      "10\n"
     ]
    }
   ],
   "source": [
    "# 函数可变长度的参数 元组\n",
    "# 输入计算的类别，输入要计算的数字\n",
    "\n",
    "def cal_3(kind, *numbers):\n",
    "    \n",
    "    if kind == 'avg':\n",
    "        n = 0\n",
    "        for i in numbers:\n",
    "            n = n + i\n",
    "        return n / len(numbers)\n",
    "    if kind == 'sum':\n",
    "        n = 0\n",
    "        for i in numbers:\n",
    "            n = n + i\n",
    "        return n\n",
    "    \n",
    "print(cal_3('avg', 1,2,3,4))\n",
    "print(cal_3('sum', 1,2,3,4))\n",
    "\n",
    "# 如果已经有一个list或者tuple，要要作为可变参数传给函数怎么办?\n",
    "# 在list或tuple前面加一个*号，把list或tuple的元素变成可变参数传进去：\n",
    "print(cal_3('sum',*[1,2,3,4]))"
   ]
  },
  {
   "cell_type": "code",
   "execution_count": 12,
   "metadata": {},
   "outputs": [
    {
     "name": "stdout",
     "output_type": "stream",
     "text": [
      "2.5\n",
      "10\n"
     ]
    }
   ],
   "source": [
    "# 函数可变长度的参数 元组\n",
    "# 简化程序逻辑\n",
    "\n",
    "def cal_4(kind, *numbers):\n",
    "    \n",
    "    n = 0\n",
    "    for i in numbers:\n",
    "        n = n + i\n",
    "    \n",
    "    if kind == 'avg':\n",
    "        return n / len(numbers)\n",
    "    if kind == 'sum':\n",
    "        return n\n",
    "    \n",
    "print(cal_4(kind='avg', 1,2,3,4))\n",
    "print(cal_4('sum', 1,2,3,4))"
   ]
  },
  {
   "cell_type": "code",
   "execution_count": 7,
   "metadata": {},
   "outputs": [
    {
     "name": "stdout",
     "output_type": "stream",
     "text": [
      "2.5\n",
      "10\n"
     ]
    }
   ],
   "source": [
    "# 传递元组和字典参数优雅的写法\n",
    "\n",
    "def cal_5(*numbers, **kw):\n",
    "    \n",
    "    # 判断是否有 kind 这个 key\n",
    "    if 'kind' in kw:\n",
    "        kind_value = kw.get('kind')\n",
    "    \n",
    "    n = 0\n",
    "    for i in numbers:\n",
    "        n = n + i\n",
    "        \n",
    "    if kind_value == 'avg':\n",
    "        return n / len(numbers)\n",
    "    if kind_value == 'sum':\n",
    "        return n\n",
    "    \n",
    "print(cal_5(1,2,3,4,kind='avg',max='ignore'))\n",
    "print(cal_5(1,2,3,4,kind='sum'))"
   ]
  },
  {
   "cell_type": "markdown",
   "metadata": {},
   "source": [
    "---\n",
    "\n",
    "## 匿名函数\n",
    "\n",
    "Python 允许用 lambda 关键字创造匿名函数。\n",
    "lambda 匿名函数不需要常规函数的 def 和 return 关键字，因为匿名函数代码较短，因此适用于一些简单处理运算的场景。"
   ]
  },
  {
   "cell_type": "code",
   "execution_count": 2,
   "metadata": {},
   "outputs": [
    {
     "data": {
      "text/plain": [
       "3"
      ]
     },
     "execution_count": 2,
     "metadata": {},
     "output_type": "execute_result"
    }
   ],
   "source": [
    "# 等价的函数一般写法和匿名函数写法\n",
    "\n",
    "def add(x, y):\n",
    "    return x + y\n",
    "\n",
    "a = lambda x, y: x + y\n",
    "a(1,2)"
   ]
  },
  {
   "cell_type": "code",
   "execution_count": 3,
   "metadata": {},
   "outputs": [
    {
     "data": {
      "text/plain": [
       "5"
      ]
     },
     "execution_count": 3,
     "metadata": {},
     "output_type": "execute_result"
    }
   ],
   "source": [
    "# lambda 同样可以有默认参数\n",
    "\n",
    "a =  lambda x, y=2 : x + y \n",
    "a(3)"
   ]
  },
  {
   "cell_type": "code",
   "execution_count": 4,
   "metadata": {},
   "outputs": [
    {
     "data": {
      "text/plain": [
       "8"
      ]
     },
     "execution_count": 4,
     "metadata": {},
     "output_type": "execute_result"
    }
   ],
   "source": [
    "a(3, 5)"
   ]
  },
  {
   "cell_type": "code",
   "execution_count": 11,
   "metadata": {},
   "outputs": [
    {
     "name": "stdout",
     "output_type": "stream",
     "text": [
      "44\n"
     ]
    }
   ],
   "source": [
    "a = lambda x : x * x +40\n",
    "\n",
    "print(a(2))"
   ]
  },
  {
   "cell_type": "markdown",
   "metadata": {},
   "source": [
    "几个函数的例子"
   ]
  },
  {
   "cell_type": "code",
   "execution_count": 6,
   "metadata": {},
   "outputs": [
    {
     "name": "stdout",
     "output_type": "stream",
     "text": [
      "[1, 2, 5, 10]\n"
     ]
    }
   ],
   "source": [
    "# 计算一个正整数的因数\n",
    "\n",
    "def yinshu(number):\n",
    "    b = []\n",
    "    for i in range(1,number+1):\n",
    "        if number % i == 0:\n",
    "            b.append(i)\n",
    "    return b\n",
    "\n",
    "print(yinshu(10))"
   ]
  },
  {
   "cell_type": "code",
   "execution_count": 4,
   "metadata": {},
   "outputs": [
    {
     "name": "stdout",
     "output_type": "stream",
     "text": [
      "20\n",
      "-3\n"
     ]
    }
   ],
   "source": [
    "# 找到最大数 #1\n",
    "\n",
    "def find_max(l):\n",
    "    \n",
    "    # max = float('-inf') 表示负无穷大\n",
    "    max = float('-inf')\n",
    "    for x in l:\n",
    "        if x > max:\n",
    "            max = x\n",
    "    return max\n",
    "\n",
    "print(find_max([-20,1,6,7,20,5]))\n",
    "print(find_max([-20,-3,-6,-7,-5]))"
   ]
  },
  {
   "cell_type": "code",
   "execution_count": 5,
   "metadata": {},
   "outputs": [
    {
     "name": "stdout",
     "output_type": "stream",
     "text": [
      "20\n"
     ]
    }
   ],
   "source": [
    "# 找到最大数 #2\n",
    "# 使用递归\n",
    "\n",
    "def find_max(l):\n",
    "    if len(l) == 1:\n",
    "        return l[0]\n",
    "    v1 = l[0]\n",
    "    v2 = find_max(l[1:])\n",
    "    if v1 > v2:\n",
    "        return v1\n",
    "    else:\n",
    "        return v2\n",
    "\n",
    "print(find_max([1,6,7,20,5]))"
   ]
  },
  {
   "cell_type": "markdown",
   "metadata": {},
   "source": [
    "## 思考一下\n",
    "\n",
    "函数可变参数练习，参数 kind 中增加 max 这个key，如果设置为 ignore，则输入的数字中的最大数忽略"
   ]
  },
  {
   "cell_type": "code",
   "execution_count": 3,
   "metadata": {},
   "outputs": [
    {
     "name": "stdout",
     "output_type": "stream",
     "text": [
      "2.0\n",
      "2.5\n",
      "10\n"
     ]
    }
   ],
   "source": [
    "# kind 中 增加 max key， \n",
    "# max = ingnore， 则忽略最大值\n",
    "def cal_6(*numbers, **kind):\n",
    "    \n",
    "    if 'kind' in kind:\n",
    "        kind_value = kind.get('kind')\n",
    "        \n",
    "    if 'max' in kind:\n",
    "        if kind.get('max') == 'ignore':\n",
    "            numbers = list(numbers)\n",
    "            numbers.remove(max(numbers))\n",
    "    \n",
    "    n = 0\n",
    "    for i in numbers:\n",
    "        n = n + i\n",
    "        \n",
    "    if kind_value == 'avg':\n",
    "        return n / len(numbers)\n",
    "    if kind_value == 'sum':\n",
    "        return n\n",
    "    \n",
    "print(cal_6(1,2,3,4, kind='avg', max='ignore',min='ignore'))\n",
    "print(cal_6(1,2,3,4, kind='avg'))\n",
    "print(cal_6(1,2,3,4, kind='sum'))"
   ]
  },
  {
   "cell_type": "code",
   "execution_count": 4,
   "metadata": {},
   "outputs": [
    {
     "name": "stdout",
     "output_type": "stream",
     "text": [
      "1.75\n",
      "2.5\n",
      "10\n"
     ]
    }
   ],
   "source": [
    "# kind 中 增加 min key，\n",
    "# min key = double, 则最小值计算两次\n",
    "\n",
    "def cal_7(*numbers, **kw):\n",
    "    \n",
    "    numbers = list(numbers)\n",
    "    \n",
    "    if 'kind' in kw:\n",
    "        kind_value = kw.get('kind')\n",
    "        \n",
    "    if 'max' in kw:\n",
    "        if kw.get('max') == 'ignore':\n",
    "            numbers.remove(max(numbers))\n",
    "\n",
    "    if 'min' in kw:\n",
    "        if kw.get('min') == 'double':\n",
    "            numbers.append(min(numbers))\n",
    "            \n",
    "    n = 0\n",
    "    for i in numbers:\n",
    "        n = n + i\n",
    "        \n",
    "    if kind_value == 'avg':\n",
    "        return n / len(numbers)\n",
    "    if kind_value == 'sum':\n",
    "        return n\n",
    "    \n",
    "print(cal_7(1,2,3,4, kind='avg', max='ignore', min='double'))\n",
    "print(cal_7(1,2,3,4, kind='avg'))\n",
    "print(cal_7(1,2,3,4, kind='sum'))"
   ]
  },
  {
   "cell_type": "code",
   "execution_count": null,
   "metadata": {},
   "outputs": [],
   "source": []
  }
 ],
 "metadata": {
  "kernelspec": {
   "display_name": "Python 3",
   "language": "python",
   "name": "python3"
  },
  "language_info": {
   "codemirror_mode": {
    "name": "ipython",
    "version": 3
   },
   "file_extension": ".py",
   "mimetype": "text/x-python",
   "name": "python",
   "nbconvert_exporter": "python",
   "pygments_lexer": "ipython3",
   "version": "3.7.6"
  }
 },
 "nbformat": 4,
 "nbformat_minor": 4
}
