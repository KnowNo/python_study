{
 "cells": [
  {
   "cell_type": "markdown",
   "metadata": {},
   "source": [
    "# Lesson 13\n",
    "\n",
    "* v1.0.0 2016.11 by David.Yi\n",
    "* v1.1 2020.5 edit by David Yi\n",
    "\n",
    "\n",
    "## 本次内容要点\n",
    "* for break continue else：完整的 for 语句结构 \n",
    "* pprint 高级打印模块使用\n",
    "* 思考一下：\n",
    "    * 简单的四则运算器实现\n",
    "    * 更加通用的四则运算器实现"
   ]
  },
  {
   "cell_type": "markdown",
   "metadata": {},
   "source": [
    "---\n",
    "\n",
    "## 完整的 for 语句结构\n",
    "\n",
    "* for continue\n",
    "* for break\n",
    "* for else\n",
    "\n",
    "\n",
    "* continue 语句跳出本次循环，而 break 跳出整个循环;\n",
    "* continue 语句用来告诉 Python 跳过当前循环的剩余语句，然后继续进行下一轮循环;\n",
    "* continue 语句可以用在 while 和 for 循环中;\n",
    "\n",
    "break 语句用来终止循环语句。\n",
    "\n",
    "else 语句会在循环正常执行完（即 for 不是通过 break 跳出而中断的）的情况下执行。"
   ]
  },
  {
   "cell_type": "code",
   "execution_count": 1,
   "metadata": {
    "scrolled": true
   },
   "outputs": [
    {
     "name": "stdout",
     "output_type": "stream",
     "text": [
      "letter: P\n",
      "letter: y\n",
      "letter: t\n",
      "letter: o\n",
      "letter: n\n"
     ]
    }
   ],
   "source": [
    "# for continue 举例\n",
    "\n",
    "for l in 'Python':\n",
    "    if l == 'h':\n",
    "        continue\n",
    "    print('letter:', l)"
   ]
  },
  {
   "cell_type": "code",
   "execution_count": null,
   "metadata": {
    "scrolled": true
   },
   "outputs": [],
   "source": [
    "# for continue 举例\n",
    "# 去除输入的内容中的元音字母\n",
    "\n",
    "list1 = input('Input:')\n",
    "\n",
    "list2 = []\n",
    "\n",
    "for s in list1:\n",
    "    if s in ['a','e','i','o','u']:\n",
    "        continue\n",
    "    list2.append(s)\n",
    "\n",
    "# 将列表转换为字符串\n",
    "s2 = ''.join(list2)\n",
    "print('Output:', s2)"
   ]
  },
  {
   "cell_type": "code",
   "execution_count": null,
   "metadata": {},
   "outputs": [],
   "source": [
    "# for break else 举例\n",
    "# 判断质数\n",
    "\n",
    "import time\n",
    "\n",
    "a = time.time()\n",
    "\n",
    "for num in range(3,20):\n",
    "    for i in range(2,num): \n",
    "        if num%i == 0:      \n",
    "            j=num/i          \n",
    "            print(num,i,'*',j)\n",
    "            break            \n",
    "    else:                  \n",
    "        print(num, '是质数')\n",
    "        \n",
    "b = time.time()\n",
    "print(b-a)"
   ]
  },
  {
   "cell_type": "markdown",
   "metadata": {},
   "source": [
    "---\n",
    "## pprint() 介绍\n",
    "\n",
    "pprint module提供了可以按照某个格式正确的显示 Python 已知类型数据的一种方法，这种格式很易读。"
   ]
  },
  {
   "cell_type": "code",
   "execution_count": null,
   "metadata": {},
   "outputs": [],
   "source": [
    "import sys\n",
    "print(sys.path)"
   ]
  },
  {
   "cell_type": "code",
   "execution_count": null,
   "metadata": {},
   "outputs": [],
   "source": [
    "import sys\n",
    "import pprint\n",
    "pprint.pprint(sys.path)"
   ]
  },
  {
   "cell_type": "code",
   "execution_count": null,
   "metadata": {
    "scrolled": true
   },
   "outputs": [],
   "source": [
    "# jupyter notebook 中直接显示一些变量的结果就和采用了 pprint 的方法\n",
    " \n",
    "import sys\n",
    "sys.path"
   ]
  },
  {
   "cell_type": "code",
   "execution_count": null,
   "metadata": {},
   "outputs": [],
   "source": [
    "import sys\n",
    "print(type(sys.path))"
   ]
  },
  {
   "cell_type": "markdown",
   "metadata": {
    "collapsed": true
   },
   "source": [
    "## 思考一下\n",
    "\n",
    "简单的四则运算器，想一下怎么实现。"
   ]
  },
  {
   "cell_type": "code",
   "execution_count": null,
   "metadata": {},
   "outputs": [],
   "source": [
    "# 简单四则计算器代码，下面代码参考 https://www.jianshu.com/p/c22bfd91df49\n",
    "\n",
    "def calculate():\n",
    "     operation = input('''\n",
    "     please type in the math operation you would like to complete:\n",
    "     + for addition\n",
    "     - for subtraction\n",
    "     * for multiplication\n",
    "     / for division\n",
    "     ''')\n",
    "     number_1 = float(input('Please enter the first number: '))\n",
    "     number_2 = float(input('Please enter the second number: '))\n",
    "     if operation == '+': \n",
    "          print('{} + {} = {} '.format(number_1, number_2,number_1 + number_2))          \n",
    "                                    \n",
    "     elif operation == '-':\n",
    "          print('{} - {} = {} '.format(number_1,number_2,number_1 - number_2))\n",
    "     elif operation == '*':                                      \n",
    "          print('{} * {} = {} '.format(number_1, number_2,number_1 * number_2))\n",
    "     elif operation == '/' and number_2 != 0:                                      \n",
    "          print('{} / {} = {} '.format(number_1, number_2,number_1 / number_2))\n",
    "     else:\n",
    "          print('You have not typed a valid operator, please run the program again.')\n",
    "\n",
    "\n",
    "calculate()"
   ]
  },
  {
   "cell_type": "markdown",
   "metadata": {},
   "source": [
    "如果你对使用 python 来构造一种语言，比如适用一些场景的 DSL 感兴趣，如果你觉得 lex 和 yacc 这些编译原理中的概念感兴趣的话，可以参考这里：https://www.dabeaz.com/software.html\n",
    "\n",
    "Python 下有很多优秀的包，都可以来实现语言定义和解析，但是 ply 是其中最经典的包，从2001年诞生至今，一致在维护更新，并且不断发展。\n",
    "\n",
    "下面这个是 ply 自己带的例子，用来实现一个比较完整的计算器。因为是通过语法分析的方式实现，会比较费解，但是功能强大，并且容易扩充。"
   ]
  },
  {
   "cell_type": "code",
   "execution_count": null,
   "metadata": {
    "scrolled": true
   },
   "outputs": [],
   "source": [
    "# -----------------------------------------------------------------------------\n",
    "# calc.py\n",
    "#\n",
    "# A simple calculator with variables -- all in one file.\n",
    "# -----------------------------------------------------------------------------\n",
    "\n",
    "tokens = (\n",
    "    'NAME', 'NUMBER',\n",
    "    'PLUS', 'MINUS', 'TIMES', 'DIVIDE', 'EQUALS',\n",
    "    'LPAREN', 'RPAREN',\n",
    ")\n",
    "\n",
    "# Tokens\n",
    "\n",
    "t_PLUS = r'\\+'\n",
    "t_MINUS = r'-'\n",
    "t_TIMES = r'\\*'\n",
    "t_DIVIDE = r'/'\n",
    "t_EQUALS = r'='\n",
    "t_LPAREN = r'\\('\n",
    "t_RPAREN = r'\\)'\n",
    "t_NAME = r'[a-zA-Z_][a-zA-Z0-9_]*'\n",
    "\n",
    "\n",
    "def t_NUMBER(t):\n",
    "    r'\\d+'\n",
    "    try:\n",
    "        t.value = int(t.value)\n",
    "    except ValueError:\n",
    "        print(\"Integer value too large %d\", t.value)\n",
    "        t.value = 0\n",
    "    return t\n",
    "\n",
    "\n",
    "# Ignored characters\n",
    "t_ignore = \" \\t\"\n",
    "\n",
    "\n",
    "def t_newline(t):\n",
    "    r'\\n+'\n",
    "    t.lexer.lineno += t.value.count(\"\\n\")\n",
    "\n",
    "\n",
    "def t_error(t):\n",
    "    print(\"Illegal character '%s'\" % t.value[0])\n",
    "    t.lexer.skip(1)\n",
    "\n",
    "\n",
    "# Build the lexer\n",
    "import ply.lex as lex\n",
    "\n",
    "lexer = lex.lex()\n",
    "\n",
    "# Parsing rules\n",
    "\n",
    "precedence = (\n",
    "    ('left', 'PLUS', 'MINUS'),\n",
    "    ('left', 'TIMES', 'DIVIDE'),\n",
    "    ('right', 'UMINUS'),\n",
    ")\n",
    "\n",
    "# dictionary of names\n",
    "names = {}\n",
    "\n",
    "\n",
    "def p_statement_assign(t):\n",
    "    'statement : NAME EQUALS expression'\n",
    "    names[t[1]] = t[3]\n",
    "\n",
    "\n",
    "def p_statement_expr(t):\n",
    "    'statement : expression'\n",
    "    print(t[1])\n",
    "\n",
    "\n",
    "def p_expression_binop(t):\n",
    "    '''expression : expression PLUS expression\n",
    "                  | expression MINUS expression\n",
    "                  | expression TIMES expression\n",
    "                  | expression DIVIDE expression'''\n",
    "    if t[2] == '+':\n",
    "        t[0] = t[1] + t[3]\n",
    "    elif t[2] == '-':\n",
    "        t[0] = t[1] - t[3]\n",
    "    elif t[2] == '*':\n",
    "        t[0] = t[1] * t[3]\n",
    "    elif t[2] == '/':\n",
    "        t[0] = t[1] / t[3]\n",
    "\n",
    "\n",
    "def p_expression_uminus(t):\n",
    "    'expression : MINUS expression %prec UMINUS'\n",
    "    t[0] = -t[2]\n",
    "\n",
    "\n",
    "def p_expression_group(t):\n",
    "    'expression : LPAREN expression RPAREN'\n",
    "    t[0] = t[2]\n",
    "\n",
    "\n",
    "def p_expression_number(t):\n",
    "    'expression : NUMBER'\n",
    "    t[0] = t[1]\n",
    "\n",
    "\n",
    "def p_expression_name(t):\n",
    "    'expression : NAME'\n",
    "    try:\n",
    "        t[0] = names[t[1]]\n",
    "    except LookupError:\n",
    "        print(\"Undefined name '%s'\" % t[1])\n",
    "        t[0] = 0\n",
    "\n",
    "\n",
    "def p_error(t):\n",
    "    print(\"Syntax error at '%s'\" % t.value)\n",
    "\n",
    "\n",
    "import ply.yacc as yacc\n",
    "\n",
    "parser = yacc.yacc()\n",
    "\n",
    "while True:\n",
    "    try:\n",
    "        s = input('calc > ')  # Use raw_input on Python 2\n",
    "    except EOFError:\n",
    "        break\n",
    "    parser.parse(s)"
   ]
  },
  {
   "cell_type": "code",
   "execution_count": null,
   "metadata": {},
   "outputs": [],
   "source": [
    "# 不能直接在 notebook 中执行上面代码，%run 命令执行 python 脚本\n",
    "# 执行上面的计算器代码，支持加减乘除和括号，支持变量，并且具备非常好的扩展性\n",
    "\n",
    "%run  \"calc.py\"\n",
    "\n",
    "# 1+1*2\n",
    "# (1+1)*2\n",
    "# (((2+3)*41)-8)+78"
   ]
  },
  {
   "cell_type": "code",
   "execution_count": null,
   "metadata": {},
   "outputs": [],
   "source": []
  }
 ],
 "metadata": {
  "anaconda-cloud": {},
  "kernelspec": {
   "display_name": "Python 3",
   "language": "python",
   "name": "python3"
  },
  "language_info": {
   "codemirror_mode": {
    "name": "ipython",
    "version": 3
   },
   "file_extension": ".py",
   "mimetype": "text/x-python",
   "name": "python",
   "nbconvert_exporter": "python",
   "pygments_lexer": "ipython3",
   "version": "3.7.6"
  }
 },
 "nbformat": 4,
 "nbformat_minor": 1
}
